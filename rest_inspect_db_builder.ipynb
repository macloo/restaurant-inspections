{
 "cells": [
  {
   "cell_type": "code",
   "execution_count": 1,
   "metadata": {},
   "outputs": [],
   "source": [
    "#install with pip\n",
    "from pandas import pandas as pd\n",
    "from bs4 import BeautifulSoup as bs\n",
    "from urllib.request import urlopen\n",
    "\n",
    "# built-in libraries\n",
    "import datetime\n",
    "import re\n",
    "import sqlite3\n",
    "import urllib\n",
    "import csv\n",
    "import datetime"
   ]
  },
  {
   "cell_type": "code",
   "execution_count": 2,
   "metadata": {},
   "outputs": [],
   "source": [
    "# Read in state summary report for District, filter for needed fields and assign headers\n",
    "insp = pd.read_csv(\"5fdinspi.csv\", \n",
    "                   usecols=[2, 4, 5, 6, 7, 8, 9, 12, 13, 14, 17, 18, 80, 81], encoding=\"ISO-8859-1\")\n",
    "# ftp://dbprftp.state.fl.us/pub/llweb/5fdinspi.csv\n",
    "\n",
    "insp.columns = [\"county\", \"licnum\", \"sitename\", \"streetaddy\", \"cityaddy\", \"zip\",\n",
    "                \"inspnum\", \"insptype\", \"inspdispos\", \"inspdate\", \"totalvio\", \"highvio\", \"licid\", \"visitid\"]\n",
    "\n",
    "# county_sought = 'Marion' # uncomment if particular county sought\n",
    "# insp = insp[(insp.county == county_sought)] # uncomment if particular county sought\n",
    "insp.sitename = insp.sitename.str.title() #titlecase sitename\n",
    "insp.streetaddy = insp.streetaddy.str.title() #titlecase street adress\n",
    "insp.cityaddy = insp.cityaddy.str.title() #titlecase city\n",
    "insp = insp.applymap(lambda x: str(x).strip() if len(str(x).strip()) else None) #strip whitespace, replace empty vals\n",
    "\n",
    "# takes LicenseID and VisitID, passes it into the urls for detailed reports later\n",
    "result = []\n",
    "for index, rows in insp.iterrows():\n",
    "    visitid = rows['visitid']\n",
    "    licid = rows['licid']\n",
    "    urls = \"https://www.myfloridalicense.com/inspectionDetail.asp? \\\n",
    "        InspVisitID= %s &licid= %s\" % (visitid, licid)\n",
    "    urls = urls.replace(' ', '')\n",
    "    result.append(urls)\n",
    "urlList = result"
   ]
  },
  {
   "cell_type": "code",
   "execution_count": null,
   "metadata": {},
   "outputs": [],
   "source": [
    "# interate through the df to return tuples\n",
    "# from collections import namedtuple\n",
    "# var = list(insp.itertuples(index='visitid', name=None))"
   ]
  },
  {
   "cell_type": "code",
   "execution_count": null,
   "metadata": {},
   "outputs": [],
   "source": [
    "# use tuple to put inspection summary data into database\n",
    "# conn = sqlite3.connect('rinspecti.sqlite')\n",
    "# c = conn.cursor()\n",
    "# c.executemany('''INSERT OR IGNORE INTO fdinspi (county, licnum, sitename,\n",
    "              streetaddy, cityaddy, zip, inspnum, insptype, inspdispos,\n",
    "              inspdate, totalvio, highvio, licid, visitid, timestamp)\n",
    "              VALUES (?,?,?,?,?,?,?,?,?,?,?,?,?,?,?)''', var)\n",
    "# conn.commit()\n",
    "# conn.close()"
   ]
  },
  {
   "cell_type": "code",
   "execution_count": 6,
   "metadata": {},
   "outputs": [
    {
     "data": {
      "text/plain": [
       "1"
      ]
     },
     "execution_count": 6,
     "metadata": {},
     "output_type": "execute_result"
    }
   ],
   "source": [
    "# iterate through the df to return library\n",
    "insp_dict = [insp.to_dict(orient='index')]\n",
    "len(insp_dict)"
   ]
  },
  {
   "cell_type": "code",
   "execution_count": null,
   "metadata": {},
   "outputs": [],
   "source": [
    "# function to pull relevant info from scrape into a dictionary\n",
    "def make_details_dict(url):\n",
    "    inspurl = url\n",
    "    inspectNum = inspurl[inspurl.rfind(\"VisitID=\") + 1:8]\n",
    "    \n",
    "    html = urlopen(url)\n",
    "    soup = bs4.BeautifulSoup(html.read(), 'lxml')\n",
    "    details = soup.find_all('font', {'face': 'verdana'})[10:]\n",
    "    result = []\n",
    "    global detailsDict\n",
    "  \n",
    "    for detail in details:\n",
    "        siteName = details[0].text\n",
    "        licNum = details[2].text\n",
    "        inspDate = details[6].text\n",
    "        inspectDate = details[20].text\n",
    "        numHigh = details[24].text\n",
    "        numIntermed = details[25].text\n",
    "        numBasic = details[26].text\n",
    "        #if not(details[32].get_text):\n",
    "        observed1 = details[32].get_text\n",
    "        #elif not (details[34].text):\n",
    "        #observed2 = details[34].get_text\n",
    "        #observed3 = details[36].text\n",
    "        #observed4 = details[38].text\n",
    "        #observed5 = details[40].text\n",
    "        #observed6 = details[42].text\n",
    "        #observed7 = details[44].text\n",
    "        #observed8 = details[46].text\n",
    "        #observed9 = details[48].text\n",
    "        #observed10 = details[50].text\n",
    "        #observed11 = details[52].text\n",
    "        #observed12 = details[54].text\n",
    "        totalvioNum = int(numHigh) + int(numIntermed) + int(numBasic)\n",
    "\n",
    "    detailsDict = {\n",
    "        'inspectNum' : inspectNum,\n",
    "        'restaurant': siteName,\n",
    "        'license': licNum,\n",
    "        'address' : siteAddress,\n",
    "        'date': inspDate,\n",
    "        'highvio' : numHigh,\n",
    "        'totalvio' : totalvioNum,\n",
    "        'observed1': observed1,\n",
    "        #'observed2': observed2,\n",
    "        #'observed3': observed3,\n",
    "        #'observed4': observed4,\n",
    "        #'observed5': observed5,\n",
    "        #'observed6': observed6,\n",
    "        #'observed7': observed7,\n",
    "        #'observed8': observed8,\n",
    "        #'observed9': observed9,\n",
    "        #'observed10': observed10,\n",
    "        #'observed11' : observed11,\n",
    "        #'observed12' : observed12,\n",
    "        }\n",
    "    result.append(detailsDict)    \n",
    "        \n",
    "    return detailsDict\n",
    "\n",
    "# iterate through urls calling function above\n",
    "for url in urlList:\n",
    "    make_details_dict(url)"
   ]
  },
  {
   "cell_type": "code",
   "execution_count": null,
   "metadata": {},
   "outputs": [],
   "source": []
  }
 ],
 "metadata": {
  "kernelspec": {
   "display_name": "Python 3",
   "language": "python",
   "name": "python3"
  },
  "language_info": {
   "codemirror_mode": {
    "name": "ipython",
    "version": 3
   },
   "file_extension": ".py",
   "mimetype": "text/x-python",
   "name": "python",
   "nbconvert_exporter": "python",
   "pygments_lexer": "ipython3",
   "version": "3.6.5"
  }
 },
 "nbformat": 4,
 "nbformat_minor": 2
}
