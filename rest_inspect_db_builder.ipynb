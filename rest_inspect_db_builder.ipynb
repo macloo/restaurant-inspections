{
 "cells": [
  {
   "cell_type": "code",
   "execution_count": 1,
   "metadata": {},
   "outputs": [],
   "source": [
    "#installed with pip\n",
    "from pandas import pandas as pd\n",
    "from bs4 import BeautifulSoup\n",
    "from urllib.request import urlopen\n",
    "from urllib.error import HTTPError\n",
    "from collections import namedtuple\n",
    "\n",
    "# built-in libraries\n",
    "import datetime\n",
    "import re\n",
    "import sqlite3\n",
    "import urllib\n",
    "import csv\n",
    "import datetime"
   ]
  },
  {
   "cell_type": "code",
   "execution_count": 2,
   "metadata": {},
   "outputs": [],
   "source": [
    "# Read state summary report for District into Pandas df; filter for needed fields and assign headers\n",
    "insp = pd.read_csv(\"ftp://dbprftp.state.fl.us/pub/llweb/5fdinspi.csv\", \n",
    "                   usecols=[2, 4, 5, 6, 7, 8, 9, 12, 13, 14, 17, 18, 80, 81], encoding=\"ISO-8859-1\")\n",
    "insp.columns = [\"county\", \"licnum\", \"sitename\", \"streetaddy\", \"cityaddy\", \"zip\",\n",
    "                \"inspnum\", \"insptype\", \"inspdispos\", \"inspdate\", \"totalvio\", \"highvio\", \"licid\", \"visitid\"]\n",
    "county_sought = 'Marion' # uncomment if particular county sought\n",
    "insp = insp[(insp.county == county_sought)] # uncomment if particular county sought\n",
    "insp.sitename = insp.sitename.str.title() #titlecase sitename\n",
    "insp.streetaddy = insp.streetaddy.str.title() #titlecase street adress\n",
    "insp.cityaddy = insp.cityaddy.str.title() #titlecase city\n",
    "insp = insp.applymap(lambda x: str(x).strip() if len(str(x).strip()) else None) #strip whitespace, replace empty vals\n",
    "insp['visitid'] = insp['visitid'].apply(int) # so it can be filtered against df below\n",
    "\n",
    "# Read in records from database of earlier reports, create df to filter against new reports in df above.\n",
    "conn = sqlite3.connect(\"rinspect.sqlite\")\n",
    "df = pd.read_sql_query(\"select * from fdinsp;\", conn)\n",
    "df\n",
    "conn.close()\n",
    "\n",
    "unique_vals = insp[~insp.visitid.isin(df.visitid)] #filter"
   ]
  },
  {
   "cell_type": "code",
   "execution_count": 3,
   "metadata": {},
   "outputs": [
    {
     "data": {
      "text/plain": [
       "0"
      ]
     },
     "execution_count": 3,
     "metadata": {},
     "output_type": "execute_result"
    }
   ],
   "source": [
    "# Build a list of URLs to the inspectors detailed reports that will get scraped\n",
    "result = []\n",
    "result_for_urls = result # for url list\n",
    "result_for_list = result.append(\"NULL\") # later into db, space for user-input datetime\n",
    "\n",
    "# takes LicenseID and VisitID, passes it into the urls for detailed reports later\n",
    "for index, rows in unique_vals.iterrows():\n",
    "    visitid = rows['visitid']\n",
    "    licid = rows['licid']\n",
    "    urls = \"https://www.myfloridalicense.com/inspectionDetail.asp? \\\n",
    "        InspVisitID= %s &id= %s\" % (visitid, licid)\n",
    "    urls = urls.replace(' ', '')\n",
    "    result.append(urls)\n",
    "urlList = result\n",
    "urlList.pop(0) # get rid of first \"Null\" from append above\n",
    "len(urlList)"
   ]
  },
  {
   "cell_type": "code",
   "execution_count": 4,
   "metadata": {},
   "outputs": [],
   "source": [
    "# Place data from state summary report df into database\n",
    "# first, interate through the df to return tuples\n",
    "var = list(unique_vals.itertuples(index='visitid', name=None))\n",
    "# populate database table for inspection summmary reports\n",
    "sqlite_file = 'rinspect.sqlite'\n",
    "fdinsp_table = 'fdinsp' # table for summary data\n",
    "id_field = 'visitid' # ID column\n",
    "time_now = 'now' # column for user-input timestamp; until then = NULL\n",
    "\n",
    "# connect to database and insert new summary report data\n",
    "conn = sqlite3.connect(sqlite_file)\n",
    "c = conn.cursor()\n",
    "c.executemany('''INSERT OR IGNORE INTO fdinsp (librow, county, licnum, sitename,\n",
    "              streetaddy, cityaddy, zip, inspnum, insptype, inspdispos,\n",
    "              inspdate, totalvio, highvio, licid, visitid)\n",
    "              VALUES (?,?,?,?,?,?,?,?,?,?,?,?,?,?,?)''', var)\n",
    "conn.commit()\n",
    "conn.close()"
   ]
  },
  {
   "cell_type": "code",
   "execution_count": 5,
   "metadata": {},
   "outputs": [],
   "source": [
    "urlList = ['https://www.myfloridalicense.com/inspectionDetail.asp?InspVisitID=6632858&id=6605529', 'https://www.myfloridalicense.com/inspectionDetail.asp?InspVisitID=6653464&id=4070634', 'https://www.myfloridalicense.com/inspectionDetail.asp?InspVisitID=6602877&id=4070634', 'https://www.myfloridalicense.com/inspectionDetail.asp?InspVisitID=6577708&id=2129302',]# a shorter try for a list\n",
    "url = 'https://www.myfloridalicense.com/inspectionDetail.asp?InspVisitID=6632858&id=6605529'"
   ]
  },
  {
   "cell_type": "code",
   "execution_count": 12,
   "metadata": {},
   "outputs": [
    {
     "data": {
      "text/plain": [
       "{'visitid': '6632858',\n",
       " 'observations': '[\\r\\n\\t\\t\\t\\t\\t\\t\\t\\t\\t\\t\\t\\t\\t\\t\\t\\t\\t\\t\\t\\t\\t\\t\\t\\r\\n\\t\\t\\t\\t\\t\\t\\tBasic - Equipment and utensils not properly air-dried - wet nesting (Clean pans stacked wet on storage shelf in the pot sink area)\\n\\r\\n\\t\\t\\t\\t\\t\\t\\t\\t\\t\\t\\t\\t\\t\\t\\t\\t\\t\\t\\t\\t\\t\\t\\t\\r\\n\\t\\t\\t\\t\\t\\t\\tBasic - Floor tiles cracked, broken or in disrepair (Cracked floor tiles in several areas of the kitchen)\\n\\r\\n\\t\\t\\t\\t\\t\\t\\t\\t\\t\\t\\t\\t\\t\\t\\t\\t\\t\\t\\t\\t\\t\\t\\t\\r\\n\\t\\t\\t\\t\\t\\t\\tBasic - Grease accumulated on kitchen floor under cooking equipment (Along the wall under the fryers) **Repeat Violation**\\n\\r\\n\\t\\t\\t\\t\\t\\t\\t\\t\\t\\t\\t\\t\\t\\t\\t\\t\\t\\t\\t\\t\\t\\t\\t\\r\\n\\t\\t\\t\\t\\t\\t\\tBasic - Old food stuck to clean dishware/utensils (Old food on pans stacked on storage shelf across from the walk-in cooler - the manager placed the soiled pans back in the dish area to be cleaned) **Corrective Action Taken** **Repeat Violation**\\n\\r\\n\\t\\t\\t\\t\\t\\t\\t\\t\\t\\t\\t\\t\\t\\t\\t\\t\\t\\t\\t\\t\\t\\t\\t\\r\\n\\t\\t\\t\\t\\t\\t\\tBasic - Single-service articles improperly stored (Case of single service cups on the dry storage area floor - the manager placed the case of cups on a storage shelf) **Corrected On-Site**\\n\\r\\n\\t\\t\\t\\t\\t\\t\\t\\t\\t\\t\\t\\t\\t\\t\\t\\t\\t\\t\\t\\t\\t\\t\\t\\r\\n\\t\\t\\t\\t\\t\\t\\tIntermediate - Accumulation of black/green mold-like substance inside the ice bin (The upper interior panel on the drive-thru ice bin is soiled - the manager removed and cleaned the panel) **Corrected On-Site**\\n\\r\\n\\t\\t\\t\\t\\t\\t\\t\\t\\t\\t\\t\\t\\t\\t\\t\\t\\t\\t\\t\\t\\t\\t\\t\\r\\n\\t\\t\\t\\t\\t\\t\\tIntermediate - Accumulation of black/green mold-like substance on/around soda dispensing nozzles (The area around the soda nozzles is soiled - the Manager cleaned around the soda nozzles) **Corrected On-Site**]'}"
      ]
     },
     "execution_count": 12,
     "metadata": {},
     "output_type": "execute_result"
    }
   ],
   "source": [
    "# This gets observations details from a single url ... the last one in the list ... why not all?\n",
    "obs = {}\n",
    "file_path = 'observations.txt'\n",
    "\n",
    "def make_obs():\n",
    "    visitid = url.split(\"VisitID=\")[1].split(\"&\")[0]\n",
    "    html = urllib.request.urlopen(url)\n",
    "    soup = BeautifulSoup(html.read(), 'html.parser')\n",
    "    details = soup.findAll('font', {'face': 'verdana'})[42:]\n",
    "    details = str(details)\n",
    "    new_details = re.sub(\"\\<.*\\>\", \"\", details) # regex string matches for tags in the soup\n",
    "    new_details = re.sub(\"\\\\.\", \"\", new_details) # intended to remove escaped characters but doesn't\n",
    "    obs['visitid'] = visitid\n",
    "    obs['observations'] = new_details\n",
    "    \n",
    "for url in urlList:\n",
    "    make_obs()\n",
    "    \n",
    "# put observations into the database? If so, need to separate them into different fields\n",
    "\n",
    "obs"
   ]
  },
  {
   "cell_type": "code",
   "execution_count": null,
   "metadata": {},
   "outputs": [],
   "source": [
    "# or take a different approach by building a dictionary of observations;\n",
    "# but this isn't close to working\n",
    "# function to scrape inspections from list of urls above, place in data structure\n",
    "\n",
    "\n",
    "def make_details_dict(url):\n",
    "    global detailsdict\n",
    "    inspurl = urlList\n",
    "    # extract VisitID number from url; will be pk in database\n",
    "    visitid.append(inspurl.split(\"VisitID=\")[1].split(\"&\")[0]) \n",
    "    # or ...\n",
    "    # visitid = inspurl[inspurl.rfind(\"VisitID=\") + 1:8]\n",
    "    html = urlopen(url)\n",
    "    soup = bs(html.read(), 'lxml')\n",
    "    details = soup.find_all('font', {'face': 'verdana'})[10:] # relevant text on pages in verdana\n",
    "    detailsdict = {\n",
    "        'visitid' : visitid,\n",
    "        'observed': details,\n",
    "    }\n",
    "    result.append(detailsdict)    \n",
    "    return details_dict\n",
    "\n",
    "# iterate through urls, calling function above to make dictionary\n",
    "for url in urlList:\n",
    "    make_details_dict(url)\n",
    "                          \n",
    "# need to send this stuff to dict once it's working"
   ]
  },
  {
   "cell_type": "code",
   "execution_count": null,
   "metadata": {},
   "outputs": [],
   "source": [
    "# a different try for a dictionary; do I need to work with classes to build this?\n",
    "# the exceptions seem to work ok, but will need \"Nulls\" not None into database if we do that.\n",
    "details_dict = {}\n",
    "def make_details_list(urlList):\n",
    "    inspurl = urlList\n",
    "    visitid = visitid.append(inspurl.split(\"VisitID=\")[1].split(\"&\")[0])\n",
    "    html = urlopen(url)\n",
    "    soup = bs(html.read(), 'lxml')\n",
    "    details = soup.find_all('font', {'face': 'verdana'})[10:] # relevant text on pages in verdana\n",
    "    result = []\n",
    "        \n",
    "    try:\n",
    "        observed1 = details[32].text\n",
    "    except HTTPError as e:\n",
    "        return None\n",
    "    return observed1\n",
    "    try:\n",
    "        observed2 = details[34].text\n",
    "    except HTTPError as e:\n",
    "        return None\n",
    "    return observed2\n",
    "    try:\n",
    "        observed3 = details[36].text\n",
    "    except HTTPError as e:\n",
    "        return None\n",
    "    return observed3\n",
    "    try:\n",
    "        observed4 = details[38].text\n",
    "    except HTTPError as e:\n",
    "        return None\n",
    "    return observed4\n",
    "    try:\n",
    "        observed5 = details[40].text\n",
    "    except HTTPError as e:\n",
    "        return None\n",
    "    return observed5\n",
    "    try:\n",
    "        observed6 = details[42].text\n",
    "    except HTTPError as e:\n",
    "        return None\n",
    "    return observed6\n",
    "    try:\n",
    "        observed7 = details[44].text\n",
    "    except HTTPError as e:\n",
    "        return None\n",
    "    return observed7\n",
    "    try:\n",
    "        observed8 = details[46].text\n",
    "    except HTTPError as e:\n",
    "        return None\n",
    "    return observed8\n",
    "        \n",
    "    result.append(details_list)\n",
    "    return details_list    \n",
    "\n",
    "for url in urlList:\n",
    "    make_details_list(urlList)\n",
    "    \n",
    "\n"
   ]
  },
  {
   "cell_type": "code",
   "execution_count": null,
   "metadata": {},
   "outputs": [],
   "source": [
    "# to write file\n",
    "with open('observations.txt'.format(file_path), mode='wt', encoding='utf-8') as file:\n",
    "    file.write(str(new_details))"
   ]
  }
 ],
 "metadata": {
  "kernelspec": {
   "display_name": "Python 3",
   "language": "python",
   "name": "python3"
  },
  "language_info": {
   "codemirror_mode": {
    "name": "ipython",
    "version": 3
   },
   "file_extension": ".py",
   "mimetype": "text/x-python",
   "name": "python",
   "nbconvert_exporter": "python",
   "pygments_lexer": "ipython3",
   "version": "3.6.5"
  }
 },
 "nbformat": 4,
 "nbformat_minor": 2
}
