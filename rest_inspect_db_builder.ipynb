{
 "cells": [
  {
   "cell_type": "code",
   "execution_count": 3,
   "metadata": {},
   "outputs": [],
   "source": [
    "#installed with pip\n",
    "from pandas import pandas as pd\n",
    "from bs4 import BeautifulSoup\n",
    "from urllib.request import urlopen\n",
    "from urllib.error import HTTPError\n",
    "from collections import namedtuple\n",
    "\n",
    "# built-in libraries\n",
    "import datetime\n",
    "import re\n",
    "import sqlite3\n",
    "import urllib\n",
    "import csv\n",
    "import datetime"
   ]
  },
  {
   "cell_type": "code",
   "execution_count": 6,
   "metadata": {},
   "outputs": [],
   "source": [
    "# Read state summary report for District into Pandas df; filter for needed fields and assign headers\n",
    "insp = pd.read_csv(\"ftp://dbprftp.state.fl.us/pub/llweb/5fdinspi.csv\", \n",
    "                   usecols=[2, 4, 5, 6, 7, 8, 9, 12, 13, 14, 17, 18, 80, 81], encoding=\"ISO-8859-1\")\n",
    "insp.columns = [\"county\", \"licnum\", \"sitename\", \"streetaddy\", \"cityaddy\", \"zip\",\n",
    "                \"inspnum\", \"insptype\", \"inspdispos\", \"inspdate\", \"totalvio\", \"highvio\", \"licid\", \"visitid\"]\n",
    "county_sought = 'Marion' # uncomment if particular county sought\n",
    "insp = insp[(insp.county == county_sought)] # uncomment if particular county sought\n",
    "insp.sitename = insp.sitename.str.title() #titlecase sitename\n",
    "insp.streetaddy = insp.streetaddy.str.title() #titlecase street adress\n",
    "insp.cityaddy = insp.cityaddy.str.title() #titlecase city\n",
    "insp = insp.applymap(lambda x: str(x).strip() if len(str(x).strip()) else None) #strip whitespace, replace empty vals\n",
    "insp['visitid'] = insp['visitid'].apply(int) # so it can be filtered against df below\n",
    "\n",
    "# Read in records from database of earlier reports, create df to filter against new reports in df above.\n",
    "conn = sqlite3.connect(\"rinspect.sqlite\")\n",
    "df = pd.read_sql_query(\"select * from fdinsp;\", conn)\n",
    "df\n",
    "conn.close()\n",
    "\n",
    "unique_vals = insp[~insp.visitid.isin(df.visitid)] #filter"
   ]
  },
  {
   "cell_type": "code",
   "execution_count": 7,
   "metadata": {},
   "outputs": [
    {
     "data": {
      "text/plain": [
       "265"
      ]
     },
     "execution_count": 7,
     "metadata": {},
     "output_type": "execute_result"
    }
   ],
   "source": [
    "# Build a list of URLs to the inspectors detailed reports that will get scraped\n",
    "result = []\n",
    "result_for_urls = result # for url list\n",
    "result_for_list = result.append(\"NULL\") # later into db, space for user-input datetime\n",
    "\n",
    "# takes LicenseID and VisitID, passes it into the urls for detailed reports later\n",
    "for index, rows in unique_vals.iterrows():\n",
    "    visitid = rows['visitid']\n",
    "    licid = rows['licid']\n",
    "    urls = \"https://www.myfloridalicense.com/inspectionDetail.asp? \\\n",
    "        InspVisitID= %s &id= %s\" % (visitid, licid)\n",
    "    urls = urls.replace(' ', '')\n",
    "    result.append(urls)\n",
    "urlList = result\n",
    "urlList.pop(0) # get rid of first \"Null\" from append above\n",
    "len(urlList)"
   ]
  },
  {
   "cell_type": "code",
   "execution_count": 8,
   "metadata": {},
   "outputs": [],
   "source": [
    "# Place data from state summary report df into database\n",
    "# first, interate through the df to return tuples\n",
    "var = list(unique_vals.itertuples(index='visitid', name=None))\n",
    "# populate database table for inspection summmary reports\n",
    "sqlite_file = 'rinspect.sqlite'\n",
    "fdinsp_table = 'fdinsp' # table for summary data\n",
    "id_field = 'visitid' # ID column\n",
    "time_now = 'now' # column for user-input timestamp; until then = NULL\n",
    "\n",
    "# connect to database and insert new summary report data\n",
    "conn = sqlite3.connect(sqlite_file)\n",
    "c = conn.cursor()\n",
    "c.executemany('''INSERT OR IGNORE INTO fdinsp (librow, county, licnum, sitename,\n",
    "              streetaddy, cityaddy, zip, inspnum, insptype, inspdispos,\n",
    "              inspdate, totalvio, highvio, licid, visitid)\n",
    "              VALUES (?,?,?,?,?,?,?,?,?,?,?,?,?,?,?)''', var)\n",
    "conn.commit()\n",
    "conn.close()"
   ]
  },
  {
   "cell_type": "code",
   "execution_count": null,
   "metadata": {},
   "outputs": [],
   "source": [
    "urlList = ['https://www.myfloridalicense.com/inspectionDetail.asp?InspVisitID=6632858&id=6605529', 'https://www.myfloridalicense.com/inspectionDetail.asp?InspVisitID=6653464&id=4070634', 'https://www.myfloridalicense.com/inspectionDetail.asp?InspVisitID=6602877&id=4070634', 'https://www.myfloridalicense.com/inspectionDetail.asp?InspVisitID=6577708&id=2129302',]# a shorter try for a list\n",
    "url = 'https://www.myfloridalicense.com/inspectionDetail.asp?InspVisitID=6632858&id=6605529'"
   ]
  },
  {
   "cell_type": "code",
   "execution_count": null,
   "metadata": {},
   "outputs": [],
   "source": [
    "# This gets observations details from each deetailed report\n",
    "obs = {} # dict of observations for all reports\n",
    "report = {} # dictionary for each report findings\n",
    "\n",
    "def make_obs():\n",
    "    global report\n",
    "    global obs\n",
    "    visitid = url.split(\"VisitID=\")[1].split(\"&\")[0]\n",
    "    html = urllib.request.urlopen(url)\n",
    "    soup = BeautifulSoup(html.read(), 'lxml')\n",
    "    details = soup.findAll('font', {'face': 'verdana'})[42:]\n",
    "    details = str(details)\n",
    "    details = re.sub(r\"\\<.*\\>\", \"\", details) # regex string matches for tags in the soup\n",
    "    details = re.sub(r\"\\t\", \"\", details) # remove literal strings\n",
    "    details = re.sub(r\"\\n\", \"\", details)\n",
    "    details = re.sub(r\"\\r\", \"\", details)\n",
    "\n",
    "    report[visitid] = details  \n",
    "    #obs.append(report)\n",
    "    \n",
    "    obs.update( {visitid : details} )\n",
    "\n",
    "for url in urlList:\n",
    "    make_obs()\n",
    "    \n",
    "# This is working pretty well now but what it is? A dictionary with values as strings or tuples?\n",
    "\n",
    "# MORE THOUGHTS:\n",
    "# If we are just going to take this list, it still needs to be cleaned up and formatted, and\n",
    "# more stuff added from summary report details.\n",
    "# If we are going to put values into database, observations should be cleaned up and separated.\n",
    "# We'd then need another script to pull values from database to write report for publication."
   ]
  },
  {
   "cell_type": "code",
   "execution_count": null,
   "metadata": {},
   "outputs": [],
   "source": [
    "print(obs) # just to see what it looks like."
   ]
  },
  {
   "cell_type": "code",
   "execution_count": null,
   "metadata": {},
   "outputs": [],
   "source": [
    "\n",
    "\n",
    "\n",
    "\n",
    "\n",
    "\n",
    "\n",
    "\n"
   ]
  }
 ],
 "metadata": {
  "kernelspec": {
   "display_name": "Python 3",
   "language": "python",
   "name": "python3"
  },
  "language_info": {
   "codemirror_mode": {
    "name": "ipython",
    "version": 3
   },
   "file_extension": ".py",
   "mimetype": "text/x-python",
   "name": "python",
   "nbconvert_exporter": "python",
   "pygments_lexer": "ipython3",
   "version": "3.6.2"
  }
 },
 "nbformat": 4,
 "nbformat_minor": 2
}
