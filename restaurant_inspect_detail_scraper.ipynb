{
 "cells": [
  {
   "cell_type": "markdown",
   "metadata": {},
   "source": [
    "Alachua County restaurant inspection analysis¶\n",
    "This will take restaurant inspection data by the state of Florida and format it in a more reader-friendly way for publication in print and online. We'll filter for the most egregious current violations at restaurants in Alachua County."
   ]
  },
  {
   "cell_type": "code",
   "execution_count": 1,
   "metadata": {},
   "outputs": [],
   "source": [
    "import pandas as pd\n",
    "import bs4\n",
    "import datetime\n",
    "import re\n",
    "import lxml\n",
    "from urllib.request import urlopen\n",
    "from urllib.error import HTTPError"
   ]
  },
  {
   "cell_type": "code",
   "execution_count": 2,
   "metadata": {},
   "outputs": [],
   "source": [
    "# Read in state summary report for District, filter for needed fields and assign headers\n",
    "try:\n",
    "    insp = pd.read_csv(\"ftp://dbprftp.state.fl.us/pub/llweb/5fdinspi.csv\", \n",
    "                               usecols=[2,14,18,80,81])\n",
    "except IOError:\n",
    "    print(\"The file is not accessible.\")\n",
    "insp.columns = [\"CountyName\", \"InspectDate\", \n",
    "                \"NumHighVio\", \"LicenseID\", \"VisitID\"]\n",
    "\n",
    "# filter for alachua county restaurants with high violations\n",
    "insp[(insp.CountyName == 'Alachua') & (insp.NumHighVio > 0)]\n",
    "len(insp)\n",
    "\n",
    "# change date string to date object, sort most recent# chang \n",
    "insp['InspectDate'] = pd.to_datetime(insp['InspectDate'])\n",
    "insp = insp.sort_values('InspectDate', ascending=False)\n",
    "\n",
    "# prefer to let user set timedelta or just remove. \n",
    "today = pd.to_datetime('today')\n",
    "startDay = datetime.date.today() - datetime.timedelta(days=14)\n",
    "insp = insp[(insp['InspectDate'] > startDay) & (insp['InspectDate'] < today)]\n",
    "len(insp)\n",
    "\n",
    "# takes LicenseID and VisitID, passes it into the urls for detailed reports#\n",
    "result = []\n",
    "for index, rows in insp.iterrows():\n",
    "    visitID = rows['VisitID']\n",
    "    licID = rows['LicenseID']\n",
    "    urls = \"https://www.myfloridalicense.com/inspectionDetail.asp? \\\n",
    "        InspVisitID= %s &licid= %s\" % (visitID, licID)\n",
    "    urls = urls.replace(' ', '')\n",
    "    result.append(urls)\n",
    "\n",
    "urlList = result"
   ]
  },
  {
   "cell_type": "code",
   "execution_count": 5,
   "metadata": {},
   "outputs": [
    {
     "ename": "KeyError",
     "evalue": "('Restaurant', 'Address', 'Observed1')",
     "output_type": "error",
     "traceback": [
      "\u001b[0;31m---------------------------------------------------------------------------\u001b[0m",
      "\u001b[0;31mKeyError\u001b[0m                                  Traceback (most recent call last)",
      "\u001b[0;32m<ipython-input-5-596f53f7dc61>\u001b[0m in \u001b[0;36m<module>\u001b[0;34m()\u001b[0m\n\u001b[1;32m     61\u001b[0m \u001b[0;32mfor\u001b[0m \u001b[0murl\u001b[0m \u001b[0;32min\u001b[0m \u001b[0murlList\u001b[0m\u001b[0;34m:\u001b[0m\u001b[0;34m\u001b[0m\u001b[0m\n\u001b[1;32m     62\u001b[0m     \u001b[0mmake_details_dict\u001b[0m\u001b[0;34m(\u001b[0m\u001b[0murl\u001b[0m\u001b[0;34m)\u001b[0m\u001b[0;34m\u001b[0m\u001b[0m\n\u001b[0;32m---> 63\u001b[0;31m     \u001b[0mprint\u001b[0m\u001b[0;34m(\u001b[0m\u001b[0mdetailsDict\u001b[0m\u001b[0;34m[\u001b[0m\u001b[0;34m'Restaurant'\u001b[0m\u001b[0;34m,\u001b[0m \u001b[0;34m'Address'\u001b[0m\u001b[0;34m,\u001b[0m \u001b[0;34m'Observed1'\u001b[0m\u001b[0;34m]\u001b[0m\u001b[0;34m)\u001b[0m\u001b[0;34m\u001b[0m\u001b[0m\n\u001b[0m",
      "\u001b[0;31mKeyError\u001b[0m: ('Restaurant', 'Address', 'Observed1')"
     ]
    }
   ],
   "source": [
    "# function to pull relevant info from scrape into a dictionary\n",
    "def make_details_dict(url):\n",
    "    html = urlopen(url)\n",
    "    soup = bs4.BeautifulSoup(html.read(), 'lxml')\n",
    "    details = soup.find_all('font', {'face': 'verdana'})[10:]\n",
    "    result = []\n",
    "    global detailsDict\n",
    "    \n",
    "    for detail in details:\n",
    "        siteName = details[0].text\n",
    "        licNum = details[2].text\n",
    "        siteRank = details[4].text\n",
    "        expDate = details[6].text\n",
    "        primeStatus = details[8].text\n",
    "        secStatus = details[10].text\n",
    "        siteAddress = details[12].text\n",
    "        inspectResult = details[20].text\n",
    "        observed1 = details[34].get_text\n",
    "# maybe while loop to run through oberservation details        \n",
    "#        while True:\n",
    "#            n = n + 2 \n",
    "#            str = observed\n",
    "#            if len(str) , 2:\n",
    "#                break\n",
    "                \n",
    "#        observed2 = details[36].text\n",
    "#        observed3 = details[38].text\n",
    "#        observed4 = details[40].text\n",
    "#        observed5 = details[42].text\n",
    "#        observed6 = details[44].text\n",
    "#        observed7 = details[46].text\n",
    "#        observed8 = details[48].text\n",
    "#        observed9 = details[50].text\n",
    "#        observed10 = details[52].text\n",
    "\n",
    "    detailsDict = {\n",
    "        'Restaurant': siteName,\n",
    "        'License': licNum,\n",
    "        'Rank': siteRank,\n",
    "        'Expires': expDate,\n",
    "        'Primary': primeStatus,\n",
    "        'Secondary': secStatus,\n",
    "        'Address': siteAddress,\n",
    "        'Result': inspectResult,\n",
    "        'Observed1': observed1,\n",
    "#        'Observed2': observed2,\n",
    "#        'Observed3': observed3,\n",
    "#        'Observed4': observed4,\n",
    "#        'Observed5': observed5,\n",
    "#        'Observed6': observed6,\n",
    "#        'Observed7': observed7,\n",
    "#        'Observed8': observed8,\n",
    "#        'Observed9': observed9,\n",
    "#        'Observed10': observed10\n",
    "    }\n",
    "    result.append(detailsDict)    \n",
    "        \n",
    "    return detailsDict\n",
    "\n",
    "# iterate through urls calling function above\n",
    "for url in urlList:\n",
    "    make_details_dict(url)\n",
    "    print(detailsDict['Restaurant', 'Address', 'Observed1'])"
   ]
  },
  {
   "cell_type": "markdown",
   "metadata": {},
   "source": [
    "Now need to cleanup data and feed into database"
   ]
  }
 ],
 "metadata": {
  "kernelspec": {
   "display_name": "Python 3",
   "language": "python",
   "name": "python3"
  },
  "language_info": {
   "codemirror_mode": {
    "name": "ipython",
    "version": 3
   },
   "file_extension": ".py",
   "mimetype": "text/x-python",
   "name": "python",
   "nbconvert_exporter": "python",
   "pygments_lexer": "ipython3",
   "version": "3.6.5"
  }
 },
 "nbformat": 4,
 "nbformat_minor": 2
}
