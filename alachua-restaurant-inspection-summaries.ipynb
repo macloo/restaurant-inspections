{
 "cells": [
  {
   "cell_type": "markdown",
   "metadata": {},
   "source": [
    "# Alachua County restaurant inspection analysis\n",
    "This will take restaurant inspection data by the state of Florida and format it in a more reader-friendly way for publication in print and online. We'll filter for the most egregious current violations at restaurants in Alachua County."
   ]
  },
  {
   "cell_type": "code",
   "execution_count": 4,
   "metadata": {
    "collapsed": true
   },
   "outputs": [],
   "source": [
    "import pandas as pd\n",
    "import datetime"
   ]
  },
  {
   "cell_type": "markdown",
   "metadata": {},
   "source": [
    "After importing Pandas and Datetime, this reads in the state summary report year-to-date for District 5, which includes Alachua County, and adds an exception in case the file is not found. The raw file has no headers and 82 columns."
   ]
  },
  {
   "cell_type": "code",
   "execution_count": 5,
   "metadata": {
    "collapsed": false
   },
   "outputs": [],
   "source": [
    "try:\n",
    "    insp = pd.read_csv(\"ftp://dbprftp.state.fl.us/pub/llweb/5fdinspi.csv\", header = None)\n",
    "except IOError:\n",
    "    print \"The file is not accessible.\"\n",
    "    \n",
    "insp.columns = [\"District\", \"CountyNumber\", \"CountyName\", \"LicTypeCode\", \"LicNumber\",\n",
    "                \"BusinessName\", \"StreetAddress\", \"City\", \"ZIP\", \"InspectNo\",\n",
    "                \"VisitNo\", \"InspectClass\", \"InspectType\", \"InspectDisp\", \"InspectDate\",\n",
    "                \"NumCriticalVio\", \"NumNoncritVio\", \"NumTotalVio\", \"NumHighVio\", \"NumInterVio\",\n",
    "                \"NumBasicVio\", \"PDA\", \"FoodVio1\", \"FoodVio2\", \"FoodVio3\",\n",
    "                \"FoodVio4\", \"FoodVio5\", \"FoodVio6\", \"FoodVio7\", \"FoodVio8\",\n",
    "                \"FoodVio9\", \"FoodVio10\", \"FoodVio11\", \"FoodVio12\", \"FoodVio13\",\n",
    "                \"FoodVio14\", \"FoodVio15\", \"FoodVio16\", \"FoodVio17\", \"FoodVio18\", \n",
    "                \"FoodVio19\", \"FoodVio20\", \"FoodVio21\", \"FoodVio22\", \"FoodVio23\",\n",
    "                \"FoodVio24\", \"FoodVio25\", \"FoodVio26\", \"FoodVio27\", \"FoodVio28\",\n",
    "                \"FoodVio29\", \"FoodVio30\", \"FoodVio31\", \"FoodVio32\", \"FoodVio33\",\n",
    "                \"FoodVio34\", \"FoodVio35\", \"FoodVio36\", \"FoodVio37\", \"FoodVio38\",\n",
    "                \"FoodVio39\", \"FoodVio40\", \"FoodVio41\", \"FoodVio42\", \"FoodVio43\",\n",
    "                \"FoodVio44\", \"FoodVio45\", \"FoodVio46\", \"FoodVio47\", \"FoodVio48\", \n",
    "                \"FoodVio49\", \"FoodVio50\", \"FoodVio51\", \"FoodVio52\", \"FoodVio53\",\n",
    "                \"FoodVio54\", \"FoodVio55\", \"FoodVio56\", \"FoodVio57\", \"FoodVio58\",\n",
    "                \"LicenceID\", \"VisitID\"]"
   ]
  },
  {
   "cell_type": "markdown",
   "metadata": {},
   "source": [
    "This creates a DataFrame named 'alachua', filters out records for Alachua County:"
   ]
  },
  {
   "cell_type": "code",
   "execution_count": 6,
   "metadata": {
    "collapsed": false
   },
   "outputs": [],
   "source": [
    "alachua = insp[insp.CountyName == 'Alachua']"
   ]
  },
  {
   "cell_type": "markdown",
   "metadata": {},
   "source": [
    "This filters out NumHighVio rows with value of 0:"
   ]
  },
  {
   "cell_type": "code",
   "execution_count": 7,
   "metadata": {
    "collapsed": false
   },
   "outputs": [],
   "source": [
    "alachua = alachua[alachua.NumHighVio > 0]"
   ]
  },
  {
   "cell_type": "markdown",
   "metadata": {},
   "source": [
    "Convert object in 'InspectDate' to date value: "
   ]
  },
  {
   "cell_type": "code",
   "execution_count": 8,
   "metadata": {
    "collapsed": false
   },
   "outputs": [
    {
     "data": {
      "text/html": [
       "<div>\n",
       "<table border=\"1\" class=\"dataframe\">\n",
       "  <thead>\n",
       "    <tr style=\"text-align: right;\">\n",
       "      <th></th>\n",
       "      <th>District</th>\n",
       "      <th>CountyNumber</th>\n",
       "      <th>CountyName</th>\n",
       "      <th>LicTypeCode</th>\n",
       "      <th>LicNumber</th>\n",
       "      <th>BusinessName</th>\n",
       "      <th>StreetAddress</th>\n",
       "      <th>City</th>\n",
       "      <th>ZIP</th>\n",
       "      <th>InspectNo</th>\n",
       "      <th>...</th>\n",
       "      <th>FoodVio51</th>\n",
       "      <th>FoodVio52</th>\n",
       "      <th>FoodVio53</th>\n",
       "      <th>FoodVio54</th>\n",
       "      <th>FoodVio55</th>\n",
       "      <th>FoodVio56</th>\n",
       "      <th>FoodVio57</th>\n",
       "      <th>FoodVio58</th>\n",
       "      <th>LicenceID</th>\n",
       "      <th>VisitID</th>\n",
       "    </tr>\n",
       "  </thead>\n",
       "  <tbody>\n",
       "    <tr>\n",
       "      <th>6</th>\n",
       "      <td>D5</td>\n",
       "      <td>11</td>\n",
       "      <td>Alachua</td>\n",
       "      <td>2015</td>\n",
       "      <td>1100047</td>\n",
       "      <td>HCA PUTNAM COMM HOSP 2</td>\n",
       "      <td>611 ZEAGLER DR</td>\n",
       "      <td>PALATKA</td>\n",
       "      <td>32177</td>\n",
       "      <td>1106758</td>\n",
       "      <td>...</td>\n",
       "      <td>0</td>\n",
       "      <td>0</td>\n",
       "      <td>0</td>\n",
       "      <td>0</td>\n",
       "      <td>0</td>\n",
       "      <td>0</td>\n",
       "      <td>0</td>\n",
       "      <td>0</td>\n",
       "      <td>5399007</td>\n",
       "      <td>6509808</td>\n",
       "    </tr>\n",
       "    <tr>\n",
       "      <th>7</th>\n",
       "      <td>D5</td>\n",
       "      <td>11</td>\n",
       "      <td>Alachua</td>\n",
       "      <td>2015</td>\n",
       "      <td>1100047</td>\n",
       "      <td>HCA PUTNAM COMM HOSP 2</td>\n",
       "      <td>611 ZEAGLER DR</td>\n",
       "      <td>PALATKA</td>\n",
       "      <td>32177</td>\n",
       "      <td>1106758</td>\n",
       "      <td>...</td>\n",
       "      <td>0</td>\n",
       "      <td>0</td>\n",
       "      <td>0</td>\n",
       "      <td>0</td>\n",
       "      <td>0</td>\n",
       "      <td>0</td>\n",
       "      <td>0</td>\n",
       "      <td>0</td>\n",
       "      <td>5399007</td>\n",
       "      <td>6280880</td>\n",
       "    </tr>\n",
       "    <tr>\n",
       "      <th>25</th>\n",
       "      <td>D5</td>\n",
       "      <td>11</td>\n",
       "      <td>Alachua</td>\n",
       "      <td>2010</td>\n",
       "      <td>1100121</td>\n",
       "      <td>SONNY'S BBQ</td>\n",
       "      <td>2700 N WALDO RD</td>\n",
       "      <td>GAINESVILLE</td>\n",
       "      <td>32609</td>\n",
       "      <td>2721151</td>\n",
       "      <td>...</td>\n",
       "      <td>0</td>\n",
       "      <td>0</td>\n",
       "      <td>0</td>\n",
       "      <td>0</td>\n",
       "      <td>0</td>\n",
       "      <td>0</td>\n",
       "      <td>0</td>\n",
       "      <td>0</td>\n",
       "      <td>6621480</td>\n",
       "      <td>6306950</td>\n",
       "    </tr>\n",
       "    <tr>\n",
       "      <th>30</th>\n",
       "      <td>D5</td>\n",
       "      <td>11</td>\n",
       "      <td>Alachua</td>\n",
       "      <td>2010</td>\n",
       "      <td>1100159</td>\n",
       "      <td>GAINESVILLE GOLF &amp; COUNTRY CLUB</td>\n",
       "      <td>7300 SW 35 WAY</td>\n",
       "      <td>GAINESVILLE</td>\n",
       "      <td>32608</td>\n",
       "      <td>2718435</td>\n",
       "      <td>...</td>\n",
       "      <td>1</td>\n",
       "      <td>0</td>\n",
       "      <td>1</td>\n",
       "      <td>0</td>\n",
       "      <td>0</td>\n",
       "      <td>0</td>\n",
       "      <td>0</td>\n",
       "      <td>0</td>\n",
       "      <td>6381936</td>\n",
       "      <td>6302632</td>\n",
       "    </tr>\n",
       "    <tr>\n",
       "      <th>31</th>\n",
       "      <td>D5</td>\n",
       "      <td>11</td>\n",
       "      <td>Alachua</td>\n",
       "      <td>2010</td>\n",
       "      <td>1100159</td>\n",
       "      <td>GAINESVILLE GOLF AND COUNTRY CLUB INC</td>\n",
       "      <td>7300 SW 35 WAY</td>\n",
       "      <td>GAINESVILLE</td>\n",
       "      <td>32608</td>\n",
       "      <td>2766447</td>\n",
       "      <td>...</td>\n",
       "      <td>0</td>\n",
       "      <td>0</td>\n",
       "      <td>0</td>\n",
       "      <td>0</td>\n",
       "      <td>0</td>\n",
       "      <td>0</td>\n",
       "      <td>0</td>\n",
       "      <td>0</td>\n",
       "      <td>6943776</td>\n",
       "      <td>6489116</td>\n",
       "    </tr>\n",
       "  </tbody>\n",
       "</table>\n",
       "<p>5 rows × 82 columns</p>\n",
       "</div>"
      ],
      "text/plain": [
       "   District  CountyNumber CountyName  LicTypeCode  LicNumber  \\\n",
       "6        D5            11    Alachua         2015    1100047   \n",
       "7        D5            11    Alachua         2015    1100047   \n",
       "25       D5            11    Alachua         2010    1100121   \n",
       "30       D5            11    Alachua         2010    1100159   \n",
       "31       D5            11    Alachua         2010    1100159   \n",
       "\n",
       "                             BusinessName    StreetAddress         City  \\\n",
       "6                  HCA PUTNAM COMM HOSP 2   611 ZEAGLER DR      PALATKA   \n",
       "7                  HCA PUTNAM COMM HOSP 2   611 ZEAGLER DR      PALATKA   \n",
       "25                            SONNY'S BBQ  2700 N WALDO RD  GAINESVILLE   \n",
       "30        GAINESVILLE GOLF & COUNTRY CLUB   7300 SW 35 WAY  GAINESVILLE   \n",
       "31  GAINESVILLE GOLF AND COUNTRY CLUB INC   7300 SW 35 WAY  GAINESVILLE   \n",
       "\n",
       "      ZIP  InspectNo   ...     FoodVio51 FoodVio52 FoodVio53 FoodVio54  \\\n",
       "6   32177    1106758   ...             0         0         0         0   \n",
       "7   32177    1106758   ...             0         0         0         0   \n",
       "25  32609    2721151   ...             0         0         0         0   \n",
       "30  32608    2718435   ...             1         0         1         0   \n",
       "31  32608    2766447   ...             0         0         0         0   \n",
       "\n",
       "   FoodVio55  FoodVio56  FoodVio57  FoodVio58  LicenceID  VisitID  \n",
       "6          0          0          0          0    5399007  6509808  \n",
       "7          0          0          0          0    5399007  6280880  \n",
       "25         0          0          0          0    6621480  6306950  \n",
       "30         0          0          0          0    6381936  6302632  \n",
       "31         0          0          0          0    6943776  6489116  \n",
       "\n",
       "[5 rows x 82 columns]"
      ]
     },
     "execution_count": 8,
     "metadata": {},
     "output_type": "execute_result"
    }
   ],
   "source": [
    "alachua['InspectDate'] = pd.to_datetime(alachua['InspectDate']) ## done after dataframe reduced\n",
    "alachua.head() ## this can go away later"
   ]
  },
  {
   "cell_type": "markdown",
   "metadata": {},
   "source": [
    "Get input for start and stop time ranges: // doesn't seem to work; also need to set variables for start and end dates"
   ]
  },
  {
   "cell_type": "code",
   "execution_count": null,
   "metadata": {
    "collapsed": false
   },
   "outputs": [],
   "source": [
    "alachua[(alachua['InspectDate'] > input(\"Enter start: \")) & \n",
    "         (alachua['InspectDate'] < input(\"Enter end: \"))]"
   ]
  },
  {
   "cell_type": "markdown",
   "metadata": {},
   "source": [
    "Next step is to write a loop that converts to readable text with regex, and then appends to text file."
   ]
  },
  {
   "cell_type": "code",
   "execution_count": null,
   "metadata": {
    "collapsed": true
   },
   "outputs": [],
   "source": []
  }
 ],
 "metadata": {
  "kernelspec": {
   "display_name": "Python 2",
   "language": "python",
   "name": "python2"
  },
  "language_info": {
   "codemirror_mode": {
    "name": "ipython",
    "version": 2
   },
   "file_extension": ".py",
   "mimetype": "text/x-python",
   "name": "python",
   "nbconvert_exporter": "python",
   "pygments_lexer": "ipython2",
   "version": "2.7.13"
  }
 },
 "nbformat": 4,
 "nbformat_minor": 2
}
