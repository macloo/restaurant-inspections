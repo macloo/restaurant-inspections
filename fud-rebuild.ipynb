{
 "cells": [
  {
   "cell_type": "code",
   "execution_count": 1,
   "metadata": {},
   "outputs": [],
   "source": [
    "# install with pip:\n",
    "from pyquery import PyQuery as PQ\n",
    "from titlecase import titlecase\n",
    "\n",
    "# built-in libraries\n",
    "import urllib\n",
    "import csv\n",
    "import datetime"
   ]
  },
  {
   "cell_type": "code",
   "execution_count": 2,
   "metadata": {},
   "outputs": [],
   "source": [
    "hostfile = \"ftp://dbprftp.state.fl.us/pub/llweb/5fdinspi.csv\"\n",
    "countieswanted = [\"Marion\"]"
   ]
  },
  {
   "cell_type": "code",
   "execution_count": 3,
   "metadata": {},
   "outputs": [],
   "source": [
    "fieldnames = [\"district\", \"countynumber\", \"county\", \"licensetypecode\", \n",
    "              \"licenseno\", \"business\", \"address\", \"city\", \"zipcode\", \n",
    "              \"inspectionno\", \"visitno\", \"inspclass\", \"insptype\", \n",
    "              \"inspdisposition\", \"inspdate_bad\", \"oldcrit\", \n",
    "              \"oldnoncrit\", \"viototal\", \"viohigh\", \"viointermediate\", \n",
    "              \"viobasic\", \"pda\", \"v1\", \"v2\", \"v3\", \"v4\", \"v5\", \"v6\", \n",
    "              \"v7\", \"v8\", \"v9\", \"v10\", \"v11\", \"v12\", \"v13\", \"v14\", \"v15\", \n",
    "              \"v16\", \"v17\", \"v18\", \"v19\", \"v20\", \"v21\", \"v22\", \"v23\", \n",
    "              \"v24\", \"v25\", \"v26\", \"v27\", \"v28\", \"v29\", \"v30\", \"v31\", \n",
    "              \"v32\", \"v33\", \"v34\", \"v35\", \"v36\", \"v37\", \"v38\", \"v39\", \n",
    "              \"v40\", \"v41\", \"v42\", \"v43\", \"v44\", \"v45\", \"v46\", \"v47\", \n",
    "              \"v48\", \"v49\", \"v50\", \"v51\", \"v52\", \"v53\", \"v54\", \"v55\", \n",
    "              \"v56\", \"v57\", \"v58\", \"licenseid\", \"inspvisitid\"]\n",
    "localfilename = hostfile[hostfile.rfind(\"/\") + 1:]   # Take everything after the last slash\n",
    "with open(localfilename, \"wb\") as f:   # Download, save as binary. Reopen later as text.\n",
    "    f.write(urllib.request.urlopen(hostfile).read())"
   ]
  },
  {
   "cell_type": "code",
   "execution_count": 4,
   "metadata": {},
   "outputs": [],
   "source": [
    "insptypedict = {}\n",
    "with open(\"insptypes.csv\", \"r\") as csvfile:\n",
    "    reader = csv.DictReader(csvfile)\n",
    "    for row in reader:\n",
    "        insptypedict[row[\"inspdisposition\"]] = row[\"text\"]"
   ]
  },
  {
   "cell_type": "code",
   "execution_count": 5,
   "metadata": {},
   "outputs": [],
   "source": [
    "# extras = [\"fulladdy\", \"peopleaddy\", \"inspdate\", \"deets\", \"zplace\", \"zinsp\", \"latlong\", \"zfolo\", \"region\", \"insertdate\", \"recentinspections\"]\n",
    "def cleanrow(row):\n",
    "    global insptypedict\n",
    "    #for item in row:\n",
    "    #    row[item] = titlecase(row[item])\n",
    "    row[\"fulladdy\"] = row[\"address\"] + \", \" + row[\"city\"] + \", \" + row[\"county\"] + \" County, FL \" + row[\"zipcode\"]\n",
    "    row[\"peopleaddy\"] = titlecase(row[\"address\"] + \", \" + row[\"city\"])\n",
    "    row[\"inspdate\"] = datetime.datetime.strptime(row[\"inspdate_bad\"], \"%m/%d/%Y\")\n",
    "    if \"Routine\" in row[\"insptype\"]:\n",
    "        row[\"insppeople\"] = \"routine\"\n",
    "    elif \"Licensing\" in row[\"insptype\"]:\n",
    "        row[\"insppeople\"] = \"licensing\"\n",
    "    elif \"Complaint\" in row[\"insptype\"]:\n",
    "        row[\"insppeople\"] = \"complaint\"\n",
    "    else:\n",
    "        row[\"insppeople\"] = \"unknown\"\n",
    "    pn = \"\"   # start building print narrative\n",
    "    pn += titlecase(row[\"business\"]) + \", \"\n",
    "    pn += row[\"peopleaddy\"] + \", had a \" + row[\"insppeople\"] + \" inspection \"\n",
    "    pn += get_big_timestamp(row[\"inspdate\"]) + \": \"\n",
    "    pn += insptypedict[row[\"inspdisposition\"]]\n",
    "    pn += \" \" + str(row[\"viototal\"]) + \" total violations, with \"\n",
    "    pn += str(row[\"viohigh\"]) + \" high-priority violations.\\n\"\n",
    "    row[\"printnarrative\"] = pn\n",
    "    return(row)"
   ]
  },
  {
   "cell_type": "code",
   "execution_count": 6,
   "metadata": {},
   "outputs": [],
   "source": [
    "def get_big_timestamp(date_object=None):\n",
    "    import datetime\n",
    "    if not date_object:\n",
    "        date_object = datetime.datetime.now()\n",
    "    stamp = \"\"\n",
    "    # comment out below if you don't want \"Wednesday\" or similar in your string\n",
    "    #stamp += datetime.datetime.strftime(date_object, \"%A, \")\n",
    "    if date_object.month == 9:\n",
    "        stamp += \"Sept. \" +  datetime.datetime.strftime(date_object, \"%d, %Y\").lstrip(\"0\")\n",
    "    elif date_object.month < 3 or date_object.month > 7:\n",
    "        stamp += datetime.datetime.strftime(date_object, \"%b. \") + datetime.datetime.strftime(date_object, \"%d\").lstrip(\"0\")\n",
    "    else:\n",
    "        stamp += datetime.datetime.strftime(date_object, \"%B \") + datetime.datetime.strftime(date_object, \"%d\").lstrip(\"0\")\n",
    "    # uncomment out below if you want the year\n",
    "    stamp += datetime.datetime.strftime(date_object, \", %Y\")\n",
    "    # uncomment below if you want the time\n",
    "    # stamp += \", at \"\n",
    "    # stamp += datetime.datetime.strftime(date_object, \"%I:%M %p\").lstrip(\"0\").replace(\"AM\", \"a.m.\").replace(\"PM\", \"p.m.\")\n",
    "    return(stamp)"
   ]
  },
  {
   "cell_type": "code",
   "execution_count": 7,
   "metadata": {},
   "outputs": [],
   "source": [
    "rawrows = []\n",
    "with open(localfilename, \"r\", encoding=\"ISO-8859-1\") as csvfile:\n",
    "    reader = csv.DictReader(csvfile, fieldnames=fieldnames)\n",
    "    for row in reader:\n",
    "        if row['county'] in countieswanted:\n",
    "            # And later let's check if we already have this inspection ...\n",
    "            row = cleanrow(row)\n",
    "            rawrows.append(row)\n",
    "    reader = None"
   ]
  },
  {
   "cell_type": "code",
   "execution_count": 9,
   "metadata": {},
   "outputs": [],
   "source": [
    "file_path = '/users/rayd/documents/rinspect.txt'\n",
    "for row in rawrows[:]:\n",
    "    new_inspect = row[\"printnarrative\"]\n",
    "    rinspect = open(file_path,'a')\n",
    "    rinspect.write(str(new_inspect))\n",
    "rinspect.close()\n"
   ]
  },
  {
   "cell_type": "code",
   "execution_count": 11,
   "metadata": {},
   "outputs": [
    {
     "name": "stdout",
     "output_type": "stream",
     "text": [
      "What is the temperature? 100\n",
      "Wear shorts.\n",
      "Get some exercise outside.\n"
     ]
    }
   ],
   "source": [
    "temperature = float(input('What is the temperature? '))\n",
    "if temperature > 70:\n",
    "    print('Wear shorts.')\n",
    "else:\n",
    "    print('Wear long pants.')\n",
    "print('Get some exercise outside.')"
   ]
  },
  {
   "cell_type": "code",
   "execution_count": null,
   "metadata": {},
   "outputs": [],
   "source": []
  }
 ],
 "metadata": {
  "kernelspec": {
   "display_name": "Python 3",
   "language": "python",
   "name": "python3"
  },
  "language_info": {
   "codemirror_mode": {
    "name": "ipython",
    "version": 3
   },
   "file_extension": ".py",
   "mimetype": "text/x-python",
   "name": "python",
   "nbconvert_exporter": "python",
   "pygments_lexer": "ipython3",
   "version": "3.6.5"
  }
 },
 "nbformat": 4,
 "nbformat_minor": 2
}
