{
 "cells": [
  {
   "cell_type": "code",
   "execution_count": 7,
   "metadata": {
    "collapsed": true
   },
   "outputs": [],
   "source": [
    "import pandas as pd"
   ]
  },
  {
   "cell_type": "markdown",
   "metadata": {
    "collapsed": true
   },
   "source": [
    "read in the file and create variable 'df' for the DataFrame"
   ]
  },
  {
   "cell_type": "code",
   "execution_count": 8,
   "metadata": {
    "collapsed": false
   },
   "outputs": [],
   "source": [
    "df = pd.read_csv(\"~/downloads/bailbonds.csv\")"
   ]
  },
  {
   "cell_type": "markdown",
   "metadata": {},
   "source": [
    "Info and header on the DataFrame"
   ]
  },
  {
   "cell_type": "code",
   "execution_count": 9,
   "metadata": {
    "collapsed": false
   },
   "outputs": [
    {
     "name": "stdout",
     "output_type": "stream",
     "text": [
      "<class 'pandas.core.frame.DataFrame'>\n",
      "RangeIndex: 20507 entries, 0 to 20506\n",
      "Data columns (total 17 columns):\n",
      "UID            20507 non-null int64\n",
      "BOOK_NUMBER    20507 non-null object\n",
      "RACE           20507 non-null object\n",
      "Gender         20507 non-null object\n",
      "AGE            20507 non-null int64\n",
      "COURT_CASE     20507 non-null object\n",
      "LEVEL          20507 non-null object\n",
      "SEVERITY       20507 non-null object\n",
      "BOND AMT       20507 non-null object\n",
      "BOND OUT       20507 non-null bool\n",
      "DAYS           20507 non-null int64\n",
      "PUBLIC DEF.    20507 non-null bool\n",
      "DESCRIPTION    19676 non-null object\n",
      "FSN            20507 non-null object\n",
      "STATUS         20507 non-null object\n",
      "JUDGE          20507 non-null object\n",
      "IS_FIRST       20507 non-null bool\n",
      "dtypes: bool(3), int64(3), object(11)\n",
      "memory usage: 2.2+ MB\n"
     ]
    }
   ],
   "source": [
    "df.info()"
   ]
  },
  {
   "cell_type": "code",
   "execution_count": 10,
   "metadata": {
    "collapsed": false
   },
   "outputs": [
    {
     "data": {
      "text/html": [
       "<div>\n",
       "<table border=\"1\" class=\"dataframe\">\n",
       "  <thead>\n",
       "    <tr style=\"text-align: right;\">\n",
       "      <th></th>\n",
       "      <th>UID</th>\n",
       "      <th>BOOK_NUMBER</th>\n",
       "      <th>RACE</th>\n",
       "      <th>Gender</th>\n",
       "      <th>AGE</th>\n",
       "      <th>COURT_CASE</th>\n",
       "      <th>LEVEL</th>\n",
       "      <th>SEVERITY</th>\n",
       "      <th>BOND AMT</th>\n",
       "      <th>BOND OUT</th>\n",
       "      <th>DAYS</th>\n",
       "      <th>PUBLIC DEF.</th>\n",
       "      <th>DESCRIPTION</th>\n",
       "      <th>FSN</th>\n",
       "      <th>STATUS</th>\n",
       "      <th>JUDGE</th>\n",
       "      <th>IS_FIRST</th>\n",
       "    </tr>\n",
       "  </thead>\n",
       "  <tbody>\n",
       "    <tr>\n",
       "      <th>0</th>\n",
       "      <td>1</td>\n",
       "      <td>ASO16JBN005576</td>\n",
       "      <td>B</td>\n",
       "      <td>M</td>\n",
       "      <td>68</td>\n",
       "      <td>012016CF002701A</td>\n",
       "      <td>F</td>\n",
       "      <td>T</td>\n",
       "      <td>$3,500,000</td>\n",
       "      <td>False</td>\n",
       "      <td>221</td>\n",
       "      <td>True</td>\n",
       "      <td>ADULT</td>\n",
       "      <td>787.02.1a</td>\n",
       "      <td>FELON - AWAIT TRIAL</td>\n",
       "      <td>DENISE R. FERRERO</td>\n",
       "      <td>True</td>\n",
       "    </tr>\n",
       "    <tr>\n",
       "      <th>1</th>\n",
       "      <td>2</td>\n",
       "      <td>ASO16JBN005576</td>\n",
       "      <td>B</td>\n",
       "      <td>M</td>\n",
       "      <td>68</td>\n",
       "      <td>012016CF002701A</td>\n",
       "      <td>F</td>\n",
       "      <td>T</td>\n",
       "      <td>$3,500,000</td>\n",
       "      <td>False</td>\n",
       "      <td>221</td>\n",
       "      <td>True</td>\n",
       "      <td>SEX BAT 18 YR OR OLDER BY PRSN 18 YR OR OLD</td>\n",
       "      <td>794.011.4b</td>\n",
       "      <td>FELON - AWAIT TRIAL</td>\n",
       "      <td>DENISE R. FERRERO</td>\n",
       "      <td>True</td>\n",
       "    </tr>\n",
       "    <tr>\n",
       "      <th>2</th>\n",
       "      <td>3</td>\n",
       "      <td>ASO16JBN000360</td>\n",
       "      <td>W</td>\n",
       "      <td>M</td>\n",
       "      <td>124</td>\n",
       "      <td>012016CF000120A</td>\n",
       "      <td>F</td>\n",
       "      <td>S</td>\n",
       "      <td>$3,000,000</td>\n",
       "      <td>False</td>\n",
       "      <td>40</td>\n",
       "      <td>True</td>\n",
       "      <td>BY 18Y OLDR VIC 18Y OLDR NO PHY FORC VIOL</td>\n",
       "      <td>794.011.5b</td>\n",
       "      <td>FELON - AWAIT TRIAL</td>\n",
       "      <td>JAMES M. COLAW</td>\n",
       "      <td>True</td>\n",
       "    </tr>\n",
       "    <tr>\n",
       "      <th>3</th>\n",
       "      <td>4</td>\n",
       "      <td>ASO16JBN000360</td>\n",
       "      <td>W</td>\n",
       "      <td>M</td>\n",
       "      <td>124</td>\n",
       "      <td>012016CF000120A</td>\n",
       "      <td>F</td>\n",
       "      <td>S</td>\n",
       "      <td>$3,000,000</td>\n",
       "      <td>False</td>\n",
       "      <td>40</td>\n",
       "      <td>True</td>\n",
       "      <td>OR REWARD OR SHIELD OR HOSTAGE</td>\n",
       "      <td>787.01.1a1</td>\n",
       "      <td>FELON - AWAIT TRIAL</td>\n",
       "      <td>JAMES M. COLAW</td>\n",
       "      <td>True</td>\n",
       "    </tr>\n",
       "    <tr>\n",
       "      <th>4</th>\n",
       "      <td>5</td>\n",
       "      <td>ASO16JBN000360</td>\n",
       "      <td>W</td>\n",
       "      <td>M</td>\n",
       "      <td>124</td>\n",
       "      <td>012016CF000120A</td>\n",
       "      <td>F</td>\n",
       "      <td>S</td>\n",
       "      <td>$3,000,000</td>\n",
       "      <td>False</td>\n",
       "      <td>40</td>\n",
       "      <td>True</td>\n",
       "      <td>PERSON USES A DEADLY WEAPON</td>\n",
       "      <td>784.045.1a2</td>\n",
       "      <td>FELON - AWAIT TRIAL</td>\n",
       "      <td>JAMES M. COLAW</td>\n",
       "      <td>True</td>\n",
       "    </tr>\n",
       "  </tbody>\n",
       "</table>\n",
       "</div>"
      ],
      "text/plain": [
       "   UID     BOOK_NUMBER RACE Gender  AGE       COURT_CASE LEVEL SEVERITY  \\\n",
       "0    1  ASO16JBN005576    B      M   68  012016CF002701A     F        T   \n",
       "1    2  ASO16JBN005576    B      M   68  012016CF002701A     F        T   \n",
       "2    3  ASO16JBN000360    W      M  124  012016CF000120A     F        S   \n",
       "3    4  ASO16JBN000360    W      M  124  012016CF000120A     F        S   \n",
       "4    5  ASO16JBN000360    W      M  124  012016CF000120A     F        S   \n",
       "\n",
       "      BOND AMT BOND OUT  DAYS PUBLIC DEF.  \\\n",
       "0  $3,500,000     False   221        True   \n",
       "1  $3,500,000     False   221        True   \n",
       "2  $3,000,000     False    40        True   \n",
       "3  $3,000,000     False    40        True   \n",
       "4  $3,000,000     False    40        True   \n",
       "\n",
       "                                   DESCRIPTION          FSN  \\\n",
       "0                                        ADULT    787.02.1a   \n",
       "1  SEX BAT 18 YR OR OLDER BY PRSN 18 YR OR OLD   794.011.4b   \n",
       "2    BY 18Y OLDR VIC 18Y OLDR NO PHY FORC VIOL   794.011.5b   \n",
       "3               OR REWARD OR SHIELD OR HOSTAGE   787.01.1a1   \n",
       "4                  PERSON USES A DEADLY WEAPON  784.045.1a2   \n",
       "\n",
       "                STATUS              JUDGE IS_FIRST  \n",
       "0  FELON - AWAIT TRIAL  DENISE R. FERRERO     True  \n",
       "1  FELON - AWAIT TRIAL  DENISE R. FERRERO     True  \n",
       "2  FELON - AWAIT TRIAL     JAMES M. COLAW     True  \n",
       "3  FELON - AWAIT TRIAL     JAMES M. COLAW     True  \n",
       "4  FELON - AWAIT TRIAL     JAMES M. COLAW     True  "
      ]
     },
     "execution_count": 10,
     "metadata": {},
     "output_type": "execute_result"
    }
   ],
   "source": [
    "df.head()"
   ]
  },
  {
   "cell_type": "code",
   "execution_count": 12,
   "metadata": {
    "collapsed": false
   },
   "outputs": [
    {
     "data": {
      "text/plain": [
       "0         DENISE R. FERRERO\n",
       "1         DENISE R. FERRERO\n",
       "2            JAMES M. COLAW\n",
       "3            JAMES M. COLAW\n",
       "4            JAMES M. COLAW\n",
       "5            JAMES M. COLAW\n",
       "6                     DAVIS\n",
       "7          DAVID P. KREIDER\n",
       "8          DAVID P. KREIDER\n",
       "9          DAVID P. KREIDER\n",
       "10         DAVID P. KREIDER\n",
       "11           JAMES M. COLAW\n",
       "12           JAMES M. COLAW\n",
       "13           JAMES M. COLAW\n",
       "14        Denise R. Ferrero\n",
       "15        Denise R. Ferrero\n",
       "16        Denise R. Ferrero\n",
       "17        Denise R. Ferrero\n",
       "18        Denise R. Ferrero\n",
       "19        Denise R. Ferrero\n",
       "20          MARK W. MOSELEY\n",
       "21          MARK W. MOSELEY\n",
       "22          MARK W. MOSELEY\n",
       "23          MARK W. MOSELEY\n",
       "24          MARK W. MOSELEY\n",
       "25          MARK W. MOSELEY\n",
       "26       THOMAS M. JAWORSKI\n",
       "27       THOMAS M. JAWORSKI\n",
       "28         WILLIAM E. DAVIS\n",
       "29         WILLIAM E. DAVIS\n",
       "                ...        \n",
       "20477    KRISTINE VAN VORST\n",
       "20478    KRISTINE VAN VORST\n",
       "20479    KRISTINE VAN VORST\n",
       "20480    KRISTINE VAN VORST\n",
       "20481    KRISTINE VAN VORST\n",
       "20482    KRISTINE VAN VORST\n",
       "20483     Denise R. Ferrero\n",
       "20484            GREEN, WAL\n",
       "20485           TATUM DAVIS\n",
       "20486           TATUM DAVIS\n",
       "20487            PENA, PHIL\n",
       "20488            PENA, PHIL\n",
       "20489           TATUM DAVIS\n",
       "20490            GREEN, WAL\n",
       "20491       WALTER M. GREEN\n",
       "20492       WALTER M. GREEN\n",
       "20493       WALTER M. GREEN\n",
       "20494      WILLIAM E. DAVIS\n",
       "20495      WILLIAM E. DAVIS\n",
       "20496    Kristine Van Vorst\n",
       "20497      WILLIAM E. DAVIS\n",
       "20498      WILLIAM E. DAVIS\n",
       "20499      WILLIAM E. DAVIS\n",
       "20500      WILLIAM E. DAVIS\n",
       "20501      WILLIAM E. DAVIS\n",
       "20502      WILLIAM E. DAVIS\n",
       "20503      WILLIAM E. DAVIS\n",
       "20504      WILLIAM E. DAVIS\n",
       "20505        MARY DAY COKER\n",
       "20506        MARY DAY COKER\n",
       "Name: JUDGE, dtype: object"
      ]
     },
     "execution_count": 12,
     "metadata": {},
     "output_type": "execute_result"
    }
   ],
   "source": [
    "df.JUDGE"
   ]
  },
  {
   "cell_type": "code",
   "execution_count": 15,
   "metadata": {
    "collapsed": false
   },
   "outputs": [
    {
     "data": {
      "text/plain": [
       "WALTER M. GREEN                 2772\n",
       "THOMAS M. JAWORSKI              1939\n",
       "Susanne Wilson-Bulla            1430\n",
       "DENISE R. FERRERO               1210\n",
       "Susan Miller-Jones              1140\n",
       "Denise R. Ferrero               1135\n",
       "SUSAN MILLER-JONES              1040\n",
       "MARK W. MOSELEY                  886\n",
       "WILLIAM E. DAVIS                 819\n",
       "JAMES M. COLAW                   703\n",
       "PHILIP A. PENA                   599\n",
       "DAVID P. KREIDER                 568\n",
       "ROBERT K. GROEB                  543\n",
       "Donna M. Keim                    410\n",
       "DONNA M. KEIM                    348\n",
       "JAMES P. NILON                   248\n",
       "TOBY S. MONACO                   234\n",
       "MOSELEY, M                       227\n",
       "GREEN, WAL                       222\n",
       "VICTOR L. HULSLANDER             221\n",
       "COLAW, JAM                       216\n",
       "STAN GRIFFIS                     214\n",
       "JAMES T. BROWNING                211\n",
       "DAVIS, WIL                       200\n",
       "AYMER L. CURTIN                  193\n",
       "PENA, PHIL                       175\n",
       "BO BAYER                         148\n",
       "FERRERO, D                       133\n",
       "SAMUEL STAFFORD                  128\n",
       "MONICA BRASINGTON                125\n",
       "                                ... \n",
       "JUDGE BENNETT                      1\n",
       "RITTERHOFF-WILLIAMS                1\n",
       "KRAUSE                             1\n",
       "JUDGE TOM COLEMAN                  1\n",
       "KREIDER,D                          1\n",
       "JUDGE MITCHELL- DUVAL COUNTY       1\n",
       "MONICA J. BRASINGTON               1\n",
       "SMITH, JOS                         1\n",
       "BULLARD, SUSANNE                   1\n",
       "ROBERT HILLIARD                    1\n",
       "GILCHRIST COUNTY JUDGE             1\n",
       "MARION COUNTY-HODGES               1\n",
       "DOUGLAS-COLUMBIA CO.               1\n",
       "JUDGE BULLARD                      1\n",
       "DON BARBEE JR                      1\n",
       "JUDGE GREG PARKER                  1\n",
       "STATE ATTORNEY OFFICE              1\n",
       "WILLIAMS,J.M.                      1\n",
       "JUDGE BLACKBURN                    1\n",
       "JENNIFER, ELLISON                  1\n",
       "COLUMBIA CO.- COLEMAN              1\n",
       "MANATEE CO.                        1\n",
       "BRADFORD COUNTY----DAVIS           1\n",
       "PASCO CO                           1\n",
       "BRASINGRON                         1\n",
       "JUDGE PEGG                         1\n",
       "STAFFORD JAMES                     1\n",
       "JUDGE SHAIRIT                      1\n",
       "JUDGE HEALY                        1\n",
       "BJUDGE BOATWRIGHT                  1\n",
       "Name: JUDGE, dtype: int64"
      ]
     },
     "execution_count": 15,
     "metadata": {},
     "output_type": "execute_result"
    }
   ],
   "source": [
    "df.JUDGE.value_counts()"
   ]
  },
  {
   "cell_type": "code",
   "execution_count": 24,
   "metadata": {
    "collapsed": false
   },
   "outputs": [],
   "source": [
    "judges = df.JUDGE"
   ]
  },
  {
   "cell_type": "code",
   "execution_count": 25,
   "metadata": {
    "collapsed": false
   },
   "outputs": [],
   "source": [
    "def judges_clean_names(row):\n",
    "    if row.judges.contains(\"miller-jones\", case=False):\n",
    "        return 'Susan Miller-Jones'\n",
    "    return row.judges"
   ]
  },
  {
   "cell_type": "code",
   "execution_count": 26,
   "metadata": {
    "collapsed": false
   },
   "outputs": [
    {
     "ename": "TypeError",
     "evalue": "judges_cleannames() got an unexpected keyword argument 'axis'",
     "output_type": "error",
     "traceback": [
      "\u001b[0;31m---------------------------------------------------------------------------\u001b[0m",
      "\u001b[0;31mTypeError\u001b[0m                                 Traceback (most recent call last)",
      "\u001b[0;32m<ipython-input-26-c41c9b73276b>\u001b[0m in \u001b[0;36m<module>\u001b[0;34m()\u001b[0m\n\u001b[0;32m----> 1\u001b[0;31m \u001b[0mjudges\u001b[0m\u001b[0;34m.\u001b[0m\u001b[0mapply\u001b[0m\u001b[0;34m(\u001b[0m\u001b[0mjudges_cleannames\u001b[0m\u001b[0;34m,\u001b[0m \u001b[0maxis\u001b[0m\u001b[0;34m=\u001b[0m\u001b[0;36m1\u001b[0m\u001b[0;34m)\u001b[0m\u001b[0;34m\u001b[0m\u001b[0m\n\u001b[0m",
      "\u001b[0;32m/Users/Doug/anaconda/lib/python2.7/site-packages/pandas/core/series.pyc\u001b[0m in \u001b[0;36mapply\u001b[0;34m(self, func, convert_dtype, args, **kwds)\u001b[0m\n\u001b[1;32m   2292\u001b[0m             \u001b[0;32melse\u001b[0m\u001b[0;34m:\u001b[0m\u001b[0;34m\u001b[0m\u001b[0m\n\u001b[1;32m   2293\u001b[0m                 \u001b[0mvalues\u001b[0m \u001b[0;34m=\u001b[0m \u001b[0mself\u001b[0m\u001b[0;34m.\u001b[0m\u001b[0masobject\u001b[0m\u001b[0;34m\u001b[0m\u001b[0m\n\u001b[0;32m-> 2294\u001b[0;31m                 \u001b[0mmapped\u001b[0m \u001b[0;34m=\u001b[0m \u001b[0mlib\u001b[0m\u001b[0;34m.\u001b[0m\u001b[0mmap_infer\u001b[0m\u001b[0;34m(\u001b[0m\u001b[0mvalues\u001b[0m\u001b[0;34m,\u001b[0m \u001b[0mf\u001b[0m\u001b[0;34m,\u001b[0m \u001b[0mconvert\u001b[0m\u001b[0;34m=\u001b[0m\u001b[0mconvert_dtype\u001b[0m\u001b[0;34m)\u001b[0m\u001b[0;34m\u001b[0m\u001b[0m\n\u001b[0m\u001b[1;32m   2295\u001b[0m \u001b[0;34m\u001b[0m\u001b[0m\n\u001b[1;32m   2296\u001b[0m         \u001b[0;32mif\u001b[0m \u001b[0mlen\u001b[0m\u001b[0;34m(\u001b[0m\u001b[0mmapped\u001b[0m\u001b[0;34m)\u001b[0m \u001b[0;32mand\u001b[0m \u001b[0misinstance\u001b[0m\u001b[0;34m(\u001b[0m\u001b[0mmapped\u001b[0m\u001b[0;34m[\u001b[0m\u001b[0;36m0\u001b[0m\u001b[0;34m]\u001b[0m\u001b[0;34m,\u001b[0m \u001b[0mSeries\u001b[0m\u001b[0;34m)\u001b[0m\u001b[0;34m:\u001b[0m\u001b[0;34m\u001b[0m\u001b[0m\n",
      "\u001b[0;32mpandas/src/inference.pyx\u001b[0m in \u001b[0;36mpandas.lib.map_infer (pandas/lib.c:66124)\u001b[0;34m()\u001b[0m\n",
      "\u001b[0;32m/Users/Doug/anaconda/lib/python2.7/site-packages/pandas/core/series.pyc\u001b[0m in \u001b[0;36m<lambda>\u001b[0;34m(x)\u001b[0m\n\u001b[1;32m   2280\u001b[0m \u001b[0;34m\u001b[0m\u001b[0m\n\u001b[1;32m   2281\u001b[0m         \u001b[0;32mif\u001b[0m \u001b[0mkwds\u001b[0m \u001b[0;32mor\u001b[0m \u001b[0margs\u001b[0m \u001b[0;32mand\u001b[0m \u001b[0;32mnot\u001b[0m \u001b[0misinstance\u001b[0m\u001b[0;34m(\u001b[0m\u001b[0mfunc\u001b[0m\u001b[0;34m,\u001b[0m \u001b[0mnp\u001b[0m\u001b[0;34m.\u001b[0m\u001b[0mufunc\u001b[0m\u001b[0;34m)\u001b[0m\u001b[0;34m:\u001b[0m\u001b[0;34m\u001b[0m\u001b[0m\n\u001b[0;32m-> 2282\u001b[0;31m             \u001b[0mf\u001b[0m \u001b[0;34m=\u001b[0m \u001b[0;32mlambda\u001b[0m \u001b[0mx\u001b[0m\u001b[0;34m:\u001b[0m \u001b[0mfunc\u001b[0m\u001b[0;34m(\u001b[0m\u001b[0mx\u001b[0m\u001b[0;34m,\u001b[0m \u001b[0;34m*\u001b[0m\u001b[0margs\u001b[0m\u001b[0;34m,\u001b[0m \u001b[0;34m**\u001b[0m\u001b[0mkwds\u001b[0m\u001b[0;34m)\u001b[0m\u001b[0;34m\u001b[0m\u001b[0m\n\u001b[0m\u001b[1;32m   2283\u001b[0m         \u001b[0;32melse\u001b[0m\u001b[0;34m:\u001b[0m\u001b[0;34m\u001b[0m\u001b[0m\n\u001b[1;32m   2284\u001b[0m             \u001b[0mf\u001b[0m \u001b[0;34m=\u001b[0m \u001b[0mfunc\u001b[0m\u001b[0;34m\u001b[0m\u001b[0m\n",
      "\u001b[0;31mTypeError\u001b[0m: judges_cleannames() got an unexpected keyword argument 'axis'"
     ]
    }
   ],
   "source": [
    "judges.apply(judges_clean_names, axis=1)"
   ]
  },
  {
   "cell_type": "code",
   "execution_count": null,
   "metadata": {
    "collapsed": true
   },
   "outputs": [],
   "source": []
  }
 ],
 "metadata": {
  "kernelspec": {
   "display_name": "Python 2",
   "language": "python",
   "name": "python2"
  },
  "language_info": {
   "codemirror_mode": {
    "name": "ipython",
    "version": 2
   },
   "file_extension": ".py",
   "mimetype": "text/x-python",
   "name": "python",
   "nbconvert_exporter": "python",
   "pygments_lexer": "ipython2",
   "version": "2.7.13"
  }
 },
 "nbformat": 4,
 "nbformat_minor": 2
}
