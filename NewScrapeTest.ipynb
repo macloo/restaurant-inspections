{
 "cells": [
  {
   "cell_type": "code",
   "execution_count": 1,
   "metadata": {},
   "outputs": [],
   "source": [
    "from pandas import pandas as pd\n",
    "#install with pip\n",
    "from pandas import pandas as pd\n",
    "from bs4 import BeautifulSoup as bs\n",
    "from urllib.request import urlopen\n",
    "from urllib.error import HTTPError\n",
    "\n",
    "import datetime\n",
    "import re\n",
    "import sqlite3\n",
    "import urllib\n",
    "import csv\n",
    "import datetime"
   ]
  },
  {
   "cell_type": "code",
   "execution_count": 2,
   "metadata": {},
   "outputs": [
    {
     "name": "stdout",
     "output_type": "stream",
     "text": [
      "['https://www.myfloridalicense.com/inspectionDetail.asp?InspVisitID=6632858&id=6605529', 'https://www.myfloridalicense.com/inspectionDetail.asp?InspVisitID=6653464&id=4070634', 'https://www.myfloridalicense.com/inspectionDetail.asp?InspVisitID=6602877&id=4070634', 'https://www.myfloridalicense.com/inspectionDetail.asp?InspVisitID=6577708&id=2129302', 'https://www.myfloridalicense.com/inspectionDetail.asp?InspVisitID=6577709&id=2129307', 'https://www.myfloridalicense.com/inspectionDetail.asp?InspVisitID=6618656&id=5768844', 'https://www.myfloridalicense.com/inspectionDetail.asp?InspVisitID=6606469&id=4332605', 'https://www.myfloridalicense.com/inspectionDetail.asp?InspVisitID=6671597&id=2129510', 'https://www.myfloridalicense.com/inspectionDetail.asp?InspVisitID=6671738&id=2129510', 'https://www.myfloridalicense.com/inspectionDetail.asp?InspVisitID=6626820&id=6251692', 'https://www.myfloridalicense.com/inspectionDetail.asp?InspVisitID=6586953&id=2129568', 'https://www.myfloridalicense.com/inspectionDetail.asp?InspVisitID=6653382&id=5235038', 'https://www.myfloridalicense.com/inspectionDetail.asp?InspVisitID=6573648&id=5235038', 'https://www.myfloridalicense.com/inspectionDetail.asp?InspVisitID=6626745&id=6236501', 'https://www.myfloridalicense.com/inspectionDetail.asp?InspVisitID=6636835&id=6362308', 'https://www.myfloridalicense.com/inspectionDetail.asp?InspVisitID=6671861&id=4046692', 'https://www.myfloridalicense.com/inspectionDetail.asp?InspVisitID=6671614&id=4046692', 'https://www.myfloridalicense.com/inspectionDetail.asp?InspVisitID=6604416&id=4182568', 'https://www.myfloridalicense.com/inspectionDetail.asp?InspVisitID=6625004&id=5976105', 'https://www.myfloridalicense.com/inspectionDetail.asp?InspVisitID=6597299&id=3570859', 'https://www.myfloridalicense.com/inspectionDetail.asp?InspVisitID=6653366&id=3632798', 'https://www.myfloridalicense.com/inspectionDetail.asp?InspVisitID=6653509&id=3632798', 'https://www.myfloridalicense.com/inspectionDetail.asp?InspVisitID=6549310&id=4196790', 'https://www.myfloridalicense.com/inspectionDetail.asp?InspVisitID=6568385&id=5576855', 'https://www.myfloridalicense.com/inspectionDetail.asp?InspVisitID=6609462&id=5320483', 'https://www.myfloridalicense.com/inspectionDetail.asp?InspVisitID=6605364&id=4278942', 'https://www.myfloridalicense.com/inspectionDetail.asp?InspVisitID=6612346&id=4311119', 'https://www.myfloridalicense.com/inspectionDetail.asp?InspVisitID=6607599&id=4467791', 'https://www.myfloridalicense.com/inspectionDetail.asp?InspVisitID=6532207&id=6621541', 'https://www.myfloridalicense.com/inspectionDetail.asp?InspVisitID=6644428&id=6697310', 'https://www.myfloridalicense.com/inspectionDetail.asp?InspVisitID=6636870&id=6405266', 'https://www.myfloridalicense.com/inspectionDetail.asp?InspVisitID=6621757&id=6099732', 'https://www.myfloridalicense.com/inspectionDetail.asp?InspVisitID=6572475&id=6761405', 'https://www.myfloridalicense.com/inspectionDetail.asp?InspVisitID=6652654&id=6761405', 'https://www.myfloridalicense.com/inspectionDetail.asp?InspVisitID=6629923&id=6416569', 'https://www.myfloridalicense.com/inspectionDetail.asp?InspVisitID=6652503&id=6416569', 'https://www.myfloridalicense.com/inspectionDetail.asp?InspVisitID=6550136&id=6897994', 'https://www.myfloridalicense.com/inspectionDetail.asp?InspVisitID=6539046&id=6994543', 'https://www.myfloridalicense.com/inspectionDetail.asp?InspVisitID=6529386&id=6670497', 'https://www.myfloridalicense.com/inspectionDetail.asp?InspVisitID=6604612&id=4211274', 'https://www.myfloridalicense.com/inspectionDetail.asp?InspVisitID=6532432&id=4211274', 'https://www.myfloridalicense.com/inspectionDetail.asp?InspVisitID=6671595&id=2132339', 'https://www.myfloridalicense.com/inspectionDetail.asp?InspVisitID=6594062&id=3217617', 'https://www.myfloridalicense.com/inspectionDetail.asp?InspVisitID=6568389&id=6372422', 'https://www.myfloridalicense.com/inspectionDetail.asp?InspVisitID=6569845&id=2150597', 'https://www.myfloridalicense.com/inspectionDetail.asp?InspVisitID=6652640&id=6126809', 'https://www.myfloridalicense.com/inspectionDetail.asp?InspVisitID=6567339&id=6105035', 'https://www.myfloridalicense.com/inspectionDetail.asp?InspVisitID=6571071&id=5357140', 'https://www.myfloridalicense.com/inspectionDetail.asp?InspVisitID=6606198&id=4327679', 'https://www.myfloridalicense.com/inspectionDetail.asp?InspVisitID=6574622&id=2151096', 'https://www.myfloridalicense.com/inspectionDetail.asp?InspVisitID=6586951&id=2151135', 'https://www.myfloridalicense.com/inspectionDetail.asp?InspVisitID=6621437&id=5937633', 'https://www.myfloridalicense.com/inspectionDetail.asp?InspVisitID=6652556&id=6047692', 'https://www.myfloridalicense.com/inspectionDetail.asp?InspVisitID=6620327&id=6047692', 'https://www.myfloridalicense.com/inspectionDetail.asp?InspVisitID=6638431&id=6214150', 'https://www.myfloridalicense.com/inspectionDetail.asp?InspVisitID=6567172&id=3214132', 'https://www.myfloridalicense.com/inspectionDetail.asp?InspVisitID=6618503&id=6014999', 'https://www.myfloridalicense.com/inspectionDetail.asp?InspVisitID=6641326&id=6567560', 'https://www.myfloridalicense.com/inspectionDetail.asp?InspVisitID=6565537&id=7032325', 'https://www.myfloridalicense.com/inspectionDetail.asp?InspVisitID=6623576&id=5897309', 'https://www.myfloridalicense.com/inspectionDetail.asp?InspVisitID=6574661&id=2153402', 'https://www.myfloridalicense.com/inspectionDetail.asp?InspVisitID=6574736&id=2153508', 'https://www.myfloridalicense.com/inspectionDetail.asp?InspVisitID=6629822&id=6534762', 'https://www.myfloridalicense.com/inspectionDetail.asp?InspVisitID=6575477&id=2173486', 'https://www.myfloridalicense.com/inspectionDetail.asp?InspVisitID=6570938&id=5364449', 'https://www.myfloridalicense.com/inspectionDetail.asp?InspVisitID=6535765&id=6441063', 'https://www.myfloridalicense.com/inspectionDetail.asp?InspVisitID=6570931&id=3524826', 'https://www.myfloridalicense.com/inspectionDetail.asp?InspVisitID=6582940&id=2174863', 'https://www.myfloridalicense.com/inspectionDetail.asp?InspVisitID=6602009&id=4016785', 'https://www.myfloridalicense.com/inspectionDetail.asp?InspVisitID=6536032&id=6847030', 'https://www.myfloridalicense.com/inspectionDetail.asp?InspVisitID=6536035&id=6847030', 'https://www.myfloridalicense.com/inspectionDetail.asp?InspVisitID=6572263&id=4460579', 'https://www.myfloridalicense.com/inspectionDetail.asp?InspVisitID=6592950&id=3039064', 'https://www.myfloridalicense.com/inspectionDetail.asp?InspVisitID=6672992&id=3039064', 'https://www.myfloridalicense.com/inspectionDetail.asp?InspVisitID=6673356&id=3039064', 'https://www.myfloridalicense.com/inspectionDetail.asp?InspVisitID=6566287&id=5803872', 'https://www.myfloridalicense.com/inspectionDetail.asp?InspVisitID=6616262&id=5635863', 'https://www.myfloridalicense.com/inspectionDetail.asp?InspVisitID=6537525&id=2175919', 'https://www.myfloridalicense.com/inspectionDetail.asp?InspVisitID=6576592&id=2176384', 'https://www.myfloridalicense.com/inspectionDetail.asp?InspVisitID=6652639&id=4178040', 'https://www.myfloridalicense.com/inspectionDetail.asp?InspVisitID=6653657&id=4178040', 'https://www.myfloridalicense.com/inspectionDetail.asp?InspVisitID=6572627&id=6141283', 'https://www.myfloridalicense.com/inspectionDetail.asp?InspVisitID=6569976&id=5921081', 'https://www.myfloridalicense.com/inspectionDetail.asp?InspVisitID=6633832&id=6488446', 'https://www.myfloridalicense.com/inspectionDetail.asp?InspVisitID=6572443&id=6144214', 'https://www.myfloridalicense.com/inspectionDetail.asp?InspVisitID=6571511&id=6312757', 'https://www.myfloridalicense.com/inspectionDetail.asp?InspVisitID=6652690&id=6657559', 'https://www.myfloridalicense.com/inspectionDetail.asp?InspVisitID=6571259&id=6657559', 'https://www.myfloridalicense.com/inspectionDetail.asp?InspVisitID=6633947&id=6457374', 'https://www.myfloridalicense.com/inspectionDetail.asp?InspVisitID=6617756&id=5907012', 'https://www.myfloridalicense.com/inspectionDetail.asp?InspVisitID=6653682&id=5459841', 'https://www.myfloridalicense.com/inspectionDetail.asp?InspVisitID=6572606&id=5459841', 'https://www.myfloridalicense.com/inspectionDetail.asp?InspVisitID=6590232&id=2437326', 'https://www.myfloridalicense.com/inspectionDetail.asp?InspVisitID=6630689&id=6287229', 'https://www.myfloridalicense.com/inspectionDetail.asp?InspVisitID=6591738&id=2796113', 'https://www.myfloridalicense.com/inspectionDetail.asp?InspVisitID=6572644&id=5334479', 'https://www.myfloridalicense.com/inspectionDetail.asp?InspVisitID=6572436&id=6318836', 'https://www.myfloridalicense.com/inspectionDetail.asp?InspVisitID=6572438&id=6033206', 'https://www.myfloridalicense.com/inspectionDetail.asp?InspVisitID=6568380&id=6328310', 'https://www.myfloridalicense.com/inspectionDetail.asp?InspVisitID=6671548&id=6328310', 'https://www.myfloridalicense.com/inspectionDetail.asp?InspVisitID=6652726&id=6328310', 'https://www.myfloridalicense.com/inspectionDetail.asp?InspVisitID=6632204&id=6328310', 'https://www.myfloridalicense.com/inspectionDetail.asp?InspVisitID=6573656&id=5866672', 'https://www.myfloridalicense.com/inspectionDetail.asp?InspVisitID=6572519&id=5687330', 'https://www.myfloridalicense.com/inspectionDetail.asp?InspVisitID=6568377&id=5410281', 'https://www.myfloridalicense.com/inspectionDetail.asp?InspVisitID=6571312&id=3845223', 'https://www.myfloridalicense.com/inspectionDetail.asp?InspVisitID=6602281&id=3965138', 'https://www.myfloridalicense.com/inspectionDetail.asp?InspVisitID=6602995&id=4079029', 'https://www.myfloridalicense.com/inspectionDetail.asp?InspVisitID=6536786&id=4190010', 'https://www.myfloridalicense.com/inspectionDetail.asp?InspVisitID=6538413&id=4208483', 'https://www.myfloridalicense.com/inspectionDetail.asp?InspVisitID=6653380&id=5424747', 'https://www.myfloridalicense.com/inspectionDetail.asp?InspVisitID=6568376&id=5437519', 'https://www.myfloridalicense.com/inspectionDetail.asp?InspVisitID=6572280&id=5455140', 'https://www.myfloridalicense.com/inspectionDetail.asp?InspVisitID=6653691&id=5480415', 'https://www.myfloridalicense.com/inspectionDetail.asp?InspVisitID=6622114&id=6305522', 'https://www.myfloridalicense.com/inspectionDetail.asp?InspVisitID=6537453&id=5449433', 'https://www.myfloridalicense.com/inspectionDetail.asp?InspVisitID=6572605&id=6583099', 'https://www.myfloridalicense.com/inspectionDetail.asp?InspVisitID=6571062&id=5790901', 'https://www.myfloridalicense.com/inspectionDetail.asp?InspVisitID=6672032&id=6267507', 'https://www.myfloridalicense.com/inspectionDetail.asp?InspVisitID=6671837&id=6267507', 'https://www.myfloridalicense.com/inspectionDetail.asp?InspVisitID=6638449&id=6267507', 'https://www.myfloridalicense.com/inspectionDetail.asp?InspVisitID=6673031&id=6267507', 'https://www.myfloridalicense.com/inspectionDetail.asp?InspVisitID=6572180&id=5876810', 'https://www.myfloridalicense.com/inspectionDetail.asp?InspVisitID=6647057&id=6887146', 'https://www.myfloridalicense.com/inspectionDetail.asp?InspVisitID=6540212&id=6630229', 'https://www.myfloridalicense.com/inspectionDetail.asp?InspVisitID=6641269&id=6687805', 'https://www.myfloridalicense.com/inspectionDetail.asp?InspVisitID=6646287&id=6721732', 'https://www.myfloridalicense.com/inspectionDetail.asp?InspVisitID=6572424&id=6767975', 'https://www.myfloridalicense.com/inspectionDetail.asp?InspVisitID=6672947&id=6755013', 'https://www.myfloridalicense.com/inspectionDetail.asp?InspVisitID=6569158&id=6755013', 'https://www.myfloridalicense.com/inspectionDetail.asp?InspVisitID=6643053&id=6854763', 'https://www.myfloridalicense.com/inspectionDetail.asp?InspVisitID=6648569&id=6903214', 'https://www.myfloridalicense.com/inspectionDetail.asp?InspVisitID=6646498&id=6847992', 'https://www.myfloridalicense.com/inspectionDetail.asp?InspVisitID=6543686&id=7013343', 'https://www.myfloridalicense.com/inspectionDetail.asp?InspVisitID=6571698&id=6841327', 'https://www.myfloridalicense.com/inspectionDetail.asp?InspVisitID=6487808&id=6801347', 'https://www.myfloridalicense.com/inspectionDetail.asp?InspVisitID=6571725&id=6554927', 'https://www.myfloridalicense.com/inspectionDetail.asp?InspVisitID=6557494&id=7031028', 'https://www.myfloridalicense.com/inspectionDetail.asp?InspVisitID=6561830&id=7012393', 'https://www.myfloridalicense.com/inspectionDetail.asp?InspVisitID=6550677&id=7007438', 'https://www.myfloridalicense.com/inspectionDetail.asp?InspVisitID=6569207&id=7035859', 'https://www.myfloridalicense.com/inspectionDetail.asp?InspVisitID=6671010&id=7060161', 'https://www.myfloridalicense.com/inspectionDetail.asp?InspVisitID=6558055&id=3264730', 'https://www.myfloridalicense.com/inspectionDetail.asp?InspVisitID=6572356&id=2733803', 'https://www.myfloridalicense.com/inspectionDetail.asp?InspVisitID=6670977&id=7058077', 'https://www.myfloridalicense.com/inspectionDetail.asp?InspVisitID=6556133&id=5356159', 'https://www.myfloridalicense.com/inspectionDetail.asp?InspVisitID=6572505&id=3155169', 'https://www.myfloridalicense.com/inspectionDetail.asp?InspVisitID=6552975&id=3610658', 'https://www.myfloridalicense.com/inspectionDetail.asp?InspVisitID=6572448&id=6681453', 'https://www.myfloridalicense.com/inspectionDetail.asp?InspVisitID=6670958&id=7060217', 'https://www.myfloridalicense.com/inspectionDetail.asp?InspVisitID=6632086&id=6304054', 'https://www.myfloridalicense.com/inspectionDetail.asp?InspVisitID=6653547&id=6304054', 'https://www.myfloridalicense.com/inspectionDetail.asp?InspVisitID=6616436&id=5640312', 'https://www.myfloridalicense.com/inspectionDetail.asp?InspVisitID=6568896&id=3625907', 'https://www.myfloridalicense.com/inspectionDetail.asp?InspVisitID=6608283&id=5281508', 'https://www.myfloridalicense.com/inspectionDetail.asp?InspVisitID=6568372&id=5281508', 'https://www.myfloridalicense.com/inspectionDetail.asp?InspVisitID=6652739&id=2201224', 'https://www.myfloridalicense.com/inspectionDetail.asp?InspVisitID=6610545&id=5369406', 'https://www.myfloridalicense.com/inspectionDetail.asp?InspVisitID=6577192&id=2201607', 'https://www.myfloridalicense.com/inspectionDetail.asp?InspVisitID=6628295&id=6782211', 'https://www.myfloridalicense.com/inspectionDetail.asp?InspVisitID=6652801&id=2201785', 'https://www.myfloridalicense.com/inspectionDetail.asp?InspVisitID=6583774&id=2201785', 'https://www.myfloridalicense.com/inspectionDetail.asp?InspVisitID=6554725&id=6856712', 'https://www.myfloridalicense.com/inspectionDetail.asp?InspVisitID=6610544&id=5369380', 'https://www.myfloridalicense.com/inspectionDetail.asp?InspVisitID=6571661&id=2201911', 'https://www.myfloridalicense.com/inspectionDetail.asp?InspVisitID=6554660&id=6064355', 'https://www.myfloridalicense.com/inspectionDetail.asp?InspVisitID=6652635&id=5673850', 'https://www.myfloridalicense.com/inspectionDetail.asp?InspVisitID=6598532&id=3691234', 'https://www.myfloridalicense.com/inspectionDetail.asp?InspVisitID=6652400&id=7057337', 'https://www.myfloridalicense.com/inspectionDetail.asp?InspVisitID=6652631&id=5806844', 'https://www.myfloridalicense.com/inspectionDetail.asp?InspVisitID=6583718&id=2202328', 'https://www.myfloridalicense.com/inspectionDetail.asp?InspVisitID=6577285&id=2202347', 'https://www.myfloridalicense.com/inspectionDetail.asp?InspVisitID=6652544&id=2429858', 'https://www.myfloridalicense.com/inspectionDetail.asp?InspVisitID=6590161&id=2429858', 'https://www.myfloridalicense.com/inspectionDetail.asp?InspVisitID=6595186&id=2923926', 'https://www.myfloridalicense.com/inspectionDetail.asp?InspVisitID=6595335&id=3311927', 'https://www.myfloridalicense.com/inspectionDetail.asp?InspVisitID=6653696&id=3773357', 'https://www.myfloridalicense.com/inspectionDetail.asp?InspVisitID=6604549&id=4194139', 'https://www.myfloridalicense.com/inspectionDetail.asp?InspVisitID=6652747&id=6020524', 'https://www.myfloridalicense.com/inspectionDetail.asp?InspVisitID=6652700&id=5998108', 'https://www.myfloridalicense.com/inspectionDetail.asp?InspVisitID=6572335&id=5998108', 'https://www.myfloridalicense.com/inspectionDetail.asp?InspVisitID=6652799&id=6378473', 'https://www.myfloridalicense.com/inspectionDetail.asp?InspVisitID=6570542&id=6378473', 'https://www.myfloridalicense.com/inspectionDetail.asp?InspVisitID=6572465&id=6728694', 'https://www.myfloridalicense.com/inspectionDetail.asp?InspVisitID=6536763&id=5362281', 'https://www.myfloridalicense.com/inspectionDetail.asp?InspVisitID=6528563&id=6981336', 'https://www.myfloridalicense.com/inspectionDetail.asp?InspVisitID=6652740&id=3864721', 'https://www.myfloridalicense.com/inspectionDetail.asp?InspVisitID=6622417&id=5874686', 'https://www.myfloridalicense.com/inspectionDetail.asp?InspVisitID=6568384&id=5874686', 'https://www.myfloridalicense.com/inspectionDetail.asp?InspVisitID=6571724&id=6665806', 'https://www.myfloridalicense.com/inspectionDetail.asp?InspVisitID=6535904&id=2606705', 'https://www.myfloridalicense.com/inspectionDetail.asp?InspVisitID=6536596&id=6833480', 'https://www.myfloridalicense.com/inspectionDetail.asp?InspVisitID=6570882&id=6912572', 'https://www.myfloridalicense.com/inspectionDetail.asp?InspVisitID=6570888&id=2245583', 'https://www.myfloridalicense.com/inspectionDetail.asp?InspVisitID=6653687&id=2245583', 'https://www.myfloridalicense.com/inspectionDetail.asp?InspVisitID=6652763&id=6200135', 'https://www.myfloridalicense.com/inspectionDetail.asp?InspVisitID=6571885&id=6642310', 'https://www.myfloridalicense.com/inspectionDetail.asp?InspVisitID=6571496&id=4030488', 'https://www.myfloridalicense.com/inspectionDetail.asp?InspVisitID=6653619&id=4030488', 'https://www.myfloridalicense.com/inspectionDetail.asp?InspVisitID=6652796&id=4030488', 'https://www.myfloridalicense.com/inspectionDetail.asp?InspVisitID=6585430&id=2246233', 'https://www.myfloridalicense.com/inspectionDetail.asp?InspVisitID=6653438&id=2246233', 'https://www.myfloridalicense.com/inspectionDetail.asp?InspVisitID=6579190&id=2246352', 'https://www.myfloridalicense.com/inspectionDetail.asp?InspVisitID=6557038&id=2246402', 'https://www.myfloridalicense.com/inspectionDetail.asp?InspVisitID=6570737&id=6753152', 'https://www.myfloridalicense.com/inspectionDetail.asp?InspVisitID=6646534&id=6753152', 'https://www.myfloridalicense.com/inspectionDetail.asp?InspVisitID=6653551&id=6753152', 'https://www.myfloridalicense.com/inspectionDetail.asp?InspVisitID=6571523&id=2450373', 'https://www.myfloridalicense.com/inspectionDetail.asp?InspVisitID=6570609&id=4347443', 'https://www.myfloridalicense.com/inspectionDetail.asp?InspVisitID=6622608&id=5762625', 'https://www.myfloridalicense.com/inspectionDetail.asp?InspVisitID=6571884&id=6306017', 'https://www.myfloridalicense.com/inspectionDetail.asp?InspVisitID=6570617&id=4369742', 'https://www.myfloridalicense.com/inspectionDetail.asp?InspVisitID=6615475&id=5614262', 'https://www.myfloridalicense.com/inspectionDetail.asp?InspVisitID=6652696&id=5926027', 'https://www.myfloridalicense.com/inspectionDetail.asp?InspVisitID=6620085&id=5926027', 'https://www.myfloridalicense.com/inspectionDetail.asp?InspVisitID=6571887&id=6898252', 'https://www.myfloridalicense.com/inspectionDetail.asp?InspVisitID=6672707&id=6898252', 'https://www.myfloridalicense.com/inspectionDetail.asp?InspVisitID=6540486&id=6373488', 'https://www.myfloridalicense.com/inspectionDetail.asp?InspVisitID=6572710&id=7035847', 'https://www.myfloridalicense.com/inspectionDetail.asp?InspVisitID=6539331&id=6799962', 'https://www.myfloridalicense.com/inspectionDetail.asp?InspVisitID=6652736&id=3510695', 'https://www.myfloridalicense.com/inspectionDetail.asp?InspVisitID=6589827&id=2252408', 'https://www.myfloridalicense.com/inspectionDetail.asp?InspVisitID=6607849&id=4442401']\n"
     ]
    }
   ],
   "source": [
    "# Read in state summary report for District, filter for needed fields and assign headers\n",
    "insp = pd.read_csv(\"ftp://dbprftp.state.fl.us/pub/llweb/5fdinspi.csv\", \n",
    "                   usecols=[2, 4, 5, 6, 7, 8, 9, 12, 13, 14, 17, 18, 80, 81], encoding=\"ISO-8859-1\")\n",
    "insp.columns = [\"county\", \"licnum\", \"sitename\", \"streetaddy\", \"cityaddy\", \"zip\",\n",
    "                \"inspnum\", \"insptype\", \"inspdispos\", \"inspdate\", \"totalvio\", \"highvio\", \"licid\", \"visitid\"]\n",
    "# county_sought = 'Marion' # uncomment if particular county sought\n",
    "# insp = insp[(insp.county == county_sought)] # uncomment if particular county sought\n",
    "insp.sitename = insp.sitename.str.title() #titlecase sitename\n",
    "insp.streetaddy = insp.streetaddy.str.title() #titlecase street adress\n",
    "insp.cityaddy = insp.cityaddy.str.title() #titlecase city\n",
    "insp = insp.applymap(lambda x: str(x).strip() if len(str(x).strip()) else None) #strip whitespace, replace empty vals\n",
    "insp['visitid'] = insp['visitid'].apply(int) # so it can be filtered against df below\n",
    "\n",
    "result = []\n",
    "result_for_urls = result # for url list\n",
    "result_for_tuple = result.append(\"NULL\") # later into db, space for user-input datetime\n",
    "\n",
    "# takes LicenseID and VisitID, passes it into the urls for detailed reports later\n",
    "for index, rows in insp.iterrows():\n",
    "    visitid = rows['visitid']\n",
    "    licid = rows['licid']\n",
    "    urls = \"https://www.myfloridalicense.com/inspectionDetail.asp? \\\n",
    "        InspVisitID= %s &id= %s\" % (visitid, licid)\n",
    "    urls = urls.replace(' ', '')\n",
    "    result.append(urls)\n",
    "urlList = result\n",
    "urlList.pop(0) # get rid of first \"Null\" from append above\n",
    "print(urlList)"
   ]
  },
  {
   "cell_type": "code",
   "execution_count": 4,
   "metadata": {},
   "outputs": [
    {
     "ename": "AttributeError",
     "evalue": "'list' object has no attribute 'rfind'",
     "output_type": "error",
     "traceback": [
      "\u001b[0;31m---------------------------------------------------------------------------\u001b[0m",
      "\u001b[0;31mAttributeError\u001b[0m                            Traceback (most recent call last)",
      "\u001b[0;32m<ipython-input-4-48b668ff37de>\u001b[0m in \u001b[0;36m<module>\u001b[0;34m()\u001b[0m\n\u001b[1;32m     22\u001b[0m \u001b[0;34m\u001b[0m\u001b[0m\n\u001b[1;32m     23\u001b[0m \u001b[0;32mfor\u001b[0m \u001b[0murl\u001b[0m \u001b[0;32min\u001b[0m \u001b[0murlList\u001b[0m\u001b[0;34m:\u001b[0m\u001b[0;34m\u001b[0m\u001b[0m\n\u001b[0;32m---> 24\u001b[0;31m     \u001b[0mmake_details_list\u001b[0m\u001b[0;34m(\u001b[0m\u001b[0murlList\u001b[0m\u001b[0;34m)\u001b[0m\u001b[0;34m\u001b[0m\u001b[0m\n\u001b[0m",
      "\u001b[0;32m<ipython-input-4-48b668ff37de>\u001b[0m in \u001b[0;36mmake_details_list\u001b[0;34m(url)\u001b[0m\n\u001b[1;32m      3\u001b[0m \u001b[0;32mdef\u001b[0m \u001b[0mmake_details_list\u001b[0m\u001b[0;34m(\u001b[0m\u001b[0murl\u001b[0m\u001b[0;34m)\u001b[0m\u001b[0;34m:\u001b[0m\u001b[0;34m\u001b[0m\u001b[0m\n\u001b[1;32m      4\u001b[0m     \u001b[0minspurl\u001b[0m \u001b[0;34m=\u001b[0m \u001b[0murl\u001b[0m\u001b[0;34m\u001b[0m\u001b[0m\n\u001b[0;32m----> 5\u001b[0;31m     \u001b[0mvisitid\u001b[0m \u001b[0;34m=\u001b[0m \u001b[0minspurl\u001b[0m\u001b[0;34m[\u001b[0m\u001b[0minspurl\u001b[0m\u001b[0;34m.\u001b[0m\u001b[0mrfind\u001b[0m\u001b[0;34m(\u001b[0m\u001b[0;34m\"VisitID=\"\u001b[0m\u001b[0;34m)\u001b[0m \u001b[0;34m+\u001b[0m \u001b[0;36m1\u001b[0m\u001b[0;34m:\u001b[0m\u001b[0;36m8\u001b[0m\u001b[0;34m]\u001b[0m\u001b[0;34m\u001b[0m\u001b[0m\n\u001b[0m\u001b[1;32m      6\u001b[0m \u001b[0;34m\u001b[0m\u001b[0m\n\u001b[1;32m      7\u001b[0m     \u001b[0mhtml\u001b[0m \u001b[0;34m=\u001b[0m \u001b[0murlopen\u001b[0m\u001b[0;34m(\u001b[0m\u001b[0murl\u001b[0m\u001b[0;34m)\u001b[0m\u001b[0;34m\u001b[0m\u001b[0m\n",
      "\u001b[0;31mAttributeError\u001b[0m: 'list' object has no attribute 'rfind'"
     ]
    }
   ],
   "source": [
    "urlList = ['https://www.myfloridalicense.com/inspectionDetail.asp?InspVisitID=6632858&id=6605529', 'https://www.myfloridalicense.com/inspectionDetail.asp?InspVisitID=6653464&id=4070634', 'https://www.myfloridalicense.com/inspectionDetail.asp?InspVisitID=6602877&id=4070634', 'https://www.myfloridalicense.com/inspectionDetail.asp?InspVisitID=6577708&id=2129302']# a shorter try for a list\n",
    "details_list = []\n",
    "def make_details_list(url):\n",
    "    inspurl = url\n",
    "    visitid = inspurl[inspurl.rfind(\"VisitID=\") + 1:8]\n",
    "    \n",
    "    html = urlopen(url)\n",
    "    soup = bs(html.read(), 'lxml')\n",
    "    details = soup.find_all('font', {'face': 'verdana'})[10:] # relevant text on pages in verdana\n",
    "    result = []\n",
    "        \n",
    "    for detail in details:\n",
    "        row = [\n",
    "        details[0].get_text('business'),\n",
    "        details[24].get_text('visitid'),\n",
    "        details[25].get_text('intermed_num'),\n",
    "        details[26].get_text('basic_num'),      \n",
    "        ]    \n",
    "        row.append(details_list)    \n",
    "    result.append(details_list)\n",
    "    return details_list    \n",
    "\n",
    "for url in urlList:\n",
    "    make_details_list(urlList)"
   ]
  },
  {
   "cell_type": "code",
   "execution_count": null,
   "metadata": {},
   "outputs": [],
   "source": [
    "\n",
    "    "
   ]
  }
 ],
 "metadata": {
  "kernelspec": {
   "display_name": "Python 3",
   "language": "python",
   "name": "python3"
  },
  "language_info": {
   "codemirror_mode": {
    "name": "ipython",
    "version": 3
   },
   "file_extension": ".py",
   "mimetype": "text/x-python",
   "name": "python",
   "nbconvert_exporter": "python",
   "pygments_lexer": "ipython3",
   "version": "3.6.2"
  }
 },
 "nbformat": 4,
 "nbformat_minor": 2
}
