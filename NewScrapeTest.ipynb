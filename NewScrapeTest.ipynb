{
 "cells": [
  {
   "cell_type": "code",
   "execution_count": 1,
   "metadata": {},
   "outputs": [],
   "source": [
    "from pandas import pandas as pd\n",
    "#install with pip\n",
    "from pandas import pandas as pd\n",
    "from bs4 import BeautifulSoup as bs\n",
    "from urllib.request import urlopen\n",
    "from urllib.error import HTTPError\n",
    "\n",
    "import datetime\n",
    "import re\n",
    "import sqlite3\n",
    "import urllib\n",
    "import csv\n",
    "import datetime"
   ]
  },
  {
   "cell_type": "code",
   "execution_count": null,
   "metadata": {},
   "outputs": [],
   "source": [
    "# Read in state summary report for District, filter for needed fields and assign headers\n",
    "insp = pd.read_csv(\"ftp://dbprftp.state.fl.us/pub/llweb/5fdinspi.csv\", \n",
    "                   usecols=[2, 4, 5, 6, 7, 8, 9, 12, 13, 14, 17, 18, 80, 81], encoding=\"ISO-8859-1\")\n",
    "insp.columns = [\"county\", \"licnum\", \"sitename\", \"streetaddy\", \"cityaddy\", \"zip\",\n",
    "                \"inspnum\", \"insptype\", \"inspdispos\", \"inspdate\", \"totalvio\", \"highvio\", \"licid\", \"visitid\"]\n",
    "# county_sought = 'Marion' # uncomment if particular county sought\n",
    "# insp = insp[(insp.county == county_sought)] # uncomment if particular county sought\n",
    "insp.sitename = insp.sitename.str.title() #titlecase sitename\n",
    "insp.streetaddy = insp.streetaddy.str.title() #titlecase street adress\n",
    "insp.cityaddy = insp.cityaddy.str.title() #titlecase city\n",
    "insp = insp.applymap(lambda x: str(x).strip() if len(str(x).strip()) else None) #strip whitespace, replace empty vals\n",
    "insp['visitid'] = insp['visitid'].apply(int) # so it can be filtered against df below\n",
    "\n",
    "result = []\n",
    "result_for_urls = result # for url list\n",
    "result_for_tuple = result.append(\"NULL\") # later into db, space for user-input datetime\n",
    "\n",
    "# takes LicenseID and VisitID, passes it into the urls for detailed reports later\n",
    "for index, rows in insp.iterrows():\n",
    "    visitid = rows['visitid']\n",
    "    licid = rows['licid']\n",
    "    urls = \"https://www.myfloridalicense.com/inspectionDetail.asp? \\\n",
    "        InspVisitID= %s &id= %s\" % (visitid, licid)\n",
    "    urls = urls.replace(' ', '')\n",
    "    result.append(urls)\n",
    "urlList = result\n",
    "urlList.pop(0) # get rid of first \"Null\" from append above\n",
    "print(urlList)"
   ]
  },
  {
   "cell_type": "code",
   "execution_count": 4,
   "metadata": {},
   "outputs": [],
   "source": [
    "urlList = ['https://www.myfloridalicense.com/inspectionDetail.asp?InspVisitID=6632858&id=6605529', 'https://www.myfloridalicense.com/inspectionDetail.asp?InspVisitID=6653464&id=4070634', 'https://www.myfloridalicense.com/inspectionDetail.asp?InspVisitID=6602877&id=4070634', 'https://www.myfloridalicense.com/inspectionDetail.asp?InspVisitID=6577708&id=2129302',]# a shorter try for a list\n",
    "url = 'https://www.myfloridalicense.com/inspectionDetail.asp?InspVisitID=6632858&id=6605529'\n",
    "\n",
    "html = urlopen(url)\n",
    "soup = bs(html.read(), 'lxml')\n",
    "inspurl = url\n",
    "visitid = inspurl[inspurl.rfind(\"VisitID=\") + 1:8]\n",
    "details = soup.find_all('font', {'face': 'verdana'})[10:] # relevant text on pages in verdana"
   ]
  },
  {
   "cell_type": "code",
   "execution_count": null,
   "metadata": {},
   "outputs": [],
   "source": [
    "site_name = details[0].text\n",
    "high = int(details[24].text)\n",
    "intermed = int(details[25].text)\n",
    "basic = int(details[26].text)\n",
    "total = high + intermed + basic\n",
    "print(total)"
   ]
  },
  {
   "cell_type": "code",
   "execution_count": 20,
   "metadata": {},
   "outputs": [
    {
     "ename": "SyntaxError",
     "evalue": "invalid syntax (<ipython-input-20-bbc021134bb7>, line 33)",
     "output_type": "error",
     "traceback": [
      "\u001b[0;36m  File \u001b[0;32m\"<ipython-input-20-bbc021134bb7>\"\u001b[0;36m, line \u001b[0;32m33\u001b[0m\n\u001b[0;31m    if observed1.append(details[32].text):\u001b[0m\n\u001b[0m                                         ^\u001b[0m\n\u001b[0;31mSyntaxError\u001b[0m\u001b[0;31m:\u001b[0m invalid syntax\n"
     ]
    }
   ],
   "source": [
    "site_name = []\n",
    "visitid = []\n",
    "high = []\n",
    "intermed = []\n",
    "basic = []\n",
    "total = []\n",
    "observed1 = []\n",
    "observed2 = []\n",
    "observed3 = []\n",
    "observed4 = []\n",
    "observed5 = []\n",
    "observed6 = []\n",
    "observed7 = []\n",
    "observed8 = []\n",
    "observed9 = []\n",
    "observed10 = []\n",
    "observed11 = []\n",
    "observed12 = []\n",
    "\n",
    "details_dict = {}\n",
    "inspurl = url\n",
    "visitid = inspurl[inspurl.rfind(\"VisitID=\") + 1:8]\n",
    "html = urlopen(url)\n",
    "soup = bs(html.read(), 'lxml')\n",
    "details = soup.find_all('font', {'face': 'verdana'})[10:] # relevant text on pages in verdana\n",
    "result = []\n",
    "\n",
    "site_name.append(details[0].text)\n",
    "high.append(int(details[24].text))\n",
    "intermed.append(int(details[25].text))\n",
    "basic.append(int(details[26].text))\n",
    "total.append(int(details[24].text) + (int(details[25].text) + (int(details[26].text))\n",
    "if observed1.append(details[32].text):                               \n",
    "    observed1.append(details[32].text)\n",
    "else:\n",
    "    print('No observations were recorded.')\n",
    "if details[34].text:\n",
    "    observed2.append(details[34].text)\n",
    "else:\n",
    "   break \n",
    "return result\n",
    "    \n",
    "for url in urlList:\n",
    "    make_details_dict(url)"
   ]
  },
  {
   "cell_type": "code",
   "execution_count": null,
   "metadata": {},
   "outputs": [],
   "source": []
  },
  {
   "cell_type": "code",
   "execution_count": null,
   "metadata": {},
   "outputs": [],
   "source": []
  },
  {
   "cell_type": "code",
   "execution_count": null,
   "metadata": {},
   "outputs": [],
   "source": []
  }
 ],
 "metadata": {
  "kernelspec": {
   "display_name": "Python 3",
   "language": "python",
   "name": "python3"
  },
  "language_info": {
   "codemirror_mode": {
    "name": "ipython",
    "version": 3
   },
   "file_extension": ".py",
   "mimetype": "text/x-python",
   "name": "python",
   "nbconvert_exporter": "python",
   "pygments_lexer": "ipython3",
   "version": "3.6.2"
  }
 },
 "nbformat": 4,
 "nbformat_minor": 2
}
