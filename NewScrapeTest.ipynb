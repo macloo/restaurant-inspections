{
 "cells": [
  {
   "cell_type": "code",
   "execution_count": null,
   "metadata": {},
   "outputs": [],
   "source": [
    "from pyquery import PyQuery as pq\n",
    "from pandas as pd\n",
    "import requests\n",
    "\n",
    "import re\n",
    "from time import sleep\n",
    "import csv\n",
    "\n",
    "import datetime\n",
    "import re\n",
    "import lxml\n",
    "from urllib.request import urlopen\n",
    "from urllib.error import HTTPError"
   ]
  },
  {
   "cell_type": "code",
   "execution_count": null,
   "metadata": {},
   "outputs": [],
   "source": [
    "try:\n",
    "    insp = pd.read_csv(\"ftp://dbprftp.state.fl.us/pub/llweb/5fdinspi.csv\", \n",
    "                               usecols=[2,14,18,80,81])\n",
    "except IOError:\n",
    "    print(\"The file is not accessible.\")\n",
    "insp.columns = [\"CountyName\", \"InspectDate\", \n",
    "                \"NumHighVio\", \"LicenseID\", \"VisitID\"]\n",
    "\n",
    "insp[(insp.CountyName == 'Alachua') & (insp.NumHighVio > 0)]\n",
    "\n",
    "# change date string to date object, sort most recent# chang \n",
    "insp['InspectDate'] = pd.to_datetime(insp['InspectDate'])\n",
    "insp = insp.sort_values('InspectDate', ascending=False)\n",
    "\n",
    "# prefer to let user set timedelta or just remove. \n",
    "today = pd.to_datetime('today')\n",
    "startDay = datetime.date.today() - datetime.timedelta(days=14)\n",
    "insp = insp[(insp['InspectDate'] > startDay) & (insp['InspectDate'] < today)]\n",
    "len(insp)\n",
    "\n",
    "# takes LicenseID and VisitID, passes it into the urls for detailed reports#\n",
    "result = []\n",
    "for index, rows in insp.iterrows():\n",
    "    visitID = rows['VisitID']\n",
    "    licID = rows['LicenseID']\n",
    "    urls = \"https://www.myfloridalicense.com/inspectionDetail.asp? \\\n",
    "        InspVisitID= %s &licid= %s\" % (visitID, licID)\n",
    "    urls = urls.replace(' ', '')\n",
    "    result.append(urls)\n",
    "\n",
    "urlList = result"
   ]
  },
  {
   "cell_type": "code",
   "execution_count": null,
   "metadata": {},
   "outputs": [],
   "source": [
    "for inspection in inspections:\n",
    "    basehtml = requests.get(urlList).content\n",
    "    "
   ]
  }
 ],
 "metadata": {
  "kernelspec": {
   "display_name": "Python 3",
   "language": "python",
   "name": "python3"
  },
  "language_info": {
   "codemirror_mode": {
    "name": "ipython",
    "version": 3
   },
   "file_extension": ".py",
   "mimetype": "text/x-python",
   "name": "python",
   "nbconvert_exporter": "python",
   "pygments_lexer": "ipython3",
   "version": "3.6.2"
  }
 },
 "nbformat": 4,
 "nbformat_minor": 2
}
