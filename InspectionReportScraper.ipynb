{
 "cells": [
  {
   "cell_type": "markdown",
   "metadata": {},
   "source": [
    "# Alachua County restaurant inspection analysis\n",
    "_This will take restaurant inspection data by the state of Florida and format it in a more reader-friendly way for publication in print and online. We'll filter for the most egregious current violations at restaurants in Alachua County._"
   ]
  },
  {
   "cell_type": "markdown",
   "metadata": {},
   "source": [
    "After importing Pandas,etc., this reads in the state summary report year-to-date for District 5, which includes Alachua County, and adds an exception in case the file is not found (output probably needs to be set as variable so it can be written into the output file). The raw file has no headers and 82 columns. So this removes all but five columns and adds headers for those. Finally, it displays the first five rows of values."
   ]
  },
  {
   "cell_type": "code",
   "execution_count": 1,
   "metadata": {},
   "outputs": [],
   "source": [
    "import pandas as pd\n",
    "import bs4\n",
    "import datetime\n",
    "import numpy as np\n",
    "import re\n",
    "import lxml\n",
    "from urllib.request import urlopen\n",
    "from urllib.error import HTTPError"
   ]
  },
  {
   "cell_type": "code",
   "execution_count": 2,
   "metadata": {},
   "outputs": [],
   "source": [
    "try:\n",
    "    insp = pd.read_csv(\"ftp://dbprftp.state.fl.us/pub/llweb/5fdinspi.csv\", \n",
    "                               usecols=[2,14,18,80,81])\n",
    "except IOError:\n",
    "    print(\"The file is not accessible.\")\n",
    "insp.columns = [\"CountyName\", \"InspectDate\", \n",
    "                \"NumHighVio\", \"LicenseID\", \"VisitID\"]"
   ]
  },
  {
   "cell_type": "code",
   "execution_count": 3,
   "metadata": {},
   "outputs": [],
   "source": [
    "# filter for alachua county restaurants\n",
    "alachua = insp[insp.CountyName == 'Alachua']"
   ]
  },
  {
   "cell_type": "code",
   "execution_count": 4,
   "metadata": {},
   "outputs": [],
   "source": [
    "# filter for restaurants that had at least one serious violation\n",
    "alachua = alachua[alachua.NumHighVio > 0]"
   ]
  },
  {
   "cell_type": "code",
   "execution_count": 5,
   "metadata": {},
   "outputs": [],
   "source": [
    "# change date string to date object\n",
    "alachua['InspectDate'] = pd.to_datetime(alachua['InspectDate'])\n",
    "# sort most recent\n",
    "alachua = alachua.sort_values('InspectDate', ascending=False)"
   ]
  },
  {
   "cell_type": "markdown",
   "metadata": {},
   "source": [
    "__Goal with this next is to select date range prior to 'today', but this is hard coded now.__"
   ]
  },
  {
   "cell_type": "code",
   "execution_count": 6,
   "metadata": {},
   "outputs": [],
   "source": [
    "today = pd.to_datetime('today')\n",
    "startDay = datetime.date.today() - datetime.timedelta(days=30)\n",
    "## want to get user input for timedelta \n",
    "alachua = alachua[(alachua['InspectDate'] > startDay) & (alachua['InspectDate'] < today)]"
   ]
  },
  {
   "cell_type": "code",
   "execution_count": 7,
   "metadata": {},
   "outputs": [
    {
     "name": "stdout",
     "output_type": "stream",
     "text": [
      "https://www.myfloridalicense.com/inspectionDetail.asp?InspVisitID=6533891&licid=7003533\n",
      "https://www.myfloridalicense.com/inspectionDetail.asp?InspVisitID=6362752&licid=6772721\n",
      "https://www.myfloridalicense.com/inspectionDetail.asp?InspVisitID=6538630&licid=7009925\n",
      "https://www.myfloridalicense.com/inspectionDetail.asp?InspVisitID=6517783&licid=6982298\n",
      "https://www.myfloridalicense.com/inspectionDetail.asp?InspVisitID=6539001&licid=6312191\n",
      "https://www.myfloridalicense.com/inspectionDetail.asp?InspVisitID=6444510&licid=6475603\n",
      "https://www.myfloridalicense.com/inspectionDetail.asp?InspVisitID=6292423&licid=6040839\n",
      "https://www.myfloridalicense.com/inspectionDetail.asp?InspVisitID=6463635&licid=6370423\n",
      "https://www.myfloridalicense.com/inspectionDetail.asp?InspVisitID=6451801&licid=5858850\n",
      "https://www.myfloridalicense.com/inspectionDetail.asp?InspVisitID=6535804&licid=3296677\n",
      "https://www.myfloridalicense.com/inspectionDetail.asp?InspVisitID=6535766&licid=5430232\n",
      "https://www.myfloridalicense.com/inspectionDetail.asp?InspVisitID=6535653&licid=2129170\n",
      "https://www.myfloridalicense.com/inspectionDetail.asp?InspVisitID=6247794&licid=2129170\n",
      "https://www.myfloridalicense.com/inspectionDetail.asp?InspVisitID=6451852&licid=6665274\n",
      "https://www.myfloridalicense.com/inspectionDetail.asp?InspVisitID=6433038&licid=6621480\n",
      "https://www.myfloridalicense.com/inspectionDetail.asp?InspVisitID=6456866&licid=5269891\n",
      "https://www.myfloridalicense.com/inspectionDetail.asp?InspVisitID=6528463&licid=6534697\n",
      "https://www.myfloridalicense.com/inspectionDetail.asp?InspVisitID=6442196&licid=5576855\n",
      "https://www.myfloridalicense.com/inspectionDetail.asp?InspVisitID=6527476&licid=2129685\n",
      "https://www.myfloridalicense.com/inspectionDetail.asp?InspVisitID=6419688&licid=5761286\n",
      "https://www.myfloridalicense.com/inspectionDetail.asp?InspVisitID=6292045&licid=5524643\n",
      "https://www.myfloridalicense.com/inspectionDetail.asp?InspVisitID=6416865&licid=6126978\n",
      "https://www.myfloridalicense.com/inspectionDetail.asp?InspVisitID=6528955&licid=6126771\n",
      "https://www.myfloridalicense.com/inspectionDetail.asp?InspVisitID=6532203&licid=6207335\n",
      "https://www.myfloridalicense.com/inspectionDetail.asp?InspVisitID=6427655&licid=6621541\n",
      "https://www.myfloridalicense.com/inspectionDetail.asp?InspVisitID=6427442&licid=3967136\n",
      "https://www.myfloridalicense.com/inspectionDetail.asp?InspVisitID=6420899&licid=6207335\n",
      "https://www.myfloridalicense.com/inspectionDetail.asp?InspVisitID=6420707&licid=2129129\n",
      "https://www.myfloridalicense.com/inspectionDetail.asp?InspVisitID=6448691&licid=6537359\n",
      "https://www.myfloridalicense.com/inspectionDetail.asp?InspVisitID=6529767&licid=5485529\n",
      "https://www.myfloridalicense.com/inspectionDetail.asp?InspVisitID=6429398&licid=3840892\n",
      "https://www.myfloridalicense.com/inspectionDetail.asp?InspVisitID=6528913&licid=5485569\n",
      "https://www.myfloridalicense.com/inspectionDetail.asp?InspVisitID=6528946&licid=5633502\n",
      "https://www.myfloridalicense.com/inspectionDetail.asp?InspVisitID=6334264&licid=5538656\n",
      "https://www.myfloridalicense.com/inspectionDetail.asp?InspVisitID=6382037&licid=6534697\n",
      "https://www.myfloridalicense.com/inspectionDetail.asp?InspVisitID=6511894&licid=6534697\n",
      "https://www.myfloridalicense.com/inspectionDetail.asp?InspVisitID=6380690&licid=2636769\n",
      "https://www.myfloridalicense.com/inspectionDetail.asp?InspVisitID=6486244&licid=2129685\n",
      "https://www.myfloridalicense.com/inspectionDetail.asp?InspVisitID=6431167&licid=5569752\n",
      "https://www.myfloridalicense.com/inspectionDetail.asp?InspVisitID=6524479&licid=2129908\n",
      "https://www.myfloridalicense.com/inspectionDetail.asp?InspVisitID=6519373&licid=6910020\n",
      "https://www.myfloridalicense.com/inspectionDetail.asp?InspVisitID=6442289&licid=6106750\n"
     ]
    }
   ],
   "source": [
    "# takes LicenseID and VisitID, passes it into the urls for detailed reports\n",
    "for index, rows in alachua.iterrows():\n",
    "    visitID = rows['VisitID']\n",
    "    licID = rows['LicenseID']\n",
    "    urls = \"https://www.myfloridalicense.com/inspectionDetail.asp?InspVisitID= %s &licid= %s\" % (visitID, licID)\n",
    "    urls = urls.replace(' ', '')\n",
    "    \n",
    "    print(urls)"
   ]
  },
  {
   "cell_type": "markdown",
   "metadata": {},
   "source": [
    "__Now it's time to use those urls to access the detailed reports with inspector comments, and scrape those. This will need to be a \"for loop\" that cycles through all urls and then puts the output variables somehow, like a database?__"
   ]
  },
  {
   "cell_type": "code",
   "execution_count": 12,
   "metadata": {},
   "outputs": [
    {
     "data": {
      "text/plain": [
       "'{\\'Restaurant\\': \\'BEQUE HOLIC\\', \\'License\\': \\'SEA1102836\\', \\'Rank\\': \\'Seating\\', \\'Expires\\': \\'06/01/2019\\', \\'Primary\\': \\'Current\\', \\'Secondary\\': \\'Active\\', \\'Address\\': \\'3812 W NEWBERRY RDGAINESVILLE, FL 32607\\', \\'Result\\': \\'04/16/2018\\', \\'Observed1\\': <bound method Tag.get_text of <font face=\"verdana\" size=\"-1\">\\r\\n\\t\\t\\t\\t\\t\\t\\t\\t\\t\\t\\t\\t\\t\\t\\t\\t\\t\\t\\t\\t\\t\\t\\t\\r\\n\\t\\t\\t\\t\\t\\t\\tBasic - Carbon dioxide/helium tanks not adequately secured.\\n Observed bulk tank outside not secured. A braided multi stranded Observed lack of back flow device on the non chemical side of the splitter in the mop sink. Was added. **Corrected On-Site**</font>>, \\'Observed2\\': \\'\\\\r\\\\n\\\\t\\\\t\\\\t\\\\t\\\\t\\\\t\\\\t\\\\t\\\\t\\\\t\\\\t\\\\t\\\\t\\\\t\\\\t\\\\t\\\\t\\\\t\\\\t\\\\t\\\\t\\\\t\\\\t\\\\r\\\\n\\\\t\\\\t\\\\t\\\\t\\\\t\\\\t\\\\tBasic - Case/container/bag of food stored on floor in walk-in cooler/freezer.\\\\n Observed multiple items of food stored on the freezer floor. All items were shelved. **Corrected On-Site** **Repeat Violation**\\', \\'Observed3\\': \\'\\\\r\\\\n\\\\t\\\\t\\\\t\\\\t\\\\t\\\\t\\\\t\\\\t\\\\t\\\\t\\\\t\\\\t\\\\t\\\\t\\\\t\\\\t\\\\t\\\\t\\\\t\\\\t\\\\t\\\\t\\\\t\\\\r\\\\n\\\\t\\\\t\\\\t\\\\t\\\\t\\\\t\\\\tBasic - Clean utensils or equipment stored in dirty drawer or rack.\\\\n Observed small square plates stored in soiled bus pans in the dish wash machine area.\\', \\'Observed4\\': \\'\\\\r\\\\n\\\\t\\\\t\\\\t\\\\t\\\\t\\\\t\\\\t\\\\t\\\\t\\\\t\\\\t\\\\t\\\\t\\\\t\\\\t\\\\t\\\\t\\\\t\\\\t\\\\t\\\\t\\\\t\\\\t\\\\r\\\\n\\\\t\\\\t\\\\t\\\\t\\\\t\\\\t\\\\tHigh Priority - Pesticide-emitting strip present in food prep area.\\\\n Observed pesticide emitting strip located over the clean dish end of the dish wash machine are. It was taken down. **Corrected On-Site* **Repeat Violation*\\\\n ALSO, febreeze spray stored over clean glasses. The Febreeze was relocated to cleaning. **Corrected On-Site**\\', \\'Observed5\\': \\'\\\\r\\\\n\\\\t\\\\t\\\\t\\\\t\\\\t\\\\t\\\\t\\\\t\\\\t\\\\t\\\\t\\\\t\\\\t\\\\t\\\\t\\\\t\\\\t\\\\t\\\\t\\\\t\\\\t\\\\t\\\\t\\\\r\\\\n\\\\t\\\\t\\\\t\\\\t\\\\t\\\\t\\\\tHigh Priority - Raw animal food stored over ready-to-eat food.\\\\n Observed in the ice cream case, raw beef stored over unsealed ice cream. Items were adjusted.\\\\n ALSO, in the walk-in cooler, raw beef over bar b que sauce. The items were adjusted. **Corrected On-Site** **Repeat Violation**\\', \\'Observed6\\': \\'\\\\r\\\\n\\\\t\\\\t\\\\t\\\\t\\\\t\\\\t\\\\t\\\\t\\\\t\\\\t\\\\t\\\\t\\\\t\\\\t\\\\t\\\\t\\\\t\\\\t\\\\t\\\\t\\\\t\\\\t\\\\t\\\\r\\\\n\\\\t\\\\t\\\\t\\\\t\\\\t\\\\t\\\\tHigh Priority - Vacuum breaker missing at hose bibb or on fitting/splitter added to hose bibb.\\\\n Observed a hose faucet on the cook line, no vacuum breaker.\\', \\'Observed7\\': \\'\\\\r\\\\n\\\\t\\\\t\\\\t\\\\t\\\\t\\\\t\\\\t\\\\t\\\\t\\\\t\\\\t\\\\t\\\\t\\\\t\\\\t\\\\t\\\\t\\\\t\\\\t\\\\t\\\\t\\\\t\\\\t\\\\r\\\\n\\\\t\\\\t\\\\t\\\\t\\\\t\\\\t\\\\tIntermediate - Reach-in cooler not maintained in good repair.  Do not store potentially hazardous (time/temperature control for safety) food in this unit until the unit is repaired.\\\\n Observed 1 table height reach-in cooler not plugged in, in the kitchen. It is scheduled for discard. **Corrective Action Taken**\\', \\'Observed8\\': \\'\\\\r\\\\n\\\\t\\\\t\\\\t\\\\t\\\\t\\\\t\\\\t\\\\t\\\\t\\\\t\\\\t\\\\t\\\\t\\\\t\\\\t\\\\t\\\\t\\\\t\\\\t\\\\t\\\\t\\\\t\\\\t\\\\r\\\\n\\\\t\\\\t\\\\t\\\\t\\\\t\\\\t\\\\tIntermediate - Ready-to-eat, potentially hazardous (time/temperature control for safety) food opened/prepared, frozen and then thawed and held at refrigeration temperature not properly date marked.\\\\n Observed pork, prepped, frozen and now in the walk-in cooler, not properly date marked/tracked. A date was added. **Corrected On-Site**\\', \\'Observed9\\': \\'\\\\r\\\\n\\\\t\\\\t\\\\t\\\\t\\\\t\\\\t\\\\t\\\\t\\\\t\\\\t\\\\t\\\\t\\\\t\\\\t\\\\t\\\\t\\\\t\\\\t\\\\t\\\\t\\\\t\\\\t\\\\t\\\\r\\\\n\\\\t\\\\t\\\\t\\\\t\\\\t\\\\t\\\\tIntermediate - Slicer blade soiled with old food debris.\\\\n Observed the electric meat slicer with dried food residue on the body and blade. It was cleaned during the inspection. **Corrected On-Site**\\', \\'Observed10\\': \\'\\\\r\\\\n\\\\t\\\\t\\\\t\\\\t\\\\t\\\\t\\\\t\\\\t\\\\t\\\\t\\\\t\\\\t\\\\t\\\\t\\\\t\\\\t\\\\t\\\\t\\\\t\\\\t\\\\t\\\\t\\\\t\\\\r\\\\n\\\\t\\\\t\\\\t\\\\t\\\\t\\\\t\\\\tPropane tank (larger than 2.7 lb. water capacity/1 lb. gas capacity) located inside of the building.  For reporting purposes only.\\\\n Observed 2 tanks larger than 2.7 lb. water capacity stored inside. They were moved outside.\\\\n ALSO, a plastic gas can was stored in a bus pan, inside the back door. It was moved outside. **Corrected On-Site**\\'}'"
      ]
     },
     "execution_count": 12,
     "metadata": {},
     "output_type": "execute_result"
    }
   ],
   "source": [
    "# def get_inspect_detail(urls):   \n",
    "\n",
    "html = urlopen(urls)\n",
    "soup = bs4.BeautifulSoup(html.read(), 'lxml')\n",
    "details = soup.find_all('font', {'face':'verdana'})[10:]\n",
    "    \n",
    "for detail in details:\n",
    "    siteName = details[0].text\n",
    "    licNum = details[2].text\n",
    "    siteRank = details[4].text\n",
    "    expDate = details[6].text\n",
    "    primeStatus = details[8].text\n",
    "    secStatus = details[10].text\n",
    "    siteAddress = details[12].text\n",
    "    inspectResult = details[20].text\n",
    "    observed1 = details[34].get_text\n",
    "    observed2 = details[36].text\n",
    "    observed3 = details[38].text\n",
    "    observed4 = details[40].text\n",
    "    observed5 = details[42].text\n",
    "    observed6 = details[44].text\n",
    "    observed7 = details[46].text\n",
    "    observed8 = details[48].text\n",
    "    observed9 = details[50].text\n",
    "    observed10 = details[52].text\n",
    "  \n",
    "\n",
    "    detailsLib = {\n",
    "        'Restaurant': siteName,\n",
    "        'License': licNum,\n",
    "        'Rank': siteRank,\n",
    "        'Expires': expDate,\n",
    "        'Primary': primeStatus,\n",
    "        'Secondary': secStatus,\n",
    "        'Address': siteAddress,\n",
    "        'Result': inspectResult,\n",
    "        'Observed1': observed1,\n",
    "        'Observed2': observed2,\n",
    "        'Observed3': observed3,\n",
    "        'Observed4': observed4,\n",
    "        'Observed5': observed5,\n",
    "        'Observed6': observed6,\n",
    "        'Observed7': observed7,\n",
    "        'Observed8': observed8,\n",
    "        'Observed9': observed9,\n",
    "        'Observed10': observed10,    \n",
    "        }\n",
    "\n",
    "repr(detailsLib)"
   ]
  },
  {
   "cell_type": "code",
   "execution_count": 25,
   "metadata": {},
   "outputs": [
    {
     "name": "stdout",
     "output_type": "stream",
     "text": [
      "BEQUE HOLIC\n",
      "3812 W NEWBERRY RDGAINESVILLE, FL 32607\n"
     ]
    }
   ],
   "source": [
    "print(detailsLib['Restaurant'])\n",
    "street = address.split(' ')\n",
    "print(detailsLib['Address'])\n"
   ]
  },
  {
   "cell_type": "code",
   "execution_count": 9,
   "metadata": {},
   "outputs": [
    {
     "name": "stdout",
     "output_type": "stream",
     "text": [
      "[<font face=\"verdana\" size=\"2\"><b>    <img align=\"absmiddle\" alt=\"\" border=\"0\" class=\"leftNav\" src=\"/images/off.gif\"/> Log On</b></font>, <font face=\"verdana\" size=\"2\"><b>Home</b></font>, <font face=\"verdana\">Search for a Licensee</font>, <font face=\"verdana\">Apply for a License</font>, <font face=\"verdana\">View Application Status</font>, <font face=\"verdana\">Find Exam Information</font>, <font face=\"verdana\">File a Complaint</font>, <font face=\"verdana\">AB&amp;T Delinquent<br/>    Invoice &amp; Activity<br/>    List Search</font>, <font face=\"verdana\" size=\"-1\"><strong>Each inspection report is a \"snapshot\" of conditions present at the time of the inspection.  By using this search, you are agreeing to our <a href=\"insptermsofuse.asp\">Terms of Use</a>.</strong><p></p>\n",
      "</font>, <font face=\"verdana\" size=\"2\">Name:</font>, <font face=\"verdana\" size=\"2\"><strong>BEQUE HOLIC</strong></font>, <font face=\"verdana\" size=\"2\">License Number:</font>, <font face=\"verdana\" size=\"2\"><strong>SEA1102836</strong></font>, <font face=\"verdana\" size=\"2\">Rank:</font>, <font face=\"verdana\" size=\"2\"><strong>Seating</strong></font>, <font face=\"verdana\" size=\"2\">License Expiration Date:</font>, <font face=\"verdana\" size=\"2\"><strong>06/01/2019</strong></font>, <font face=\"verdana\" size=\"2\">Primary Status:</font>, <font face=\"verdana\" size=\"2\"><strong>Current</strong></font>, <font face=\"verdana\" size=\"2\">Secondary Status:</font>, <font face=\"verdana\" size=\"2\"><strong>Active</strong></font>, <font face=\"verdana\" size=\"2\">Location Address:</font>, <font face=\"verdana\" size=\"2\"><strong>3812 W NEWBERRY RD<br/>GAINESVILLE, FL 32607</strong></font>, <font face=\"verdana\" size=\"2\"><strong>Inspection Type</strong></font>, <font face=\"verdana\" size=\"2\"><strong>Inspection Date</strong></font>, <font face=\"verdana\" size=\"2\"><strong>Result</strong></font>, <font face=\"verdana\" size=\"2\"><strong>High Priority Violations</strong></font>, <font face=\"verdana\" size=\"2\"><strong>Intermediate Violations</strong></font>, <font face=\"verdana\" size=\"2\"><strong>Basic Violations</strong></font>, <font face=\"verdana\" size=\"-1\">Routine - Food </font>, <font face=\"verdana\" size=\"-1\">04/16/2018</font>, <font face=\"verdana\" size=\"-1\"><option> </option><font face=\"verdana\" size=\"2\">Met Inspection Standards</font><br/><font face=\"verdana\" size=\"2\">During This Visit</font><br/><b><a href=\"http://www.myfloridalicense.com/DBPR/hotels-restaurants/inspections/\" target=\"_blank\">More information about inspections.</a></b></font>, <font face=\"verdana\" size=\"2\">Met Inspection Standards</font>, <font face=\"verdana\" size=\"2\">During This Visit</font>, <font face=\"verdana\" size=\"-1\">3</font>, <font face=\"verdana\" size=\"-1\">3</font>, <font face=\"verdana\" size=\"-1\">4</font>, <font face=\"verdana\" size=\"-1\"><strong>Violations:</strong></font>, <font face=\"verdana\" size=\"-1\">\r\n",
      "\t\t\t\t\t\t\t\tA summary of the violations found during the inspection are listed below. \r\n",
      "\t\t\t\t\t\t\t\tThe department cites violations of Florida's sanitation and safety laws, \r\n",
      "\t\t\t\t\t\t\t\twhich are based on the standards of U.S. Food and Drug Administration's Food Code. \r\n",
      "\t\t\t\t\t\t\t\tHigh Priority violations are those which could contribute directly to a foodborne \r\n",
      "\t\t\t\t\t\t\t\tillness or injury and include items such as cooking, reheating, cooling and hand-washing. \r\n",
      "\t\t\t\t\t\t\t\tIntermediate violations are those which, if not addressed, could lead to risk factors \r\n",
      "\t\t\t\t\t\t\t\tthat contribute to foodborne illness or injury. These violations include personnel training, \r\n",
      "\t\t\t\t\t\t\t\tdocumentation or record keeping and labeling. Basic violations are those which are considered \r\n",
      "\t\t\t\t\t\t\t\tbest practices to implement. While most establishments correct all violations in a timely \r\n",
      "\t\t\t\t\t\t\t\tmanner (often during the inspection), the division's procedures are designed to compel \r\n",
      "\t\t\t\t\t\t\t\tcompliance with all violations through follow-up visits, administration action or closure \r\n",
      "\t\t\t\t\t\t\t\twhen necessary. \r\n",
      "\t\t\t\t\t\t\t\t</font>, <font face=\"verdana\" size=\"-1\"><u><b>Violation</b></u></font>, <font face=\"verdana\" size=\"-1\"><u><b>Observation</b></u></font>, <font color=\"red\" face=\"verdana\" size=\"-1\">\n",
      "<a href=\"#\" onclick=\"showList('17570119')\"><u>23-03-4</u></a></font>, <font face=\"verdana\" size=\"-1\">\r\n",
      "\t\t\t\t\t\t\t\t\t\t\t\t\t\t\t\t\t\t\t\t\t\t\t\r\n",
      "\t\t\t\t\t\t\tBasic - Build-up of grease on nonfood-contact surface.\n",
      " Observed grease build up under the cooking equipment.</font>, <font color=\"red\" face=\"verdana\" size=\"-1\">\n",
      "<a href=\"#\" onclick=\"showList('17570125')\"><u>51-11-4</u></a></font>, <font face=\"verdana\" size=\"-1\">\r\n",
      "\t\t\t\t\t\t\t\t\t\t\t\t\t\t\t\t\t\t\t\t\t\t\t\r\n",
      "\t\t\t\t\t\t\tBasic - Carbon dioxide/helium tanks not adequately secured.\n",
      " Observed bulk tank outside not secured. A braided multi stranded Observed lack of back flow device on the non chemical side of the splitter in the mop sink. Was added. **Corrected On-Site**</font>, <font color=\"red\" face=\"verdana\" size=\"-1\">\n",
      "<a href=\"#\" onclick=\"showList('17570118')\"><u>08B-45-4</u></a></font>, <font face=\"verdana\" size=\"-1\">\r\n",
      "\t\t\t\t\t\t\t\t\t\t\t\t\t\t\t\t\t\t\t\t\t\t\t\r\n",
      "\t\t\t\t\t\t\tBasic - Case/container/bag of food stored on floor in walk-in cooler/freezer.\n",
      " Observed multiple items of food stored on the freezer floor. All items were shelved. **Corrected On-Site** **Repeat Violation**</font>, <font color=\"red\" face=\"verdana\" size=\"-1\">\n",
      "<a href=\"#\" onclick=\"showList('17570120')\"><u>24-06-4</u></a></font>, <font face=\"verdana\" size=\"-1\">\r\n",
      "\t\t\t\t\t\t\t\t\t\t\t\t\t\t\t\t\t\t\t\t\t\t\t\r\n",
      "\t\t\t\t\t\t\tBasic - Clean utensils or equipment stored in dirty drawer or rack.\n",
      " Observed small square plates stored in soiled bus pans in the dish wash machine area.</font>, <font color=\"red\" face=\"verdana\" size=\"-1\">\n",
      "<a href=\"#\" onclick=\"showList('17570128')\"><u>41-24-4</u></a></font>, <font face=\"verdana\" size=\"-1\">\r\n",
      "\t\t\t\t\t\t\t\t\t\t\t\t\t\t\t\t\t\t\t\t\t\t\t\r\n",
      "\t\t\t\t\t\t\tHigh Priority - Pesticide-emitting strip present in food prep area.\n",
      " Observed pesticide emitting strip located over the clean dish end of the dish wash machine are. It was taken down. **Corrected On-Site* **Repeat Violation*\n",
      " ALSO, febreeze spray stored over clean glasses. The Febreeze was relocated to cleaning. **Corrected On-Site**</font>, <font color=\"red\" face=\"verdana\" size=\"-1\">\n",
      "<a href=\"#\" onclick=\"showList('17570126')\"><u>08A-05-4</u></a></font>, <font face=\"verdana\" size=\"-1\">\r\n",
      "\t\t\t\t\t\t\t\t\t\t\t\t\t\t\t\t\t\t\t\t\t\t\t\r\n",
      "\t\t\t\t\t\t\tHigh Priority - Raw animal food stored over ready-to-eat food.\n",
      " Observed in the ice cream case, raw beef stored over unsealed ice cream. Items were adjusted.\n",
      " ALSO, in the walk-in cooler, raw beef over bar b que sauce. The items were adjusted. **Corrected On-Site** **Repeat Violation**</font>, <font color=\"red\" face=\"verdana\" size=\"-1\">\n",
      "<a href=\"#\" onclick=\"showList('17570127')\"><u>29-34-4</u></a></font>, <font face=\"verdana\" size=\"-1\">\r\n",
      "\t\t\t\t\t\t\t\t\t\t\t\t\t\t\t\t\t\t\t\t\t\t\t\r\n",
      "\t\t\t\t\t\t\tHigh Priority - Vacuum breaker missing at hose bibb or on fitting/splitter added to hose bibb.\n",
      " Observed a hose faucet on the cook line, no vacuum breaker.</font>, <font color=\"red\" face=\"verdana\" size=\"-1\">\n",
      "<a href=\"#\" onclick=\"showList('17570124')\"><u>14-77-6</u></a></font>, <font face=\"verdana\" size=\"-1\">\r\n",
      "\t\t\t\t\t\t\t\t\t\t\t\t\t\t\t\t\t\t\t\t\t\t\t\r\n",
      "\t\t\t\t\t\t\tIntermediate - Reach-in cooler not maintained in good repair.  Do not store potentially hazardous (time/temperature control for safety) food in this unit until the unit is repaired.\n",
      " Observed 1 table height reach-in cooler not plugged in, in the kitchen. It is scheduled for discard. **Corrective Action Taken**</font>, <font color=\"red\" face=\"verdana\" size=\"-1\">\n",
      "<a href=\"#\" onclick=\"showList('17570122')\"><u>02C-08-4</u></a></font>, <font face=\"verdana\" size=\"-1\">\r\n",
      "\t\t\t\t\t\t\t\t\t\t\t\t\t\t\t\t\t\t\t\t\t\t\t\r\n",
      "\t\t\t\t\t\t\tIntermediate - Ready-to-eat, potentially hazardous (time/temperature control for safety) food opened/prepared, frozen and then thawed and held at refrigeration temperature not properly date marked.\n",
      " Observed pork, prepped, frozen and now in the walk-in cooler, not properly date marked/tracked. A date was added. **Corrected On-Site**</font>, <font color=\"red\" face=\"verdana\" size=\"-1\">\n",
      "<a href=\"#\" onclick=\"showList('17570123')\"><u>22-06-4</u></a></font>, <font face=\"verdana\" size=\"-1\">\r\n",
      "\t\t\t\t\t\t\t\t\t\t\t\t\t\t\t\t\t\t\t\t\t\t\t\r\n",
      "\t\t\t\t\t\t\tIntermediate - Slicer blade soiled with old food debris.\n",
      " Observed the electric meat slicer with dried food residue on the body and blade. It was cleaned during the inspection. **Corrected On-Site**</font>, <font color=\"red\" face=\"verdana\" size=\"-1\">\n",
      "<a href=\"#\" onclick=\"showList('17570121')\"><u>48-04-4</u></a></font>, <font face=\"verdana\" size=\"-1\">\r\n",
      "\t\t\t\t\t\t\t\t\t\t\t\t\t\t\t\t\t\t\t\t\t\t\t\r\n",
      "\t\t\t\t\t\t\tPropane tank (larger than 2.7 lb. water capacity/1 lb. gas capacity) located inside of the building.  For reporting purposes only.\n",
      " Observed 2 tanks larger than 2.7 lb. water capacity stored inside. They were moved outside.\n",
      " ALSO, a plastic gas can was stored in a bus pan, inside the back door. It was moved outside. **Corrected On-Site**</font>]\n"
     ]
    }
   ],
   "source": [
    "from urllib.request import urlopen\n",
    "\n",
    "\n",
    "html = urlopen(urls)\n",
    "soup = bs4.BeautifulSoup(html.read(), 'lxml')\n",
    "details = soup.findAll('font', {'face':'verdana'})[0:]\n",
    "print(details)\n",
    "\n",
    "#more of a regex job but less dependent on sit layout"
   ]
  },
  {
   "cell_type": "code",
   "execution_count": 10,
   "metadata": {},
   "outputs": [
    {
     "name": "stdout",
     "output_type": "stream",
     "text": [
      "[<font face=\"verdana\" size=\"2\"><b>    <img align=\"absmiddle\" alt=\"\" border=\"0\" class=\"leftNav\" src=\"/images/off.gif\"/> Log On</b></font>, <font face=\"verdana\" size=\"2\"><b>Home</b></font>, <font face=\"verdana\">Search for a Licensee</font>, <font face=\"verdana\">Apply for a License</font>, <font face=\"verdana\">View Application Status</font>, <font face=\"verdana\">Find Exam Information</font>, <font face=\"verdana\">File a Complaint</font>, <font face=\"verdana\">AB&amp;T Delinquent<br/>    Invoice &amp; Activity<br/>    List Search</font>, <font face=\"verdana\" size=\"-1\"><strong>Each inspection report is a \"snapshot\" of conditions present at the time of the inspection.  By using this search, you are agreeing to our <a href=\"insptermsofuse.asp\">Terms of Use</a>.</strong><p></p>\n",
      "</font>, <font face=\"verdana\" size=\"2\">Name:</font>, <font face=\"verdana\" size=\"2\"><strong>BEQUE HOLIC</strong></font>, <font face=\"verdana\" size=\"2\">License Number:</font>, <font face=\"verdana\" size=\"2\"><strong>SEA1102836</strong></font>, <font face=\"verdana\" size=\"2\">Rank:</font>, <font face=\"verdana\" size=\"2\"><strong>Seating</strong></font>, <font face=\"verdana\" size=\"2\">License Expiration Date:</font>, <font face=\"verdana\" size=\"2\"><strong>06/01/2019</strong></font>, <font face=\"verdana\" size=\"2\">Primary Status:</font>, <font face=\"verdana\" size=\"2\"><strong>Current</strong></font>, <font face=\"verdana\" size=\"2\">Secondary Status:</font>, <font face=\"verdana\" size=\"2\"><strong>Active</strong></font>, <font face=\"verdana\" size=\"2\">Location Address:</font>, <font face=\"verdana\" size=\"2\"><strong>3812 W NEWBERRY RD<br/>GAINESVILLE, FL 32607</strong></font>, <font face=\"verdana\" size=\"2\"><strong>Inspection Type</strong></font>, <font face=\"verdana\" size=\"2\"><strong>Inspection Date</strong></font>, <font face=\"verdana\" size=\"2\"><strong>Result</strong></font>, <font face=\"verdana\" size=\"2\"><strong>High Priority Violations</strong></font>, <font face=\"verdana\" size=\"2\"><strong>Intermediate Violations</strong></font>, <font face=\"verdana\" size=\"2\"><strong>Basic Violations</strong></font>, <font face=\"verdana\" size=\"-1\">Routine - Food </font>, <font face=\"verdana\" size=\"-1\">04/16/2018</font>, <font face=\"verdana\" size=\"-1\"><option> </option><font face=\"verdana\" size=\"2\">Met Inspection Standards</font><br/><font face=\"verdana\" size=\"2\">During This Visit</font><br/><b><a href=\"http://www.myfloridalicense.com/DBPR/hotels-restaurants/inspections/\" target=\"_blank\">More information about inspections.</a></b></font>, <font face=\"verdana\" size=\"2\">Met Inspection Standards</font>, <font face=\"verdana\" size=\"2\">During This Visit</font>, <font face=\"verdana\" size=\"-1\">3</font>, <font face=\"verdana\" size=\"-1\">3</font>, <font face=\"verdana\" size=\"-1\">4</font>, <font face=\"verdana\" size=\"-1\"><strong>Violations:</strong></font>, <font face=\"verdana\" size=\"-1\">\r\n",
      "\t\t\t\t\t\t\t\tA summary of the violations found during the inspection are listed below. \r\n",
      "\t\t\t\t\t\t\t\tThe department cites violations of Florida's sanitation and safety laws, \r\n",
      "\t\t\t\t\t\t\t\twhich are based on the standards of U.S. Food and Drug Administration's Food Code. \r\n",
      "\t\t\t\t\t\t\t\tHigh Priority violations are those which could contribute directly to a foodborne \r\n",
      "\t\t\t\t\t\t\t\tillness or injury and include items such as cooking, reheating, cooling and hand-washing. \r\n",
      "\t\t\t\t\t\t\t\tIntermediate violations are those which, if not addressed, could lead to risk factors \r\n",
      "\t\t\t\t\t\t\t\tthat contribute to foodborne illness or injury. These violations include personnel training, \r\n",
      "\t\t\t\t\t\t\t\tdocumentation or record keeping and labeling. Basic violations are those which are considered \r\n",
      "\t\t\t\t\t\t\t\tbest practices to implement. While most establishments correct all violations in a timely \r\n",
      "\t\t\t\t\t\t\t\tmanner (often during the inspection), the division's procedures are designed to compel \r\n",
      "\t\t\t\t\t\t\t\tcompliance with all violations through follow-up visits, administration action or closure \r\n",
      "\t\t\t\t\t\t\t\twhen necessary. \r\n",
      "\t\t\t\t\t\t\t\t</font>, <font face=\"verdana\" size=\"-1\"><u><b>Violation</b></u></font>, <font face=\"verdana\" size=\"-1\"><u><b>Observation</b></u></font>, <font color=\"red\" face=\"verdana\" size=\"-1\">\n",
      "<a href=\"#\" onclick=\"showList('17570119')\"><u>23-03-4</u></a></font>, <font face=\"verdana\" size=\"-1\">\r\n",
      "\t\t\t\t\t\t\t\t\t\t\t\t\t\t\t\t\t\t\t\t\t\t\t\r\n",
      "\t\t\t\t\t\t\tBasic - Build-up of grease on nonfood-contact surface.\n",
      " Observed grease build up under the cooking equipment.</font>, <font color=\"red\" face=\"verdana\" size=\"-1\">\n",
      "<a href=\"#\" onclick=\"showList('17570125')\"><u>51-11-4</u></a></font>, <font face=\"verdana\" size=\"-1\">\r\n",
      "\t\t\t\t\t\t\t\t\t\t\t\t\t\t\t\t\t\t\t\t\t\t\t\r\n",
      "\t\t\t\t\t\t\tBasic - Carbon dioxide/helium tanks not adequately secured.\n",
      " Observed bulk tank outside not secured. A braided multi stranded Observed lack of back flow device on the non chemical side of the splitter in the mop sink. Was added. **Corrected On-Site**</font>, <font color=\"red\" face=\"verdana\" size=\"-1\">\n",
      "<a href=\"#\" onclick=\"showList('17570118')\"><u>08B-45-4</u></a></font>, <font face=\"verdana\" size=\"-1\">\r\n",
      "\t\t\t\t\t\t\t\t\t\t\t\t\t\t\t\t\t\t\t\t\t\t\t\r\n",
      "\t\t\t\t\t\t\tBasic - Case/container/bag of food stored on floor in walk-in cooler/freezer.\n",
      " Observed multiple items of food stored on the freezer floor. All items were shelved. **Corrected On-Site** **Repeat Violation**</font>, <font color=\"red\" face=\"verdana\" size=\"-1\">\n",
      "<a href=\"#\" onclick=\"showList('17570120')\"><u>24-06-4</u></a></font>, <font face=\"verdana\" size=\"-1\">\r\n",
      "\t\t\t\t\t\t\t\t\t\t\t\t\t\t\t\t\t\t\t\t\t\t\t\r\n",
      "\t\t\t\t\t\t\tBasic - Clean utensils or equipment stored in dirty drawer or rack.\n",
      " Observed small square plates stored in soiled bus pans in the dish wash machine area.</font>, <font color=\"red\" face=\"verdana\" size=\"-1\">\n",
      "<a href=\"#\" onclick=\"showList('17570128')\"><u>41-24-4</u></a></font>, <font face=\"verdana\" size=\"-1\">\r\n",
      "\t\t\t\t\t\t\t\t\t\t\t\t\t\t\t\t\t\t\t\t\t\t\t\r\n",
      "\t\t\t\t\t\t\tHigh Priority - Pesticide-emitting strip present in food prep area.\n",
      " Observed pesticide emitting strip located over the clean dish end of the dish wash machine are. It was taken down. **Corrected On-Site* **Repeat Violation*\n",
      " ALSO, febreeze spray stored over clean glasses. The Febreeze was relocated to cleaning. **Corrected On-Site**</font>, <font color=\"red\" face=\"verdana\" size=\"-1\">\n",
      "<a href=\"#\" onclick=\"showList('17570126')\"><u>08A-05-4</u></a></font>, <font face=\"verdana\" size=\"-1\">\r\n",
      "\t\t\t\t\t\t\t\t\t\t\t\t\t\t\t\t\t\t\t\t\t\t\t\r\n",
      "\t\t\t\t\t\t\tHigh Priority - Raw animal food stored over ready-to-eat food.\n",
      " Observed in the ice cream case, raw beef stored over unsealed ice cream. Items were adjusted.\n",
      " ALSO, in the walk-in cooler, raw beef over bar b que sauce. The items were adjusted. **Corrected On-Site** **Repeat Violation**</font>, <font color=\"red\" face=\"verdana\" size=\"-1\">\n",
      "<a href=\"#\" onclick=\"showList('17570127')\"><u>29-34-4</u></a></font>, <font face=\"verdana\" size=\"-1\">\r\n",
      "\t\t\t\t\t\t\t\t\t\t\t\t\t\t\t\t\t\t\t\t\t\t\t\r\n",
      "\t\t\t\t\t\t\tHigh Priority - Vacuum breaker missing at hose bibb or on fitting/splitter added to hose bibb.\n",
      " Observed a hose faucet on the cook line, no vacuum breaker.</font>, <font color=\"red\" face=\"verdana\" size=\"-1\">\n",
      "<a href=\"#\" onclick=\"showList('17570124')\"><u>14-77-6</u></a></font>, <font face=\"verdana\" size=\"-1\">\r\n",
      "\t\t\t\t\t\t\t\t\t\t\t\t\t\t\t\t\t\t\t\t\t\t\t\r\n",
      "\t\t\t\t\t\t\tIntermediate - Reach-in cooler not maintained in good repair.  Do not store potentially hazardous (time/temperature control for safety) food in this unit until the unit is repaired.\n",
      " Observed 1 table height reach-in cooler not plugged in, in the kitchen. It is scheduled for discard. **Corrective Action Taken**</font>, <font color=\"red\" face=\"verdana\" size=\"-1\">\n",
      "<a href=\"#\" onclick=\"showList('17570122')\"><u>02C-08-4</u></a></font>, <font face=\"verdana\" size=\"-1\">\r\n",
      "\t\t\t\t\t\t\t\t\t\t\t\t\t\t\t\t\t\t\t\t\t\t\t\r\n",
      "\t\t\t\t\t\t\tIntermediate - Ready-to-eat, potentially hazardous (time/temperature control for safety) food opened/prepared, frozen and then thawed and held at refrigeration temperature not properly date marked.\n",
      " Observed pork, prepped, frozen and now in the walk-in cooler, not properly date marked/tracked. A date was added. **Corrected On-Site**</font>, <font color=\"red\" face=\"verdana\" size=\"-1\">\n",
      "<a href=\"#\" onclick=\"showList('17570123')\"><u>22-06-4</u></a></font>, <font face=\"verdana\" size=\"-1\">\r\n",
      "\t\t\t\t\t\t\t\t\t\t\t\t\t\t\t\t\t\t\t\t\t\t\t\r\n",
      "\t\t\t\t\t\t\tIntermediate - Slicer blade soiled with old food debris.\n",
      " Observed the electric meat slicer with dried food residue on the body and blade. It was cleaned during the inspection. **Corrected On-Site**</font>, <font color=\"red\" face=\"verdana\" size=\"-1\">\n",
      "<a href=\"#\" onclick=\"showList('17570121')\"><u>48-04-4</u></a></font>, <font face=\"verdana\" size=\"-1\">\r\n",
      "\t\t\t\t\t\t\t\t\t\t\t\t\t\t\t\t\t\t\t\t\t\t\t\r\n",
      "\t\t\t\t\t\t\tPropane tank (larger than 2.7 lb. water capacity/1 lb. gas capacity) located inside of the building.  For reporting purposes only.\n",
      " Observed 2 tanks larger than 2.7 lb. water capacity stored inside. They were moved outside.\n",
      " ALSO, a plastic gas can was stored in a bus pan, inside the back door. It was moved outside. **Corrected On-Site**</font>]\n"
     ]
    }
   ],
   "source": [
    "def clean_up(text, strip_chars=[], replace_extras={}):\n",
    "    # Handle strip_chars\n",
    "    strip_items = '|'.join(re.escape(s) for s in strip_chars)\n",
    "    strip_re = r'^(?:{}|\\s)+|(?:{}|\\s)+$'.format(strip_items, strip_items)\n",
    "    text = re.sub(strip_re, '', text, re.MULTILINE)\n",
    "\n",
    "    # Normalize whitespace and handle replace_extras\n",
    "    replace_keys = list(replace_extras.keys())\n",
    "    replace_keys.sort(key=len, reverse=True)\n",
    "    replace_re = '|'.join([re.escape(s) for s in replace_keys] + [r'\\s+'])\n",
    "    return re.sub(\n",
    "        replace_re,\n",
    "        lambda match: replace_extras.get(match.group(), ' '),\n",
    "        text\n",
    "    ).strip()\n",
    "\n",
    "clean_up(str(details))\n",
    "print(details)"
   ]
  },
  {
   "cell_type": "code",
   "execution_count": 11,
   "metadata": {},
   "outputs": [
    {
     "ename": "TypeError",
     "evalue": "expected string or bytes-like object",
     "output_type": "error",
     "traceback": [
      "\u001b[0;31m---------------------------------------------------------------------------\u001b[0m",
      "\u001b[0;31mTypeError\u001b[0m                                 Traceback (most recent call last)",
      "\u001b[0;32m<ipython-input-11-49a6b53eff71>\u001b[0m in \u001b[0;36m<module>\u001b[0;34m()\u001b[0m\n\u001b[1;32m     10\u001b[0m     \u001b[0;32mreturn\u001b[0m \u001b[0mouput\u001b[0m\u001b[0;34m\u001b[0m\u001b[0m\n\u001b[1;32m     11\u001b[0m \u001b[0;34m\u001b[0m\u001b[0m\n\u001b[0;32m---> 12\u001b[0;31m \u001b[0mgetNgrams\u001b[0m\u001b[0;34m(\u001b[0m\u001b[0mcontent\u001b[0m\u001b[0;34m,\u001b[0m \u001b[0;36m2\u001b[0m\u001b[0;34m)\u001b[0m\u001b[0;34m\u001b[0m\u001b[0m\n\u001b[0m",
      "\u001b[0;32m<ipython-input-11-49a6b53eff71>\u001b[0m in \u001b[0;36mgetNgrams\u001b[0;34m(content, n)\u001b[0m\n\u001b[1;32m      1\u001b[0m \u001b[0;32mdef\u001b[0m \u001b[0mgetNgrams\u001b[0m\u001b[0;34m(\u001b[0m\u001b[0mcontent\u001b[0m\u001b[0;34m,\u001b[0m \u001b[0mn\u001b[0m\u001b[0;34m)\u001b[0m\u001b[0;34m:\u001b[0m\u001b[0;34m\u001b[0m\u001b[0m\n\u001b[0;32m----> 2\u001b[0;31m     \u001b[0mcontent\u001b[0m \u001b[0;34m=\u001b[0m \u001b[0mre\u001b[0m\u001b[0;34m.\u001b[0m\u001b[0msub\u001b[0m\u001b[0;34m(\u001b[0m\u001b[0;34m'\\n|[[\\d+\\]]'\u001b[0m\u001b[0;34m,\u001b[0m \u001b[0;34m' '\u001b[0m\u001b[0;34m,\u001b[0m \u001b[0mcontent\u001b[0m\u001b[0;34m)\u001b[0m\u001b[0;34m\u001b[0m\u001b[0m\n\u001b[0m\u001b[1;32m      3\u001b[0m     \u001b[0mcontent\u001b[0m \u001b[0;34m=\u001b[0m \u001b[0mbytes\u001b[0m\u001b[0;34m(\u001b[0m\u001b[0mcontent\u001b[0m\u001b[0;34m,\u001b[0m \u001b[0;34m'UTF-8'\u001b[0m\u001b[0;34m)\u001b[0m\u001b[0;34m\u001b[0m\u001b[0m\n\u001b[1;32m      4\u001b[0m     \u001b[0mcontent\u001b[0m \u001b[0;34m=\u001b[0m \u001b[0mcontent\u001b[0m\u001b[0;34m.\u001b[0m\u001b[0mdecode\u001b[0m\u001b[0;34m(\u001b[0m\u001b[0;34m'ascii'\u001b[0m\u001b[0;34m,\u001b[0m \u001b[0;34m'ignore'\u001b[0m\u001b[0;34m)\u001b[0m\u001b[0;34m\u001b[0m\u001b[0m\n\u001b[1;32m      5\u001b[0m     \u001b[0mcontent\u001b[0m \u001b[0;34m=\u001b[0m \u001b[0mcontent\u001b[0m\u001b[0;34m.\u001b[0m\u001b[0msplit\u001b[0m\u001b[0;34m(\u001b[0m\u001b[0;34m' '\u001b[0m\u001b[0;34m)\u001b[0m\u001b[0;34m\u001b[0m\u001b[0m\n",
      "\u001b[0;32m~/anaconda2/envs/3point6/lib/python3.6/re.py\u001b[0m in \u001b[0;36msub\u001b[0;34m(pattern, repl, string, count, flags)\u001b[0m\n\u001b[1;32m    189\u001b[0m     \u001b[0ma\u001b[0m \u001b[0mcallable\u001b[0m\u001b[0;34m,\u001b[0m \u001b[0mit\u001b[0m\u001b[0;31m'\u001b[0m\u001b[0ms\u001b[0m \u001b[0mpassed\u001b[0m \u001b[0mthe\u001b[0m \u001b[0mmatch\u001b[0m \u001b[0mobject\u001b[0m \u001b[0;32mand\u001b[0m \u001b[0mmust\u001b[0m \u001b[0;32mreturn\u001b[0m\u001b[0;34m\u001b[0m\u001b[0m\n\u001b[1;32m    190\u001b[0m     a replacement string to be used.\"\"\"\n\u001b[0;32m--> 191\u001b[0;31m     \u001b[0;32mreturn\u001b[0m \u001b[0m_compile\u001b[0m\u001b[0;34m(\u001b[0m\u001b[0mpattern\u001b[0m\u001b[0;34m,\u001b[0m \u001b[0mflags\u001b[0m\u001b[0;34m)\u001b[0m\u001b[0;34m.\u001b[0m\u001b[0msub\u001b[0m\u001b[0;34m(\u001b[0m\u001b[0mrepl\u001b[0m\u001b[0;34m,\u001b[0m \u001b[0mstring\u001b[0m\u001b[0;34m,\u001b[0m \u001b[0mcount\u001b[0m\u001b[0;34m)\u001b[0m\u001b[0;34m\u001b[0m\u001b[0m\n\u001b[0m\u001b[1;32m    192\u001b[0m \u001b[0;34m\u001b[0m\u001b[0m\n\u001b[1;32m    193\u001b[0m \u001b[0;32mdef\u001b[0m \u001b[0msubn\u001b[0m\u001b[0;34m(\u001b[0m\u001b[0mpattern\u001b[0m\u001b[0;34m,\u001b[0m \u001b[0mrepl\u001b[0m\u001b[0;34m,\u001b[0m \u001b[0mstring\u001b[0m\u001b[0;34m,\u001b[0m \u001b[0mcount\u001b[0m\u001b[0;34m=\u001b[0m\u001b[0;36m0\u001b[0m\u001b[0;34m,\u001b[0m \u001b[0mflags\u001b[0m\u001b[0;34m=\u001b[0m\u001b[0;36m0\u001b[0m\u001b[0;34m)\u001b[0m\u001b[0;34m:\u001b[0m\u001b[0;34m\u001b[0m\u001b[0m\n",
      "\u001b[0;31mTypeError\u001b[0m: expected string or bytes-like object"
     ]
    }
   ],
   "source": [
    "def getNgrams(content, n):\n",
    "    content = re.sub('\\n|[[\\d+\\]]', ' ', content)\n",
    "    content = bytes(content, 'UTF-8')\n",
    "    content = content.decode('ascii', 'ignore')\n",
    "    content = content.split(' ')\n",
    "    content = [word for word in content if word != '']\n",
    "    output = []\n",
    "    for i in range(len(content)-n+1):\n",
    "        output.append(content[i:i+n])\n",
    "    return ouput\n",
    "\n",
    "getNgrams(content, 2)\n"
   ]
  },
  {
   "cell_type": "code",
   "execution_count": null,
   "metadata": {},
   "outputs": [],
   "source": []
  },
  {
   "cell_type": "code",
   "execution_count": null,
   "metadata": {},
   "outputs": [],
   "source": []
  }
 ],
 "metadata": {
  "kernelspec": {
   "display_name": "Python 3",
   "language": "python",
   "name": "python3"
  },
  "language_info": {
   "codemirror_mode": {
    "name": "ipython",
    "version": 3
   },
   "file_extension": ".py",
   "mimetype": "text/x-python",
   "name": "python",
   "nbconvert_exporter": "python",
   "pygments_lexer": "ipython3",
   "version": "3.6.5"
  }
 },
 "nbformat": 4,
 "nbformat_minor": 2
}
