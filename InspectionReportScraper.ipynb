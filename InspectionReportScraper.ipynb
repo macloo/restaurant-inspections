{
 "cells": [
  {
   "cell_type": "markdown",
   "metadata": {},
   "source": [
    "# Alachua County restaurant inspection analysis\n",
    "_This will take restaurant inspection data by the state of Florida and format it in a more reader-friendly way for publication in print and online. We'll filter for the most egregious current violations at restaurants in Alachua County._"
   ]
  },
  {
   "cell_type": "markdown",
   "metadata": {},
   "source": [
    "After importing Pandas,etc., this reads in the state summary report year-to-date for District 5, which includes Alachua County, and adds an exception in case the file is not found (output probably needs to be set as variable so it can be written into the output file). The raw file has no headers and 82 columns. So this removes all but five columns and adds headers for those. Finally, it displays the first five rows of values."
   ]
  },
  {
   "cell_type": "code",
   "execution_count": 1,
   "metadata": {},
   "outputs": [],
   "source": [
    "import pandas as pd\n",
    "import bs4\n",
    "import datetime\n",
    "import re\n",
    "import lxml\n",
    "from urllib.request import urlopen\n",
    "from urllib.error import HTTPError\n"
   ]
  },
  {
   "cell_type": "code",
   "execution_count": 2,
   "metadata": {},
   "outputs": [],
   "source": [
    "try:\n",
    "    insp = pd.read_csv(\"ftp://dbprftp.state.fl.us/pub/llweb/5fdinspi.csv\", \n",
    "                               usecols=[2,14,18,80,81])\n",
    "except IOError:\n",
    "    print(\"The file is not accessible.\")\n",
    "insp.columns = [\"CountyName\", \"InspectDate\", \n",
    "                \"NumHighVio\", \"LicenseID\", \"VisitID\"]"
   ]
  },
  {
   "cell_type": "code",
   "execution_count": 3,
   "metadata": {},
   "outputs": [
    {
     "data": {
      "text/plain": [
       "13156"
      ]
     },
     "execution_count": 3,
     "metadata": {},
     "output_type": "execute_result"
    }
   ],
   "source": [
    "# filter for alachua county restaurants with high violations\n",
    "insp[(insp.CountyName == 'Alachua') & (insp.NumHighVio > 0)]\n",
    "len(insp)"
   ]
  },
  {
   "cell_type": "code",
   "execution_count": 4,
   "metadata": {},
   "outputs": [
    {
     "data": {
      "text/plain": [
       "13156"
      ]
     },
     "execution_count": 4,
     "metadata": {},
     "output_type": "execute_result"
    }
   ],
   "source": [
    "# change date string to date object, sort most recent\n",
    "insp['InspectDate'] = pd.to_datetime(insp['InspectDate'])\n",
    "insp = insp.sort_values('InspectDate', ascending=False)\n",
    "len(insp)"
   ]
  },
  {
   "cell_type": "code",
   "execution_count": 5,
   "metadata": {},
   "outputs": [
    {
     "data": {
      "text/plain": [
       "168"
      ]
     },
     "execution_count": 5,
     "metadata": {},
     "output_type": "execute_result"
    }
   ],
   "source": [
    "# prefer to let user set timedelta\n",
    "today = pd.to_datetime('today')\n",
    "startDay = datetime.date.today() - datetime.timedelta(days=14)\n",
    "insp = insp[(insp['InspectDate'] > startDay) & (insp['InspectDate'] < today)]\n",
    "len(insp)"
   ]
  },
  {
   "cell_type": "code",
<<<<<<< HEAD
   "execution_count": 7,
=======
   "execution_count": 6,
>>>>>>> 6fecbe7dbd1f7655cc52da6e554df9c353f2d332
   "metadata": {},
   "outputs": [
    {
     "name": "stdout",
     "output_type": "stream",
     "text": [
<<<<<<< HEAD
      "['https://www.myfloridalicense.com/inspectionDetail.asp?InspVisitID=6533891&licid=7003533', 'https://www.myfloridalicense.com/inspectionDetail.asp?InspVisitID=6362752&licid=6772721', 'https://www.myfloridalicense.com/inspectionDetail.asp?InspVisitID=6538630&licid=7009925', 'https://www.myfloridalicense.com/inspectionDetail.asp?InspVisitID=6517783&licid=6982298', 'https://www.myfloridalicense.com/inspectionDetail.asp?InspVisitID=6539001&licid=6312191', 'https://www.myfloridalicense.com/inspectionDetail.asp?InspVisitID=6444510&licid=6475603', 'https://www.myfloridalicense.com/inspectionDetail.asp?InspVisitID=6292423&licid=6040839', 'https://www.myfloridalicense.com/inspectionDetail.asp?InspVisitID=6463635&licid=6370423', 'https://www.myfloridalicense.com/inspectionDetail.asp?InspVisitID=6451801&licid=5858850', 'https://www.myfloridalicense.com/inspectionDetail.asp?InspVisitID=6535804&licid=3296677', 'https://www.myfloridalicense.com/inspectionDetail.asp?InspVisitID=6535766&licid=5430232', 'https://www.myfloridalicense.com/inspectionDetail.asp?InspVisitID=6535653&licid=2129170', 'https://www.myfloridalicense.com/inspectionDetail.asp?InspVisitID=6247794&licid=2129170', 'https://www.myfloridalicense.com/inspectionDetail.asp?InspVisitID=6451852&licid=6665274', 'https://www.myfloridalicense.com/inspectionDetail.asp?InspVisitID=6433038&licid=6621480', 'https://www.myfloridalicense.com/inspectionDetail.asp?InspVisitID=6456866&licid=5269891', 'https://www.myfloridalicense.com/inspectionDetail.asp?InspVisitID=6528463&licid=6534697', 'https://www.myfloridalicense.com/inspectionDetail.asp?InspVisitID=6442196&licid=5576855', 'https://www.myfloridalicense.com/inspectionDetail.asp?InspVisitID=6527476&licid=2129685', 'https://www.myfloridalicense.com/inspectionDetail.asp?InspVisitID=6419688&licid=5761286', 'https://www.myfloridalicense.com/inspectionDetail.asp?InspVisitID=6292045&licid=5524643', 'https://www.myfloridalicense.com/inspectionDetail.asp?InspVisitID=6416865&licid=6126978', 'https://www.myfloridalicense.com/inspectionDetail.asp?InspVisitID=6528955&licid=6126771', 'https://www.myfloridalicense.com/inspectionDetail.asp?InspVisitID=6532203&licid=6207335', 'https://www.myfloridalicense.com/inspectionDetail.asp?InspVisitID=6427655&licid=6621541', 'https://www.myfloridalicense.com/inspectionDetail.asp?InspVisitID=6427442&licid=3967136', 'https://www.myfloridalicense.com/inspectionDetail.asp?InspVisitID=6420899&licid=6207335', 'https://www.myfloridalicense.com/inspectionDetail.asp?InspVisitID=6420707&licid=2129129', 'https://www.myfloridalicense.com/inspectionDetail.asp?InspVisitID=6448691&licid=6537359', 'https://www.myfloridalicense.com/inspectionDetail.asp?InspVisitID=6529767&licid=5485529', 'https://www.myfloridalicense.com/inspectionDetail.asp?InspVisitID=6429398&licid=3840892', 'https://www.myfloridalicense.com/inspectionDetail.asp?InspVisitID=6528913&licid=5485569', 'https://www.myfloridalicense.com/inspectionDetail.asp?InspVisitID=6528946&licid=5633502', 'https://www.myfloridalicense.com/inspectionDetail.asp?InspVisitID=6334264&licid=5538656', 'https://www.myfloridalicense.com/inspectionDetail.asp?InspVisitID=6382037&licid=6534697', 'https://www.myfloridalicense.com/inspectionDetail.asp?InspVisitID=6511894&licid=6534697', 'https://www.myfloridalicense.com/inspectionDetail.asp?InspVisitID=6380690&licid=2636769', 'https://www.myfloridalicense.com/inspectionDetail.asp?InspVisitID=6486244&licid=2129685', 'https://www.myfloridalicense.com/inspectionDetail.asp?InspVisitID=6431167&licid=5569752', 'https://www.myfloridalicense.com/inspectionDetail.asp?InspVisitID=6524479&licid=2129908', 'https://www.myfloridalicense.com/inspectionDetail.asp?InspVisitID=6519373&licid=6910020', 'https://www.myfloridalicense.com/inspectionDetail.asp?InspVisitID=6442289&licid=6106750', 'https://www.myfloridalicense.com/inspectionDetail.asp?InspVisitID=6479432&licid=2992357', 'https://www.myfloridalicense.com/inspectionDetail.asp?InspVisitID=6427517&licid=5786679', 'https://www.myfloridalicense.com/inspectionDetail.asp?InspVisitID=6437790&licid=2129157', 'https://www.myfloridalicense.com/inspectionDetail.asp?InspVisitID=6524473&licid=4460173', 'https://www.myfloridalicense.com/inspectionDetail.asp?InspVisitID=6504680&licid=6770137', 'https://www.myfloridalicense.com/inspectionDetail.asp?InspVisitID=6522250&licid=3909271', 'https://www.myfloridalicense.com/inspectionDetail.asp?InspVisitID=6522057&licid=6596574', 'https://www.myfloridalicense.com/inspectionDetail.asp?InspVisitID=6519203&licid=5633502', 'https://www.myfloridalicense.com/inspectionDetail.asp?InspVisitID=6466795&licid=5879272', 'https://www.myfloridalicense.com/inspectionDetail.asp?InspVisitID=6448739&licid=6731385', 'https://www.myfloridalicense.com/inspectionDetail.asp?InspVisitID=6335074&licid=6313086', 'https://www.myfloridalicense.com/inspectionDetail.asp?InspVisitID=6514128&licid=4016865', 'https://www.myfloridalicense.com/inspectionDetail.asp?InspVisitID=6518388&licid=4380597', 'https://www.myfloridalicense.com/inspectionDetail.asp?InspVisitID=6438911&licid=3777614', 'https://www.myfloridalicense.com/inspectionDetail.asp?InspVisitID=6517683&licid=3654600', 'https://www.myfloridalicense.com/inspectionDetail.asp?InspVisitID=6405027&licid=4461235', 'https://www.myfloridalicense.com/inspectionDetail.asp?InspVisitID=6453382&licid=5522606', 'https://www.myfloridalicense.com/inspectionDetail.asp?InspVisitID=6517604&licid=3654600', 'https://www.myfloridalicense.com/inspectionDetail.asp?InspVisitID=6448554&licid=3983481', 'https://www.myfloridalicense.com/inspectionDetail.asp?InspVisitID=6515977&licid=6596474', 'https://www.myfloridalicense.com/inspectionDetail.asp?InspVisitID=6420836&licid=5634314', 'https://www.myfloridalicense.com/inspectionDetail.asp?InspVisitID=6514696&licid=3943967', 'https://www.myfloridalicense.com/inspectionDetail.asp?InspVisitID=6398649&licid=3876042', 'https://www.myfloridalicense.com/inspectionDetail.asp?InspVisitID=6293851&licid=5837516', 'https://www.myfloridalicense.com/inspectionDetail.asp?InspVisitID=6422582&licid=3775141', 'https://www.myfloridalicense.com/inspectionDetail.asp?InspVisitID=6451732&licid=4062330', 'https://www.myfloridalicense.com/inspectionDetail.asp?InspVisitID=6369448&licid=6688199', 'https://www.myfloridalicense.com/inspectionDetail.asp?InspVisitID=6438884&licid=2432234', 'https://www.myfloridalicense.com/inspectionDetail.asp?InspVisitID=6436720&licid=6242062', 'https://www.myfloridalicense.com/inspectionDetail.asp?InspVisitID=6453381&licid=5471486', 'https://www.myfloridalicense.com/inspectionDetail.asp?InspVisitID=6402848&licid=3848291', 'https://www.myfloridalicense.com/inspectionDetail.asp?InspVisitID=6406430&licid=6335187', 'https://www.myfloridalicense.com/inspectionDetail.asp?InspVisitID=6472075&licid=5375832', 'https://www.myfloridalicense.com/inspectionDetail.asp?InspVisitID=6454252&licid=5530030', 'https://www.myfloridalicense.com/inspectionDetail.asp?InspVisitID=6426200&licid=2129793', 'https://www.myfloridalicense.com/inspectionDetail.asp?InspVisitID=6406306&licid=2339501', 'https://www.myfloridalicense.com/inspectionDetail.asp?InspVisitID=6436676&licid=5468851', 'https://www.myfloridalicense.com/inspectionDetail.asp?InspVisitID=6507412&licid=5613627', 'https://www.myfloridalicense.com/inspectionDetail.asp?InspVisitID=6506695&licid=4031296', 'https://www.myfloridalicense.com/inspectionDetail.asp?InspVisitID=6385800&licid=2129624', 'https://www.myfloridalicense.com/inspectionDetail.asp?InspVisitID=6416892&licid=6005029', 'https://www.myfloridalicense.com/inspectionDetail.asp?InspVisitID=6444372&licid=4411980', 'https://www.myfloridalicense.com/inspectionDetail.asp?InspVisitID=6510658&licid=4196790', 'https://www.myfloridalicense.com/inspectionDetail.asp?InspVisitID=6468468&licid=5469973', 'https://www.myfloridalicense.com/inspectionDetail.asp?InspVisitID=6509808&licid=5399007', 'https://www.myfloridalicense.com/inspectionDetail.asp?InspVisitID=6509127&licid=6506469', 'https://www.myfloridalicense.com/inspectionDetail.asp?InspVisitID=6504306&licid=6930470', 'https://www.myfloridalicense.com/inspectionDetail.asp?InspVisitID=6400878&licid=2129377', 'https://www.myfloridalicense.com/inspectionDetail.asp?InspVisitID=6280880&licid=5399007', 'https://www.myfloridalicense.com/inspectionDetail.asp?InspVisitID=6463833&licid=6506469', 'https://www.myfloridalicense.com/inspectionDetail.asp?InspVisitID=6506073&licid=3354442', 'https://www.myfloridalicense.com/inspectionDetail.asp?InspVisitID=6413594&licid=5497165', 'https://www.myfloridalicense.com/inspectionDetail.asp?InspVisitID=6484224&licid=6923164', 'https://www.myfloridalicense.com/inspectionDetail.asp?InspVisitID=6437960&licid=6621483', 'https://www.myfloridalicense.com/inspectionDetail.asp?InspVisitID=6384927&licid=5613627', 'https://www.myfloridalicense.com/inspectionDetail.asp?InspVisitID=6247881&licid=2129435', 'https://www.myfloridalicense.com/inspectionDetail.asp?InspVisitID=6385799&licid=2129251', 'https://www.myfloridalicense.com/inspectionDetail.asp?InspVisitID=6385828&licid=4031296', 'https://www.myfloridalicense.com/inspectionDetail.asp?InspVisitID=6376426&licid=3630731', 'https://www.myfloridalicense.com/inspectionDetail.asp?InspVisitID=6245467&licid=2129610', 'https://www.myfloridalicense.com/inspectionDetail.asp?InspVisitID=6496827&licid=3354442', 'https://www.myfloridalicense.com/inspectionDetail.asp?InspVisitID=6360783&licid=6770137', 'https://www.myfloridalicense.com/inspectionDetail.asp?InspVisitID=6449653&licid=3905574', 'https://www.myfloridalicense.com/inspectionDetail.asp?InspVisitID=6427428&licid=3679002', 'https://www.myfloridalicense.com/inspectionDetail.asp?InspVisitID=6355833&licid=6296997', 'https://www.myfloridalicense.com/inspectionDetail.asp?InspVisitID=6492736&licid=3979869', 'https://www.myfloridalicense.com/inspectionDetail.asp?InspVisitID=6436522&licid=6720437', 'https://www.myfloridalicense.com/inspectionDetail.asp?InspVisitID=6308871&licid=6654117', 'https://www.myfloridalicense.com/inspectionDetail.asp?InspVisitID=6274520&licid=4300274', 'https://www.myfloridalicense.com/inspectionDetail.asp?InspVisitID=6335518&licid=6596474', 'https://www.myfloridalicense.com/inspectionDetail.asp?InspVisitID=6366362&licid=6571664', 'https://www.myfloridalicense.com/inspectionDetail.asp?InspVisitID=6495322&licid=5961865', 'https://www.myfloridalicense.com/inspectionDetail.asp?InspVisitID=6491597&licid=6370508', 'https://www.myfloridalicense.com/inspectionDetail.asp?InspVisitID=6489116&licid=6943776', 'https://www.myfloridalicense.com/inspectionDetail.asp?InspVisitID=6279998&licid=5321567', 'https://www.myfloridalicense.com/inspectionDetail.asp?InspVisitID=6433035&licid=6382847', 'https://www.myfloridalicense.com/inspectionDetail.asp?InspVisitID=6363961&licid=2942233', 'https://www.myfloridalicense.com/inspectionDetail.asp?InspVisitID=6411519&licid=2129317', 'https://www.myfloridalicense.com/inspectionDetail.asp?InspVisitID=6431917&licid=6253914', 'https://www.myfloridalicense.com/inspectionDetail.asp?InspVisitID=6374983&licid=2129994', 'https://www.myfloridalicense.com/inspectionDetail.asp?InspVisitID=6468843&licid=6917742', 'https://www.myfloridalicense.com/inspectionDetail.asp?InspVisitID=6334765&licid=5681380', 'https://www.myfloridalicense.com/inspectionDetail.asp?InspVisitID=6412660&licid=5961865', 'https://www.myfloridalicense.com/inspectionDetail.asp?InspVisitID=6437915&licid=5981037', 'https://www.myfloridalicense.com/inspectionDetail.asp?InspVisitID=6491533&licid=5410909', 'https://www.myfloridalicense.com/inspectionDetail.asp?InspVisitID=6492373&licid=5854792', 'https://www.myfloridalicense.com/inspectionDetail.asp?InspVisitID=6380849&licid=6664696', 'https://www.myfloridalicense.com/inspectionDetail.asp?InspVisitID=6431824&licid=2129214', 'https://www.myfloridalicense.com/inspectionDetail.asp?InspVisitID=6431138&licid=3979869', 'https://www.myfloridalicense.com/inspectionDetail.asp?InspVisitID=6432997&licid=5878957', 'https://www.myfloridalicense.com/inspectionDetail.asp?InspVisitID=6313712&licid=6616696', 'https://www.myfloridalicense.com/inspectionDetail.asp?InspVisitID=6446737&licid=6869570', 'https://www.myfloridalicense.com/inspectionDetail.asp?InspVisitID=6492245&licid=2129965']\n"
=======
      "['https://www.myfloridalicense.com/inspectionDetail.asp?InspVisitID=6540174&licid=6017101', 'https://www.myfloridalicense.com/inspectionDetail.asp?InspVisitID=6452493&licid=5874202', 'https://www.myfloridalicense.com/inspectionDetail.asp?InspVisitID=6285785&licid=5707105', 'https://www.myfloridalicense.com/inspectionDetail.asp?InspVisitID=6446676&licid=6523472', 'https://www.myfloridalicense.com/inspectionDetail.asp?InspVisitID=6263363&licid=6545268', 'https://www.myfloridalicense.com/inspectionDetail.asp?InspVisitID=6542587&licid=5369216', 'https://www.myfloridalicense.com/inspectionDetail.asp?InspVisitID=6366387&licid=6748879', 'https://www.myfloridalicense.com/inspectionDetail.asp?InspVisitID=6539293&licid=6089798', 'https://www.myfloridalicense.com/inspectionDetail.asp?InspVisitID=6332727&licid=2130081', 'https://www.myfloridalicense.com/inspectionDetail.asp?InspVisitID=6503829&licid=2205735', 'https://www.myfloridalicense.com/inspectionDetail.asp?InspVisitID=6541810&licid=3680650', 'https://www.myfloridalicense.com/inspectionDetail.asp?InspVisitID=6533895&licid=7003817', 'https://www.myfloridalicense.com/inspectionDetail.asp?InspVisitID=6311195&licid=6364709', 'https://www.myfloridalicense.com/inspectionDetail.asp?InspVisitID=6536168&licid=7005576', 'https://www.myfloridalicense.com/inspectionDetail.asp?InspVisitID=6367056&licid=6052300', 'https://www.myfloridalicense.com/inspectionDetail.asp?InspVisitID=6452465&licid=5231088', 'https://www.myfloridalicense.com/inspectionDetail.asp?InspVisitID=6537313&licid=6129283', 'https://www.myfloridalicense.com/inspectionDetail.asp?InspVisitID=6540476&licid=6993547', 'https://www.myfloridalicense.com/inspectionDetail.asp?InspVisitID=6263433&licid=3183046', 'https://www.myfloridalicense.com/inspectionDetail.asp?InspVisitID=6523060&licid=5299691', 'https://www.myfloridalicense.com/inspectionDetail.asp?InspVisitID=6543107&licid=4076503', 'https://www.myfloridalicense.com/inspectionDetail.asp?InspVisitID=6439009&licid=6027660', 'https://www.myfloridalicense.com/inspectionDetail.asp?InspVisitID=6380709&licid=3361857', 'https://www.myfloridalicense.com/inspectionDetail.asp?InspVisitID=6542484&licid=6624728', 'https://www.myfloridalicense.com/inspectionDetail.asp?InspVisitID=6275577&licid=4261828', 'https://www.myfloridalicense.com/inspectionDetail.asp?InspVisitID=6245700&licid=2201294', 'https://www.myfloridalicense.com/inspectionDetail.asp?InspVisitID=6542582&licid=5224950', 'https://www.myfloridalicense.com/inspectionDetail.asp?InspVisitID=6543234&licid=3969835', 'https://www.myfloridalicense.com/inspectionDetail.asp?InspVisitID=6448485&licid=2201981', 'https://www.myfloridalicense.com/inspectionDetail.asp?InspVisitID=6334942&licid=6369855', 'https://www.myfloridalicense.com/inspectionDetail.asp?InspVisitID=6542677&licid=6703142', 'https://www.myfloridalicense.com/inspectionDetail.asp?InspVisitID=6435098&licid=2175679', 'https://www.myfloridalicense.com/inspectionDetail.asp?InspVisitID=6541751&licid=7003533', 'https://www.myfloridalicense.com/inspectionDetail.asp?InspVisitID=6489086&licid=6206299', 'https://www.myfloridalicense.com/inspectionDetail.asp?InspVisitID=6543255&licid=6014960', 'https://www.myfloridalicense.com/inspectionDetail.asp?InspVisitID=6488874&licid=6206299', 'https://www.myfloridalicense.com/inspectionDetail.asp?InspVisitID=6540894&licid=5757117', 'https://www.myfloridalicense.com/inspectionDetail.asp?InspVisitID=6353619&licid=6683171', 'https://www.myfloridalicense.com/inspectionDetail.asp?InspVisitID=6542772&licid=6014960', 'https://www.myfloridalicense.com/inspectionDetail.asp?InspVisitID=6275885&licid=4257077', 'https://www.myfloridalicense.com/inspectionDetail.asp?InspVisitID=6436694&licid=5901455', 'https://www.myfloridalicense.com/inspectionDetail.asp?InspVisitID=6446629&licid=6257604', 'https://www.myfloridalicense.com/inspectionDetail.asp?InspVisitID=6542547&licid=4207059', 'https://www.myfloridalicense.com/inspectionDetail.asp?InspVisitID=6542768&licid=6761841', 'https://www.myfloridalicense.com/inspectionDetail.asp?InspVisitID=6539252&licid=3692847', 'https://www.myfloridalicense.com/inspectionDetail.asp?InspVisitID=6334554&licid=5960583', 'https://www.myfloridalicense.com/inspectionDetail.asp?InspVisitID=6422583&licid=3836507', 'https://www.myfloridalicense.com/inspectionDetail.asp?InspVisitID=6265493&licid=3481402', 'https://www.myfloridalicense.com/inspectionDetail.asp?InspVisitID=6376580&licid=6520504', 'https://www.myfloridalicense.com/inspectionDetail.asp?InspVisitID=6524023&licid=6949459', 'https://www.myfloridalicense.com/inspectionDetail.asp?InspVisitID=6539857&licid=5232336', 'https://www.myfloridalicense.com/inspectionDetail.asp?InspVisitID=6536025&licid=6494671', 'https://www.myfloridalicense.com/inspectionDetail.asp?InspVisitID=6537617&licid=5345251', 'https://www.myfloridalicense.com/inspectionDetail.asp?InspVisitID=6503280&licid=6933846', 'https://www.myfloridalicense.com/inspectionDetail.asp?InspVisitID=6538544&licid=6274245', 'https://www.myfloridalicense.com/inspectionDetail.asp?InspVisitID=6504016&licid=6349815', 'https://www.myfloridalicense.com/inspectionDetail.asp?InspVisitID=6538338&licid=6846853', 'https://www.myfloridalicense.com/inspectionDetail.asp?InspVisitID=6445602&licid=2153215', 'https://www.myfloridalicense.com/inspectionDetail.asp?InspVisitID=6452482&licid=5454448', 'https://www.myfloridalicense.com/inspectionDetail.asp?InspVisitID=6443336&licid=6803140', 'https://www.myfloridalicense.com/inspectionDetail.asp?InspVisitID=6529681&licid=6846853', 'https://www.myfloridalicense.com/inspectionDetail.asp?InspVisitID=6541420&licid=4278271', 'https://www.myfloridalicense.com/inspectionDetail.asp?InspVisitID=6542586&licid=6014960', 'https://www.myfloridalicense.com/inspectionDetail.asp?InspVisitID=6541490&licid=5369216', 'https://www.myfloridalicense.com/inspectionDetail.asp?InspVisitID=6475572&licid=6771334', 'https://www.myfloridalicense.com/inspectionDetail.asp?InspVisitID=6537384&licid=2244934', 'https://www.myfloridalicense.com/inspectionDetail.asp?InspVisitID=6541671&licid=6014960', 'https://www.myfloridalicense.com/inspectionDetail.asp?InspVisitID=6291855&licid=5716132', 'https://www.myfloridalicense.com/inspectionDetail.asp?InspVisitID=6454209&licid=4257664', 'https://www.myfloridalicense.com/inspectionDetail.asp?InspVisitID=6451770&licid=5480732', 'https://www.myfloridalicense.com/inspectionDetail.asp?InspVisitID=6535430&licid=5895546', 'https://www.myfloridalicense.com/inspectionDetail.asp?InspVisitID=6312379&licid=6674493', 'https://www.myfloridalicense.com/inspectionDetail.asp?InspVisitID=6541754&licid=4005147', 'https://www.myfloridalicense.com/inspectionDetail.asp?InspVisitID=6504019&licid=2246360', 'https://www.myfloridalicense.com/inspectionDetail.asp?InspVisitID=6516782&licid=6970390', 'https://www.myfloridalicense.com/inspectionDetail.asp?InspVisitID=6307491&licid=6484952', 'https://www.myfloridalicense.com/inspectionDetail.asp?InspVisitID=6434121&licid=6528247', 'https://www.myfloridalicense.com/inspectionDetail.asp?InspVisitID=6435894&licid=4274450', 'https://www.myfloridalicense.com/inspectionDetail.asp?InspVisitID=6540460&licid=7002500', 'https://www.myfloridalicense.com/inspectionDetail.asp?InspVisitID=6454283&licid=6269644', 'https://www.myfloridalicense.com/inspectionDetail.asp?InspVisitID=6518150&licid=6523808', 'https://www.myfloridalicense.com/inspectionDetail.asp?InspVisitID=6518151&licid=6523825', 'https://www.myfloridalicense.com/inspectionDetail.asp?InspVisitID=6295028&licid=5867091', 'https://www.myfloridalicense.com/inspectionDetail.asp?InspVisitID=6479612&licid=6916193', 'https://www.myfloridalicense.com/inspectionDetail.asp?InspVisitID=6444304&licid=2724890', 'https://www.myfloridalicense.com/inspectionDetail.asp?InspVisitID=6481457&licid=6809765', 'https://www.myfloridalicense.com/inspectionDetail.asp?InspVisitID=6386390&licid=6761841', 'https://www.myfloridalicense.com/inspectionDetail.asp?InspVisitID=6295029&licid=5867092', 'https://www.myfloridalicense.com/inspectionDetail.asp?InspVisitID=6451885&licid=6876179', 'https://www.myfloridalicense.com/inspectionDetail.asp?InspVisitID=6542692&licid=6997359', 'https://www.myfloridalicense.com/inspectionDetail.asp?InspVisitID=6541923&licid=6997359', 'https://www.myfloridalicense.com/inspectionDetail.asp?InspVisitID=6441314&licid=5954786', 'https://www.myfloridalicense.com/inspectionDetail.asp?InspVisitID=6513277&licid=6743142', 'https://www.myfloridalicense.com/inspectionDetail.asp?InspVisitID=6520396&licid=6920729', 'https://www.myfloridalicense.com/inspectionDetail.asp?InspVisitID=6349868&licid=5224950', 'https://www.myfloridalicense.com/inspectionDetail.asp?InspVisitID=6387509&licid=6624728', 'https://www.myfloridalicense.com/inspectionDetail.asp?InspVisitID=6538848&licid=6546390', 'https://www.myfloridalicense.com/inspectionDetail.asp?InspVisitID=6280594&licid=5400193', 'https://www.myfloridalicense.com/inspectionDetail.asp?InspVisitID=6449736&licid=5955119', 'https://www.myfloridalicense.com/inspectionDetail.asp?InspVisitID=6339874&licid=6173144', 'https://www.myfloridalicense.com/inspectionDetail.asp?InspVisitID=6524377&licid=2252428', 'https://www.myfloridalicense.com/inspectionDetail.asp?InspVisitID=6291773&licid=5847741', 'https://www.myfloridalicense.com/inspectionDetail.asp?InspVisitID=6541345&licid=2252428', 'https://www.myfloridalicense.com/inspectionDetail.asp?InspVisitID=6540940&licid=2201613', 'https://www.myfloridalicense.com/inspectionDetail.asp?InspVisitID=6451790&licid=5600613', 'https://www.myfloridalicense.com/inspectionDetail.asp?InspVisitID=6533891&licid=7003533', 'https://www.myfloridalicense.com/inspectionDetail.asp?InspVisitID=6448612&licid=6014960', 'https://www.myfloridalicense.com/inspectionDetail.asp?InspVisitID=6264365&licid=3340451', 'https://www.myfloridalicense.com/inspectionDetail.asp?InspVisitID=6446659&licid=6386779', 'https://www.myfloridalicense.com/inspectionDetail.asp?InspVisitID=6538611&licid=7006545', 'https://www.myfloridalicense.com/inspectionDetail.asp?InspVisitID=6540292&licid=6452737', 'https://www.myfloridalicense.com/inspectionDetail.asp?InspVisitID=6408734&licid=6147058', 'https://www.myfloridalicense.com/inspectionDetail.asp?InspVisitID=6537383&licid=2176873', 'https://www.myfloridalicense.com/inspectionDetail.asp?InspVisitID=6299572&licid=6411570', 'https://www.myfloridalicense.com/inspectionDetail.asp?InspVisitID=6306430&licid=6357111', 'https://www.myfloridalicense.com/inspectionDetail.asp?InspVisitID=6438931&licid=4353459', 'https://www.myfloridalicense.com/inspectionDetail.asp?InspVisitID=6411774&licid=6579456', 'https://www.myfloridalicense.com/inspectionDetail.asp?InspVisitID=6431178&licid=5439736', 'https://www.myfloridalicense.com/inspectionDetail.asp?InspVisitID=6541248&licid=6274037', 'https://www.myfloridalicense.com/inspectionDetail.asp?InspVisitID=6537752&licid=6960648', 'https://www.myfloridalicense.com/inspectionDetail.asp?InspVisitID=6400081&licid=5803371', 'https://www.myfloridalicense.com/inspectionDetail.asp?InspVisitID=6530949&licid=4042575', 'https://www.myfloridalicense.com/inspectionDetail.asp?InspVisitID=6383047&licid=3654838', 'https://www.myfloridalicense.com/inspectionDetail.asp?InspVisitID=6251561&licid=2175808', 'https://www.myfloridalicense.com/inspectionDetail.asp?InspVisitID=6536659&licid=6234261', 'https://www.myfloridalicense.com/inspectionDetail.asp?InspVisitID=6537412&licid=6532248', 'https://www.myfloridalicense.com/inspectionDetail.asp?InspVisitID=6519823&licid=5483098', 'https://www.myfloridalicense.com/inspectionDetail.asp?InspVisitID=6541111&licid=5369216', 'https://www.myfloridalicense.com/inspectionDetail.asp?InspVisitID=6524494&licid=6914674', 'https://www.myfloridalicense.com/inspectionDetail.asp?InspVisitID=6538994&licid=4278271', 'https://www.myfloridalicense.com/inspectionDetail.asp?InspVisitID=6465528&licid=5571638', 'https://www.myfloridalicense.com/inspectionDetail.asp?InspVisitID=6541481&licid=6639863', 'https://www.myfloridalicense.com/inspectionDetail.asp?InspVisitID=6530017&licid=4205407', 'https://www.myfloridalicense.com/inspectionDetail.asp?InspVisitID=6515243&licid=4100942', 'https://www.myfloridalicense.com/inspectionDetail.asp?InspVisitID=6537414&licid=6028838', 'https://www.myfloridalicense.com/inspectionDetail.asp?InspVisitID=6537109&licid=4005147', 'https://www.myfloridalicense.com/inspectionDetail.asp?InspVisitID=6246054&licid=2130041', 'https://www.myfloridalicense.com/inspectionDetail.asp?InspVisitID=6537483&licid=5569383', 'https://www.myfloridalicense.com/inspectionDetail.asp?InspVisitID=6383265&licid=6800637', 'https://www.myfloridalicense.com/inspectionDetail.asp?InspVisitID=6538537&licid=4287774', 'https://www.myfloridalicense.com/inspectionDetail.asp?InspVisitID=6435339&licid=6521362', 'https://www.myfloridalicense.com/inspectionDetail.asp?InspVisitID=6420840&licid=5461525', 'https://www.myfloridalicense.com/inspectionDetail.asp?InspVisitID=6270313&licid=3941903', 'https://www.myfloridalicense.com/inspectionDetail.asp?InspVisitID=6308452&licid=5595309', 'https://www.myfloridalicense.com/inspectionDetail.asp?InspVisitID=6454204&licid=4155401', 'https://www.myfloridalicense.com/inspectionDetail.asp?InspVisitID=6444394&licid=5369216', 'https://www.myfloridalicense.com/inspectionDetail.asp?InspVisitID=6452505&licid=6126969', 'https://www.myfloridalicense.com/inspectionDetail.asp?InspVisitID=6540366&licid=6421808', 'https://www.myfloridalicense.com/inspectionDetail.asp?InspVisitID=6501211&licid=6583001', 'https://www.myfloridalicense.com/inspectionDetail.asp?InspVisitID=6270320&licid=3941921', 'https://www.myfloridalicense.com/inspectionDetail.asp?InspVisitID=6539452&licid=7010570', 'https://www.myfloridalicense.com/inspectionDetail.asp?InspVisitID=6270321&licid=3941928', 'https://www.myfloridalicense.com/inspectionDetail.asp?InspVisitID=6270322&licid=3941932', 'https://www.myfloridalicense.com/inspectionDetail.asp?InspVisitID=6497932&licid=6683946', 'https://www.myfloridalicense.com/inspectionDetail.asp?InspVisitID=6538471&licid=6751064', 'https://www.myfloridalicense.com/inspectionDetail.asp?InspVisitID=6444342&licid=3922420', 'https://www.myfloridalicense.com/inspectionDetail.asp?InspVisitID=6271735&licid=4066648', 'https://www.myfloridalicense.com/inspectionDetail.asp?InspVisitID=6447368&licid=3941910', 'https://www.myfloridalicense.com/inspectionDetail.asp?InspVisitID=6447367&licid=3941907', 'https://www.myfloridalicense.com/inspectionDetail.asp?InspVisitID=6270318&licid=3941918', 'https://www.myfloridalicense.com/inspectionDetail.asp?InspVisitID=6506928&licid=5647997', 'https://www.myfloridalicense.com/inspectionDetail.asp?InspVisitID=6310799&licid=6575144', 'https://www.myfloridalicense.com/inspectionDetail.asp?InspVisitID=6498998&licid=6847374', 'https://www.myfloridalicense.com/inspectionDetail.asp?InspVisitID=6420930&licid=6274037', 'https://www.myfloridalicense.com/inspectionDetail.asp?InspVisitID=6532475&licid=6728165', 'https://www.myfloridalicense.com/inspectionDetail.asp?InspVisitID=6501278&licid=3321361', 'https://www.myfloridalicense.com/inspectionDetail.asp?InspVisitID=6312140&licid=6535770', 'https://www.myfloridalicense.com/inspectionDetail.asp?InspVisitID=6354562&licid=5390903']\n"
>>>>>>> 6fecbe7dbd1f7655cc52da6e554df9c353f2d332
     ]
    },
    {
     "data": {
      "text/plain": [
       "168"
      ]
     },
     "execution_count": 6,
     "metadata": {},
     "output_type": "execute_result"
    }
   ],
   "source": [
    "# takes LicenseID and VisitID, passes it into the urls for detailed reports\n",
    "result = []\n",
    "for index, rows in insp.iterrows():\n",
    "    visitID = rows['VisitID']\n",
    "    licID = rows['LicenseID']\n",
    "    urls = \"https://www.myfloridalicense.com/inspectionDetail.asp? \\\n",
    "        InspVisitID= %s &licid= %s\" % (visitID, licID)\n",
    "    urls = urls.replace(' ', '')\n",
    "    result.append(urls)\n",
    "\n",
    "urlList = result\n",
    "print(urlList) #not needed later\n",
    "len(urlList) #not needed later"
   ]
  },
  {
   "cell_type": "markdown",
   "metadata": {},
   "source": [
    "__Now it's time to use those urls to access the detailed reports with inspector comments, and scrape those. This will need to be a \"for loop\" that cycles through all urls and then puts the output variables somehow, like a database?__"
   ]
  },
  {
   "cell_type": "code",
<<<<<<< HEAD
   "execution_count": null,
   "metadata": {},
   "outputs": [],
=======
   "execution_count": 11,
   "metadata": {},
   "outputs": [
    {
     "name": "stdout",
     "output_type": "stream",
     "text": [
      "[{'Restaurant': 'PANCHEROS MEXICAN GRILL', 'License': 'SEA2615450', 'Rank': 'Seating', 'Expires': '06/01/2018', 'Primary': 'Current', 'Secondary': 'Active', 'Address': '13423 BEACH BLVD STE 104JACKSONVILLE, FL 32246', 'Result': '05/11/2018'}, {'Restaurant': 'PANCHEROS MEXICAN GRILL', 'License': 'SEA2615450', 'Rank': 'Seating', 'Expires': '06/01/2018', 'Primary': 'Current', 'Secondary': 'Active', 'Address': '13423 BEACH BLVD STE 104JACKSONVILLE, FL 32246', 'Result': '05/11/2018'}, {'Restaurant': 'PANCHEROS MEXICAN GRILL', 'License': 'SEA2615450', 'Rank': 'Seating', 'Expires': '06/01/2018', 'Primary': 'Current', 'Secondary': 'Active', 'Address': '13423 BEACH BLVD STE 104JACKSONVILLE, FL 32246', 'Result': '05/11/2018'}, {'Restaurant': 'PANCHEROS MEXICAN GRILL', 'License': 'SEA2615450', 'Rank': 'Seating', 'Expires': '06/01/2018', 'Primary': 'Current', 'Secondary': 'Active', 'Address': '13423 BEACH BLVD STE 104JACKSONVILLE, FL 32246', 'Result': '05/11/2018'}, {'Restaurant': 'PANCHEROS MEXICAN GRILL', 'License': 'SEA2615450', 'Rank': 'Seating', 'Expires': '06/01/2018', 'Primary': 'Current', 'Secondary': 'Active', 'Address': '13423 BEACH BLVD STE 104JACKSONVILLE, FL 32246', 'Result': '05/11/2018'}, {'Restaurant': 'PANCHEROS MEXICAN GRILL', 'License': 'SEA2615450', 'Rank': 'Seating', 'Expires': '06/01/2018', 'Primary': 'Current', 'Secondary': 'Active', 'Address': '13423 BEACH BLVD STE 104JACKSONVILLE, FL 32246', 'Result': '05/11/2018'}, {'Restaurant': 'PANCHEROS MEXICAN GRILL', 'License': 'SEA2615450', 'Rank': 'Seating', 'Expires': '06/01/2018', 'Primary': 'Current', 'Secondary': 'Active', 'Address': '13423 BEACH BLVD STE 104JACKSONVILLE, FL 32246', 'Result': '05/11/2018'}, {'Restaurant': 'PANCHEROS MEXICAN GRILL', 'License': 'SEA2615450', 'Rank': 'Seating', 'Expires': '06/01/2018', 'Primary': 'Current', 'Secondary': 'Active', 'Address': '13423 BEACH BLVD STE 104JACKSONVILLE, FL 32246', 'Result': '05/11/2018'}, {'Restaurant': 'PANCHEROS MEXICAN GRILL', 'License': 'SEA2615450', 'Rank': 'Seating', 'Expires': '06/01/2018', 'Primary': 'Current', 'Secondary': 'Active', 'Address': '13423 BEACH BLVD STE 104JACKSONVILLE, FL 32246', 'Result': '05/11/2018'}, {'Restaurant': 'PANCHEROS MEXICAN GRILL', 'License': 'SEA2615450', 'Rank': 'Seating', 'Expires': '06/01/2018', 'Primary': 'Current', 'Secondary': 'Active', 'Address': '13423 BEACH BLVD STE 104JACKSONVILLE, FL 32246', 'Result': '05/11/2018'}, {'Restaurant': 'PANCHEROS MEXICAN GRILL', 'License': 'SEA2615450', 'Rank': 'Seating', 'Expires': '06/01/2018', 'Primary': 'Current', 'Secondary': 'Active', 'Address': '13423 BEACH BLVD STE 104JACKSONVILLE, FL 32246', 'Result': '05/11/2018'}, {'Restaurant': 'PANCHEROS MEXICAN GRILL', 'License': 'SEA2615450', 'Rank': 'Seating', 'Expires': '06/01/2018', 'Primary': 'Current', 'Secondary': 'Active', 'Address': '13423 BEACH BLVD STE 104JACKSONVILLE, FL 32246', 'Result': '05/11/2018'}, {'Restaurant': 'PANCHEROS MEXICAN GRILL', 'License': 'SEA2615450', 'Rank': 'Seating', 'Expires': '06/01/2018', 'Primary': 'Current', 'Secondary': 'Active', 'Address': '13423 BEACH BLVD STE 104JACKSONVILLE, FL 32246', 'Result': '05/11/2018'}, {'Restaurant': 'PANCHEROS MEXICAN GRILL', 'License': 'SEA2615450', 'Rank': 'Seating', 'Expires': '06/01/2018', 'Primary': 'Current', 'Secondary': 'Active', 'Address': '13423 BEACH BLVD STE 104JACKSONVILLE, FL 32246', 'Result': '05/11/2018'}, {'Restaurant': 'PANCHEROS MEXICAN GRILL', 'License': 'SEA2615450', 'Rank': 'Seating', 'Expires': '06/01/2018', 'Primary': 'Current', 'Secondary': 'Active', 'Address': '13423 BEACH BLVD STE 104JACKSONVILLE, FL 32246', 'Result': '05/11/2018'}, {'Restaurant': 'PANCHEROS MEXICAN GRILL', 'License': 'SEA2615450', 'Rank': 'Seating', 'Expires': '06/01/2018', 'Primary': 'Current', 'Secondary': 'Active', 'Address': '13423 BEACH BLVD STE 104JACKSONVILLE, FL 32246', 'Result': '05/11/2018'}, {'Restaurant': 'PANCHEROS MEXICAN GRILL', 'License': 'SEA2615450', 'Rank': 'Seating', 'Expires': '06/01/2018', 'Primary': 'Current', 'Secondary': 'Active', 'Address': '13423 BEACH BLVD STE 104JACKSONVILLE, FL 32246', 'Result': '05/11/2018'}, {'Restaurant': 'PANCHEROS MEXICAN GRILL', 'License': 'SEA2615450', 'Rank': 'Seating', 'Expires': '06/01/2018', 'Primary': 'Current', 'Secondary': 'Active', 'Address': '13423 BEACH BLVD STE 104JACKSONVILLE, FL 32246', 'Result': '05/11/2018'}, {'Restaurant': 'PANCHEROS MEXICAN GRILL', 'License': 'SEA2615450', 'Rank': 'Seating', 'Expires': '06/01/2018', 'Primary': 'Current', 'Secondary': 'Active', 'Address': '13423 BEACH BLVD STE 104JACKSONVILLE, FL 32246', 'Result': '05/11/2018'}, {'Restaurant': 'PANCHEROS MEXICAN GRILL', 'License': 'SEA2615450', 'Rank': 'Seating', 'Expires': '06/01/2018', 'Primary': 'Current', 'Secondary': 'Active', 'Address': '13423 BEACH BLVD STE 104JACKSONVILLE, FL 32246', 'Result': '05/11/2018'}, {'Restaurant': 'PANCHEROS MEXICAN GRILL', 'License': 'SEA2615450', 'Rank': 'Seating', 'Expires': '06/01/2018', 'Primary': 'Current', 'Secondary': 'Active', 'Address': '13423 BEACH BLVD STE 104JACKSONVILLE, FL 32246', 'Result': '05/11/2018'}, {'Restaurant': 'PANCHEROS MEXICAN GRILL', 'License': 'SEA2615450', 'Rank': 'Seating', 'Expires': '06/01/2018', 'Primary': 'Current', 'Secondary': 'Active', 'Address': '13423 BEACH BLVD STE 104JACKSONVILLE, FL 32246', 'Result': '05/11/2018'}, {'Restaurant': 'PANCHEROS MEXICAN GRILL', 'License': 'SEA2615450', 'Rank': 'Seating', 'Expires': '06/01/2018', 'Primary': 'Current', 'Secondary': 'Active', 'Address': '13423 BEACH BLVD STE 104JACKSONVILLE, FL 32246', 'Result': '05/11/2018'}, {'Restaurant': 'PANCHEROS MEXICAN GRILL', 'License': 'SEA2615450', 'Rank': 'Seating', 'Expires': '06/01/2018', 'Primary': 'Current', 'Secondary': 'Active', 'Address': '13423 BEACH BLVD STE 104JACKSONVILLE, FL 32246', 'Result': '05/11/2018'}, {'Restaurant': 'PANCHEROS MEXICAN GRILL', 'License': 'SEA2615450', 'Rank': 'Seating', 'Expires': '06/01/2018', 'Primary': 'Current', 'Secondary': 'Active', 'Address': '13423 BEACH BLVD STE 104JACKSONVILLE, FL 32246', 'Result': '05/11/2018'}, {'Restaurant': 'PANCHEROS MEXICAN GRILL', 'License': 'SEA2615450', 'Rank': 'Seating', 'Expires': '06/01/2018', 'Primary': 'Current', 'Secondary': 'Active', 'Address': '13423 BEACH BLVD STE 104JACKSONVILLE, FL 32246', 'Result': '05/11/2018'}, {'Restaurant': 'PANCHEROS MEXICAN GRILL', 'License': 'SEA2615450', 'Rank': 'Seating', 'Expires': '06/01/2018', 'Primary': 'Current', 'Secondary': 'Active', 'Address': '13423 BEACH BLVD STE 104JACKSONVILLE, FL 32246', 'Result': '05/11/2018'}, {'Restaurant': 'PANCHEROS MEXICAN GRILL', 'License': 'SEA2615450', 'Rank': 'Seating', 'Expires': '06/01/2018', 'Primary': 'Current', 'Secondary': 'Active', 'Address': '13423 BEACH BLVD STE 104JACKSONVILLE, FL 32246', 'Result': '05/11/2018'}, {'Restaurant': 'PANCHEROS MEXICAN GRILL', 'License': 'SEA2615450', 'Rank': 'Seating', 'Expires': '06/01/2018', 'Primary': 'Current', 'Secondary': 'Active', 'Address': '13423 BEACH BLVD STE 104JACKSONVILLE, FL 32246', 'Result': '05/11/2018'}, {'Restaurant': 'PANCHEROS MEXICAN GRILL', 'License': 'SEA2615450', 'Rank': 'Seating', 'Expires': '06/01/2018', 'Primary': 'Current', 'Secondary': 'Active', 'Address': '13423 BEACH BLVD STE 104JACKSONVILLE, FL 32246', 'Result': '05/11/2018'}, {'Restaurant': 'PANCHEROS MEXICAN GRILL', 'License': 'SEA2615450', 'Rank': 'Seating', 'Expires': '06/01/2018', 'Primary': 'Current', 'Secondary': 'Active', 'Address': '13423 BEACH BLVD STE 104JACKSONVILLE, FL 32246', 'Result': '05/11/2018'}, {'Restaurant': 'PANCHEROS MEXICAN GRILL', 'License': 'SEA2615450', 'Rank': 'Seating', 'Expires': '06/01/2018', 'Primary': 'Current', 'Secondary': 'Active', 'Address': '13423 BEACH BLVD STE 104JACKSONVILLE, FL 32246', 'Result': '05/11/2018'}, {'Restaurant': 'PANCHEROS MEXICAN GRILL', 'License': 'SEA2615450', 'Rank': 'Seating', 'Expires': '06/01/2018', 'Primary': 'Current', 'Secondary': 'Active', 'Address': '13423 BEACH BLVD STE 104JACKSONVILLE, FL 32246', 'Result': '05/11/2018'}, {'Restaurant': 'PANCHEROS MEXICAN GRILL', 'License': 'SEA2615450', 'Rank': 'Seating', 'Expires': '06/01/2018', 'Primary': 'Current', 'Secondary': 'Active', 'Address': '13423 BEACH BLVD STE 104JACKSONVILLE, FL 32246', 'Result': '05/11/2018'}, {'Restaurant': 'PANCHEROS MEXICAN GRILL', 'License': 'SEA2615450', 'Rank': 'Seating', 'Expires': '06/01/2018', 'Primary': 'Current', 'Secondary': 'Active', 'Address': '13423 BEACH BLVD STE 104JACKSONVILLE, FL 32246', 'Result': '05/11/2018'}, {'Restaurant': 'PANCHEROS MEXICAN GRILL', 'License': 'SEA2615450', 'Rank': 'Seating', 'Expires': '06/01/2018', 'Primary': 'Current', 'Secondary': 'Active', 'Address': '13423 BEACH BLVD STE 104JACKSONVILLE, FL 32246', 'Result': '05/11/2018'}, {'Restaurant': 'PANCHEROS MEXICAN GRILL', 'License': 'SEA2615450', 'Rank': 'Seating', 'Expires': '06/01/2018', 'Primary': 'Current', 'Secondary': 'Active', 'Address': '13423 BEACH BLVD STE 104JACKSONVILLE, FL 32246', 'Result': '05/11/2018'}, {'Restaurant': 'PANCHEROS MEXICAN GRILL', 'License': 'SEA2615450', 'Rank': 'Seating', 'Expires': '06/01/2018', 'Primary': 'Current', 'Secondary': 'Active', 'Address': '13423 BEACH BLVD STE 104JACKSONVILLE, FL 32246', 'Result': '05/11/2018'}, {'Restaurant': 'PANCHEROS MEXICAN GRILL', 'License': 'SEA2615450', 'Rank': 'Seating', 'Expires': '06/01/2018', 'Primary': 'Current', 'Secondary': 'Active', 'Address': '13423 BEACH BLVD STE 104JACKSONVILLE, FL 32246', 'Result': '05/11/2018'}, {'Restaurant': 'PANCHEROS MEXICAN GRILL', 'License': 'SEA2615450', 'Rank': 'Seating', 'Expires': '06/01/2018', 'Primary': 'Current', 'Secondary': 'Active', 'Address': '13423 BEACH BLVD STE 104JACKSONVILLE, FL 32246', 'Result': '05/11/2018'}, {'Restaurant': 'PANCHEROS MEXICAN GRILL', 'License': 'SEA2615450', 'Rank': 'Seating', 'Expires': '06/01/2018', 'Primary': 'Current', 'Secondary': 'Active', 'Address': '13423 BEACH BLVD STE 104JACKSONVILLE, FL 32246', 'Result': '05/11/2018'}, {'Restaurant': 'PANCHEROS MEXICAN GRILL', 'License': 'SEA2615450', 'Rank': 'Seating', 'Expires': '06/01/2018', 'Primary': 'Current', 'Secondary': 'Active', 'Address': '13423 BEACH BLVD STE 104JACKSONVILLE, FL 32246', 'Result': '05/11/2018'}, {'Restaurant': 'PANCHEROS MEXICAN GRILL', 'License': 'SEA2615450', 'Rank': 'Seating', 'Expires': '06/01/2018', 'Primary': 'Current', 'Secondary': 'Active', 'Address': '13423 BEACH BLVD STE 104JACKSONVILLE, FL 32246', 'Result': '05/11/2018'}, {'Restaurant': 'PANCHEROS MEXICAN GRILL', 'License': 'SEA2615450', 'Rank': 'Seating', 'Expires': '06/01/2018', 'Primary': 'Current', 'Secondary': 'Active', 'Address': '13423 BEACH BLVD STE 104JACKSONVILLE, FL 32246', 'Result': '05/11/2018'}, {'Restaurant': 'PANCHEROS MEXICAN GRILL', 'License': 'SEA2615450', 'Rank': 'Seating', 'Expires': '06/01/2018', 'Primary': 'Current', 'Secondary': 'Active', 'Address': '13423 BEACH BLVD STE 104JACKSONVILLE, FL 32246', 'Result': '05/11/2018'}, {'Restaurant': 'IBTISAM HIJAZU', 'License': 'CAT1102947', 'Rank': 'Catering', 'Expires': '06/01/2019', 'Primary': 'Current', 'Secondary': 'Active', 'Address': '1305 NW 6 ST STE 3GAINESVILLE, FL 32601', 'Result': '05/11/2018'}, {'Restaurant': 'IBTISAM HIJAZU', 'License': 'CAT1102947', 'Rank': 'Catering', 'Expires': '06/01/2019', 'Primary': 'Current', 'Secondary': 'Active', 'Address': '1305 NW 6 ST STE 3GAINESVILLE, FL 32601', 'Result': '05/11/2018'}, {'Restaurant': 'IBTISAM HIJAZU', 'License': 'CAT1102947', 'Rank': 'Catering', 'Expires': '06/01/2019', 'Primary': 'Current', 'Secondary': 'Active', 'Address': '1305 NW 6 ST STE 3GAINESVILLE, FL 32601', 'Result': '05/11/2018'}, {'Restaurant': 'IBTISAM HIJAZU', 'License': 'CAT1102947', 'Rank': 'Catering', 'Expires': '06/01/2019', 'Primary': 'Current', 'Secondary': 'Active', 'Address': '1305 NW 6 ST STE 3GAINESVILLE, FL 32601', 'Result': '05/11/2018'}, {'Restaurant': 'IBTISAM HIJAZU', 'License': 'CAT1102947', 'Rank': 'Catering', 'Expires': '06/01/2019', 'Primary': 'Current', 'Secondary': 'Active', 'Address': '1305 NW 6 ST STE 3GAINESVILLE, FL 32601', 'Result': '05/11/2018'}, {'Restaurant': 'IBTISAM HIJAZU', 'License': 'CAT1102947', 'Rank': 'Catering', 'Expires': '06/01/2019', 'Primary': 'Current', 'Secondary': 'Active', 'Address': '1305 NW 6 ST STE 3GAINESVILLE, FL 32601', 'Result': '05/11/2018'}, {'Restaurant': 'IBTISAM HIJAZU', 'License': 'CAT1102947', 'Rank': 'Catering', 'Expires': '06/01/2019', 'Primary': 'Current', 'Secondary': 'Active', 'Address': '1305 NW 6 ST STE 3GAINESVILLE, FL 32601', 'Result': '05/11/2018'}, {'Restaurant': 'IBTISAM HIJAZU', 'License': 'CAT1102947', 'Rank': 'Catering', 'Expires': '06/01/2019', 'Primary': 'Current', 'Secondary': 'Active', 'Address': '1305 NW 6 ST STE 3GAINESVILLE, FL 32601', 'Result': '05/11/2018'}, {'Restaurant': 'IBTISAM HIJAZU', 'License': 'CAT1102947', 'Rank': 'Catering', 'Expires': '06/01/2019', 'Primary': 'Current', 'Secondary': 'Active', 'Address': '1305 NW 6 ST STE 3GAINESVILLE, FL 32601', 'Result': '05/11/2018'}, {'Restaurant': 'IBTISAM HIJAZU', 'License': 'CAT1102947', 'Rank': 'Catering', 'Expires': '06/01/2019', 'Primary': 'Current', 'Secondary': 'Active', 'Address': '1305 NW 6 ST STE 3GAINESVILLE, FL 32601', 'Result': '05/11/2018'}, {'Restaurant': 'IBTISAM HIJAZU', 'License': 'CAT1102947', 'Rank': 'Catering', 'Expires': '06/01/2019', 'Primary': 'Current', 'Secondary': 'Active', 'Address': '1305 NW 6 ST STE 3GAINESVILLE, FL 32601', 'Result': '05/11/2018'}, {'Restaurant': 'IBTISAM HIJAZU', 'License': 'CAT1102947', 'Rank': 'Catering', 'Expires': '06/01/2019', 'Primary': 'Current', 'Secondary': 'Active', 'Address': '1305 NW 6 ST STE 3GAINESVILLE, FL 32601', 'Result': '05/11/2018'}, {'Restaurant': 'IBTISAM HIJAZU', 'License': 'CAT1102947', 'Rank': 'Catering', 'Expires': '06/01/2019', 'Primary': 'Current', 'Secondary': 'Active', 'Address': '1305 NW 6 ST STE 3GAINESVILLE, FL 32601', 'Result': '05/11/2018'}, {'Restaurant': 'IBTISAM HIJAZU', 'License': 'CAT1102947', 'Rank': 'Catering', 'Expires': '06/01/2019', 'Primary': 'Current', 'Secondary': 'Active', 'Address': '1305 NW 6 ST STE 3GAINESVILLE, FL 32601', 'Result': '05/11/2018'}, {'Restaurant': 'IBTISAM HIJAZU', 'License': 'CAT1102947', 'Rank': 'Catering', 'Expires': '06/01/2019', 'Primary': 'Current', 'Secondary': 'Active', 'Address': '1305 NW 6 ST STE 3GAINESVILLE, FL 32601', 'Result': '05/11/2018'}, {'Restaurant': 'IBTISAM HIJAZU', 'License': 'CAT1102947', 'Rank': 'Catering', 'Expires': '06/01/2019', 'Primary': 'Current', 'Secondary': 'Active', 'Address': '1305 NW 6 ST STE 3GAINESVILLE, FL 32601', 'Result': '05/11/2018'}, {'Restaurant': 'IBTISAM HIJAZU', 'License': 'CAT1102947', 'Rank': 'Catering', 'Expires': '06/01/2019', 'Primary': 'Current', 'Secondary': 'Active', 'Address': '1305 NW 6 ST STE 3GAINESVILLE, FL 32601', 'Result': '05/11/2018'}, {'Restaurant': 'IBTISAM HIJAZU', 'License': 'CAT1102947', 'Rank': 'Catering', 'Expires': '06/01/2019', 'Primary': 'Current', 'Secondary': 'Active', 'Address': '1305 NW 6 ST STE 3GAINESVILLE, FL 32601', 'Result': '05/11/2018'}, {'Restaurant': 'IBTISAM HIJAZU', 'License': 'CAT1102947', 'Rank': 'Catering', 'Expires': '06/01/2019', 'Primary': 'Current', 'Secondary': 'Active', 'Address': '1305 NW 6 ST STE 3GAINESVILLE, FL 32601', 'Result': '05/11/2018'}, {'Restaurant': 'IBTISAM HIJAZU', 'License': 'CAT1102947', 'Rank': 'Catering', 'Expires': '06/01/2019', 'Primary': 'Current', 'Secondary': 'Active', 'Address': '1305 NW 6 ST STE 3GAINESVILLE, FL 32601', 'Result': '05/11/2018'}, {'Restaurant': 'IBTISAM HIJAZU', 'License': 'CAT1102947', 'Rank': 'Catering', 'Expires': '06/01/2019', 'Primary': 'Current', 'Secondary': 'Active', 'Address': '1305 NW 6 ST STE 3GAINESVILLE, FL 32601', 'Result': '05/11/2018'}, {'Restaurant': 'IBTISAM HIJAZU', 'License': 'CAT1102947', 'Rank': 'Catering', 'Expires': '06/01/2019', 'Primary': 'Current', 'Secondary': 'Active', 'Address': '1305 NW 6 ST STE 3GAINESVILLE, FL 32601', 'Result': '05/11/2018'}, {'Restaurant': 'IBTISAM HIJAZU', 'License': 'CAT1102947', 'Rank': 'Catering', 'Expires': '06/01/2019', 'Primary': 'Current', 'Secondary': 'Active', 'Address': '1305 NW 6 ST STE 3GAINESVILLE, FL 32601', 'Result': '05/11/2018'}, {'Restaurant': 'IBTISAM HIJAZU', 'License': 'CAT1102947', 'Rank': 'Catering', 'Expires': '06/01/2019', 'Primary': 'Current', 'Secondary': 'Active', 'Address': '1305 NW 6 ST STE 3GAINESVILLE, FL 32601', 'Result': '05/11/2018'}, {'Restaurant': 'IBTISAM HIJAZU', 'License': 'CAT1102947', 'Rank': 'Catering', 'Expires': '06/01/2019', 'Primary': 'Current', 'Secondary': 'Active', 'Address': '1305 NW 6 ST STE 3GAINESVILLE, FL 32601', 'Result': '05/11/2018'}, {'Restaurant': 'IBTISAM HIJAZU', 'License': 'CAT1102947', 'Rank': 'Catering', 'Expires': '06/01/2019', 'Primary': 'Current', 'Secondary': 'Active', 'Address': '1305 NW 6 ST STE 3GAINESVILLE, FL 32601', 'Result': '05/11/2018'}, {'Restaurant': 'IBTISAM HIJAZU', 'License': 'CAT1102947', 'Rank': 'Catering', 'Expires': '06/01/2019', 'Primary': 'Current', 'Secondary': 'Active', 'Address': '1305 NW 6 ST STE 3GAINESVILLE, FL 32601', 'Result': '05/11/2018'}, {'Restaurant': 'IBTISAM HIJAZU', 'License': 'CAT1102947', 'Rank': 'Catering', 'Expires': '06/01/2019', 'Primary': 'Current', 'Secondary': 'Active', 'Address': '1305 NW 6 ST STE 3GAINESVILLE, FL 32601', 'Result': '05/11/2018'}, {'Restaurant': 'IBTISAM HIJAZU', 'License': 'CAT1102947', 'Rank': 'Catering', 'Expires': '06/01/2019', 'Primary': 'Current', 'Secondary': 'Active', 'Address': '1305 NW 6 ST STE 3GAINESVILLE, FL 32601', 'Result': '05/11/2018'}, {'Restaurant': 'IBTISAM HIJAZU', 'License': 'CAT1102947', 'Rank': 'Catering', 'Expires': '06/01/2019', 'Primary': 'Current', 'Secondary': 'Active', 'Address': '1305 NW 6 ST STE 3GAINESVILLE, FL 32601', 'Result': '05/11/2018'}, {'Restaurant': 'IBTISAM HIJAZU', 'License': 'CAT1102947', 'Rank': 'Catering', 'Expires': '06/01/2019', 'Primary': 'Current', 'Secondary': 'Active', 'Address': '1305 NW 6 ST STE 3GAINESVILLE, FL 32601', 'Result': '05/11/2018'}, {'Restaurant': 'IBTISAM HIJAZU', 'License': 'CAT1102947', 'Rank': 'Catering', 'Expires': '06/01/2019', 'Primary': 'Current', 'Secondary': 'Active', 'Address': '1305 NW 6 ST STE 3GAINESVILLE, FL 32601', 'Result': '05/11/2018'}, {'Restaurant': 'IBTISAM HIJAZU', 'License': 'CAT1102947', 'Rank': 'Catering', 'Expires': '06/01/2019', 'Primary': 'Current', 'Secondary': 'Active', 'Address': '1305 NW 6 ST STE 3GAINESVILLE, FL 32601', 'Result': '05/11/2018'}, {'Restaurant': 'IBTISAM HIJAZU', 'License': 'CAT1102947', 'Rank': 'Catering', 'Expires': '06/01/2019', 'Primary': 'Current', 'Secondary': 'Active', 'Address': '1305 NW 6 ST STE 3GAINESVILLE, FL 32601', 'Result': '05/11/2018'}, {'Restaurant': 'IBTISAM HIJAZU', 'License': 'CAT1102947', 'Rank': 'Catering', 'Expires': '06/01/2019', 'Primary': 'Current', 'Secondary': 'Active', 'Address': '1305 NW 6 ST STE 3GAINESVILLE, FL 32601', 'Result': '05/11/2018'}, {'Restaurant': 'IBTISAM HIJAZU', 'License': 'CAT1102947', 'Rank': 'Catering', 'Expires': '06/01/2019', 'Primary': 'Current', 'Secondary': 'Active', 'Address': '1305 NW 6 ST STE 3GAINESVILLE, FL 32601', 'Result': '05/11/2018'}, {'Restaurant': 'IBTISAM HIJAZU', 'License': 'CAT1102947', 'Rank': 'Catering', 'Expires': '06/01/2019', 'Primary': 'Current', 'Secondary': 'Active', 'Address': '1305 NW 6 ST STE 3GAINESVILLE, FL 32601', 'Result': '05/11/2018'}]\n"
     ]
    }
   ],
>>>>>>> 6fecbe7dbd1f7655cc52da6e554df9c353f2d332
   "source": [
    "urlList = ['https://www.myfloridalicense.com/inspectionDetail.asp?InspVisitID=6353619&licid=6683171', 'https://www.myfloridalicense.com/inspectionDetail.asp?InspVisitID=6452493&licid=5874202']\n",
    "# loop through the url list to gather inspection details\n",
    "detailsLib = {}\n",
    "def get_inspect_detail(urlList):\n",
    "    html = urlopen(urlList)\n",
    "    soup = bs4.BeautifulSoup(html.read(), 'lxml')\n",
    "    details = soup.find_all('font', {'face': 'verdana'})[10:]\n",
    "    result = []\n",
    "    for detail in details:\n",
    "        siteName = details[0].text\n",
    "        licNum = details[2].text\n",
    "        siteRank = details[4].text\n",
    "        expDate = details[6].text\n",
    "        primeStatus = details[8].text\n",
    "        secStatus = details[10].text\n",
    "        siteAddress = details[12].text\n",
    "        inspectResult = details[20].text\n",
    "        \n",
    "#       observed1 = details[34].get_text\n",
    "#       observed2 = details[36].text\n",
    "#       observed3 = details[38].text\n",
    "#       observed4 = details[40].text\n",
    "#       observed5 = details[42].text\n",
    "#       observed6 = details[44].text\n",
    "#       observed7 = details[46].text\n",
    "#       observed8 = details[48].text\n",
    "#       observed9 = details[50].text\n",
    "#       observed10 = details[52].text\n",
    "\n",
    "        detailsLib = {\n",
    "            'Restaurant': siteName,\n",
    "            'License': licNum,\n",
    "            'Rank': siteRank,\n",
    "            'Expires': expDate,\n",
    "            'Primary': primeStatus,\n",
    "            'Secondary': secStatus,\n",
    "            'Address': siteAddress,\n",
    "            'Result': inspectResult,\n",
    "            \n",
    "#            'Observed1': observed1,\n",
    "#            'Observed2': observed2,\n",
    "#            'Observed3': observed3,\n",
    "#            'Observed4': observed4,\n",
    "#            'Observed5': observed5,\n",
    "#            'Observed6': observed6,\n",
    "#            'Observed7': observed7,\n",
    "#            'Observed8': observed8,\n",
    "#            'Observed9': observed9,\n",
    "#            'Observed10': observed10\n",
    "        }\n",
    "        result.append(detailsLib)\n",
    "        \n",
    "    return result\n",
    "\n",
    "all_results = []\n",
<<<<<<< HEAD
    "for inspurl in urlList:\n",
    "    html = urlopen(inspurl)\n",
    "    #details = get_inspect_detail(url)\n",
    "    #all_results.extend(details)\n",
    "    \n",
    "  \n",
=======
    "for url in urlList:\n",
    "    details = get_inspect_detail(url)\n",
    "    all_results.extend(details)\n",
>>>>>>> 6fecbe7dbd1f7655cc52da6e554df9c353f2d332
    "\n",
    "print(all_results)"
   ]
  },
  {
   "cell_type": "code",
   "execution_count": null,
   "metadata": {},
   "outputs": [],
   "source": [
    "print(detailsLib['Restaurant'])\n",
    "street = address.split(' ')\n",
    "print(detailsLib['Address'])\n"
   ]
  },
  {
   "cell_type": "code",
   "execution_count": null,
   "metadata": {},
   "outputs": [],
   "source": [
    "html = urlopen(urls)\n",
    "soup = bs4.BeautifulSoup(html.read(), 'lxml')\n",
    "details = soup.findAll('font', {'face':'verdana'})[0:]\n",
    "print(details)\n",
    "\n",
    "#more of a regex job but less dependent on sit layout"
   ]
  },
  {
   "cell_type": "code",
   "execution_count": null,
   "metadata": {},
   "outputs": [],
   "source": [
    "def clean_up(text, strip_chars=[], replace_extras={}):\n",
    "    # Handle strip_chars\n",
    "    strip_items = '|'.join(re.escape(s) for s in strip_chars)\n",
    "    strip_re = r'^(?:{}|\\s)+|(?:{}|\\s)+$'.format(strip_items, strip_items)\n",
    "    text = re.sub(strip_re, '', text, re.MULTILINE)\n",
    "\n",
    "    # Normalize whitespace and handle replace_extras\n",
    "    replace_keys = list(replace_extras.keys())\n",
    "    replace_keys.sort(key=len, reverse=True)\n",
    "    replace_re = '|'.join([re.escape(s) for s in replace_keys] + [r'\\s+'])\n",
    "    return re.sub(\n",
    "        replace_re,\n",
    "        lambda match: replace_extras.get(match.group(), ' '),\n",
    "        text\n",
    "    ).strip()\n",
    "\n",
    "clean_up(str(details))\n",
    "print(details)"
   ]
  },
  {
   "cell_type": "code",
   "execution_count": null,
   "metadata": {},
   "outputs": [],
   "source": [
    "def getNgrams(content, n):\n",
    "    content = re.sub('\\n|[[\\d+\\]]', ' ', content)\n",
    "    content = bytes(content, 'UTF-8')\n",
    "    content = content.decode('ascii', 'ignore')\n",
    "    content = content.split(' ')\n",
    "    content = [word for word in content if word != '']\n",
    "    output = []\n",
    "    for i in range(len(content)-n+1):\n",
    "        output.append(content[i:i+n])\n",
    "    return ouput\n",
    "\n",
    "getNgrams(content, 2)\n"
   ]
  },
  {
   "cell_type": "code",
   "execution_count": null,
   "metadata": {},
   "outputs": [],
   "source": []
  },
  {
   "cell_type": "code",
   "execution_count": null,
   "metadata": {},
   "outputs": [],
   "source": []
  }
 ],
 "metadata": {
  "kernelspec": {
   "display_name": "Python 3",
   "language": "python",
   "name": "python3"
  },
  "language_info": {
   "codemirror_mode": {
    "name": "ipython",
    "version": 3
   },
   "file_extension": ".py",
   "mimetype": "text/x-python",
   "name": "python",
   "nbconvert_exporter": "python",
   "pygments_lexer": "ipython3",
   "version": "3.6.2"
  }
 },
 "nbformat": 4,
 "nbformat_minor": 2
}
