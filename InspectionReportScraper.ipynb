{
 "cells": [
  {
   "cell_type": "markdown",
   "metadata": {},
   "source": [
    "# Alachua County restaurant inspection analysis\n",
    "_This will take restaurant inspection data by the state of Florida and format it in a more reader-friendly way for publication in print and online. We'll filter for the most egregious current violations at restaurants in Alachua County._"
   ]
  },
  {
   "cell_type": "markdown",
   "metadata": {},
   "source": [
    "After importing Pandas,etc., this reads in the state summary report year-to-date for District 5, which includes Alachua County, and adds an exception in case the file is not found (output probably needs to be set as variable so it can be written into the output file). The raw file has no headers and 82 columns. So this removes all but five columns and adds headers for those. Finally, it displays the first five rows of values."
   ]
  },
  {
   "cell_type": "code",
   "execution_count": 1,
   "metadata": {},
   "outputs": [],
   "source": [
    "import pandas as pd\n",
    "import datetime\n",
    "import numpy as np\n",
    "from urllib.request import urlopen\n",
    "from urllib.error import HTTPError\n",
    "from bs4 import BeautifulSoup"
   ]
  },
  {
   "cell_type": "code",
   "execution_count": 3,
   "metadata": {},
   "outputs": [
    {
     "data": {
      "text/html": [
       "<div>\n",
       "<style scoped>\n",
       "    .dataframe tbody tr th:only-of-type {\n",
       "        vertical-align: middle;\n",
       "    }\n",
       "\n",
       "    .dataframe tbody tr th {\n",
       "        vertical-align: top;\n",
       "    }\n",
       "\n",
       "    .dataframe thead th {\n",
       "        text-align: right;\n",
       "    }\n",
       "</style>\n",
       "<table border=\"1\" class=\"dataframe\">\n",
       "  <thead>\n",
       "    <tr style=\"text-align: right;\">\n",
       "      <th></th>\n",
       "      <th>CountyName</th>\n",
       "      <th>InspectDate</th>\n",
       "      <th>NumHighVio</th>\n",
       "      <th>LicenseID</th>\n",
       "      <th>VisitID</th>\n",
       "    </tr>\n",
       "  </thead>\n",
       "  <tbody>\n",
       "    <tr>\n",
       "      <th>0</th>\n",
       "      <td>Alachua</td>\n",
       "      <td>11/27/2017</td>\n",
       "      <td>0.0</td>\n",
       "      <td>3713828</td>\n",
       "      <td>6267656</td>\n",
       "    </tr>\n",
       "    <tr>\n",
       "      <th>1</th>\n",
       "      <td>Alachua</td>\n",
       "      <td>01/11/2018</td>\n",
       "      <td>0.0</td>\n",
       "      <td>3713828</td>\n",
       "      <td>6432746</td>\n",
       "    </tr>\n",
       "    <tr>\n",
       "      <th>2</th>\n",
       "      <td>Alachua</td>\n",
       "      <td>11/27/2017</td>\n",
       "      <td>0.0</td>\n",
       "      <td>3713765</td>\n",
       "      <td>6267651</td>\n",
       "    </tr>\n",
       "    <tr>\n",
       "      <th>3</th>\n",
       "      <td>Alachua</td>\n",
       "      <td>12/13/2017</td>\n",
       "      <td>0.0</td>\n",
       "      <td>3713820</td>\n",
       "      <td>6267655</td>\n",
       "    </tr>\n",
       "    <tr>\n",
       "      <th>4</th>\n",
       "      <td>Alachua</td>\n",
       "      <td>03/28/2018</td>\n",
       "      <td>0.0</td>\n",
       "      <td>5399007</td>\n",
       "      <td>6510609</td>\n",
       "    </tr>\n",
       "  </tbody>\n",
       "</table>\n",
       "</div>"
      ],
      "text/plain": [
       "  CountyName InspectDate  NumHighVio  LicenseID  VisitID\n",
       "0    Alachua  11/27/2017         0.0    3713828  6267656\n",
       "1    Alachua  01/11/2018         0.0    3713828  6432746\n",
       "2    Alachua  11/27/2017         0.0    3713765  6267651\n",
       "3    Alachua  12/13/2017         0.0    3713820  6267655\n",
       "4    Alachua  03/28/2018         0.0    5399007  6510609"
      ]
     },
     "execution_count": 3,
     "metadata": {},
     "output_type": "execute_result"
    }
   ],
   "source": [
    "try:\n",
    "    insp = pd.read_csv(\"ftp://dbprftp.state.fl.us/pub/llweb/5fdinspi.csv\", \n",
    "                               usecols=[2,14,18,80,81])\n",
    "    \n",
    "except IOError:\n",
    "    print(\"The file is not accessible.\")\n",
    "insp.columns = [\"CountyName\", \"InspectDate\", \"NumHighVio\", \"LicenseID\", \"VisitID\"]\n",
    "\n",
    "insp.head() ## this can go away later"
   ]
  },
  {
   "cell_type": "code",
   "execution_count": 4,
   "metadata": {},
   "outputs": [
    {
     "name": "stdout",
     "output_type": "stream",
     "text": [
      "<class 'pandas.core.frame.DataFrame'>\n",
      "Int64Index: 1528 entries, 0 to 1527\n",
      "Data columns (total 5 columns):\n",
      "CountyName     1528 non-null object\n",
      "InspectDate    1528 non-null object\n",
      "NumHighVio     1528 non-null float64\n",
      "LicenseID      1528 non-null int64\n",
      "VisitID        1528 non-null int64\n",
      "dtypes: float64(1), int64(2), object(2)\n",
      "memory usage: 71.6+ KB\n"
     ]
    }
   ],
   "source": [
    "alachua = insp[insp.CountyName == 'Alachua']\n",
    "alachua.info() ## this can go away later, but shows total number of rows"
   ]
  },
  {
   "cell_type": "code",
   "execution_count": 5,
   "metadata": {},
   "outputs": [
    {
     "name": "stdout",
     "output_type": "stream",
     "text": [
      "<class 'pandas.core.frame.DataFrame'>\n",
      "Int64Index: 767 entries, 5 to 1514\n",
      "Data columns (total 5 columns):\n",
      "CountyName     767 non-null object\n",
      "InspectDate    767 non-null object\n",
      "NumHighVio     767 non-null float64\n",
      "LicenseID      767 non-null int64\n",
      "VisitID        767 non-null int64\n",
      "dtypes: float64(1), int64(2), object(2)\n",
      "memory usage: 36.0+ KB\n"
     ]
    }
   ],
   "source": [
    "alachua = alachua[alachua.NumHighVio > 0]\n",
    "alachua.info() ## this can go away later, but shows how many rows filtered out"
   ]
  },
  {
   "cell_type": "code",
   "execution_count": 6,
   "metadata": {},
   "outputs": [
    {
     "data": {
      "text/html": [
       "<div>\n",
       "<style scoped>\n",
       "    .dataframe tbody tr th:only-of-type {\n",
       "        vertical-align: middle;\n",
       "    }\n",
       "\n",
       "    .dataframe tbody tr th {\n",
       "        vertical-align: top;\n",
       "    }\n",
       "\n",
       "    .dataframe thead th {\n",
       "        text-align: right;\n",
       "    }\n",
       "</style>\n",
       "<table border=\"1\" class=\"dataframe\">\n",
       "  <thead>\n",
       "    <tr style=\"text-align: right;\">\n",
       "      <th></th>\n",
       "      <th>CountyName</th>\n",
       "      <th>InspectDate</th>\n",
       "      <th>NumHighVio</th>\n",
       "      <th>LicenseID</th>\n",
       "      <th>VisitID</th>\n",
       "    </tr>\n",
       "  </thead>\n",
       "  <tbody>\n",
       "    <tr>\n",
       "      <th>5</th>\n",
       "      <td>Alachua</td>\n",
       "      <td>2018-03-21</td>\n",
       "      <td>1.0</td>\n",
       "      <td>5399007</td>\n",
       "      <td>6509808</td>\n",
       "    </tr>\n",
       "    <tr>\n",
       "      <th>6</th>\n",
       "      <td>Alachua</td>\n",
       "      <td>2018-03-20</td>\n",
       "      <td>2.0</td>\n",
       "      <td>5399007</td>\n",
       "      <td>6280880</td>\n",
       "    </tr>\n",
       "    <tr>\n",
       "      <th>24</th>\n",
       "      <td>Alachua</td>\n",
       "      <td>2017-11-22</td>\n",
       "      <td>1.0</td>\n",
       "      <td>6621480</td>\n",
       "      <td>6306950</td>\n",
       "    </tr>\n",
       "    <tr>\n",
       "      <th>26</th>\n",
       "      <td>Alachua</td>\n",
       "      <td>2018-04-30</td>\n",
       "      <td>1.0</td>\n",
       "      <td>6621480</td>\n",
       "      <td>6433038</td>\n",
       "    </tr>\n",
       "    <tr>\n",
       "      <th>30</th>\n",
       "      <td>Alachua</td>\n",
       "      <td>2017-07-21</td>\n",
       "      <td>1.0</td>\n",
       "      <td>6381936</td>\n",
       "      <td>6302632</td>\n",
       "    </tr>\n",
       "  </tbody>\n",
       "</table>\n",
       "</div>"
      ],
      "text/plain": [
       "   CountyName InspectDate  NumHighVio  LicenseID  VisitID\n",
       "5     Alachua  2018-03-21         1.0    5399007  6509808\n",
       "6     Alachua  2018-03-20         2.0    5399007  6280880\n",
       "24    Alachua  2017-11-22         1.0    6621480  6306950\n",
       "26    Alachua  2018-04-30         1.0    6621480  6433038\n",
       "30    Alachua  2017-07-21         1.0    6381936  6302632"
      ]
     },
     "execution_count": 6,
     "metadata": {},
     "output_type": "execute_result"
    }
   ],
   "source": [
    "alachua['InspectDate'] = pd.to_datetime(alachua['InspectDate']) ## changes date string to date object\n",
    "## done after dataframe filtered to smaller set\n",
    "alachua.head() ## this can go away later"
   ]
  },
  {
   "cell_type": "markdown",
   "metadata": {},
   "source": [
    "__Goal with this next is to select date range of week prior to 'today', but doesn't seem to work__"
   ]
  },
  {
   "cell_type": "code",
   "execution_count": 7,
   "metadata": {},
   "outputs": [
    {
     "name": "stdout",
     "output_type": "stream",
     "text": [
      "<class 'pandas.core.frame.DataFrame'>\n",
      "Int64Index: 767 entries, 5 to 1514\n",
      "Data columns (total 5 columns):\n",
      "CountyName     767 non-null object\n",
      "InspectDate    767 non-null datetime64[ns]\n",
      "NumHighVio     767 non-null float64\n",
      "LicenseID      767 non-null int64\n",
      "VisitID        767 non-null int64\n",
      "dtypes: datetime64[ns](1), float64(1), int64(2), object(1)\n",
      "memory usage: 36.0+ KB\n"
     ]
    }
   ],
   "source": [
    "today = pd.to_datetime('today')\n",
    "lastweek = datetime.date.today() - datetime.timedelta(days=7)\n",
    "\n",
    "alachua[(alachua['InspectDate'] > lastweek) & (alachua['InspectDate'] < today)]\n",
    "\n",
    "alachua.info()"
   ]
  },
  {
   "cell_type": "markdown",
   "metadata": {},
   "source": [
    "__Goal with this next is to select date range based on user input, but doesn't seem to work.__"
   ]
  },
  {
   "cell_type": "code",
   "execution_count": 9,
   "metadata": {},
   "outputs": [
    {
     "name": "stdout",
     "output_type": "stream",
     "text": [
      "Enter start: 01/01/2018\n",
      "Enter end: 04/01/2018\n",
      "<class 'pandas.core.frame.DataFrame'>\n",
      "Int64Index: 767 entries, 5 to 1514\n",
      "Data columns (total 5 columns):\n",
      "CountyName     767 non-null object\n",
      "InspectDate    767 non-null datetime64[ns]\n",
      "NumHighVio     767 non-null float64\n",
      "LicenseID      767 non-null int64\n",
      "VisitID        767 non-null int64\n",
      "dtypes: datetime64[ns](1), float64(1), int64(2), object(1)\n",
      "memory usage: 36.0+ KB\n"
     ]
    }
   ],
   "source": [
    "startDate = pd.to_datetime(input(\"Enter start: \"))\n",
    "endDate = pd.to_datetime(input(\"Enter end: \"))\n",
    "\n",
    "alachua[(alachua['InspectDate'] > startDate) & (alachua['InspectDate'] < endDate)]\n",
    "\n",
    "alachua.info()"
   ]
  },
  {
   "cell_type": "markdown",
   "metadata": {},
   "source": [
    "__Loop takes the LicenseID and VisitID, passes it to the url for the detailed reports:__"
   ]
  },
  {
   "cell_type": "code",
   "execution_count": 10,
   "metadata": {},
   "outputs": [],
   "source": [
    "for index, row in alachua.iterrows():\n",
    "    visitID = row['VisitID']\n",
    "    licID = row['LicenseID']\n",
    "    url = \"https://www.myfloridalicense.com/inspectionDetail.asp?InspVisitID= %s &licid= %s\" % (visitID, licID)\n",
    "    url = url.replace(' ', '') "
   ]
  },
  {
   "cell_type": "markdown",
   "metadata": {},
   "source": [
    "__Now it's time to use those urls to access the detailed reports with inspector comments, and scrape those.__"
   ]
  },
  {
   "cell_type": "code",
   "execution_count": 12,
   "metadata": {},
   "outputs": [
    {
     "ename": "NameError",
     "evalue": "name 'text' is not defined",
     "output_type": "error",
     "traceback": [
      "\u001b[0;31m---------------------------------------------------------------------------\u001b[0m",
      "\u001b[0;31mNameError\u001b[0m                                 Traceback (most recent call last)",
      "\u001b[0;32m<ipython-input-12-3f976a08717a>\u001b[0m in \u001b[0;36m<module>\u001b[0;34m()\u001b[0m\n\u001b[1;32m      1\u001b[0m \u001b[0;31m## here's one approach\u001b[0m\u001b[0;34m\u001b[0m\u001b[0;34m\u001b[0m\u001b[0m\n\u001b[0;32m----> 2\u001b[0;31m \u001b[0mtext\u001b[0m \u001b[0;34m=\u001b[0m \u001b[0mgetText\u001b[0m\u001b[0;34m(\u001b[0m\u001b[0;34m'https://www.myfloridalicense.com/inspectionDetail.asp?InspVisitID=6509808&licid=5399007'\u001b[0m\u001b[0;34m)\u001b[0m\u001b[0;34m\u001b[0m\u001b[0m\n\u001b[0m\u001b[1;32m      3\u001b[0m \u001b[0;34m\u001b[0m\u001b[0m\n\u001b[1;32m      4\u001b[0m \u001b[0;32mdef\u001b[0m \u001b[0mgetText\u001b[0m\u001b[0;34m(\u001b[0m\u001b[0murl\u001b[0m\u001b[0;34m)\u001b[0m\u001b[0;34m:\u001b[0m\u001b[0;34m\u001b[0m\u001b[0m\n\u001b[1;32m      5\u001b[0m     \u001b[0;32mtry\u001b[0m\u001b[0;34m:\u001b[0m\u001b[0;34m\u001b[0m\u001b[0m\n",
      "\u001b[0;32m<ipython-input-11-c56266f4f3ff>\u001b[0m in \u001b[0;36mgetText\u001b[0;34m(url)\u001b[0m\n\u001b[1;32m     10\u001b[0m     \u001b[0;32mexcept\u001b[0m \u001b[0mAttributeError\u001b[0m \u001b[0;32mas\u001b[0m \u001b[0me\u001b[0m\u001b[0;34m:\u001b[0m\u001b[0;34m\u001b[0m\u001b[0m\n\u001b[1;32m     11\u001b[0m         \u001b[0;32mreturn\u001b[0m \u001b[0;32mNone\u001b[0m\u001b[0;34m\u001b[0m\u001b[0m\n\u001b[0;32m---> 12\u001b[0;31m     \u001b[0;32mreturn\u001b[0m \u001b[0mtext\u001b[0m\u001b[0;34m\u001b[0m\u001b[0m\n\u001b[0m\u001b[1;32m     13\u001b[0m \u001b[0;34m\u001b[0m\u001b[0m\n\u001b[1;32m     14\u001b[0m \u001b[0mtext\u001b[0m \u001b[0;34m=\u001b[0m \u001b[0mgetText\u001b[0m\u001b[0;34m(\u001b[0m\u001b[0;34m'https://www.myfloridalicense.com/inspectionDetail.asp?InspVisitID=6509808&licid=5399007'\u001b[0m\u001b[0;34m)\u001b[0m\u001b[0;34m\u001b[0m\u001b[0m\n",
      "\u001b[0;31mNameError\u001b[0m: name 'text' is not defined"
     ]
    }
   ],
   "source": [
    "## here's one approach\n",
    "def getText(url):\n",
    "    try:\n",
    "        html = urlopen(url)\n",
    "    except HTTPError as e:\n",
    "        return None\n",
    "    try:\n",
    "        inspectReport = BeautifulSoup(html.read(), 'html.parser')\n",
    "        inspectText = inspectReport.findAll('font', {'face':'verdana'})\n",
    "    except AttributeError as e:\n",
    "        return None\n",
    "    return text\n",
    "\n",
    "text = getText('https://www.myfloridalicense.com/inspectionDetail.asp?InspVisitID=6509808&licid=5399007')\n",
    "if text == None:\n",
    "    print ('Report could not be found')\n",
    "else:\n",
    "    for text in inspectText:\n",
    "        print(text.get_text())"
   ]
  },
  {
   "cell_type": "code",
   "execution_count": null,
   "metadata": {
    "collapsed": true
   },
   "outputs": [],
   "source": []
  }
 ],
 "metadata": {
  "kernelspec": {
   "display_name": "Python 3",
   "language": "python",
   "name": "python3"
  },
  "language_info": {
   "codemirror_mode": {
    "name": "ipython",
    "version": 3
   },
   "file_extension": ".py",
   "mimetype": "text/x-python",
   "name": "python",
   "nbconvert_exporter": "python",
   "pygments_lexer": "ipython3",
   "version": "3.6.5"
  }
 },
 "nbformat": 4,
 "nbformat_minor": 2
}
