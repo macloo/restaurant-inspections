{
 "cells": [
  {
   "cell_type": "markdown",
   "metadata": {},
   "source": [
    "# Alachua County restaurant inspection analysis\n",
    "_This will take restaurant inspection data by the state of Florida and format it in a more reader-friendly way for publication in print and online. We'll filter for the most egregious current violations at restaurants in Alachua County._"
   ]
  },
  {
   "cell_type": "markdown",
   "metadata": {},
   "source": [
    "After importing Pandas,etc., this reads in the state summary report year-to-date for District 5, which includes Alachua County, and adds an exception in case the file is not found (output probably needs to be set as variable so it can be written into the output file). The raw file has no headers and 82 columns. So this removes all but five columns and adds headers for those. Finally, it displays the first five rows of values."
   ]
  },
  {
   "cell_type": "code",
   "execution_count": 1,
   "metadata": {
    "collapsed": true
   },
   "outputs": [],
   "source": [
    "import pandas as pd\n",
    "import datetime\n",
    "import numpy as np\n",
    "from urllib.request import urlopen\n",
    "from urllib.error import HTTPError\n",
    "from bs4 import BeautifulSoup"
   ]
  },
  {
   "cell_type": "code",
   "execution_count": 2,
   "metadata": {
    "collapsed": false
   },
   "outputs": [
    {
     "data": {
      "text/html": [
       "<div>\n",
       "<style scoped>\n",
       "    .dataframe tbody tr th:only-of-type {\n",
       "        vertical-align: middle;\n",
       "    }\n",
       "\n",
       "    .dataframe tbody tr th {\n",
       "        vertical-align: top;\n",
       "    }\n",
       "\n",
       "    .dataframe thead th {\n",
       "        text-align: right;\n",
       "    }\n",
       "</style>\n",
       "<table border=\"1\" class=\"dataframe\">\n",
       "  <thead>\n",
       "    <tr style=\"text-align: right;\">\n",
       "      <th></th>\n",
       "      <th>CountyName</th>\n",
       "      <th>InspectDate</th>\n",
       "      <th>NumHighVio</th>\n",
       "      <th>LicenseID</th>\n",
       "      <th>VisitID</th>\n",
       "    </tr>\n",
       "  </thead>\n",
       "  <tbody>\n",
       "    <tr>\n",
       "      <th>0</th>\n",
       "      <td>Alachua</td>\n",
       "      <td>11/27/2017</td>\n",
       "      <td>0.0</td>\n",
       "      <td>3713828</td>\n",
       "      <td>6267656</td>\n",
       "    </tr>\n",
       "    <tr>\n",
       "      <th>1</th>\n",
       "      <td>Alachua</td>\n",
       "      <td>01/11/2018</td>\n",
       "      <td>0.0</td>\n",
       "      <td>3713828</td>\n",
       "      <td>6432746</td>\n",
       "    </tr>\n",
       "    <tr>\n",
       "      <th>2</th>\n",
       "      <td>Alachua</td>\n",
       "      <td>11/27/2017</td>\n",
       "      <td>0.0</td>\n",
       "      <td>3713765</td>\n",
       "      <td>6267651</td>\n",
       "    </tr>\n",
       "    <tr>\n",
       "      <th>3</th>\n",
       "      <td>Alachua</td>\n",
       "      <td>12/13/2017</td>\n",
       "      <td>0.0</td>\n",
       "      <td>3713820</td>\n",
       "      <td>6267655</td>\n",
       "    </tr>\n",
       "    <tr>\n",
       "      <th>4</th>\n",
       "      <td>Alachua</td>\n",
       "      <td>03/28/2018</td>\n",
       "      <td>0.0</td>\n",
       "      <td>5399007</td>\n",
       "      <td>6510609</td>\n",
       "    </tr>\n",
       "  </tbody>\n",
       "</table>\n",
       "</div>"
      ],
      "text/plain": [
       "  CountyName InspectDate  NumHighVio  LicenseID  VisitID\n",
       "0    Alachua  11/27/2017         0.0    3713828  6267656\n",
       "1    Alachua  01/11/2018         0.0    3713828  6432746\n",
       "2    Alachua  11/27/2017         0.0    3713765  6267651\n",
       "3    Alachua  12/13/2017         0.0    3713820  6267655\n",
       "4    Alachua  03/28/2018         0.0    5399007  6510609"
      ]
     },
     "execution_count": 2,
     "metadata": {},
     "output_type": "execute_result"
    }
   ],
   "source": [
    "try:\n",
    "    insp = pd.read_csv(\"ftp://dbprftp.state.fl.us/pub/llweb/5fdinspi.csv\", \n",
    "                               usecols=[2,14,18,80,81])\n",
    "    \n",
    "except IOError:\n",
    "    print(\"The file is not accessible.\")\n",
    "insp.columns = [\"CountyName\", \"InspectDate\", \"NumHighVio\", \"LicenseID\", \"VisitID\"]\n",
    "\n",
    "insp.head() ## this can go away later"
   ]
  },
  {
   "cell_type": "code",
   "execution_count": 3,
   "metadata": {
    "collapsed": false
   },
   "outputs": [
    {
     "name": "stdout",
     "output_type": "stream",
     "text": [
      "<class 'pandas.core.frame.DataFrame'>\n",
      "Int64Index: 1528 entries, 0 to 1527\n",
      "Data columns (total 5 columns):\n",
      "CountyName     1528 non-null object\n",
      "InspectDate    1528 non-null object\n",
      "NumHighVio     1528 non-null float64\n",
      "LicenseID      1528 non-null int64\n",
      "VisitID        1528 non-null int64\n",
      "dtypes: float64(1), int64(2), object(2)\n",
      "memory usage: 71.6+ KB\n"
     ]
    }
   ],
   "source": [
    "alachua = insp[insp.CountyName == 'Alachua']\n",
    "alachua.info() ## this can go away later, but shows total number of rows"
   ]
  },
  {
   "cell_type": "code",
   "execution_count": 4,
   "metadata": {
    "collapsed": false
   },
   "outputs": [
    {
     "name": "stdout",
     "output_type": "stream",
     "text": [
      "<class 'pandas.core.frame.DataFrame'>\n",
      "Int64Index: 767 entries, 5 to 1514\n",
      "Data columns (total 5 columns):\n",
      "CountyName     767 non-null object\n",
      "InspectDate    767 non-null object\n",
      "NumHighVio     767 non-null float64\n",
      "LicenseID      767 non-null int64\n",
      "VisitID        767 non-null int64\n",
      "dtypes: float64(1), int64(2), object(2)\n",
      "memory usage: 36.0+ KB\n"
     ]
    }
   ],
   "source": [
    "alachua = alachua[alachua.NumHighVio > 0]\n",
    "alachua.info() ## this can go away later, but shows how many rows filtered out"
   ]
  },
  {
   "cell_type": "code",
   "execution_count": 5,
   "metadata": {
    "collapsed": false
   },
   "outputs": [
    {
     "name": "stdout",
     "output_type": "stream",
     "text": [
      "<class 'pandas.core.frame.DataFrame'>\n",
      "Int64Index: 767 entries, 1342 to 842\n",
      "Data columns (total 5 columns):\n",
      "CountyName     767 non-null object\n",
      "InspectDate    767 non-null datetime64[ns]\n",
      "NumHighVio     767 non-null float64\n",
      "LicenseID      767 non-null int64\n",
      "VisitID        767 non-null int64\n",
      "dtypes: datetime64[ns](1), float64(1), int64(2), object(1)\n",
      "memory usage: 36.0+ KB\n"
     ]
    }
   ],
   "source": [
    "alachua['InspectDate'] = pd.to_datetime(alachua['InspectDate']) ## changes date string to date object\n",
    "alachua = alachua.sort_values('InspectDate', ascending=False) ## sort DateFrame, most recent first\n",
    "alachua.info() ## this can go away later"
   ]
  },
  {
   "cell_type": "markdown",
   "metadata": {},
   "source": [
    "__Goal with this next is to select date range prior to 'today', but this is hard coded now."
   ]
  },
  {
   "cell_type": "code",
   "execution_count": 6,
   "metadata": {
    "collapsed": false
   },
   "outputs": [
    {
     "name": "stdout",
     "output_type": "stream",
     "text": [
      "<class 'pandas.core.frame.DataFrame'>\n",
      "Int64Index: 44 entries, 1342 to 126\n",
      "Data columns (total 5 columns):\n",
      "CountyName     44 non-null object\n",
      "InspectDate    44 non-null datetime64[ns]\n",
      "NumHighVio     44 non-null float64\n",
      "LicenseID      44 non-null int64\n",
      "VisitID        44 non-null int64\n",
      "dtypes: datetime64[ns](1), float64(1), int64(2), object(1)\n",
      "memory usage: 2.1+ KB\n"
     ]
    },
    {
     "data": {
      "text/html": [
       "<div>\n",
       "<style scoped>\n",
       "    .dataframe tbody tr th:only-of-type {\n",
       "        vertical-align: middle;\n",
       "    }\n",
       "\n",
       "    .dataframe tbody tr th {\n",
       "        vertical-align: top;\n",
       "    }\n",
       "\n",
       "    .dataframe thead th {\n",
       "        text-align: right;\n",
       "    }\n",
       "</style>\n",
       "<table border=\"1\" class=\"dataframe\">\n",
       "  <thead>\n",
       "    <tr style=\"text-align: right;\">\n",
       "      <th></th>\n",
       "      <th>CountyName</th>\n",
       "      <th>InspectDate</th>\n",
       "      <th>NumHighVio</th>\n",
       "      <th>LicenseID</th>\n",
       "      <th>VisitID</th>\n",
       "    </tr>\n",
       "  </thead>\n",
       "  <tbody>\n",
       "    <tr>\n",
       "      <th>1342</th>\n",
       "      <td>Alachua</td>\n",
       "      <td>2018-05-04</td>\n",
       "      <td>1.0</td>\n",
       "      <td>6312191</td>\n",
       "      <td>6539001</td>\n",
       "    </tr>\n",
       "    <tr>\n",
       "      <th>869</th>\n",
       "      <td>Alachua</td>\n",
       "      <td>2018-05-03</td>\n",
       "      <td>1.0</td>\n",
       "      <td>6040839</td>\n",
       "      <td>6292423</td>\n",
       "    </tr>\n",
       "    <tr>\n",
       "      <th>680</th>\n",
       "      <td>Alachua</td>\n",
       "      <td>2018-05-03</td>\n",
       "      <td>1.0</td>\n",
       "      <td>6475603</td>\n",
       "      <td>6444510</td>\n",
       "    </tr>\n",
       "    <tr>\n",
       "      <th>611</th>\n",
       "      <td>Alachua</td>\n",
       "      <td>2018-05-03</td>\n",
       "      <td>2.0</td>\n",
       "      <td>6370423</td>\n",
       "      <td>6463635</td>\n",
       "    </tr>\n",
       "    <tr>\n",
       "      <th>89</th>\n",
       "      <td>Alachua</td>\n",
       "      <td>2018-05-02</td>\n",
       "      <td>1.0</td>\n",
       "      <td>2129170</td>\n",
       "      <td>6535653</td>\n",
       "    </tr>\n",
       "  </tbody>\n",
       "</table>\n",
       "</div>"
      ],
      "text/plain": [
       "     CountyName InspectDate  NumHighVio  LicenseID  VisitID\n",
       "1342    Alachua  2018-05-04         1.0    6312191  6539001\n",
       "869     Alachua  2018-05-03         1.0    6040839  6292423\n",
       "680     Alachua  2018-05-03         1.0    6475603  6444510\n",
       "611     Alachua  2018-05-03         2.0    6370423  6463635\n",
       "89      Alachua  2018-05-02         1.0    2129170  6535653"
      ]
     },
     "execution_count": 6,
     "metadata": {},
     "output_type": "execute_result"
    }
   ],
   "source": [
    "today = pd.to_datetime('today')\n",
    "startDay = datetime.date.today() - datetime.timedelta(days=30)\n",
    "## want to get user input for timedelta \n",
    "alachua = alachua[(alachua['InspectDate'] > startDay) & (alachua['InspectDate'] < today)]\n",
    "\n",
    "alachua.info()\n",
    "alachua.head()"
   ]
  },
  {
   "cell_type": "markdown",
   "metadata": {},
   "source": [
    "__Loop takes the LicenseID and VisitID, passes it to the url for the detailed reports:__"
   ]
  },
  {
   "cell_type": "code",
   "execution_count": 8,
   "metadata": {
    "collapsed": false
   },
   "outputs": [
    {
     "name": "stdout",
     "output_type": "stream",
     "text": [
      "https://www.myfloridalicense.com/inspectionDetail.asp?InspVisitID=6539001&licid=6312191\n",
      "https://www.myfloridalicense.com/inspectionDetail.asp?InspVisitID=6292423&licid=6040839\n",
      "https://www.myfloridalicense.com/inspectionDetail.asp?InspVisitID=6444510&licid=6475603\n",
      "https://www.myfloridalicense.com/inspectionDetail.asp?InspVisitID=6463635&licid=6370423\n",
      "https://www.myfloridalicense.com/inspectionDetail.asp?InspVisitID=6535653&licid=2129170\n",
      "https://www.myfloridalicense.com/inspectionDetail.asp?InspVisitID=6535804&licid=3296677\n",
      "https://www.myfloridalicense.com/inspectionDetail.asp?InspVisitID=6535766&licid=5430232\n",
      "https://www.myfloridalicense.com/inspectionDetail.asp?InspVisitID=6451801&licid=5858850\n",
      "https://www.myfloridalicense.com/inspectionDetail.asp?InspVisitID=6247794&licid=2129170\n",
      "https://www.myfloridalicense.com/inspectionDetail.asp?InspVisitID=6433038&licid=6621480\n",
      "https://www.myfloridalicense.com/inspectionDetail.asp?InspVisitID=6451852&licid=6665274\n",
      "https://www.myfloridalicense.com/inspectionDetail.asp?InspVisitID=6456866&licid=5269891\n",
      "https://www.myfloridalicense.com/inspectionDetail.asp?InspVisitID=6419688&licid=5761286\n",
      "https://www.myfloridalicense.com/inspectionDetail.asp?InspVisitID=6442196&licid=5576855\n",
      "https://www.myfloridalicense.com/inspectionDetail.asp?InspVisitID=6528463&licid=6534697\n",
      "https://www.myfloridalicense.com/inspectionDetail.asp?InspVisitID=6527476&licid=2129685\n",
      "https://www.myfloridalicense.com/inspectionDetail.asp?InspVisitID=6292045&licid=5524643\n",
      "https://www.myfloridalicense.com/inspectionDetail.asp?InspVisitID=6416865&licid=6126978\n",
      "https://www.myfloridalicense.com/inspectionDetail.asp?InspVisitID=6528955&licid=6126771\n",
      "https://www.myfloridalicense.com/inspectionDetail.asp?InspVisitID=6532203&licid=6207335\n",
      "https://www.myfloridalicense.com/inspectionDetail.asp?InspVisitID=6420899&licid=6207335\n",
      "https://www.myfloridalicense.com/inspectionDetail.asp?InspVisitID=6427442&licid=3967136\n",
      "https://www.myfloridalicense.com/inspectionDetail.asp?InspVisitID=6427655&licid=6621541\n",
      "https://www.myfloridalicense.com/inspectionDetail.asp?InspVisitID=6420707&licid=2129129\n",
      "https://www.myfloridalicense.com/inspectionDetail.asp?InspVisitID=6529767&licid=5485529\n",
      "https://www.myfloridalicense.com/inspectionDetail.asp?InspVisitID=6429398&licid=3840892\n",
      "https://www.myfloridalicense.com/inspectionDetail.asp?InspVisitID=6448691&licid=6537359\n",
      "https://www.myfloridalicense.com/inspectionDetail.asp?InspVisitID=6528946&licid=5633502\n",
      "https://www.myfloridalicense.com/inspectionDetail.asp?InspVisitID=6528913&licid=5485569\n",
      "https://www.myfloridalicense.com/inspectionDetail.asp?InspVisitID=6334264&licid=5538656\n",
      "https://www.myfloridalicense.com/inspectionDetail.asp?InspVisitID=6382037&licid=6534697\n",
      "https://www.myfloridalicense.com/inspectionDetail.asp?InspVisitID=6511894&licid=6534697\n",
      "https://www.myfloridalicense.com/inspectionDetail.asp?InspVisitID=6486244&licid=2129685\n",
      "https://www.myfloridalicense.com/inspectionDetail.asp?InspVisitID=6380690&licid=2636769\n",
      "https://www.myfloridalicense.com/inspectionDetail.asp?InspVisitID=6431167&licid=5569752\n",
      "https://www.myfloridalicense.com/inspectionDetail.asp?InspVisitID=6519373&licid=6910020\n",
      "https://www.myfloridalicense.com/inspectionDetail.asp?InspVisitID=6442289&licid=6106750\n",
      "https://www.myfloridalicense.com/inspectionDetail.asp?InspVisitID=6524479&licid=2129908\n",
      "https://www.myfloridalicense.com/inspectionDetail.asp?InspVisitID=6479432&licid=2992357\n",
      "https://www.myfloridalicense.com/inspectionDetail.asp?InspVisitID=6427517&licid=5786679\n",
      "https://www.myfloridalicense.com/inspectionDetail.asp?InspVisitID=6524473&licid=4460173\n",
      "https://www.myfloridalicense.com/inspectionDetail.asp?InspVisitID=6437790&licid=2129157\n",
      "https://www.myfloridalicense.com/inspectionDetail.asp?InspVisitID=6504680&licid=6770137\n",
      "https://www.myfloridalicense.com/inspectionDetail.asp?InspVisitID=6522250&licid=3909271\n"
     ]
    }
   ],
   "source": [
    "for index, rows in alachua.iterrows():\n",
    "    visitID = rows['VisitID']\n",
    "    licID = rows['LicenseID']\n",
    "    urls = \"https://www.myfloridalicense.com/inspectionDetail.asp?InspVisitID= %s &licid= %s\" % (visitID, licID)\n",
    "    urls = urls.replace(' ', '')\n",
    "    print(urls) # this can go away"
   ]
  },
  {
   "cell_type": "markdown",
   "metadata": {},
   "source": [
    "__Now it's time to use those urls to access the detailed reports with inspector comments, and scrape those.__"
   ]
  },
  {
   "cell_type": "code",
   "execution_count": 10,
   "metadata": {
    "collapsed": false
   },
   "outputs": [
    {
     "data": {
      "text/plain": [
       "87"
      ]
     },
     "execution_count": 10,
     "metadata": {},
     "output_type": "execute_result"
    }
   ],
   "source": [
    "len(urls) # this can go away"
   ]
  },
  {
   "cell_type": "code",
   "execution_count": 13,
   "metadata": {
    "collapsed": false
   },
   "outputs": [
    {
     "ename": "NameError",
     "evalue": "name 'inspectText' is not defined",
     "output_type": "error",
     "traceback": [
      "\u001b[0;31m---------------------------------------------------------------------------\u001b[0m",
      "\u001b[0;31mNameError\u001b[0m                                 Traceback (most recent call last)",
      "\u001b[0;32m<ipython-input-13-0814614e8460>\u001b[0m in \u001b[0;36m<module>\u001b[0;34m()\u001b[0m\n\u001b[1;32m      8\u001b[0m     \u001b[0mtext\u001b[0m \u001b[0;34m=\u001b[0m \u001b[0mgetText\u001b[0m\u001b[0;34m(\u001b[0m\u001b[0;34m'https://www.myfloridalicense.com/inspectionDetail.asp?InspVisitID=6509808&licid=5399007'\u001b[0m\u001b[0;34m)\u001b[0m\u001b[0;34m\u001b[0m\u001b[0m\n\u001b[1;32m      9\u001b[0m \u001b[0;34m\u001b[0m\u001b[0m\n\u001b[0;32m---> 10\u001b[0;31m \u001b[0;32mfor\u001b[0m \u001b[0mtext\u001b[0m \u001b[0;32min\u001b[0m \u001b[0minspectText\u001b[0m\u001b[0;34m:\u001b[0m\u001b[0;34m\u001b[0m\u001b[0m\n\u001b[0m\u001b[1;32m     11\u001b[0m         \u001b[0mprint\u001b[0m\u001b[0;34m(\u001b[0m\u001b[0mtext\u001b[0m\u001b[0;34m.\u001b[0m\u001b[0mget_text\u001b[0m\u001b[0;34m(\u001b[0m\u001b[0;34m)\u001b[0m\u001b[0;34m)\u001b[0m\u001b[0;34m\u001b[0m\u001b[0m\n",
      "\u001b[0;31mNameError\u001b[0m: name 'inspectText' is not defined"
     ]
    }
   ],
   "source": [
    "# here's one approach\n",
    "\n",
    "def getText(urls):\n",
    "    html = urlopen(urls)\n",
    "    inspectReport = BeautifulSoup(html.read(), 'html.parser')\n",
    "    inspectText = inspectReport.findAll('font', {'face':'verdana'})\n",
    "    \n",
    "    text = getText('https://www.myfloridalicense.com/inspectionDetail.asp?InspVisitID=6509808&licid=5399007')\n",
    "\n",
    "for text in inspectText:\n",
    "        print(text.get_text())"
   ]
  },
  {
   "cell_type": "code",
   "execution_count": 9,
   "metadata": {
    "collapsed": false
   },
   "outputs": [
    {
     "name": "stdout",
     "output_type": "stream",
     "text": [
      "None\n"
     ]
    }
   ],
   "source": []
  },
  {
   "cell_type": "code",
   "execution_count": null,
   "metadata": {
    "collapsed": true
   },
   "outputs": [],
   "source": []
  }
 ],
 "metadata": {
  "kernelspec": {
   "display_name": "Python 3",
   "language": "python",
   "name": "python3"
  },
  "language_info": {
   "codemirror_mode": {
    "name": "ipython",
    "version": 3
   },
   "file_extension": ".py",
   "mimetype": "text/x-python",
   "name": "python",
   "nbconvert_exporter": "python",
   "pygments_lexer": "ipython3",
   "version": "3.6.5"
  }
 },
 "nbformat": 4,
 "nbformat_minor": 2
}
