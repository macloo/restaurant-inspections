{
 "cells": [
  {
   "cell_type": "markdown",
   "metadata": {},
   "source": [
    "# Alachua County restaurant inspection analysis\n",
    "_This will take restaurant inspection data by the state of Florida and format it in a more reader-friendly way for publication in print and online. We'll filter for the most egregious current violations at restaurants in Alachua County._"
   ]
  },
  {
   "cell_type": "markdown",
   "metadata": {},
   "source": [
    "After importing Pandas,etc., this reads in the state summary report year-to-date for District 5, which includes Alachua County, and adds an exception in case the file is not found (output probably needs to be set as variable so it can be written into the output file). The raw file has no headers and 82 columns. So this removes all but five columns and adds headers for those. Finally, it displays the first five rows of values."
   ]
  },
  {
   "cell_type": "code",
   "execution_count": 1,
   "metadata": {},
   "outputs": [],
   "source": [
    "import pandas as pd\n",
    "import bs4\n",
    "import datetime\n",
    "import re\n",
    "import lxml\n",
    "from urllib.request import urlopen\n",
    "from urllib.error import HTTPError\n"
   ]
  },
  {
   "cell_type": "code",
   "execution_count": 2,
   "metadata": {},
   "outputs": [],
   "source": [
    "try:\n",
    "    insp = pd.read_csv(\"ftp://dbprftp.state.fl.us/pub/llweb/5fdinspi.csv\", \n",
    "                               usecols=[2,14,18,80,81])\n",
    "except IOError:\n",
    "    print(\"The file is not accessible.\")\n",
    "insp.columns = [\"CountyName\", \"InspectDate\", \n",
    "                \"NumHighVio\", \"LicenseID\", \"VisitID\"]"
   ]
  },
  {
   "cell_type": "code",
   "execution_count": 3,
   "metadata": {},
   "outputs": [
    {
     "data": {
      "text/plain": [
       "14173"
      ]
     },
     "execution_count": 3,
     "metadata": {},
     "output_type": "execute_result"
    }
   ],
   "source": [
    "# filter for alachua county restaurants with high violations\n",
    "insp[(insp.CountyName == 'Alachua') & (insp.NumHighVio > 0)]\n",
    "len(insp)"
   ]
  },
  {
   "cell_type": "code",
   "execution_count": 4,
   "metadata": {},
   "outputs": [
    {
     "data": {
      "text/plain": [
       "14173"
      ]
     },
     "execution_count": 4,
     "metadata": {},
     "output_type": "execute_result"
    }
   ],
   "source": [
    "# change date string to date object, sort most recent\n",
    "insp['InspectDate'] = pd.to_datetime(insp['InspectDate'])\n",
    "insp = insp.sort_values('InspectDate', ascending=False)\n",
    "len(insp)"
   ]
  },
  {
   "cell_type": "code",
   "execution_count": 5,
   "metadata": {},
   "outputs": [
    {
     "data": {
      "text/plain": [
       "394"
      ]
     },
     "execution_count": 5,
     "metadata": {},
     "output_type": "execute_result"
    }
   ],
   "source": [
    "# prefer to let user set timedelta\n",
    "today = pd.to_datetime('today')\n",
    "startDay = datetime.date.today() - datetime.timedelta(days=14)\n",
    "insp = insp[(insp['InspectDate'] > startDay) & (insp['InspectDate'] < today)]\n",
    "len(insp)"
   ]
  },
  {
   "cell_type": "code",
<<<<<<< HEAD
   "execution_count": 7,
=======
   "execution_count": 6,
>>>>>>> 6fecbe7dbd1f7655cc52da6e554df9c353f2d332
   "metadata": {},
   "outputs": [
    {
     "name": "stdout",
     "output_type": "stream",
     "text": [
<<<<<<< HEAD
      "['https://www.myfloridalicense.com/inspectionDetail.asp?InspVisitID=6559833&licid=2174908', 'https://www.myfloridalicense.com/inspectionDetail.asp?InspVisitID=6414767&licid=6703600', 'https://www.myfloridalicense.com/inspectionDetail.asp?InspVisitID=6558893&licid=5711894', 'https://www.myfloridalicense.com/inspectionDetail.asp?InspVisitID=6559585&licid=5711894', 'https://www.myfloridalicense.com/inspectionDetail.asp?InspVisitID=6558124&licid=5759256', 'https://www.myfloridalicense.com/inspectionDetail.asp?InspVisitID=6557154&licid=2339501', 'https://www.myfloridalicense.com/inspectionDetail.asp?InspVisitID=6558828&licid=5494563', 'https://www.myfloridalicense.com/inspectionDetail.asp?InspVisitID=6431219&licid=6630781', 'https://www.myfloridalicense.com/inspectionDetail.asp?InspVisitID=6467625&licid=3279235', 'https://www.myfloridalicense.com/inspectionDetail.asp?InspVisitID=6558611&licid=3524844', 'https://www.myfloridalicense.com/inspectionDetail.asp?InspVisitID=6539462&licid=7010237', 'https://www.myfloridalicense.com/inspectionDetail.asp?InspVisitID=6557253&licid=6105790', 'https://www.myfloridalicense.com/inspectionDetail.asp?InspVisitID=6558788&licid=2176778', 'https://www.myfloridalicense.com/inspectionDetail.asp?InspVisitID=6556353&licid=3524848', 'https://www.myfloridalicense.com/inspectionDetail.asp?InspVisitID=6555043&licid=2174908', 'https://www.myfloridalicense.com/inspectionDetail.asp?InspVisitID=6409506&licid=4059023', 'https://www.myfloridalicense.com/inspectionDetail.asp?InspVisitID=6556042&licid=7022803', 'https://www.myfloridalicense.com/inspectionDetail.asp?InspVisitID=6558156&licid=6697485', 'https://www.myfloridalicense.com/inspectionDetail.asp?InspVisitID=6558064&licid=6325002', 'https://www.myfloridalicense.com/inspectionDetail.asp?InspVisitID=6536159&licid=7005384', 'https://www.myfloridalicense.com/inspectionDetail.asp?InspVisitID=6558929&licid=6689442', 'https://www.myfloridalicense.com/inspectionDetail.asp?InspVisitID=6556473&licid=6965363', 'https://www.myfloridalicense.com/inspectionDetail.asp?InspVisitID=6558926&licid=6481801', 'https://www.myfloridalicense.com/inspectionDetail.asp?InspVisitID=6547469&licid=4320727', 'https://www.myfloridalicense.com/inspectionDetail.asp?InspVisitID=6302143&licid=6399923', 'https://www.myfloridalicense.com/inspectionDetail.asp?InspVisitID=6535407&licid=6767557', 'https://www.myfloridalicense.com/inspectionDetail.asp?InspVisitID=6559154&licid=6870915', 'https://www.myfloridalicense.com/inspectionDetail.asp?InspVisitID=6558168&licid=5595245', 'https://www.myfloridalicense.com/inspectionDetail.asp?InspVisitID=6559801&licid=4466285', 'https://www.myfloridalicense.com/inspectionDetail.asp?InspVisitID=6556329&licid=2436222', 'https://www.myfloridalicense.com/inspectionDetail.asp?InspVisitID=6558524&licid=7027391', 'https://www.myfloridalicense.com/inspectionDetail.asp?InspVisitID=6491676&licid=2894766', 'https://www.myfloridalicense.com/inspectionDetail.asp?InspVisitID=6309389&licid=6569118', 'https://www.myfloridalicense.com/inspectionDetail.asp?InspVisitID=6539456&licid=7010225', 'https://www.myfloridalicense.com/inspectionDetail.asp?InspVisitID=6454313&licid=6312731', 'https://www.myfloridalicense.com/inspectionDetail.asp?InspVisitID=6558664&licid=3648988', 'https://www.myfloridalicense.com/inspectionDetail.asp?InspVisitID=6558851&licid=7007060', 'https://www.myfloridalicense.com/inspectionDetail.asp?InspVisitID=6558888&licid=4388590', 'https://www.myfloridalicense.com/inspectionDetail.asp?InspVisitID=6557162&licid=5786679', 'https://www.myfloridalicense.com/inspectionDetail.asp?InspVisitID=6445645&licid=4016798', 'https://www.myfloridalicense.com/inspectionDetail.asp?InspVisitID=6558358&licid=3313657', 'https://www.myfloridalicense.com/inspectionDetail.asp?InspVisitID=6557920&licid=2132318', 'https://www.myfloridalicense.com/inspectionDetail.asp?InspVisitID=6424676&licid=3648988', 'https://www.myfloridalicense.com/inspectionDetail.asp?InspVisitID=6551140&licid=6657958', 'https://www.myfloridalicense.com/inspectionDetail.asp?InspVisitID=6556498&licid=7030627', 'https://www.myfloridalicense.com/inspectionDetail.asp?InspVisitID=6265646&licid=3515216', 'https://www.myfloridalicense.com/inspectionDetail.asp?InspVisitID=6556326&licid=5554771', 'https://www.myfloridalicense.com/inspectionDetail.asp?InspVisitID=6447511&licid=6803124', 'https://www.myfloridalicense.com/inspectionDetail.asp?InspVisitID=6555630&licid=6818242', 'https://www.myfloridalicense.com/inspectionDetail.asp?InspVisitID=6558354&licid=6793602', 'https://www.myfloridalicense.com/inspectionDetail.asp?InspVisitID=6444444&licid=5792188', 'https://www.myfloridalicense.com/inspectionDetail.asp?InspVisitID=6415666&licid=3415284', 'https://www.myfloridalicense.com/inspectionDetail.asp?InspVisitID=6558152&licid=2912272', 'https://www.myfloridalicense.com/inspectionDetail.asp?InspVisitID=6557139&licid=3645592', 'https://www.myfloridalicense.com/inspectionDetail.asp?InspVisitID=6556485&licid=7016763', 'https://www.myfloridalicense.com/inspectionDetail.asp?InspVisitID=6536173&licid=6988885', 'https://www.myfloridalicense.com/inspectionDetail.asp?InspVisitID=6481347&licid=3047617', 'https://www.myfloridalicense.com/inspectionDetail.asp?InspVisitID=6558792&licid=4014045', 'https://www.myfloridalicense.com/inspectionDetail.asp?InspVisitID=6444464&licid=6170902', 'https://www.myfloridalicense.com/inspectionDetail.asp?InspVisitID=6362564&licid=4228570', 'https://www.myfloridalicense.com/inspectionDetail.asp?InspVisitID=6551085&licid=4228570', 'https://www.myfloridalicense.com/inspectionDetail.asp?InspVisitID=6300075&licid=6462861', 'https://www.myfloridalicense.com/inspectionDetail.asp?InspVisitID=6275443&licid=4359885', 'https://www.myfloridalicense.com/inspectionDetail.asp?InspVisitID=6485211&licid=3668141', 'https://www.myfloridalicense.com/inspectionDetail.asp?InspVisitID=6437769&licid=2205755', 'https://www.myfloridalicense.com/inspectionDetail.asp?InspVisitID=6557109&licid=2176439', 'https://www.myfloridalicense.com/inspectionDetail.asp?InspVisitID=6372824&licid=6689442', 'https://www.myfloridalicense.com/inspectionDetail.asp?InspVisitID=6558613&licid=2174729', 'https://www.myfloridalicense.com/inspectionDetail.asp?InspVisitID=6555513&licid=6459734', 'https://www.myfloridalicense.com/inspectionDetail.asp?InspVisitID=6551131&licid=4153706', 'https://www.myfloridalicense.com/inspectionDetail.asp?InspVisitID=6556039&licid=4388590', 'https://www.myfloridalicense.com/inspectionDetail.asp?InspVisitID=6558202&licid=4016774', 'https://www.myfloridalicense.com/inspectionDetail.asp?InspVisitID=6558625&licid=2176778', 'https://www.myfloridalicense.com/inspectionDetail.asp?InspVisitID=6520145&licid=5293814', 'https://www.myfloridalicense.com/inspectionDetail.asp?InspVisitID=6400994&licid=5467040', 'https://www.myfloridalicense.com/inspectionDetail.asp?InspVisitID=6557941&licid=3524844', 'https://www.myfloridalicense.com/inspectionDetail.asp?InspVisitID=6558205&licid=5494563', 'https://www.myfloridalicense.com/inspectionDetail.asp?InspVisitID=6558640&licid=4240873', 'https://www.myfloridalicense.com/inspectionDetail.asp?InspVisitID=6558411&licid=4327655', 'https://www.myfloridalicense.com/inspectionDetail.asp?InspVisitID=6555544&licid=6475652', 'https://www.myfloridalicense.com/inspectionDetail.asp?InspVisitID=6475478&licid=6157614', 'https://www.myfloridalicense.com/inspectionDetail.asp?InspVisitID=6558357&licid=2246295', 'https://www.myfloridalicense.com/inspectionDetail.asp?InspVisitID=6553759&licid=5458825', 'https://www.myfloridalicense.com/inspectionDetail.asp?InspVisitID=6529925&licid=2175995', 'https://www.myfloridalicense.com/inspectionDetail.asp?InspVisitID=6558543&licid=3736865', 'https://www.myfloridalicense.com/inspectionDetail.asp?InspVisitID=6555278&licid=5711894', 'https://www.myfloridalicense.com/inspectionDetail.asp?InspVisitID=6558790&licid=5711894', 'https://www.myfloridalicense.com/inspectionDetail.asp?InspVisitID=6558282&licid=2176622', 'https://www.myfloridalicense.com/inspectionDetail.asp?InspVisitID=6558138&licid=7007060', 'https://www.myfloridalicense.com/inspectionDetail.asp?InspVisitID=6557131&licid=5450853', 'https://www.myfloridalicense.com/inspectionDetail.asp?InspVisitID=6550153&licid=7022018', 'https://www.myfloridalicense.com/inspectionDetail.asp?InspVisitID=6557975&licid=5436445', 'https://www.myfloridalicense.com/inspectionDetail.asp?InspVisitID=6558247&licid=6287866', 'https://www.myfloridalicense.com/inspectionDetail.asp?InspVisitID=6449709&licid=5467279', 'https://www.myfloridalicense.com/inspectionDetail.asp?InspVisitID=6465669&licid=6629084', 'https://www.myfloridalicense.com/inspectionDetail.asp?InspVisitID=6376348&licid=2151221', 'https://www.myfloridalicense.com/inspectionDetail.asp?InspVisitID=6558594&licid=3936728', 'https://www.myfloridalicense.com/inspectionDetail.asp?InspVisitID=6558662&licid=6481801', 'https://www.myfloridalicense.com/inspectionDetail.asp?InspVisitID=6550280&licid=6130299', 'https://www.myfloridalicense.com/inspectionDetail.asp?InspVisitID=6557185&licid=4422973', 'https://www.myfloridalicense.com/inspectionDetail.asp?InspVisitID=6464281&licid=2150895', 'https://www.myfloridalicense.com/inspectionDetail.asp?InspVisitID=6558359&licid=6247176', 'https://www.myfloridalicense.com/inspectionDetail.asp?InspVisitID=6555047&licid=3936728', 'https://www.myfloridalicense.com/inspectionDetail.asp?InspVisitID=6263400&licid=3302333', 'https://www.myfloridalicense.com/inspectionDetail.asp?InspVisitID=6439008&licid=6317275', 'https://www.myfloridalicense.com/inspectionDetail.asp?InspVisitID=6443231&licid=5308160', 'https://www.myfloridalicense.com/inspectionDetail.asp?InspVisitID=6391898&licid=6801357', 'https://www.myfloridalicense.com/inspectionDetail.asp?InspVisitID=6518439&licid=2177207', 'https://www.myfloridalicense.com/inspectionDetail.asp?InspVisitID=6426364&licid=4325986', 'https://www.myfloridalicense.com/inspectionDetail.asp?InspVisitID=6437836&licid=3833745', 'https://www.myfloridalicense.com/inspectionDetail.asp?InspVisitID=6555334&licid=5540944', 'https://www.myfloridalicense.com/inspectionDetail.asp?InspVisitID=6538446&licid=4208483', 'https://www.myfloridalicense.com/inspectionDetail.asp?InspVisitID=6404938&licid=2177334', 'https://www.myfloridalicense.com/inspectionDetail.asp?InspVisitID=6549357&licid=6567628', 'https://www.myfloridalicense.com/inspectionDetail.asp?InspVisitID=6556397&licid=4016774', 'https://www.myfloridalicense.com/inspectionDetail.asp?InspVisitID=6497955&licid=6237587', 'https://www.myfloridalicense.com/inspectionDetail.asp?InspVisitID=6556976&licid=3943967', 'https://www.myfloridalicense.com/inspectionDetail.asp?InspVisitID=6435829&licid=2151084', 'https://www.myfloridalicense.com/inspectionDetail.asp?InspVisitID=6557155&licid=3313657', 'https://www.myfloridalicense.com/inspectionDetail.asp?InspVisitID=6475496&licid=6247176', 'https://www.myfloridalicense.com/inspectionDetail.asp?InspVisitID=6520066&licid=5779124', 'https://www.myfloridalicense.com/inspectionDetail.asp?InspVisitID=6552761&licid=2444893', 'https://www.myfloridalicense.com/inspectionDetail.asp?InspVisitID=6413628&licid=6121377', 'https://www.myfloridalicense.com/inspectionDetail.asp?InspVisitID=6452582&licid=6876013', 'https://www.myfloridalicense.com/inspectionDetail.asp?InspVisitID=6542544&licid=6646981', 'https://www.myfloridalicense.com/inspectionDetail.asp?InspVisitID=6407755&licid=6145951', 'https://www.myfloridalicense.com/inspectionDetail.asp?InspVisitID=6557117&licid=6287866', 'https://www.myfloridalicense.com/inspectionDetail.asp?InspVisitID=6555346&licid=6325002', 'https://www.myfloridalicense.com/inspectionDetail.asp?InspVisitID=6555044&licid=6629025', 'https://www.myfloridalicense.com/inspectionDetail.asp?InspVisitID=6501077&licid=6296997', 'https://www.myfloridalicense.com/inspectionDetail.asp?InspVisitID=6556282&licid=6380953', 'https://www.myfloridalicense.com/inspectionDetail.asp?InspVisitID=6556158&licid=2174988', 'https://www.myfloridalicense.com/inspectionDetail.asp?InspVisitID=6557355&licid=2246295', 'https://www.myfloridalicense.com/inspectionDetail.asp?InspVisitID=6527276&licid=5494563', 'https://www.myfloridalicense.com/inspectionDetail.asp?InspVisitID=6415600&licid=2175079', 'https://www.myfloridalicense.com/inspectionDetail.asp?InspVisitID=6556169&licid=3524844', 'https://www.myfloridalicense.com/inspectionDetail.asp?InspVisitID=6558257&licid=4327655', 'https://www.myfloridalicense.com/inspectionDetail.asp?InspVisitID=6426508&licid=6009563', 'https://www.myfloridalicense.com/inspectionDetail.asp?InspVisitID=6551986&licid=5339331', 'https://www.myfloridalicense.com/inspectionDetail.asp?InspVisitID=6517423&licid=6855819', 'https://www.myfloridalicense.com/inspectionDetail.asp?InspVisitID=6553171&licid=4043587', 'https://www.myfloridalicense.com/inspectionDetail.asp?InspVisitID=6518895&licid=4051376', 'https://www.myfloridalicense.com/inspectionDetail.asp?InspVisitID=6556216&licid=2912272', 'https://www.myfloridalicense.com/inspectionDetail.asp?InspVisitID=6426334&licid=4046632', 'https://www.myfloridalicense.com/inspectionDetail.asp?InspVisitID=6305798&licid=6378489', 'https://www.myfloridalicense.com/inspectionDetail.asp?InspVisitID=6555931&licid=2132318', 'https://www.myfloridalicense.com/inspectionDetail.asp?InspVisitID=6556175&licid=5485529', 'https://www.myfloridalicense.com/inspectionDetail.asp?InspVisitID=6557123&licid=5595245', 'https://www.myfloridalicense.com/inspectionDetail.asp?InspVisitID=6432964&licid=5436445', 'https://www.myfloridalicense.com/inspectionDetail.asp?InspVisitID=6555484&licid=7005576', 'https://www.myfloridalicense.com/inspectionDetail.asp?InspVisitID=6408813&licid=6793602', 'https://www.myfloridalicense.com/inspectionDetail.asp?InspVisitID=6355800&licid=6099310', 'https://www.myfloridalicense.com/inspectionDetail.asp?InspVisitID=6517364&licid=4003773', 'https://www.myfloridalicense.com/inspectionDetail.asp?InspVisitID=6451659&licid=2150862', 'https://www.myfloridalicense.com/inspectionDetail.asp?InspVisitID=6354519&licid=3853498', 'https://www.myfloridalicense.com/inspectionDetail.asp?InspVisitID=6556328&licid=6787891', 'https://www.myfloridalicense.com/inspectionDetail.asp?InspVisitID=6435820&licid=2205820', 'https://www.myfloridalicense.com/inspectionDetail.asp?InspVisitID=6303374&licid=6528863', 'https://www.myfloridalicense.com/inspectionDetail.asp?InspVisitID=6424762&licid=6042756', 'https://www.myfloridalicense.com/inspectionDetail.asp?InspVisitID=6420953&licid=6866774', 'https://www.myfloridalicense.com/inspectionDetail.asp?InspVisitID=6536184&licid=7007060', 'https://www.myfloridalicense.com/inspectionDetail.asp?InspVisitID=6553495&licid=3264730', 'https://www.myfloridalicense.com/inspectionDetail.asp?InspVisitID=6452438&licid=3594268', 'https://www.myfloridalicense.com/inspectionDetail.asp?InspVisitID=6436594&licid=2176622', 'https://www.myfloridalicense.com/inspectionDetail.asp?InspVisitID=6410427&licid=3736865', 'https://www.myfloridalicense.com/inspectionDetail.asp?InspVisitID=6436645&licid=4393950', 'https://www.myfloridalicense.com/inspectionDetail.asp?InspVisitID=6543692&licid=6997392', 'https://www.myfloridalicense.com/inspectionDetail.asp?InspVisitID=6557113&licid=6191344', 'https://www.myfloridalicense.com/inspectionDetail.asp?InspVisitID=6449636&licid=3320208', 'https://www.myfloridalicense.com/inspectionDetail.asp?InspVisitID=6553611&licid=2176081', 'https://www.myfloridalicense.com/inspectionDetail.asp?InspVisitID=6549695&licid=2447398', 'https://www.myfloridalicense.com/inspectionDetail.asp?InspVisitID=6552729&licid=6660454', 'https://www.myfloridalicense.com/inspectionDetail.asp?InspVisitID=6556402&licid=6453332', 'https://www.myfloridalicense.com/inspectionDetail.asp?InspVisitID=6465447&licid=3856783', 'https://www.myfloridalicense.com/inspectionDetail.asp?InspVisitID=6520221&licid=3145062', 'https://www.myfloridalicense.com/inspectionDetail.asp?InspVisitID=6426316&licid=3920913', 'https://www.myfloridalicense.com/inspectionDetail.asp?InspVisitID=6304981&licid=6523946', 'https://www.myfloridalicense.com/inspectionDetail.asp?InspVisitID=6555046&licid=6652043', 'https://www.myfloridalicense.com/inspectionDetail.asp?InspVisitID=6541473&licid=6960648', 'https://www.myfloridalicense.com/inspectionDetail.asp?InspVisitID=6515354&licid=6105790', 'https://www.myfloridalicense.com/inspectionDetail.asp?InspVisitID=6554378&licid=4341960', 'https://www.myfloridalicense.com/inspectionDetail.asp?InspVisitID=6495563&licid=3493964', 'https://www.myfloridalicense.com/inspectionDetail.asp?InspVisitID=6448520&licid=3380122', 'https://www.myfloridalicense.com/inspectionDetail.asp?InspVisitID=6426229&licid=2246295', 'https://www.myfloridalicense.com/inspectionDetail.asp?InspVisitID=6385833&licid=4422973', 'https://www.myfloridalicense.com/inspectionDetail.asp?InspVisitID=6451773&licid=5488327', 'https://www.myfloridalicense.com/inspectionDetail.asp?InspVisitID=6474293&licid=3166049', 'https://www.myfloridalicense.com/inspectionDetail.asp?InspVisitID=6520163&licid=6297863', 'https://www.myfloridalicense.com/inspectionDetail.asp?InspVisitID=6433999&licid=4295305', 'https://www.myfloridalicense.com/inspectionDetail.asp?InspVisitID=6353476&licid=2151074', 'https://www.myfloridalicense.com/inspectionDetail.asp?InspVisitID=6538901&licid=2246402', 'https://www.myfloridalicense.com/inspectionDetail.asp?InspVisitID=6461532&licid=5233139', 'https://www.myfloridalicense.com/inspectionDetail.asp?InspVisitID=6416829&licid=3772038', 'https://www.myfloridalicense.com/inspectionDetail.asp?InspVisitID=6555048&licid=5494565', 'https://www.myfloridalicense.com/inspectionDetail.asp?InspVisitID=6555578&licid=7020443', 'https://www.myfloridalicense.com/inspectionDetail.asp?InspVisitID=6528582&licid=6982659', 'https://www.myfloridalicense.com/inspectionDetail.asp?InspVisitID=6394737&licid=5282710', 'https://www.myfloridalicense.com/inspectionDetail.asp?InspVisitID=6449675&licid=4194969', 'https://www.myfloridalicense.com/inspectionDetail.asp?InspVisitID=6269300&licid=3866060', 'https://www.myfloridalicense.com/inspectionDetail.asp?InspVisitID=6427531&licid=5806385', 'https://www.myfloridalicense.com/inspectionDetail.asp?InspVisitID=6382141&licid=6391275', 'https://www.myfloridalicense.com/inspectionDetail.asp?InspVisitID=6553836&licid=7028331', 'https://www.myfloridalicense.com/inspectionDetail.asp?InspVisitID=6557211&licid=7028331', 'https://www.myfloridalicense.com/inspectionDetail.asp?InspVisitID=6555427&licid=6828109', 'https://www.myfloridalicense.com/inspectionDetail.asp?InspVisitID=6554728&licid=4084391', 'https://www.myfloridalicense.com/inspectionDetail.asp?InspVisitID=6551452&licid=7018647', 'https://www.myfloridalicense.com/inspectionDetail.asp?InspVisitID=6536112&licid=7007296', 'https://www.myfloridalicense.com/inspectionDetail.asp?InspVisitID=6464256&licid=2151046', 'https://www.myfloridalicense.com/inspectionDetail.asp?InspVisitID=6554460&licid=6809765', 'https://www.myfloridalicense.com/inspectionDetail.asp?InspVisitID=6553866&licid=6608439', 'https://www.myfloridalicense.com/inspectionDetail.asp?InspVisitID=6538646&licid=6448433', 'https://www.myfloridalicense.com/inspectionDetail.asp?InspVisitID=6459131&licid=2482782', 'https://www.myfloridalicense.com/inspectionDetail.asp?InspVisitID=6553589&licid=5949856', 'https://www.myfloridalicense.com/inspectionDetail.asp?InspVisitID=6423462&licid=5356157', 'https://www.myfloridalicense.com/inspectionDetail.asp?InspVisitID=6436627&licid=4016774', 'https://www.myfloridalicense.com/inspectionDetail.asp?InspVisitID=6555015&licid=7016209', 'https://www.myfloridalicense.com/inspectionDetail.asp?InspVisitID=6552782&licid=6361905', 'https://www.myfloridalicense.com/inspectionDetail.asp?InspVisitID=6459184&licid=4388590', 'https://www.myfloridalicense.com/inspectionDetail.asp?InspVisitID=6290195&licid=6268356', 'https://www.myfloridalicense.com/inspectionDetail.asp?InspVisitID=6551281&licid=3524848', 'https://www.myfloridalicense.com/inspectionDetail.asp?InspVisitID=6546093&licid=5916873', 'https://www.myfloridalicense.com/inspectionDetail.asp?InspVisitID=6468881&licid=6919757', 'https://www.myfloridalicense.com/inspectionDetail.asp?InspVisitID=6555928&licid=2201995', 'https://www.myfloridalicense.com/inspectionDetail.asp?InspVisitID=6551166&licid=2153470', 'https://www.myfloridalicense.com/inspectionDetail.asp?InspVisitID=6396234&licid=6453332', 'https://www.myfloridalicense.com/inspectionDetail.asp?InspVisitID=6450826&licid=4276391', 'https://www.myfloridalicense.com/inspectionDetail.asp?InspVisitID=6555354&licid=2642575', 'https://www.myfloridalicense.com/inspectionDetail.asp?InspVisitID=6554435&licid=5554771', 'https://www.myfloridalicense.com/inspectionDetail.asp?InspVisitID=6450850&licid=5448928', 'https://www.myfloridalicense.com/inspectionDetail.asp?InspVisitID=6555186&licid=3989038', 'https://www.myfloridalicense.com/inspectionDetail.asp?InspVisitID=6261048&licid=2912272', 'https://www.myfloridalicense.com/inspectionDetail.asp?InspVisitID=6411553&licid=2436222', 'https://www.myfloridalicense.com/inspectionDetail.asp?InspVisitID=6518376&licid=3339656', 'https://www.myfloridalicense.com/inspectionDetail.asp?InspVisitID=6475317&licid=2153120', 'https://www.myfloridalicense.com/inspectionDetail.asp?InspVisitID=6426232&licid=2150953', 'https://www.myfloridalicense.com/inspectionDetail.asp?InspVisitID=6555350&licid=5356159', 'https://www.myfloridalicense.com/inspectionDetail.asp?InspVisitID=6450853&licid=5448922', 'https://www.myfloridalicense.com/inspectionDetail.asp?InspVisitID=6400039&licid=6787891', 'https://www.myfloridalicense.com/inspectionDetail.asp?InspVisitID=6426162&licid=2151016', 'https://www.myfloridalicense.com/inspectionDetail.asp?InspVisitID=6552959&licid=3939906', 'https://www.myfloridalicense.com/inspectionDetail.asp?InspVisitID=6302618&licid=6432254', 'https://www.myfloridalicense.com/inspectionDetail.asp?InspVisitID=6552057&licid=6662752', 'https://www.myfloridalicense.com/inspectionDetail.asp?InspVisitID=6335598&licid=6745080', 'https://www.myfloridalicense.com/inspectionDetail.asp?InspVisitID=6555049&licid=6683308', 'https://www.myfloridalicense.com/inspectionDetail.asp?InspVisitID=6556210&licid=6683308', 'https://www.myfloridalicense.com/inspectionDetail.asp?InspVisitID=6450825&licid=4276387', 'https://www.myfloridalicense.com/inspectionDetail.asp?InspVisitID=6437893&licid=5611199', 'https://www.myfloridalicense.com/inspectionDetail.asp?InspVisitID=6432928&licid=3857521', 'https://www.myfloridalicense.com/inspectionDetail.asp?InspVisitID=6251373&licid=2174066', 'https://www.myfloridalicense.com/inspectionDetail.asp?InspVisitID=6555214&licid=5735400', 'https://www.myfloridalicense.com/inspectionDetail.asp?InspVisitID=6555299&licid=2174854', 'https://www.myfloridalicense.com/inspectionDetail.asp?InspVisitID=6555498&licid=6380953', 'https://www.myfloridalicense.com/inspectionDetail.asp?InspVisitID=6400077&licid=6807405', 'https://www.myfloridalicense.com/inspectionDetail.asp?InspVisitID=6428313&licid=3145127', 'https://www.myfloridalicense.com/inspectionDetail.asp?InspVisitID=6235292&licid=3428115', 'https://www.myfloridalicense.com/inspectionDetail.asp?InspVisitID=6265072&licid=3428115', 'https://www.myfloridalicense.com/inspectionDetail.asp?InspVisitID=6555389&licid=2785603', 'https://www.myfloridalicense.com/inspectionDetail.asp?InspVisitID=6298826&licid=6437209', 'https://www.myfloridalicense.com/inspectionDetail.asp?InspVisitID=6291448&licid=5880375', 'https://www.myfloridalicense.com/inspectionDetail.asp?InspVisitID=6548261&licid=7022803', 'https://www.myfloridalicense.com/inspectionDetail.asp?InspVisitID=6556288&licid=3428115', 'https://www.myfloridalicense.com/inspectionDetail.asp?InspVisitID=6476501&licid=5745937', 'https://www.myfloridalicense.com/inspectionDetail.asp?InspVisitID=6344094&licid=2174729', 'https://www.myfloridalicense.com/inspectionDetail.asp?InspVisitID=6517138&licid=5352512', 'https://www.myfloridalicense.com/inspectionDetail.asp?InspVisitID=6349047&licid=6173155', 'https://www.myfloridalicense.com/inspectionDetail.asp?InspVisitID=6517232&licid=6112597', 'https://www.myfloridalicense.com/inspectionDetail.asp?InspVisitID=6555042&licid=6180203', 'https://www.myfloridalicense.com/inspectionDetail.asp?InspVisitID=6554485&licid=2246393', 'https://www.myfloridalicense.com/inspectionDetail.asp?InspVisitID=6459273&licid=6380953', 'https://www.myfloridalicense.com/inspectionDetail.asp?InspVisitID=6461497&licid=3586953', 'https://www.myfloridalicense.com/inspectionDetail.asp?InspVisitID=6554330&licid=6636157', 'https://www.myfloridalicense.com/inspectionDetail.asp?InspVisitID=6552976&licid=5356159', 'https://www.myfloridalicense.com/inspectionDetail.asp?InspVisitID=6552132&licid=6874679', 'https://www.myfloridalicense.com/inspectionDetail.asp?InspVisitID=6390718&licid=6807400', 'https://www.myfloridalicense.com/inspectionDetail.asp?InspVisitID=6449748&licid=5846801', 'https://www.myfloridalicense.com/inspectionDetail.asp?InspVisitID=6445593&licid=2205827', 'https://www.myfloridalicense.com/inspectionDetail.asp?InspVisitID=6544422&licid=7005576', 'https://www.myfloridalicense.com/inspectionDetail.asp?InspVisitID=6552930&licid=6325002', 'https://www.myfloridalicense.com/inspectionDetail.asp?InspVisitID=6547697&licid=6475652', 'https://www.myfloridalicense.com/inspectionDetail.asp?InspVisitID=6547424&licid=7020443', 'https://www.myfloridalicense.com/inspectionDetail.asp?InspVisitID=6518894&licid=3252109', 'https://www.myfloridalicense.com/inspectionDetail.asp?InspVisitID=6251305&licid=2174831', 'https://www.myfloridalicense.com/inspectionDetail.asp?InspVisitID=6549189&licid=2176224', 'https://www.myfloridalicense.com/inspectionDetail.asp?InspVisitID=6555147&licid=6904624', 'https://www.myfloridalicense.com/inspectionDetail.asp?InspVisitID=6555293&licid=6904624', 'https://www.myfloridalicense.com/inspectionDetail.asp?InspVisitID=6554639&licid=6904624', 'https://www.myfloridalicense.com/inspectionDetail.asp?InspVisitID=6554168&licid=6310196', 'https://www.myfloridalicense.com/inspectionDetail.asp?InspVisitID=6343158&licid=2642575', 'https://www.myfloridalicense.com/inspectionDetail.asp?InspVisitID=6554548&licid=5369216', 'https://www.myfloridalicense.com/inspectionDetail.asp?InspVisitID=6346473&licid=2642608', 'https://www.myfloridalicense.com/inspectionDetail.asp?InspVisitID=6552083&licid=6787263', 'https://www.myfloridalicense.com/inspectionDetail.asp?InspVisitID=6553634&licid=5224031', 'https://www.myfloridalicense.com/inspectionDetail.asp?InspVisitID=6554729&licid=2174854', 'https://www.myfloridalicense.com/inspectionDetail.asp?InspVisitID=6530964&licid=3606674', 'https://www.myfloridalicense.com/inspectionDetail.asp?InspVisitID=6518212&licid=3408881', 'https://www.myfloridalicense.com/inspectionDetail.asp?InspVisitID=6532065&licid=6986136', 'https://www.myfloridalicense.com/inspectionDetail.asp?InspVisitID=6554436&licid=6055327', 'https://www.myfloridalicense.com/inspectionDetail.asp?InspVisitID=6550174&licid=7020185', 'https://www.myfloridalicense.com/inspectionDetail.asp?InspVisitID=6555327&licid=2245988', 'https://www.myfloridalicense.com/inspectionDetail.asp?InspVisitID=6554065&licid=4392169', 'https://www.myfloridalicense.com/inspectionDetail.asp?InspVisitID=6517339&licid=6534340', 'https://www.myfloridalicense.com/inspectionDetail.asp?InspVisitID=6525403&licid=6202373', 'https://www.myfloridalicense.com/inspectionDetail.asp?InspVisitID=6518331&licid=6606557', 'https://www.myfloridalicense.com/inspectionDetail.asp?InspVisitID=6555179&licid=6938945', 'https://www.myfloridalicense.com/inspectionDetail.asp?InspVisitID=6548774&licid=5811447', 'https://www.myfloridalicense.com/inspectionDetail.asp?InspVisitID=6536042&licid=6219211', 'https://www.myfloridalicense.com/inspectionDetail.asp?InspVisitID=6518832&licid=5327184', 'https://www.myfloridalicense.com/inspectionDetail.asp?InspVisitID=6276110&licid=4408226', 'https://www.myfloridalicense.com/inspectionDetail.asp?InspVisitID=6551433&licid=7026914', 'https://www.myfloridalicense.com/inspectionDetail.asp?InspVisitID=6552800&licid=6828109', 'https://www.myfloridalicense.com/inspectionDetail.asp?InspVisitID=6515419&licid=6917918', 'https://www.myfloridalicense.com/inspectionDetail.asp?InspVisitID=6442315&licid=6832549', 'https://www.myfloridalicense.com/inspectionDetail.asp?InspVisitID=6554534&licid=5341261', 'https://www.myfloridalicense.com/inspectionDetail.asp?InspVisitID=6517603&licid=6596462', 'https://www.myfloridalicense.com/inspectionDetail.asp?InspVisitID=6552990&licid=6303911', 'https://www.myfloridalicense.com/inspectionDetail.asp?InspVisitID=6554396&licid=7016033', 'https://www.myfloridalicense.com/inspectionDetail.asp?InspVisitID=6546380&licid=6149981', 'https://www.myfloridalicense.com/inspectionDetail.asp?InspVisitID=6423469&licid=5539451', 'https://www.myfloridalicense.com/inspectionDetail.asp?InspVisitID=6540374&licid=6875317', 'https://www.myfloridalicense.com/inspectionDetail.asp?InspVisitID=6536663&licid=5711894', 'https://www.myfloridalicense.com/inspectionDetail.asp?InspVisitID=6551332&licid=6452737', 'https://www.myfloridalicense.com/inspectionDetail.asp?InspVisitID=6555009&licid=7013195', 'https://www.myfloridalicense.com/inspectionDetail.asp?InspVisitID=6523223&licid=6976810', 'https://www.myfloridalicense.com/inspectionDetail.asp?InspVisitID=6555472&licid=2201294', 'https://www.myfloridalicense.com/inspectionDetail.asp?InspVisitID=6551125&licid=6459734', 'https://www.myfloridalicense.com/inspectionDetail.asp?InspVisitID=6553567&licid=7003768', 'https://www.myfloridalicense.com/inspectionDetail.asp?InspVisitID=6553738&licid=5603307', 'https://www.myfloridalicense.com/inspectionDetail.asp?InspVisitID=6530948&licid=6738666', 'https://www.myfloridalicense.com/inspectionDetail.asp?InspVisitID=6553563&licid=6338486', 'https://www.myfloridalicense.com/inspectionDetail.asp?InspVisitID=6407741&licid=6508741', 'https://www.myfloridalicense.com/inspectionDetail.asp?InspVisitID=6449720&licid=5891717', 'https://www.myfloridalicense.com/inspectionDetail.asp?InspVisitID=6555133&licid=2245988', 'https://www.myfloridalicense.com/inspectionDetail.asp?InspVisitID=6553961&licid=2174627', 'https://www.myfloridalicense.com/inspectionDetail.asp?InspVisitID=6553725&licid=6884489', 'https://www.myfloridalicense.com/inspectionDetail.asp?InspVisitID=6552966&licid=3349569', 'https://www.myfloridalicense.com/inspectionDetail.asp?InspVisitID=6436738&licid=6509031', 'https://www.myfloridalicense.com/inspectionDetail.asp?InspVisitID=6545441&licid=7003012', 'https://www.myfloridalicense.com/inspectionDetail.asp?InspVisitID=6553297&licid=3989038', 'https://www.myfloridalicense.com/inspectionDetail.asp?InspVisitID=6517560&licid=6697384', 'https://www.myfloridalicense.com/inspectionDetail.asp?InspVisitID=6555151&licid=6257445', 'https://www.myfloridalicense.com/inspectionDetail.asp?InspVisitID=6552868&licid=5540944', 'https://www.myfloridalicense.com/inspectionDetail.asp?InspVisitID=6387502&licid=4372430', 'https://www.myfloridalicense.com/inspectionDetail.asp?InspVisitID=6554594&licid=2785603', 'https://www.myfloridalicense.com/inspectionDetail.asp?InspVisitID=6554391&licid=2129317', 'https://www.myfloridalicense.com/inspectionDetail.asp?InspVisitID=6553684&licid=6904624', 'https://www.myfloridalicense.com/inspectionDetail.asp?InspVisitID=6553336&licid=2175241', 'https://www.myfloridalicense.com/inspectionDetail.asp?InspVisitID=6441283&licid=4443332', 'https://www.myfloridalicense.com/inspectionDetail.asp?InspVisitID=6542942&licid=6523808', 'https://www.myfloridalicense.com/inspectionDetail.asp?InspVisitID=6546128&licid=5369216', 'https://www.myfloridalicense.com/inspectionDetail.asp?InspVisitID=6516616&licid=6064355', 'https://www.myfloridalicense.com/inspectionDetail.asp?InspVisitID=6423402&licid=2246393', 'https://www.myfloridalicense.com/inspectionDetail.asp?InspVisitID=6502233&licid=6663746', 'https://www.myfloridalicense.com/inspectionDetail.asp?InspVisitID=6447405&licid=5448926', 'https://www.myfloridalicense.com/inspectionDetail.asp?InspVisitID=6553701&licid=6922929', 'https://www.myfloridalicense.com/inspectionDetail.asp?InspVisitID=6456051&licid=6310196', 'https://www.myfloridalicense.com/inspectionDetail.asp?InspVisitID=6551448&licid=7016033', 'https://www.myfloridalicense.com/inspectionDetail.asp?InspVisitID=6451749&licid=4337912', 'https://www.myfloridalicense.com/inspectionDetail.asp?InspVisitID=6553490&licid=4392169', 'https://www.myfloridalicense.com/inspectionDetail.asp?InspVisitID=6553746&licid=4084391', 'https://www.myfloridalicense.com/inspectionDetail.asp?InspVisitID=6547550&licid=5854792', 'https://www.myfloridalicense.com/inspectionDetail.asp?InspVisitID=6553342&licid=6386150', 'https://www.myfloridalicense.com/inspectionDetail.asp?InspVisitID=6444365&licid=4276395', 'https://www.myfloridalicense.com/inspectionDetail.asp?InspVisitID=6381903&licid=4147956', 'https://www.myfloridalicense.com/inspectionDetail.asp?InspVisitID=6515287&licid=5424121', 'https://www.myfloridalicense.com/inspectionDetail.asp?InspVisitID=6553644&licid=6636157', 'https://www.myfloridalicense.com/inspectionDetail.asp?InspVisitID=6552212&licid=7026846', 'https://www.myfloridalicense.com/inspectionDetail.asp?InspVisitID=6553347&licid=5946237', 'https://www.myfloridalicense.com/inspectionDetail.asp?InspVisitID=6516512&licid=6258109', 'https://www.myfloridalicense.com/inspectionDetail.asp?InspVisitID=6553464&licid=6172886', 'https://www.myfloridalicense.com/inspectionDetail.asp?InspVisitID=6442124&licid=2785603', 'https://www.myfloridalicense.com/inspectionDetail.asp?InspVisitID=6384918&licid=5554771', 'https://www.myfloridalicense.com/inspectionDetail.asp?InspVisitID=6553970&licid=6904624', 'https://www.myfloridalicense.com/inspectionDetail.asp?InspVisitID=6535720&licid=6805611', 'https://www.myfloridalicense.com/inspectionDetail.asp?InspVisitID=6344229&licid=5960546', 'https://www.myfloridalicense.com/inspectionDetail.asp?InspVisitID=6553670&licid=5518832', 'https://www.myfloridalicense.com/inspectionDetail.asp?InspVisitID=6542941&licid=6523825', 'https://www.myfloridalicense.com/inspectionDetail.asp?InspVisitID=6493717&licid=6297294', 'https://www.myfloridalicense.com/inspectionDetail.asp?InspVisitID=6553651&licid=5399320', 'https://www.myfloridalicense.com/inspectionDetail.asp?InspVisitID=6512348&licid=3303954', 'https://www.myfloridalicense.com/inspectionDetail.asp?InspVisitID=6536743&licid=6238043', 'https://www.myfloridalicense.com/inspectionDetail.asp?InspVisitID=6292270&licid=5968178', 'https://www.myfloridalicense.com/inspectionDetail.asp?InspVisitID=6444366&licid=4276439', 'https://www.myfloridalicense.com/inspectionDetail.asp?InspVisitID=6536547&licid=6856712', 'https://www.myfloridalicense.com/inspectionDetail.asp?InspVisitID=6277170&licid=4464680', 'https://www.myfloridalicense.com/inspectionDetail.asp?InspVisitID=6553539&licid=6809765', 'https://www.myfloridalicense.com/inspectionDetail.asp?InspVisitID=6445672&licid=5541178', 'https://www.myfloridalicense.com/inspectionDetail.asp?InspVisitID=6552231&licid=7025861', 'https://www.myfloridalicense.com/inspectionDetail.asp?InspVisitID=6549685&licid=4134736', 'https://www.myfloridalicense.com/inspectionDetail.asp?InspVisitID=6386667&licid=3108104', 'https://www.myfloridalicense.com/inspectionDetail.asp?InspVisitID=6550572&licid=3119949', 'https://www.myfloridalicense.com/inspectionDetail.asp?InspVisitID=6445703&licid=5826393', 'https://www.myfloridalicense.com/inspectionDetail.asp?InspVisitID=6538464&licid=4073956', 'https://www.myfloridalicense.com/inspectionDetail.asp?InspVisitID=6448584&licid=5341261', 'https://www.myfloridalicense.com/inspectionDetail.asp?InspVisitID=6453309&licid=2175788']\n"
=======
<<<<<<< HEAD
      "['https://www.myfloridalicense.com/inspectionDetail.asp?InspVisitID=6533891&licid=7003533', 'https://www.myfloridalicense.com/inspectionDetail.asp?InspVisitID=6362752&licid=6772721', 'https://www.myfloridalicense.com/inspectionDetail.asp?InspVisitID=6538630&licid=7009925', 'https://www.myfloridalicense.com/inspectionDetail.asp?InspVisitID=6517783&licid=6982298', 'https://www.myfloridalicense.com/inspectionDetail.asp?InspVisitID=6539001&licid=6312191', 'https://www.myfloridalicense.com/inspectionDetail.asp?InspVisitID=6444510&licid=6475603', 'https://www.myfloridalicense.com/inspectionDetail.asp?InspVisitID=6292423&licid=6040839', 'https://www.myfloridalicense.com/inspectionDetail.asp?InspVisitID=6463635&licid=6370423', 'https://www.myfloridalicense.com/inspectionDetail.asp?InspVisitID=6451801&licid=5858850', 'https://www.myfloridalicense.com/inspectionDetail.asp?InspVisitID=6535804&licid=3296677', 'https://www.myfloridalicense.com/inspectionDetail.asp?InspVisitID=6535766&licid=5430232', 'https://www.myfloridalicense.com/inspectionDetail.asp?InspVisitID=6535653&licid=2129170', 'https://www.myfloridalicense.com/inspectionDetail.asp?InspVisitID=6247794&licid=2129170', 'https://www.myfloridalicense.com/inspectionDetail.asp?InspVisitID=6451852&licid=6665274', 'https://www.myfloridalicense.com/inspectionDetail.asp?InspVisitID=6433038&licid=6621480', 'https://www.myfloridalicense.com/inspectionDetail.asp?InspVisitID=6456866&licid=5269891', 'https://www.myfloridalicense.com/inspectionDetail.asp?InspVisitID=6528463&licid=6534697', 'https://www.myfloridalicense.com/inspectionDetail.asp?InspVisitID=6442196&licid=5576855', 'https://www.myfloridalicense.com/inspectionDetail.asp?InspVisitID=6527476&licid=2129685', 'https://www.myfloridalicense.com/inspectionDetail.asp?InspVisitID=6419688&licid=5761286', 'https://www.myfloridalicense.com/inspectionDetail.asp?InspVisitID=6292045&licid=5524643', 'https://www.myfloridalicense.com/inspectionDetail.asp?InspVisitID=6416865&licid=6126978', 'https://www.myfloridalicense.com/inspectionDetail.asp?InspVisitID=6528955&licid=6126771', 'https://www.myfloridalicense.com/inspectionDetail.asp?InspVisitID=6532203&licid=6207335', 'https://www.myfloridalicense.com/inspectionDetail.asp?InspVisitID=6427655&licid=6621541', 'https://www.myfloridalicense.com/inspectionDetail.asp?InspVisitID=6427442&licid=3967136', 'https://www.myfloridalicense.com/inspectionDetail.asp?InspVisitID=6420899&licid=6207335', 'https://www.myfloridalicense.com/inspectionDetail.asp?InspVisitID=6420707&licid=2129129', 'https://www.myfloridalicense.com/inspectionDetail.asp?InspVisitID=6448691&licid=6537359', 'https://www.myfloridalicense.com/inspectionDetail.asp?InspVisitID=6529767&licid=5485529', 'https://www.myfloridalicense.com/inspectionDetail.asp?InspVisitID=6429398&licid=3840892', 'https://www.myfloridalicense.com/inspectionDetail.asp?InspVisitID=6528913&licid=5485569', 'https://www.myfloridalicense.com/inspectionDetail.asp?InspVisitID=6528946&licid=5633502', 'https://www.myfloridalicense.com/inspectionDetail.asp?InspVisitID=6334264&licid=5538656', 'https://www.myfloridalicense.com/inspectionDetail.asp?InspVisitID=6382037&licid=6534697', 'https://www.myfloridalicense.com/inspectionDetail.asp?InspVisitID=6511894&licid=6534697', 'https://www.myfloridalicense.com/inspectionDetail.asp?InspVisitID=6380690&licid=2636769', 'https://www.myfloridalicense.com/inspectionDetail.asp?InspVisitID=6486244&licid=2129685', 'https://www.myfloridalicense.com/inspectionDetail.asp?InspVisitID=6431167&licid=5569752', 'https://www.myfloridalicense.com/inspectionDetail.asp?InspVisitID=6524479&licid=2129908', 'https://www.myfloridalicense.com/inspectionDetail.asp?InspVisitID=6519373&licid=6910020', 'https://www.myfloridalicense.com/inspectionDetail.asp?InspVisitID=6442289&licid=6106750', 'https://www.myfloridalicense.com/inspectionDetail.asp?InspVisitID=6479432&licid=2992357', 'https://www.myfloridalicense.com/inspectionDetail.asp?InspVisitID=6427517&licid=5786679', 'https://www.myfloridalicense.com/inspectionDetail.asp?InspVisitID=6437790&licid=2129157', 'https://www.myfloridalicense.com/inspectionDetail.asp?InspVisitID=6524473&licid=4460173', 'https://www.myfloridalicense.com/inspectionDetail.asp?InspVisitID=6504680&licid=6770137', 'https://www.myfloridalicense.com/inspectionDetail.asp?InspVisitID=6522250&licid=3909271', 'https://www.myfloridalicense.com/inspectionDetail.asp?InspVisitID=6522057&licid=6596574', 'https://www.myfloridalicense.com/inspectionDetail.asp?InspVisitID=6519203&licid=5633502', 'https://www.myfloridalicense.com/inspectionDetail.asp?InspVisitID=6466795&licid=5879272', 'https://www.myfloridalicense.com/inspectionDetail.asp?InspVisitID=6448739&licid=6731385', 'https://www.myfloridalicense.com/inspectionDetail.asp?InspVisitID=6335074&licid=6313086', 'https://www.myfloridalicense.com/inspectionDetail.asp?InspVisitID=6514128&licid=4016865', 'https://www.myfloridalicense.com/inspectionDetail.asp?InspVisitID=6518388&licid=4380597', 'https://www.myfloridalicense.com/inspectionDetail.asp?InspVisitID=6438911&licid=3777614', 'https://www.myfloridalicense.com/inspectionDetail.asp?InspVisitID=6517683&licid=3654600', 'https://www.myfloridalicense.com/inspectionDetail.asp?InspVisitID=6405027&licid=4461235', 'https://www.myfloridalicense.com/inspectionDetail.asp?InspVisitID=6453382&licid=5522606', 'https://www.myfloridalicense.com/inspectionDetail.asp?InspVisitID=6517604&licid=3654600', 'https://www.myfloridalicense.com/inspectionDetail.asp?InspVisitID=6448554&licid=3983481', 'https://www.myfloridalicense.com/inspectionDetail.asp?InspVisitID=6515977&licid=6596474', 'https://www.myfloridalicense.com/inspectionDetail.asp?InspVisitID=6420836&licid=5634314', 'https://www.myfloridalicense.com/inspectionDetail.asp?InspVisitID=6514696&licid=3943967', 'https://www.myfloridalicense.com/inspectionDetail.asp?InspVisitID=6398649&licid=3876042', 'https://www.myfloridalicense.com/inspectionDetail.asp?InspVisitID=6293851&licid=5837516', 'https://www.myfloridalicense.com/inspectionDetail.asp?InspVisitID=6422582&licid=3775141', 'https://www.myfloridalicense.com/inspectionDetail.asp?InspVisitID=6451732&licid=4062330', 'https://www.myfloridalicense.com/inspectionDetail.asp?InspVisitID=6369448&licid=6688199', 'https://www.myfloridalicense.com/inspectionDetail.asp?InspVisitID=6438884&licid=2432234', 'https://www.myfloridalicense.com/inspectionDetail.asp?InspVisitID=6436720&licid=6242062', 'https://www.myfloridalicense.com/inspectionDetail.asp?InspVisitID=6453381&licid=5471486', 'https://www.myfloridalicense.com/inspectionDetail.asp?InspVisitID=6402848&licid=3848291', 'https://www.myfloridalicense.com/inspectionDetail.asp?InspVisitID=6406430&licid=6335187', 'https://www.myfloridalicense.com/inspectionDetail.asp?InspVisitID=6472075&licid=5375832', 'https://www.myfloridalicense.com/inspectionDetail.asp?InspVisitID=6454252&licid=5530030', 'https://www.myfloridalicense.com/inspectionDetail.asp?InspVisitID=6426200&licid=2129793', 'https://www.myfloridalicense.com/inspectionDetail.asp?InspVisitID=6406306&licid=2339501', 'https://www.myfloridalicense.com/inspectionDetail.asp?InspVisitID=6436676&licid=5468851', 'https://www.myfloridalicense.com/inspectionDetail.asp?InspVisitID=6507412&licid=5613627', 'https://www.myfloridalicense.com/inspectionDetail.asp?InspVisitID=6506695&licid=4031296', 'https://www.myfloridalicense.com/inspectionDetail.asp?InspVisitID=6385800&licid=2129624', 'https://www.myfloridalicense.com/inspectionDetail.asp?InspVisitID=6416892&licid=6005029', 'https://www.myfloridalicense.com/inspectionDetail.asp?InspVisitID=6444372&licid=4411980', 'https://www.myfloridalicense.com/inspectionDetail.asp?InspVisitID=6510658&licid=4196790', 'https://www.myfloridalicense.com/inspectionDetail.asp?InspVisitID=6468468&licid=5469973', 'https://www.myfloridalicense.com/inspectionDetail.asp?InspVisitID=6509808&licid=5399007', 'https://www.myfloridalicense.com/inspectionDetail.asp?InspVisitID=6509127&licid=6506469', 'https://www.myfloridalicense.com/inspectionDetail.asp?InspVisitID=6504306&licid=6930470', 'https://www.myfloridalicense.com/inspectionDetail.asp?InspVisitID=6400878&licid=2129377', 'https://www.myfloridalicense.com/inspectionDetail.asp?InspVisitID=6280880&licid=5399007', 'https://www.myfloridalicense.com/inspectionDetail.asp?InspVisitID=6463833&licid=6506469', 'https://www.myfloridalicense.com/inspectionDetail.asp?InspVisitID=6506073&licid=3354442', 'https://www.myfloridalicense.com/inspectionDetail.asp?InspVisitID=6413594&licid=5497165', 'https://www.myfloridalicense.com/inspectionDetail.asp?InspVisitID=6484224&licid=6923164', 'https://www.myfloridalicense.com/inspectionDetail.asp?InspVisitID=6437960&licid=6621483', 'https://www.myfloridalicense.com/inspectionDetail.asp?InspVisitID=6384927&licid=5613627', 'https://www.myfloridalicense.com/inspectionDetail.asp?InspVisitID=6247881&licid=2129435', 'https://www.myfloridalicense.com/inspectionDetail.asp?InspVisitID=6385799&licid=2129251', 'https://www.myfloridalicense.com/inspectionDetail.asp?InspVisitID=6385828&licid=4031296', 'https://www.myfloridalicense.com/inspectionDetail.asp?InspVisitID=6376426&licid=3630731', 'https://www.myfloridalicense.com/inspectionDetail.asp?InspVisitID=6245467&licid=2129610', 'https://www.myfloridalicense.com/inspectionDetail.asp?InspVisitID=6496827&licid=3354442', 'https://www.myfloridalicense.com/inspectionDetail.asp?InspVisitID=6360783&licid=6770137', 'https://www.myfloridalicense.com/inspectionDetail.asp?InspVisitID=6449653&licid=3905574', 'https://www.myfloridalicense.com/inspectionDetail.asp?InspVisitID=6427428&licid=3679002', 'https://www.myfloridalicense.com/inspectionDetail.asp?InspVisitID=6355833&licid=6296997', 'https://www.myfloridalicense.com/inspectionDetail.asp?InspVisitID=6492736&licid=3979869', 'https://www.myfloridalicense.com/inspectionDetail.asp?InspVisitID=6436522&licid=6720437', 'https://www.myfloridalicense.com/inspectionDetail.asp?InspVisitID=6308871&licid=6654117', 'https://www.myfloridalicense.com/inspectionDetail.asp?InspVisitID=6274520&licid=4300274', 'https://www.myfloridalicense.com/inspectionDetail.asp?InspVisitID=6335518&licid=6596474', 'https://www.myfloridalicense.com/inspectionDetail.asp?InspVisitID=6366362&licid=6571664', 'https://www.myfloridalicense.com/inspectionDetail.asp?InspVisitID=6495322&licid=5961865', 'https://www.myfloridalicense.com/inspectionDetail.asp?InspVisitID=6491597&licid=6370508', 'https://www.myfloridalicense.com/inspectionDetail.asp?InspVisitID=6489116&licid=6943776', 'https://www.myfloridalicense.com/inspectionDetail.asp?InspVisitID=6279998&licid=5321567', 'https://www.myfloridalicense.com/inspectionDetail.asp?InspVisitID=6433035&licid=6382847', 'https://www.myfloridalicense.com/inspectionDetail.asp?InspVisitID=6363961&licid=2942233', 'https://www.myfloridalicense.com/inspectionDetail.asp?InspVisitID=6411519&licid=2129317', 'https://www.myfloridalicense.com/inspectionDetail.asp?InspVisitID=6431917&licid=6253914', 'https://www.myfloridalicense.com/inspectionDetail.asp?InspVisitID=6374983&licid=2129994', 'https://www.myfloridalicense.com/inspectionDetail.asp?InspVisitID=6468843&licid=6917742', 'https://www.myfloridalicense.com/inspectionDetail.asp?InspVisitID=6334765&licid=5681380', 'https://www.myfloridalicense.com/inspectionDetail.asp?InspVisitID=6412660&licid=5961865', 'https://www.myfloridalicense.com/inspectionDetail.asp?InspVisitID=6437915&licid=5981037', 'https://www.myfloridalicense.com/inspectionDetail.asp?InspVisitID=6491533&licid=5410909', 'https://www.myfloridalicense.com/inspectionDetail.asp?InspVisitID=6492373&licid=5854792', 'https://www.myfloridalicense.com/inspectionDetail.asp?InspVisitID=6380849&licid=6664696', 'https://www.myfloridalicense.com/inspectionDetail.asp?InspVisitID=6431824&licid=2129214', 'https://www.myfloridalicense.com/inspectionDetail.asp?InspVisitID=6431138&licid=3979869', 'https://www.myfloridalicense.com/inspectionDetail.asp?InspVisitID=6432997&licid=5878957', 'https://www.myfloridalicense.com/inspectionDetail.asp?InspVisitID=6313712&licid=6616696', 'https://www.myfloridalicense.com/inspectionDetail.asp?InspVisitID=6446737&licid=6869570', 'https://www.myfloridalicense.com/inspectionDetail.asp?InspVisitID=6492245&licid=2129965']\n"
=======
      "['https://www.myfloridalicense.com/inspectionDetail.asp?InspVisitID=6540174&licid=6017101', 'https://www.myfloridalicense.com/inspectionDetail.asp?InspVisitID=6452493&licid=5874202', 'https://www.myfloridalicense.com/inspectionDetail.asp?InspVisitID=6285785&licid=5707105', 'https://www.myfloridalicense.com/inspectionDetail.asp?InspVisitID=6446676&licid=6523472', 'https://www.myfloridalicense.com/inspectionDetail.asp?InspVisitID=6263363&licid=6545268', 'https://www.myfloridalicense.com/inspectionDetail.asp?InspVisitID=6542587&licid=5369216', 'https://www.myfloridalicense.com/inspectionDetail.asp?InspVisitID=6366387&licid=6748879', 'https://www.myfloridalicense.com/inspectionDetail.asp?InspVisitID=6539293&licid=6089798', 'https://www.myfloridalicense.com/inspectionDetail.asp?InspVisitID=6332727&licid=2130081', 'https://www.myfloridalicense.com/inspectionDetail.asp?InspVisitID=6503829&licid=2205735', 'https://www.myfloridalicense.com/inspectionDetail.asp?InspVisitID=6541810&licid=3680650', 'https://www.myfloridalicense.com/inspectionDetail.asp?InspVisitID=6533895&licid=7003817', 'https://www.myfloridalicense.com/inspectionDetail.asp?InspVisitID=6311195&licid=6364709', 'https://www.myfloridalicense.com/inspectionDetail.asp?InspVisitID=6536168&licid=7005576', 'https://www.myfloridalicense.com/inspectionDetail.asp?InspVisitID=6367056&licid=6052300', 'https://www.myfloridalicense.com/inspectionDetail.asp?InspVisitID=6452465&licid=5231088', 'https://www.myfloridalicense.com/inspectionDetail.asp?InspVisitID=6537313&licid=6129283', 'https://www.myfloridalicense.com/inspectionDetail.asp?InspVisitID=6540476&licid=6993547', 'https://www.myfloridalicense.com/inspectionDetail.asp?InspVisitID=6263433&licid=3183046', 'https://www.myfloridalicense.com/inspectionDetail.asp?InspVisitID=6523060&licid=5299691', 'https://www.myfloridalicense.com/inspectionDetail.asp?InspVisitID=6543107&licid=4076503', 'https://www.myfloridalicense.com/inspectionDetail.asp?InspVisitID=6439009&licid=6027660', 'https://www.myfloridalicense.com/inspectionDetail.asp?InspVisitID=6380709&licid=3361857', 'https://www.myfloridalicense.com/inspectionDetail.asp?InspVisitID=6542484&licid=6624728', 'https://www.myfloridalicense.com/inspectionDetail.asp?InspVisitID=6275577&licid=4261828', 'https://www.myfloridalicense.com/inspectionDetail.asp?InspVisitID=6245700&licid=2201294', 'https://www.myfloridalicense.com/inspectionDetail.asp?InspVisitID=6542582&licid=5224950', 'https://www.myfloridalicense.com/inspectionDetail.asp?InspVisitID=6543234&licid=3969835', 'https://www.myfloridalicense.com/inspectionDetail.asp?InspVisitID=6448485&licid=2201981', 'https://www.myfloridalicense.com/inspectionDetail.asp?InspVisitID=6334942&licid=6369855', 'https://www.myfloridalicense.com/inspectionDetail.asp?InspVisitID=6542677&licid=6703142', 'https://www.myfloridalicense.com/inspectionDetail.asp?InspVisitID=6435098&licid=2175679', 'https://www.myfloridalicense.com/inspectionDetail.asp?InspVisitID=6541751&licid=7003533', 'https://www.myfloridalicense.com/inspectionDetail.asp?InspVisitID=6489086&licid=6206299', 'https://www.myfloridalicense.com/inspectionDetail.asp?InspVisitID=6543255&licid=6014960', 'https://www.myfloridalicense.com/inspectionDetail.asp?InspVisitID=6488874&licid=6206299', 'https://www.myfloridalicense.com/inspectionDetail.asp?InspVisitID=6540894&licid=5757117', 'https://www.myfloridalicense.com/inspectionDetail.asp?InspVisitID=6353619&licid=6683171', 'https://www.myfloridalicense.com/inspectionDetail.asp?InspVisitID=6542772&licid=6014960', 'https://www.myfloridalicense.com/inspectionDetail.asp?InspVisitID=6275885&licid=4257077', 'https://www.myfloridalicense.com/inspectionDetail.asp?InspVisitID=6436694&licid=5901455', 'https://www.myfloridalicense.com/inspectionDetail.asp?InspVisitID=6446629&licid=6257604', 'https://www.myfloridalicense.com/inspectionDetail.asp?InspVisitID=6542547&licid=4207059', 'https://www.myfloridalicense.com/inspectionDetail.asp?InspVisitID=6542768&licid=6761841', 'https://www.myfloridalicense.com/inspectionDetail.asp?InspVisitID=6539252&licid=3692847', 'https://www.myfloridalicense.com/inspectionDetail.asp?InspVisitID=6334554&licid=5960583', 'https://www.myfloridalicense.com/inspectionDetail.asp?InspVisitID=6422583&licid=3836507', 'https://www.myfloridalicense.com/inspectionDetail.asp?InspVisitID=6265493&licid=3481402', 'https://www.myfloridalicense.com/inspectionDetail.asp?InspVisitID=6376580&licid=6520504', 'https://www.myfloridalicense.com/inspectionDetail.asp?InspVisitID=6524023&licid=6949459', 'https://www.myfloridalicense.com/inspectionDetail.asp?InspVisitID=6539857&licid=5232336', 'https://www.myfloridalicense.com/inspectionDetail.asp?InspVisitID=6536025&licid=6494671', 'https://www.myfloridalicense.com/inspectionDetail.asp?InspVisitID=6537617&licid=5345251', 'https://www.myfloridalicense.com/inspectionDetail.asp?InspVisitID=6503280&licid=6933846', 'https://www.myfloridalicense.com/inspectionDetail.asp?InspVisitID=6538544&licid=6274245', 'https://www.myfloridalicense.com/inspectionDetail.asp?InspVisitID=6504016&licid=6349815', 'https://www.myfloridalicense.com/inspectionDetail.asp?InspVisitID=6538338&licid=6846853', 'https://www.myfloridalicense.com/inspectionDetail.asp?InspVisitID=6445602&licid=2153215', 'https://www.myfloridalicense.com/inspectionDetail.asp?InspVisitID=6452482&licid=5454448', 'https://www.myfloridalicense.com/inspectionDetail.asp?InspVisitID=6443336&licid=6803140', 'https://www.myfloridalicense.com/inspectionDetail.asp?InspVisitID=6529681&licid=6846853', 'https://www.myfloridalicense.com/inspectionDetail.asp?InspVisitID=6541420&licid=4278271', 'https://www.myfloridalicense.com/inspectionDetail.asp?InspVisitID=6542586&licid=6014960', 'https://www.myfloridalicense.com/inspectionDetail.asp?InspVisitID=6541490&licid=5369216', 'https://www.myfloridalicense.com/inspectionDetail.asp?InspVisitID=6475572&licid=6771334', 'https://www.myfloridalicense.com/inspectionDetail.asp?InspVisitID=6537384&licid=2244934', 'https://www.myfloridalicense.com/inspectionDetail.asp?InspVisitID=6541671&licid=6014960', 'https://www.myfloridalicense.com/inspectionDetail.asp?InspVisitID=6291855&licid=5716132', 'https://www.myfloridalicense.com/inspectionDetail.asp?InspVisitID=6454209&licid=4257664', 'https://www.myfloridalicense.com/inspectionDetail.asp?InspVisitID=6451770&licid=5480732', 'https://www.myfloridalicense.com/inspectionDetail.asp?InspVisitID=6535430&licid=5895546', 'https://www.myfloridalicense.com/inspectionDetail.asp?InspVisitID=6312379&licid=6674493', 'https://www.myfloridalicense.com/inspectionDetail.asp?InspVisitID=6541754&licid=4005147', 'https://www.myfloridalicense.com/inspectionDetail.asp?InspVisitID=6504019&licid=2246360', 'https://www.myfloridalicense.com/inspectionDetail.asp?InspVisitID=6516782&licid=6970390', 'https://www.myfloridalicense.com/inspectionDetail.asp?InspVisitID=6307491&licid=6484952', 'https://www.myfloridalicense.com/inspectionDetail.asp?InspVisitID=6434121&licid=6528247', 'https://www.myfloridalicense.com/inspectionDetail.asp?InspVisitID=6435894&licid=4274450', 'https://www.myfloridalicense.com/inspectionDetail.asp?InspVisitID=6540460&licid=7002500', 'https://www.myfloridalicense.com/inspectionDetail.asp?InspVisitID=6454283&licid=6269644', 'https://www.myfloridalicense.com/inspectionDetail.asp?InspVisitID=6518150&licid=6523808', 'https://www.myfloridalicense.com/inspectionDetail.asp?InspVisitID=6518151&licid=6523825', 'https://www.myfloridalicense.com/inspectionDetail.asp?InspVisitID=6295028&licid=5867091', 'https://www.myfloridalicense.com/inspectionDetail.asp?InspVisitID=6479612&licid=6916193', 'https://www.myfloridalicense.com/inspectionDetail.asp?InspVisitID=6444304&licid=2724890', 'https://www.myfloridalicense.com/inspectionDetail.asp?InspVisitID=6481457&licid=6809765', 'https://www.myfloridalicense.com/inspectionDetail.asp?InspVisitID=6386390&licid=6761841', 'https://www.myfloridalicense.com/inspectionDetail.asp?InspVisitID=6295029&licid=5867092', 'https://www.myfloridalicense.com/inspectionDetail.asp?InspVisitID=6451885&licid=6876179', 'https://www.myfloridalicense.com/inspectionDetail.asp?InspVisitID=6542692&licid=6997359', 'https://www.myfloridalicense.com/inspectionDetail.asp?InspVisitID=6541923&licid=6997359', 'https://www.myfloridalicense.com/inspectionDetail.asp?InspVisitID=6441314&licid=5954786', 'https://www.myfloridalicense.com/inspectionDetail.asp?InspVisitID=6513277&licid=6743142', 'https://www.myfloridalicense.com/inspectionDetail.asp?InspVisitID=6520396&licid=6920729', 'https://www.myfloridalicense.com/inspectionDetail.asp?InspVisitID=6349868&licid=5224950', 'https://www.myfloridalicense.com/inspectionDetail.asp?InspVisitID=6387509&licid=6624728', 'https://www.myfloridalicense.com/inspectionDetail.asp?InspVisitID=6538848&licid=6546390', 'https://www.myfloridalicense.com/inspectionDetail.asp?InspVisitID=6280594&licid=5400193', 'https://www.myfloridalicense.com/inspectionDetail.asp?InspVisitID=6449736&licid=5955119', 'https://www.myfloridalicense.com/inspectionDetail.asp?InspVisitID=6339874&licid=6173144', 'https://www.myfloridalicense.com/inspectionDetail.asp?InspVisitID=6524377&licid=2252428', 'https://www.myfloridalicense.com/inspectionDetail.asp?InspVisitID=6291773&licid=5847741', 'https://www.myfloridalicense.com/inspectionDetail.asp?InspVisitID=6541345&licid=2252428', 'https://www.myfloridalicense.com/inspectionDetail.asp?InspVisitID=6540940&licid=2201613', 'https://www.myfloridalicense.com/inspectionDetail.asp?InspVisitID=6451790&licid=5600613', 'https://www.myfloridalicense.com/inspectionDetail.asp?InspVisitID=6533891&licid=7003533', 'https://www.myfloridalicense.com/inspectionDetail.asp?InspVisitID=6448612&licid=6014960', 'https://www.myfloridalicense.com/inspectionDetail.asp?InspVisitID=6264365&licid=3340451', 'https://www.myfloridalicense.com/inspectionDetail.asp?InspVisitID=6446659&licid=6386779', 'https://www.myfloridalicense.com/inspectionDetail.asp?InspVisitID=6538611&licid=7006545', 'https://www.myfloridalicense.com/inspectionDetail.asp?InspVisitID=6540292&licid=6452737', 'https://www.myfloridalicense.com/inspectionDetail.asp?InspVisitID=6408734&licid=6147058', 'https://www.myfloridalicense.com/inspectionDetail.asp?InspVisitID=6537383&licid=2176873', 'https://www.myfloridalicense.com/inspectionDetail.asp?InspVisitID=6299572&licid=6411570', 'https://www.myfloridalicense.com/inspectionDetail.asp?InspVisitID=6306430&licid=6357111', 'https://www.myfloridalicense.com/inspectionDetail.asp?InspVisitID=6438931&licid=4353459', 'https://www.myfloridalicense.com/inspectionDetail.asp?InspVisitID=6411774&licid=6579456', 'https://www.myfloridalicense.com/inspectionDetail.asp?InspVisitID=6431178&licid=5439736', 'https://www.myfloridalicense.com/inspectionDetail.asp?InspVisitID=6541248&licid=6274037', 'https://www.myfloridalicense.com/inspectionDetail.asp?InspVisitID=6537752&licid=6960648', 'https://www.myfloridalicense.com/inspectionDetail.asp?InspVisitID=6400081&licid=5803371', 'https://www.myfloridalicense.com/inspectionDetail.asp?InspVisitID=6530949&licid=4042575', 'https://www.myfloridalicense.com/inspectionDetail.asp?InspVisitID=6383047&licid=3654838', 'https://www.myfloridalicense.com/inspectionDetail.asp?InspVisitID=6251561&licid=2175808', 'https://www.myfloridalicense.com/inspectionDetail.asp?InspVisitID=6536659&licid=6234261', 'https://www.myfloridalicense.com/inspectionDetail.asp?InspVisitID=6537412&licid=6532248', 'https://www.myfloridalicense.com/inspectionDetail.asp?InspVisitID=6519823&licid=5483098', 'https://www.myfloridalicense.com/inspectionDetail.asp?InspVisitID=6541111&licid=5369216', 'https://www.myfloridalicense.com/inspectionDetail.asp?InspVisitID=6524494&licid=6914674', 'https://www.myfloridalicense.com/inspectionDetail.asp?InspVisitID=6538994&licid=4278271', 'https://www.myfloridalicense.com/inspectionDetail.asp?InspVisitID=6465528&licid=5571638', 'https://www.myfloridalicense.com/inspectionDetail.asp?InspVisitID=6541481&licid=6639863', 'https://www.myfloridalicense.com/inspectionDetail.asp?InspVisitID=6530017&licid=4205407', 'https://www.myfloridalicense.com/inspectionDetail.asp?InspVisitID=6515243&licid=4100942', 'https://www.myfloridalicense.com/inspectionDetail.asp?InspVisitID=6537414&licid=6028838', 'https://www.myfloridalicense.com/inspectionDetail.asp?InspVisitID=6537109&licid=4005147', 'https://www.myfloridalicense.com/inspectionDetail.asp?InspVisitID=6246054&licid=2130041', 'https://www.myfloridalicense.com/inspectionDetail.asp?InspVisitID=6537483&licid=5569383', 'https://www.myfloridalicense.com/inspectionDetail.asp?InspVisitID=6383265&licid=6800637', 'https://www.myfloridalicense.com/inspectionDetail.asp?InspVisitID=6538537&licid=4287774', 'https://www.myfloridalicense.com/inspectionDetail.asp?InspVisitID=6435339&licid=6521362', 'https://www.myfloridalicense.com/inspectionDetail.asp?InspVisitID=6420840&licid=5461525', 'https://www.myfloridalicense.com/inspectionDetail.asp?InspVisitID=6270313&licid=3941903', 'https://www.myfloridalicense.com/inspectionDetail.asp?InspVisitID=6308452&licid=5595309', 'https://www.myfloridalicense.com/inspectionDetail.asp?InspVisitID=6454204&licid=4155401', 'https://www.myfloridalicense.com/inspectionDetail.asp?InspVisitID=6444394&licid=5369216', 'https://www.myfloridalicense.com/inspectionDetail.asp?InspVisitID=6452505&licid=6126969', 'https://www.myfloridalicense.com/inspectionDetail.asp?InspVisitID=6540366&licid=6421808', 'https://www.myfloridalicense.com/inspectionDetail.asp?InspVisitID=6501211&licid=6583001', 'https://www.myfloridalicense.com/inspectionDetail.asp?InspVisitID=6270320&licid=3941921', 'https://www.myfloridalicense.com/inspectionDetail.asp?InspVisitID=6539452&licid=7010570', 'https://www.myfloridalicense.com/inspectionDetail.asp?InspVisitID=6270321&licid=3941928', 'https://www.myfloridalicense.com/inspectionDetail.asp?InspVisitID=6270322&licid=3941932', 'https://www.myfloridalicense.com/inspectionDetail.asp?InspVisitID=6497932&licid=6683946', 'https://www.myfloridalicense.com/inspectionDetail.asp?InspVisitID=6538471&licid=6751064', 'https://www.myfloridalicense.com/inspectionDetail.asp?InspVisitID=6444342&licid=3922420', 'https://www.myfloridalicense.com/inspectionDetail.asp?InspVisitID=6271735&licid=4066648', 'https://www.myfloridalicense.com/inspectionDetail.asp?InspVisitID=6447368&licid=3941910', 'https://www.myfloridalicense.com/inspectionDetail.asp?InspVisitID=6447367&licid=3941907', 'https://www.myfloridalicense.com/inspectionDetail.asp?InspVisitID=6270318&licid=3941918', 'https://www.myfloridalicense.com/inspectionDetail.asp?InspVisitID=6506928&licid=5647997', 'https://www.myfloridalicense.com/inspectionDetail.asp?InspVisitID=6310799&licid=6575144', 'https://www.myfloridalicense.com/inspectionDetail.asp?InspVisitID=6498998&licid=6847374', 'https://www.myfloridalicense.com/inspectionDetail.asp?InspVisitID=6420930&licid=6274037', 'https://www.myfloridalicense.com/inspectionDetail.asp?InspVisitID=6532475&licid=6728165', 'https://www.myfloridalicense.com/inspectionDetail.asp?InspVisitID=6501278&licid=3321361', 'https://www.myfloridalicense.com/inspectionDetail.asp?InspVisitID=6312140&licid=6535770', 'https://www.myfloridalicense.com/inspectionDetail.asp?InspVisitID=6354562&licid=5390903']\n"
>>>>>>> 6fecbe7dbd1f7655cc52da6e554df9c353f2d332
>>>>>>> cf8c2bdd3dde3519a7b35b233730cd078fb4c510
     ]
    },
    {
     "data": {
      "text/plain": [
       "394"
      ]
     },
     "execution_count": 6,
     "metadata": {},
     "output_type": "execute_result"
    }
   ],
   "source": [
    "# takes LicenseID and VisitID, passes it into the urls for detailed reports\n",
    "result = []\n",
    "for index, rows in insp.iterrows():\n",
    "    visitID = rows['VisitID']\n",
    "    licID = rows['LicenseID']\n",
    "    urls = \"https://www.myfloridalicense.com/inspectionDetail.asp? \\\n",
    "        InspVisitID= %s &licid= %s\" % (visitID, licID)\n",
    "    urls = urls.replace(' ', '')\n",
    "    result.append(urls)\n",
    "\n",
    "urlList = result\n",
    "print(urlList) #not needed later\n",
    "len(urlList) #not needed later"
   ]
  },
  {
   "cell_type": "markdown",
   "metadata": {},
   "source": [
    "__Now it's time to use those urls to access the detailed reports with inspector comments, and scrape those. This will need to be a \"for loop\" that cycles through all urls and then puts the output variables somehow, like a database?__"
   ]
  },
  {
   "cell_type": "code",
<<<<<<< HEAD
   "execution_count": 12,
=======
<<<<<<< HEAD
   "execution_count": null,
   "metadata": {},
   "outputs": [],
=======
   "execution_count": 11,
>>>>>>> cf8c2bdd3dde3519a7b35b233730cd078fb4c510
   "metadata": {},
   "outputs": [
    {
     "ename": "SyntaxError",
     "evalue": "invalid syntax (<ipython-input-12-6465a4f2ba40>, line 21)",
     "output_type": "error",
     "traceback": [
      "\u001b[0;36m  File \u001b[0;32m\"<ipython-input-12-6465a4f2ba40>\"\u001b[0;36m, line \u001b[0;32m21\u001b[0m\n\u001b[0;31m    else break\u001b[0m\n\u001b[0m             ^\u001b[0m\n\u001b[0;31mSyntaxError\u001b[0m\u001b[0;31m:\u001b[0m invalid syntax\n"
     ]
    }
   ],
>>>>>>> 6fecbe7dbd1f7655cc52da6e554df9c353f2d332
   "source": [
    "from titlecase import titlecase\n",
    "\n",
    "def make_details_dict(url):\n",
    "    html = urlopen(url)\n",
    "    soup = bs4.BeautifulSoup(html.read(), 'lxml')\n",
    "    details = soup.find_all('font', {'face': 'verdana'})[10:]\n",
    "    result = []\n",
    "    global detailsDict\n",
    "    \n",
    "    for detail in details:\n",
    "        siteName = details[0].text\n",
    "        licNum = details[2].text\n",
    "        siteRank = details[4].text\n",
    "        expDate = details[6].text\n",
    "        primeStatus = details[8].text\n",
    "        secStatus = details[10].text\n",
    "        siteAddress = details[12].text\n",
    "        inspectResult = details[20].text\n",
    "        observed1 = details[34].get_text\n",
    "        \n",
    "        observed2 = details[36].text\n",
    "        observed3 = details[38].text\n",
    "        observed4 = details[40].text\n",
    "        observed5 = details[42].text\n",
    "        observed6 = details[44].text\n",
    "        observed7 = details[46].text\n",
    "        observed8 = details[48].text\n",
    "        observed9 = details[50].text\n",
    "        observed10 = details[52].text\n",
    "\n",
    "    detailsDict = {\n",
    "        'Restaurant': siteName,\n",
    "        'License': licNum,\n",
    "        'Rank': siteRank,\n",
    "        'Expires': expDate,\n",
    "        'Primary': primeStatus,\n",
    "        'Secondary': secStatus,\n",
    "        'Address': siteAddress,\n",
    "        'Result': inspectResult,\n",
    "        'Observed1': observed1,\n",
    "        'Observed2': observed2,\n",
    "        'Observed3': observed3,\n",
    "        'Observed4': observed4,\n",
    "        'Observed5': observed5,\n",
    "        'Observed6': observed6,\n",
    "        'Observed7': observed7,\n",
    "        'Observed8': observed8,\n",
    "        'Observed9': observed9,\n",
    "        'Observed10': observed10\n",
    "    }\n",
    "    result.append(detailsDict)    \n",
    "        \n",
<<<<<<< HEAD
    "    return detailsDict"
   ]
  },
  {
   "cell_type": "code",
   "execution_count": 11,
   "metadata": {},
   "outputs": [
    {
     "ename": "IndexError",
     "evalue": "list index out of range",
     "output_type": "error",
     "traceback": [
      "\u001b[0;31m---------------------------------------------------------------------------\u001b[0m",
      "\u001b[0;31mIndexError\u001b[0m                                Traceback (most recent call last)",
      "\u001b[0;32m<ipython-input-11-2c24de6cb3ca>\u001b[0m in \u001b[0;36m<module>\u001b[0;34m()\u001b[0m\n\u001b[1;32m      1\u001b[0m \u001b[0;32mfor\u001b[0m \u001b[0murl\u001b[0m \u001b[0;32min\u001b[0m \u001b[0murlList\u001b[0m\u001b[0;34m:\u001b[0m\u001b[0;34m\u001b[0m\u001b[0m\n\u001b[0;32m----> 2\u001b[0;31m     \u001b[0mmake_details_dict\u001b[0m\u001b[0;34m(\u001b[0m\u001b[0murl\u001b[0m\u001b[0;34m)\u001b[0m\u001b[0;34m\u001b[0m\u001b[0m\n\u001b[0m\u001b[1;32m      3\u001b[0m     \u001b[0mprint\u001b[0m\u001b[0;34m(\u001b[0m\u001b[0mdetailsDict\u001b[0m\u001b[0;34m[\u001b[0m\u001b[0;36m0\u001b[0m\u001b[0;34m]\u001b[0m\u001b[0;34m)\u001b[0m\u001b[0;34m\u001b[0m\u001b[0m\n",
      "\u001b[0;32m<ipython-input-9-af4c54ceb402>\u001b[0m in \u001b[0;36mmake_details_dict\u001b[0;34m(url)\u001b[0m\n\u001b[1;32m     25\u001b[0m         \u001b[0mobserved6\u001b[0m \u001b[0;34m=\u001b[0m \u001b[0mdetails\u001b[0m\u001b[0;34m[\u001b[0m\u001b[0;36m44\u001b[0m\u001b[0;34m]\u001b[0m\u001b[0;34m.\u001b[0m\u001b[0mtext\u001b[0m\u001b[0;34m\u001b[0m\u001b[0m\n\u001b[1;32m     26\u001b[0m         \u001b[0mobserved7\u001b[0m \u001b[0;34m=\u001b[0m \u001b[0mdetails\u001b[0m\u001b[0;34m[\u001b[0m\u001b[0;36m46\u001b[0m\u001b[0;34m]\u001b[0m\u001b[0;34m.\u001b[0m\u001b[0mtext\u001b[0m\u001b[0;34m\u001b[0m\u001b[0m\n\u001b[0;32m---> 27\u001b[0;31m         \u001b[0mobserved8\u001b[0m \u001b[0;34m=\u001b[0m \u001b[0mdetails\u001b[0m\u001b[0;34m[\u001b[0m\u001b[0;36m48\u001b[0m\u001b[0;34m]\u001b[0m\u001b[0;34m.\u001b[0m\u001b[0mtext\u001b[0m\u001b[0;34m\u001b[0m\u001b[0m\n\u001b[0m\u001b[1;32m     28\u001b[0m         \u001b[0mobserved9\u001b[0m \u001b[0;34m=\u001b[0m \u001b[0mdetails\u001b[0m\u001b[0;34m[\u001b[0m\u001b[0;36m50\u001b[0m\u001b[0;34m]\u001b[0m\u001b[0;34m.\u001b[0m\u001b[0mtext\u001b[0m\u001b[0;34m\u001b[0m\u001b[0m\n\u001b[1;32m     29\u001b[0m         \u001b[0mobserved10\u001b[0m \u001b[0;34m=\u001b[0m \u001b[0mdetails\u001b[0m\u001b[0;34m[\u001b[0m\u001b[0;36m52\u001b[0m\u001b[0;34m]\u001b[0m\u001b[0;34m.\u001b[0m\u001b[0mtext\u001b[0m\u001b[0;34m\u001b[0m\u001b[0m\n",
      "\u001b[0;31mIndexError\u001b[0m: list index out of range"
     ]
    }
   ],
   "source": [
    "for url in urlList:\n",
    "    make_details_dict(url)\n",
    "    print(detailsDict[0])"
=======
    "    return result\n",
    "\n",
    "all_results = []\n",
<<<<<<< HEAD
    "for inspurl in urlList:\n",
    "    html = urlopen(inspurl)\n",
    "    #details = get_inspect_detail(url)\n",
    "    #all_results.extend(details)\n",
    "    \n",
    "  \n",
=======
    "for url in urlList:\n",
    "    details = get_inspect_detail(url)\n",
    "    all_results.extend(details)\n",
>>>>>>> 6fecbe7dbd1f7655cc52da6e554df9c353f2d332
    "\n",
    "print(all_results)"
>>>>>>> cf8c2bdd3dde3519a7b35b233730cd078fb4c510
   ]
  },
  {
   "cell_type": "code",
   "execution_count": null,
   "metadata": {},
   "outputs": [],
   "source": []
  },
  {
   "cell_type": "code",
   "execution_count": null,
   "metadata": {},
   "outputs": [],
   "source": []
  },
  {
   "cell_type": "code",
   "execution_count": null,
   "metadata": {},
   "outputs": [],
   "source": [
    "print(detailsLib['Restaurant'])\n",
    "street = address.split(' ')\n",
    "print(detailsLib['Address'])\n"
   ]
  },
  {
   "cell_type": "code",
   "execution_count": null,
   "metadata": {},
   "outputs": [],
   "source": [
    "html = urlopen(urls)\n",
    "soup = bs4.BeautifulSoup(html.read(), 'lxml')\n",
    "details = soup.findAll('font', {'face':'verdana'})[0:]\n",
    "print(details)\n",
    "\n",
    "#more of a regex job but less dependent on sit layout"
   ]
  },
  {
   "cell_type": "code",
   "execution_count": null,
   "metadata": {},
   "outputs": [],
   "source": [
    "def clean_up(text, strip_chars=[], replace_extras={}):\n",
    "    # Handle strip_chars\n",
    "    strip_items = '|'.join(re.escape(s) for s in strip_chars)\n",
    "    strip_re = r'^(?:{}|\\s)+|(?:{}|\\s)+$'.format(strip_items, strip_items)\n",
    "    text = re.sub(strip_re, '', text, re.MULTILINE)\n",
    "\n",
    "    # Normalize whitespace and handle replace_extras\n",
    "    replace_keys = list(replace_extras.keys())\n",
    "    replace_keys.sort(key=len, reverse=True)\n",
    "    replace_re = '|'.join([re.escape(s) for s in replace_keys] + [r'\\s+'])\n",
    "    return re.sub(\n",
    "        replace_re,\n",
    "        lambda match: replace_extras.get(match.group(), ' '),\n",
    "        text\n",
    "    ).strip()\n",
    "\n",
    "clean_up(str(details))\n",
    "print(details)"
   ]
  },
  {
   "cell_type": "code",
   "execution_count": null,
   "metadata": {},
   "outputs": [],
   "source": [
    "def getNgrams(content, n):\n",
    "    content = re.sub('\\n|[[\\d+\\]]', ' ', content)\n",
    "    content = bytes(content, 'UTF-8')\n",
    "    content = content.decode('ascii', 'ignore')\n",
    "    content = content.split(' ')\n",
    "    content = [word for word in content if word != '']\n",
    "    output = []\n",
    "    for i in range(len(content)-n+1):\n",
    "        output.append(content[i:i+n])\n",
    "    return ouput\n",
    "\n",
    "getNgrams(content, 2)\n"
   ]
  },
  {
   "cell_type": "code",
   "execution_count": null,
   "metadata": {},
   "outputs": [],
   "source": []
  },
  {
   "cell_type": "code",
   "execution_count": null,
   "metadata": {},
   "outputs": [],
   "source": []
  }
 ],
 "metadata": {
  "kernelspec": {
   "display_name": "Python 3",
   "language": "python",
   "name": "python3"
  },
  "language_info": {
   "codemirror_mode": {
    "name": "ipython",
    "version": 3
   },
   "file_extension": ".py",
   "mimetype": "text/x-python",
   "name": "python",
   "nbconvert_exporter": "python",
   "pygments_lexer": "ipython3",
   "version": "3.6.2"
  }
 },
 "nbformat": 4,
 "nbformat_minor": 2
}
