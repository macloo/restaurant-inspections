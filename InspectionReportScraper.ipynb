{
 "cells": [
  {
   "cell_type": "markdown",
   "metadata": {},
   "source": [
    "# Alachua County restaurant inspection analysis\n",
    "_This will take restaurant inspection data by the state of Florida and format it in a more reader-friendly way for publication in print and online. We'll filter for the most egregious current violations at restaurants in Alachua County._"
   ]
  },
  {
   "cell_type": "markdown",
   "metadata": {},
   "source": [
    "After importing Pandas,etc., this reads in the state summary report year-to-date for District 5, which includes Alachua County, and adds an exception in case the file is not found (output probably needs to be set as variable so it can be written into the output file). The raw file has no headers and 82 columns. So this removes all but five columns and adds headers for those. Finally, it displays the first five rows of values."
   ]
  },
  {
   "cell_type": "code",
   "execution_count": 1,
   "metadata": {},
   "outputs": [],
   "source": [
    "import pandas as pd\n",
    "import bs4\n",
    "import datetime\n",
    "import numpy as np\n",
    "from urllib.request import urlopen\n",
    "from urllib.error import HTTPError"
   ]
  },
  {
   "cell_type": "code",
   "execution_count": 2,
   "metadata": {},
   "outputs": [],
   "source": [
    "try:\n",
    "    insp = pd.read_csv(\"ftp://dbprftp.state.fl.us/pub/llweb/5fdinspi.csv\", \n",
    "                               usecols=[2,14,18,80,81])\n",
    "except IOError:\n",
    "    print(\"The file is not accessible.\")\n",
    "insp.columns = [\"CountyName\", \"InspectDate\", \n",
    "                \"NumHighVio\", \"LicenseID\", \"VisitID\"]"
   ]
  },
  {
   "cell_type": "code",
   "execution_count": 3,
   "metadata": {},
   "outputs": [],
   "source": [
    "# filter for alachua county restaurants\n",
    "alachua = insp[insp.CountyName == 'Alachua']"
   ]
  },
  {
   "cell_type": "code",
   "execution_count": 4,
   "metadata": {},
   "outputs": [],
   "source": [
    "# filter for restaurants that had at least one serious violation\n",
    "alachua = alachua[alachua.NumHighVio > 0]"
   ]
  },
  {
   "cell_type": "code",
   "execution_count": 5,
   "metadata": {},
   "outputs": [],
   "source": [
    "# change date string to date object\n",
    "alachua['InspectDate'] = pd.to_datetime(alachua['InspectDate'])\n",
    "# sort most recent\n",
    "alachua = alachua.sort_values('InspectDate', ascending=False)"
   ]
  },
  {
   "cell_type": "markdown",
   "metadata": {},
   "source": [
    "__Goal with this next is to select date range prior to 'today', but this is hard coded now.__"
   ]
  },
  {
   "cell_type": "code",
   "execution_count": 6,
   "metadata": {},
   "outputs": [],
   "source": [
    "today = pd.to_datetime('today')\n",
    "startDay = datetime.date.today() - datetime.timedelta(days=30)\n",
    "## want to get user input for timedelta \n",
    "alachua = alachua[(alachua['InspectDate'] > startDay) & (alachua['InspectDate'] < today)]"
   ]
  },
  {
   "cell_type": "code",
   "execution_count": 7,
   "metadata": {},
   "outputs": [],
   "source": [
    "# takes LicenseID and VisitID, passes it into the urls for detailed reports\n",
    "for index, rows in alachua.iterrows():\n",
    "    visitID = rows['VisitID']\n",
    "    licID = rows['LicenseID']\n",
    "    urls = \"https://www.myfloridalicense.com/inspectionDetail.asp?InspVisitID= %s &licid= %s\" % (visitID, licID)\n",
    "    urls = urls.replace(' ', '')"
   ]
  },
  {
   "cell_type": "markdown",
   "metadata": {},
   "source": [
    "__Now it's time to use those urls to access the detailed reports with inspector comments, and scrape those. This will need to be a \"for loop\" that cycles through all urls and then puts the output variables somehow, like a database?__"
   ]
  },
  {
   "cell_type": "code",
   "execution_count": 16,
   "metadata": {},
   "outputs": [
    {
     "name": "stdout",
     "output_type": "stream",
     "text": [
      "\r\n",
      "\t\t\t\t\t\t\t\t\t\t\t\t\t\t\t\t\t\t\t\t\t\t\t\r\n",
      "\t\t\t\t\t\t\tBasic - Carbon Dioxide/Helium Tanks Not Adequately Secured.\n",
      " Observed Bulk Tank Outside Not Secured. A Braided Multi Stranded Observed Lack Of Back Flow Device On The Non Chemical Side Of The Splitter In The Mop Sink. Was Added. **Corrected On-Site**\n"
     ]
    }
   ],
   "source": [
    "# need a for loop somewhere\n",
    "# def get_inspect_detail(urls):   \n",
    "html = urlopen(urls)\n",
    "soup = bs4.BeautifulSoup(html.read(), 'html.parser')\n",
    "details = soup.findAll('font', {'face':'verdana'})[10:]\n",
    "    \n",
    "siteName = details[0].text\n",
    "licNum = details[2].text\n",
    "siteRank = details[4].text\n",
    "expDate = details[6].text\n",
    "primeStatus = details[8].text\n",
    "secStatus = details[10].text\n",
    "siteAddress = details[12].text\n",
    "inspectResult = details[20].text\n",
    "observed = details[34].text\n",
    "\n",
    "detailsLib = {\n",
    "    'Restaurant': siteName,\n",
    "    'License': licNum,\n",
    "    'Rank': siteRank,\n",
    "    'Expires': expDate,\n",
    "    'Primary': primeStatus,\n",
    "    'Secondary': secStatus,\n",
    "    'Address': siteAddress,\n",
    "    'Result': inspectResult,\n",
    "    'Observed': observed\n",
    "    }\n",
    "\n",
    "print(detailsLib['Observed'].title())"
   ]
  },
  {
   "cell_type": "code",
   "execution_count": 41,
   "metadata": {},
   "outputs": [
    {
     "name": "stdout",
     "output_type": "stream",
     "text": [
      "[<font face=\"verdana\" size=\"2\"><b>    <img align=\"absmiddle\" alt=\"\" border=\"0\" class=\"leftNav\" src=\"/images/off.gif\"/> Log On</b></font>, <font face=\"verdana\" size=\"2\"><b>Home</b></font>, <font face=\"verdana\">Search for a Licensee</font>, <font face=\"verdana\">Apply for a License</font>, <font face=\"verdana\">View Application Status</font>, <font face=\"verdana\">Find Exam Information</font>, <font face=\"verdana\">File a Complaint</font>, <font face=\"verdana\">AB&amp;T Delinquent<br/>    Invoice &amp; Activity<br/>    List Search</font>, <font face=\"verdana\" size=\"-1\"><strong>Each inspection report is a \"snapshot\" of conditions present at the time of the inspection.  By using this search, you are agreeing to our <a href=\"insptermsofuse.asp\">Terms of Use</a>.</strong><p></p>\n",
      "</font>, <font face=\"verdana\" size=\"2\">Name:</font>, <font face=\"verdana\" size=\"2\"><strong>HCA PUTNAM COMM HOSP 2</strong></font>, <font face=\"verdana\" size=\"2\">License Number:</font>, <font face=\"verdana\" size=\"2\"><strong>VEN1100047</strong></font>, <font face=\"verdana\" size=\"2\">Rank:</font>, <font face=\"verdana\" size=\"2\"><strong>Vending</strong></font>, <font face=\"verdana\" size=\"2\">License Expiration Date:</font>, <font face=\"verdana\" size=\"2\"><strong>06/01/2018</strong></font>, <font face=\"verdana\" size=\"2\">Primary Status:</font>, <font face=\"verdana\" size=\"2\"><strong>Current</strong></font>, <font face=\"verdana\" size=\"2\">Secondary Status:</font>, <font face=\"verdana\" size=\"2\"><strong>Active</strong></font>, <font face=\"verdana\" size=\"2\">Location Address:</font>, <font face=\"verdana\" size=\"2\"><strong>611 ZEAGLER DR<br/>PALATKA, FL 32177</strong></font>, <font face=\"verdana\" size=\"2\"><strong>Inspection Type</strong></font>, <font face=\"verdana\" size=\"2\"><strong>Inspection Date</strong></font>, <font face=\"verdana\" size=\"2\"><strong>Result</strong></font>, <font face=\"verdana\" size=\"2\"><strong>High Priority Violations</strong></font>, <font face=\"verdana\" size=\"2\"><strong>Intermediate Violations</strong></font>, <font face=\"verdana\" size=\"2\"><strong>Basic Violations</strong></font>, <font face=\"verdana\" size=\"-1\">Routine - Food </font>, <font face=\"verdana\" size=\"-1\">03/21/2018</font>, <font face=\"verdana\" size=\"-1\"><option> </option><font face=\"verdana\" size=\"2\">Follow-up Inspection Required</font><br/><font face=\"verdana\" size=\"2\">Violations require further review, but are not an immediate threat to the public.</font><br/><b><a href=\"http://www.myfloridalicense.com/DBPR/hotels-restaurants/inspections/\" target=\"_blank\">More information about inspections.</a></b></font>, <font face=\"verdana\" size=\"2\">Follow-up Inspection Required</font>, <font face=\"verdana\" size=\"2\">Violations require further review, but are not an immediate threat to the public.</font>, <font face=\"verdana\" size=\"-1\">1</font>, <font face=\"verdana\" size=\"-1\">0</font>, <font face=\"verdana\" size=\"-1\">0</font>, <font face=\"verdana\" size=\"-1\"><strong>Violations:</strong></font>, <font face=\"verdana\" size=\"-1\">\r\n",
      "\t\t\t\t\t\t\t\tA summary of the violations found during the inspection are listed below. \r\n",
      "\t\t\t\t\t\t\t\tThe department cites violations of Florida's sanitation and safety laws, \r\n",
      "\t\t\t\t\t\t\t\twhich are based on the standards of U.S. Food and Drug Administration's Food Code. \r\n",
      "\t\t\t\t\t\t\t\tHigh Priority violations are those which could contribute directly to a foodborne \r\n",
      "\t\t\t\t\t\t\t\tillness or injury and include items such as cooking, reheating, cooling and hand-washing. \r\n",
      "\t\t\t\t\t\t\t\tIntermediate violations are those which, if not addressed, could lead to risk factors \r\n",
      "\t\t\t\t\t\t\t\tthat contribute to foodborne illness or injury. These violations include personnel training, \r\n",
      "\t\t\t\t\t\t\t\tdocumentation or record keeping and labeling. Basic violations are those which are considered \r\n",
      "\t\t\t\t\t\t\t\tbest practices to implement. While most establishments correct all violations in a timely \r\n",
      "\t\t\t\t\t\t\t\tmanner (often during the inspection), the division's procedures are designed to compel \r\n",
      "\t\t\t\t\t\t\t\tcompliance with all violations through follow-up visits, administration action or closure \r\n",
      "\t\t\t\t\t\t\t\twhen necessary. \r\n",
      "\t\t\t\t\t\t\t\t</font>, <font face=\"verdana\" size=\"-1\"><u><b>Violation</b></u></font>, <font face=\"verdana\" size=\"-1\"><u><b>Observation</b></u></font>, <font color=\"red\" face=\"verdana\" size=\"-1\">\n",
      "<a href=\"#\" onclick=\"showList('17504483')\"><u>03A-02-4</u></a></font>, <font face=\"verdana\" size=\"-1\">\r\n",
      "\t\t\t\t\t\t\t\t\t\t\t\t\t\t\t\t\t\t\t\t\t\t\t\r\n",
      "\t\t\t\t\t\t\tHigh Priority - - From initial inspection : High Priority - Potentially hazardous (time/temperature control for safety) food cold held at greater than 41 degrees Fahrenheit.\n",
      "Ambient reading on outside of vending machine is 49F.     - From follow-up inspection 2018-03-21: Ambient reading on outside of machine 48F \n",
      "All food has been removed from machine. **Time Extended**</font>]\n"
     ]
    }
   ],
   "source": [
    "html = urlopen('https://www.myfloridalicense.com/inspectionDetail.asp?InspVisitID=6509808&licid=5399007')\n",
    "soup = bs4.BeautifulSoup(html.read(), 'lxml')\n",
    "details = soup.findAll('font', {'face':'verdana'})[0:]\n",
    "print(details)\n",
    "\n",
    "#more of a regex job but less dependent on sit layout"
   ]
  },
  {
   "cell_type": "code",
   "execution_count": null,
   "metadata": {},
   "outputs": [],
   "source": []
  }
 ],
 "metadata": {
  "kernelspec": {
   "display_name": "Python 3",
   "language": "python",
   "name": "python3"
  },
  "language_info": {
   "codemirror_mode": {
    "name": "ipython",
    "version": 3
   },
   "file_extension": ".py",
   "mimetype": "text/x-python",
   "name": "python",
   "nbconvert_exporter": "python",
   "pygments_lexer": "ipython3",
   "version": "3.6.2"
  }
 },
 "nbformat": 4,
 "nbformat_minor": 2
}
