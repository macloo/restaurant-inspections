{
 "cells": [
  {
   "cell_type": "markdown",
   "metadata": {},
   "source": [
    "# Alachua County restaurant inspection analysis\n",
    "_This will take restaurant inspection data by the state of Florida and format it in a more reader-friendly way for publication in print and online. We'll filter for the most egregious current violations at restaurants in Alachua County._"
   ]
  },
  {
   "cell_type": "markdown",
   "metadata": {},
   "source": [
    "After importing Pandas,etc., this reads in the state summary report year-to-date for District 5, which includes Alachua County, and adds an exception in case the file is not found (output probably needs to be set as variable so it can be written into the output file). The raw file has no headers and 82 columns. So this removes all but five columns and adds headers for those. Finally, it displays the first five rows of values."
   ]
  },
  {
   "cell_type": "code",
   "execution_count": 1,
   "metadata": {},
   "outputs": [],
   "source": [
    "import pandas as pd\n",
    "import bs4\n",
    "import datetime\n",
    "import numpy as np\n",
    "from urllib.request import urlopen\n",
    "from urllib.error import HTTPError"
   ]
  },
  {
   "cell_type": "code",
   "execution_count": 2,
   "metadata": {},
   "outputs": [],
   "source": [
    "try:\n",
    "    insp = pd.read_csv(\"ftp://dbprftp.state.fl.us/pub/llweb/5fdinspi.csv\", \n",
    "                               usecols=[2,14,18,80,81])\n",
    "except IOError:\n",
    "    print(\"The file is not accessible.\")\n",
    "insp.columns = [\"CountyName\", \"InspectDate\", \n",
    "                \"NumHighVio\", \"LicenseID\", \"VisitID\"]"
   ]
  },
  {
   "cell_type": "code",
   "execution_count": 3,
   "metadata": {},
   "outputs": [],
   "source": [
    "# filter for alachua county restaurants\n",
    "alachua = insp[insp.CountyName == 'Alachua']"
   ]
  },
  {
   "cell_type": "code",
   "execution_count": 4,
   "metadata": {},
   "outputs": [],
   "source": [
    "# filter for restaurants that had at least one serious violation\n",
    "alachua = alachua[alachua.NumHighVio > 0]"
   ]
  },
  {
   "cell_type": "code",
   "execution_count": 5,
   "metadata": {},
   "outputs": [],
   "source": [
    "# change date string to date object\n",
    "alachua['InspectDate'] = pd.to_datetime(alachua['InspectDate'])\n",
    "# sort most recent\n",
    "alachua = alachua.sort_values('InspectDate', ascending=False)"
   ]
  },
  {
   "cell_type": "markdown",
   "metadata": {},
   "source": [
    "__Goal with this next is to select date range prior to 'today', but this is hard coded now.__"
   ]
  },
  {
   "cell_type": "code",
   "execution_count": 6,
   "metadata": {},
   "outputs": [],
   "source": [
    "today = pd.to_datetime('today')\n",
    "startDay = datetime.date.today() - datetime.timedelta(days=30)\n",
    "## want to get user input for timedelta \n",
    "alachua = alachua[(alachua['InspectDate'] > startDay) & (alachua['InspectDate'] < today)]"
   ]
  },
  {
   "cell_type": "code",
   "execution_count": 7,
   "metadata": {},
   "outputs": [],
   "source": [
    "# takes LicenseID and VisitID, passes it into the urls for detailed reports\n",
    "for index, rows in alachua.iterrows():\n",
    "    visitID = rows['VisitID']\n",
    "    licID = rows['LicenseID']\n",
    "    urls = \"https://www.myfloridalicense.com/inspectionDetail.asp?InspVisitID= %s &licid= %s\" % (visitID, licID)\n",
    "    urls = urls.replace(' ', '')"
   ]
  },
  {
   "cell_type": "markdown",
   "metadata": {},
   "source": [
    "__Now it's time to use those urls to access the detailed reports with inspector comments, and scrape those. This will need to be a \"for loop\" that cycles through all urls and then puts the output variables somehow, like a database?__"
   ]
  },
  {
   "cell_type": "code",
   "execution_count": 18,
   "metadata": {},
   "outputs": [],
   "source": [
    "# need a for loop somewhere\n",
    "def get_inspect_detail(urls):   \n",
    "    html = urlopen(urls)\n",
    "    soup = bs4.BeautifulSoup(html.read(), 'html.parser')\n",
    "    details = soup.findAll('font', {'face':'verdana'})[10:]\n",
    "    \n",
    "    siteName = details[0].text\n",
    "    licNum = details[2].text\n",
    "    siteRank = details[4].text\n",
    "    expDate = details[6].text\n",
    "    primeStatus = details[8].text\n",
    "    secStatus = details[10].text\n",
    "    siteAddress = details[12].text\n",
    "    inspectResult = details[20].text\n",
    "\n",
    "    detailsLib = {\n",
    "        'Restaurant': siteName,\n",
    "        'License': licNum,\n",
    "        'Rank': siteRank,\n",
    "        'Expires': expDate,\n",
    "        'Primary': primeStatus,\n",
    "        'Secondary': secStatus,\n",
    "        'Address': siteAddress,\n",
    "        'Result': inspectResult\n",
    "    }\n"
   ]
  },
  {
   "cell_type": "code",
   "execution_count": null,
   "metadata": {},
   "outputs": [],
   "source": [
    "# at table 43 says 'list index out of range' and looks like wont go further\n",
    "html = urlopen('https://www.myfloridalicense.com/inspectionDetail.asp?InspVisitID=6509808&licid=5399007')\n",
    "bs = BeautifulSoup(html.read(), 'html.parser')\n",
    "inspectReport = bs.findAll('font', {'face':'verdana'})[43]\n",
    "for text in inspectReport:\n",
    "    print(text.get_text())"
   ]
  },
  {
   "cell_type": "code",
   "execution_count": null,
   "metadata": {},
   "outputs": [],
   "source": []
  }
 ],
 "metadata": {
  "kernelspec": {
   "display_name": "Python 3",
   "language": "python",
   "name": "python3"
  },
  "language_info": {
   "codemirror_mode": {
    "name": "ipython",
    "version": 3
   },
   "file_extension": ".py",
   "mimetype": "text/x-python",
   "name": "python",
   "nbconvert_exporter": "python",
   "pygments_lexer": "ipython3",
   "version": "3.6.2"
  }
 },
 "nbformat": 4,
 "nbformat_minor": 2
}
