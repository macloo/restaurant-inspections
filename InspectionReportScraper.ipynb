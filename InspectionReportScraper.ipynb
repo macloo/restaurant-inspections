{
 "cells": [
  {
   "cell_type": "markdown",
   "metadata": {},
   "source": [
    "# Alachua County restaurant inspection analysis\n",
    "_This will take restaurant inspection data by the state of Florida and format it in a more reader-friendly way for publication in print and online. We'll filter for the most egregious current violations at restaurants in Alachua County._"
   ]
  },
  {
   "cell_type": "markdown",
   "metadata": {},
   "source": [
    "After importing Pandas,etc., this reads in the state summary report year-to-date for District 5, which includes Alachua County, and adds an exception in case the file is not found (output probably needs to be set as variable so it can be written into the output file). The raw file has no headers and 82 columns. So this removes all but five columns and adds headers for those. Finally, it displays the first five rows of values."
   ]
  },
  {
   "cell_type": "code",
   "execution_count": 1,
   "metadata": {},
   "outputs": [],
   "source": [
    "import pandas as pd\n",
    "import bs4\n",
    "import datetime\n",
    "import re\n",
    "import lxml\n",
    "from urllib.request import urlopen\n",
    "from urllib.error import HTTPError\n"
   ]
  },
  {
   "cell_type": "code",
   "execution_count": 2,
   "metadata": {},
   "outputs": [],
   "source": [
    "try:\n",
    "    insp = pd.read_csv(\"ftp://dbprftp.state.fl.us/pub/llweb/5fdinspi.csv\", \n",
    "                               usecols=[2,14,18,80,81])\n",
    "except IOError:\n",
    "    print(\"The file is not accessible.\")\n",
    "insp.columns = [\"CountyName\", \"InspectDate\", \n",
    "                \"NumHighVio\", \"LicenseID\", \"VisitID\"]"
   ]
  },
  {
   "cell_type": "code",
   "execution_count": 3,
   "metadata": {},
   "outputs": [],
   "source": [
    "# filter for alachua county restaurants\n",
    "alachua = insp[insp.CountyName == 'Alachua']"
   ]
  },
  {
   "cell_type": "code",
   "execution_count": 4,
   "metadata": {},
   "outputs": [],
   "source": [
    "# filter for restaurants that had at least one serious violation\n",
    "alachua = alachua[alachua.NumHighVio > 0]"
   ]
  },
  {
   "cell_type": "code",
   "execution_count": 5,
   "metadata": {},
   "outputs": [],
   "source": [
    "# change date string to date object\n",
    "alachua['InspectDate'] = pd.to_datetime(alachua['InspectDate'])\n",
    "# sort most recent\n",
    "alachua = alachua.sort_values('InspectDate', ascending=False)"
   ]
  },
  {
   "cell_type": "markdown",
   "metadata": {},
   "source": [
    "__Goal with this next is to select date range prior to 'today', but this is hard coded now.__"
   ]
  },
  {
   "cell_type": "code",
   "execution_count": 6,
   "metadata": {},
   "outputs": [],
   "source": [
    "# need to allow user input to set timedelta; 'input' doesn't seem to work\n",
    "today = pd.to_datetime('today')\n",
    "startDay = datetime.date.today() - datetime.timedelta(days=30)\n",
    "## want to get user input for timedelta \n",
    "alachua = alachua[(alachua['InspectDate'] > startDay) & (alachua['InspectDate'] < today)]"
   ]
  },
  {
   "cell_type": "code",
   "execution_count": 33,
   "metadata": {},
   "outputs": [
    {
     "name": "stdout",
     "output_type": "stream",
     "text": [
      "https://www.myfloridalicense.com/inspectionDetail.asp?InspVisitID=6533891&licid=7003533,\n",
      "https://www.myfloridalicense.com/inspectionDetail.asp?InspVisitID=6362752&licid=6772721,\n",
      "https://www.myfloridalicense.com/inspectionDetail.asp?InspVisitID=6538630&licid=7009925,\n",
      "https://www.myfloridalicense.com/inspectionDetail.asp?InspVisitID=6517783&licid=6982298,\n",
      "https://www.myfloridalicense.com/inspectionDetail.asp?InspVisitID=6539001&licid=6312191,\n",
      "https://www.myfloridalicense.com/inspectionDetail.asp?InspVisitID=6444510&licid=6475603,\n",
      "https://www.myfloridalicense.com/inspectionDetail.asp?InspVisitID=6292423&licid=6040839,\n",
      "https://www.myfloridalicense.com/inspectionDetail.asp?InspVisitID=6463635&licid=6370423,\n",
      "https://www.myfloridalicense.com/inspectionDetail.asp?InspVisitID=6451801&licid=5858850,\n",
      "https://www.myfloridalicense.com/inspectionDetail.asp?InspVisitID=6535804&licid=3296677,\n",
      "https://www.myfloridalicense.com/inspectionDetail.asp?InspVisitID=6535766&licid=5430232,\n",
      "https://www.myfloridalicense.com/inspectionDetail.asp?InspVisitID=6535653&licid=2129170,\n",
      "https://www.myfloridalicense.com/inspectionDetail.asp?InspVisitID=6247794&licid=2129170,\n",
      "https://www.myfloridalicense.com/inspectionDetail.asp?InspVisitID=6451852&licid=6665274,\n",
      "https://www.myfloridalicense.com/inspectionDetail.asp?InspVisitID=6433038&licid=6621480,\n",
      "https://www.myfloridalicense.com/inspectionDetail.asp?InspVisitID=6456866&licid=5269891,\n",
      "https://www.myfloridalicense.com/inspectionDetail.asp?InspVisitID=6528463&licid=6534697,\n",
      "https://www.myfloridalicense.com/inspectionDetail.asp?InspVisitID=6442196&licid=5576855,\n",
      "https://www.myfloridalicense.com/inspectionDetail.asp?InspVisitID=6527476&licid=2129685,\n",
      "https://www.myfloridalicense.com/inspectionDetail.asp?InspVisitID=6419688&licid=5761286,\n",
      "https://www.myfloridalicense.com/inspectionDetail.asp?InspVisitID=6292045&licid=5524643,\n",
      "https://www.myfloridalicense.com/inspectionDetail.asp?InspVisitID=6416865&licid=6126978,\n",
      "https://www.myfloridalicense.com/inspectionDetail.asp?InspVisitID=6528955&licid=6126771,\n",
      "https://www.myfloridalicense.com/inspectionDetail.asp?InspVisitID=6532203&licid=6207335,\n",
      "https://www.myfloridalicense.com/inspectionDetail.asp?InspVisitID=6427655&licid=6621541,\n",
      "https://www.myfloridalicense.com/inspectionDetail.asp?InspVisitID=6427442&licid=3967136,\n",
      "https://www.myfloridalicense.com/inspectionDetail.asp?InspVisitID=6420899&licid=6207335,\n",
      "https://www.myfloridalicense.com/inspectionDetail.asp?InspVisitID=6420707&licid=2129129,\n",
      "https://www.myfloridalicense.com/inspectionDetail.asp?InspVisitID=6448691&licid=6537359,\n",
      "https://www.myfloridalicense.com/inspectionDetail.asp?InspVisitID=6529767&licid=5485529,\n",
      "https://www.myfloridalicense.com/inspectionDetail.asp?InspVisitID=6429398&licid=3840892,\n",
      "https://www.myfloridalicense.com/inspectionDetail.asp?InspVisitID=6528913&licid=5485569,\n",
      "https://www.myfloridalicense.com/inspectionDetail.asp?InspVisitID=6528946&licid=5633502,\n",
      "https://www.myfloridalicense.com/inspectionDetail.asp?InspVisitID=6334264&licid=5538656,\n",
      "https://www.myfloridalicense.com/inspectionDetail.asp?InspVisitID=6382037&licid=6534697,\n",
      "https://www.myfloridalicense.com/inspectionDetail.asp?InspVisitID=6511894&licid=6534697,\n",
      "https://www.myfloridalicense.com/inspectionDetail.asp?InspVisitID=6380690&licid=2636769,\n",
      "https://www.myfloridalicense.com/inspectionDetail.asp?InspVisitID=6486244&licid=2129685,\n",
      "https://www.myfloridalicense.com/inspectionDetail.asp?InspVisitID=6431167&licid=5569752,\n",
      "https://www.myfloridalicense.com/inspectionDetail.asp?InspVisitID=6524479&licid=2129908,\n",
      "https://www.myfloridalicense.com/inspectionDetail.asp?InspVisitID=6519373&licid=6910020,\n",
      "https://www.myfloridalicense.com/inspectionDetail.asp?InspVisitID=6442289&licid=6106750,\n"
     ]
    }
   ],
   "source": [
    "# takes LicenseID and VisitID, passes it into the urls for detailed reports\n",
    "for index, rows in alachua.iterrows():\n",
    "    visitID = rows['VisitID']\n",
    "    licID = rows['LicenseID']\n",
    "    trail = ','\n",
    "    urls = \"https://www.myfloridalicense.com/inspectionDetail.asp?InspVisitID= %s &licid= %s %s\" % (visitID, licID, trail)\n",
    "    urls = urls.replace(' ', '')\n",
    "    print(urls)\n",
    "     "
   ]
  },
  {
   "cell_type": "markdown",
   "metadata": {},
   "source": [
    "__Now it's time to use those urls to access the detailed reports with inspector comments, and scrape those. This will need to be a \"for loop\" that cycles through all urls and then puts the output variables somehow, like a database?__"
   ]
  },
  {
   "cell_type": "code",
   "execution_count": 25,
   "metadata": {},
   "outputs": [
    {
     "ename": "ValueError",
     "evalue": "unknown url type: 'h'",
     "output_type": "error",
     "traceback": [
      "\u001b[0;31m---------------------------------------------------------------------------\u001b[0m",
      "\u001b[0;31mValueError\u001b[0m                                Traceback (most recent call last)",
      "\u001b[0;32m<ipython-input-25-c02c90f9a194>\u001b[0m in \u001b[0;36m<module>\u001b[0;34m()\u001b[0m\n\u001b[1;32m     50\u001b[0m \u001b[0;34m\u001b[0m\u001b[0m\n\u001b[1;32m     51\u001b[0m \u001b[0;32mfor\u001b[0m \u001b[0murl\u001b[0m \u001b[0;32min\u001b[0m \u001b[0murls\u001b[0m\u001b[0;34m:\u001b[0m\u001b[0;34m\u001b[0m\u001b[0m\n\u001b[0;32m---> 52\u001b[0;31m     \u001b[0mrepr\u001b[0m\u001b[0;34m(\u001b[0m\u001b[0mget_inspect_detail\u001b[0m\u001b[0;34m(\u001b[0m\u001b[0murl\u001b[0m\u001b[0;34m)\u001b[0m\u001b[0;34m)\u001b[0m\u001b[0;34m\u001b[0m\u001b[0m\n\u001b[0m\u001b[1;32m     53\u001b[0m \u001b[0;34m\u001b[0m\u001b[0m\n\u001b[1;32m     54\u001b[0m \u001b[0;34m\u001b[0m\u001b[0m\n",
      "\u001b[0;32m<ipython-input-25-c02c90f9a194>\u001b[0m in \u001b[0;36mget_inspect_detail\u001b[0;34m(url)\u001b[0m\n\u001b[1;32m      1\u001b[0m \u001b[0;32mdef\u001b[0m \u001b[0mget_inspect_detail\u001b[0m\u001b[0;34m(\u001b[0m\u001b[0murl\u001b[0m\u001b[0;34m)\u001b[0m\u001b[0;34m:\u001b[0m\u001b[0;34m\u001b[0m\u001b[0m\n\u001b[0;32m----> 2\u001b[0;31m     \u001b[0mhtml\u001b[0m \u001b[0;34m=\u001b[0m \u001b[0murlopen\u001b[0m\u001b[0;34m(\u001b[0m\u001b[0murl\u001b[0m\u001b[0;34m)\u001b[0m\u001b[0;34m\u001b[0m\u001b[0m\n\u001b[0m\u001b[1;32m      3\u001b[0m     \u001b[0msoup\u001b[0m \u001b[0;34m=\u001b[0m \u001b[0mbs4\u001b[0m\u001b[0;34m.\u001b[0m\u001b[0mBeautifulSoup\u001b[0m\u001b[0;34m(\u001b[0m\u001b[0mhtml\u001b[0m\u001b[0;34m.\u001b[0m\u001b[0mread\u001b[0m\u001b[0;34m(\u001b[0m\u001b[0;34m)\u001b[0m\u001b[0;34m,\u001b[0m \u001b[0;34m'lxml'\u001b[0m\u001b[0;34m)\u001b[0m\u001b[0;34m\u001b[0m\u001b[0m\n\u001b[1;32m      4\u001b[0m     \u001b[0mdetails\u001b[0m \u001b[0;34m=\u001b[0m \u001b[0msoup\u001b[0m\u001b[0;34m.\u001b[0m\u001b[0mfind_all\u001b[0m\u001b[0;34m(\u001b[0m\u001b[0;34m'font'\u001b[0m\u001b[0;34m,\u001b[0m \u001b[0;34m{\u001b[0m\u001b[0;34m'face'\u001b[0m\u001b[0;34m:\u001b[0m \u001b[0;34m'verdana'\u001b[0m\u001b[0;34m}\u001b[0m\u001b[0;34m)\u001b[0m\u001b[0;34m[\u001b[0m\u001b[0;36m10\u001b[0m\u001b[0;34m:\u001b[0m\u001b[0;34m]\u001b[0m\u001b[0;34m\u001b[0m\u001b[0m\n\u001b[1;32m      5\u001b[0m     \u001b[0mresult\u001b[0m \u001b[0;34m=\u001b[0m \u001b[0;34m[\u001b[0m\u001b[0;34m]\u001b[0m\u001b[0;34m\u001b[0m\u001b[0m\n",
      "\u001b[0;32m~/anaconda/envs/3point6/lib/python3.6/urllib/request.py\u001b[0m in \u001b[0;36murlopen\u001b[0;34m(url, data, timeout, cafile, capath, cadefault, context)\u001b[0m\n\u001b[1;32m    221\u001b[0m     \u001b[0;32melse\u001b[0m\u001b[0;34m:\u001b[0m\u001b[0;34m\u001b[0m\u001b[0m\n\u001b[1;32m    222\u001b[0m         \u001b[0mopener\u001b[0m \u001b[0;34m=\u001b[0m \u001b[0m_opener\u001b[0m\u001b[0;34m\u001b[0m\u001b[0m\n\u001b[0;32m--> 223\u001b[0;31m     \u001b[0;32mreturn\u001b[0m \u001b[0mopener\u001b[0m\u001b[0;34m.\u001b[0m\u001b[0mopen\u001b[0m\u001b[0;34m(\u001b[0m\u001b[0murl\u001b[0m\u001b[0;34m,\u001b[0m \u001b[0mdata\u001b[0m\u001b[0;34m,\u001b[0m \u001b[0mtimeout\u001b[0m\u001b[0;34m)\u001b[0m\u001b[0;34m\u001b[0m\u001b[0m\n\u001b[0m\u001b[1;32m    224\u001b[0m \u001b[0;34m\u001b[0m\u001b[0m\n\u001b[1;32m    225\u001b[0m \u001b[0;32mdef\u001b[0m \u001b[0minstall_opener\u001b[0m\u001b[0;34m(\u001b[0m\u001b[0mopener\u001b[0m\u001b[0;34m)\u001b[0m\u001b[0;34m:\u001b[0m\u001b[0;34m\u001b[0m\u001b[0m\n",
      "\u001b[0;32m~/anaconda/envs/3point6/lib/python3.6/urllib/request.py\u001b[0m in \u001b[0;36mopen\u001b[0;34m(self, fullurl, data, timeout)\u001b[0m\n\u001b[1;32m    509\u001b[0m         \u001b[0;31m# accept a URL or a Request object\u001b[0m\u001b[0;34m\u001b[0m\u001b[0;34m\u001b[0m\u001b[0m\n\u001b[1;32m    510\u001b[0m         \u001b[0;32mif\u001b[0m \u001b[0misinstance\u001b[0m\u001b[0;34m(\u001b[0m\u001b[0mfullurl\u001b[0m\u001b[0;34m,\u001b[0m \u001b[0mstr\u001b[0m\u001b[0;34m)\u001b[0m\u001b[0;34m:\u001b[0m\u001b[0;34m\u001b[0m\u001b[0m\n\u001b[0;32m--> 511\u001b[0;31m             \u001b[0mreq\u001b[0m \u001b[0;34m=\u001b[0m \u001b[0mRequest\u001b[0m\u001b[0;34m(\u001b[0m\u001b[0mfullurl\u001b[0m\u001b[0;34m,\u001b[0m \u001b[0mdata\u001b[0m\u001b[0;34m)\u001b[0m\u001b[0;34m\u001b[0m\u001b[0m\n\u001b[0m\u001b[1;32m    512\u001b[0m         \u001b[0;32melse\u001b[0m\u001b[0;34m:\u001b[0m\u001b[0;34m\u001b[0m\u001b[0m\n\u001b[1;32m    513\u001b[0m             \u001b[0mreq\u001b[0m \u001b[0;34m=\u001b[0m \u001b[0mfullurl\u001b[0m\u001b[0;34m\u001b[0m\u001b[0m\n",
      "\u001b[0;32m~/anaconda/envs/3point6/lib/python3.6/urllib/request.py\u001b[0m in \u001b[0;36m__init__\u001b[0;34m(self, url, data, headers, origin_req_host, unverifiable, method)\u001b[0m\n\u001b[1;32m    327\u001b[0m                  \u001b[0morigin_req_host\u001b[0m\u001b[0;34m=\u001b[0m\u001b[0;32mNone\u001b[0m\u001b[0;34m,\u001b[0m \u001b[0munverifiable\u001b[0m\u001b[0;34m=\u001b[0m\u001b[0;32mFalse\u001b[0m\u001b[0;34m,\u001b[0m\u001b[0;34m\u001b[0m\u001b[0m\n\u001b[1;32m    328\u001b[0m                  method=None):\n\u001b[0;32m--> 329\u001b[0;31m         \u001b[0mself\u001b[0m\u001b[0;34m.\u001b[0m\u001b[0mfull_url\u001b[0m \u001b[0;34m=\u001b[0m \u001b[0murl\u001b[0m\u001b[0;34m\u001b[0m\u001b[0m\n\u001b[0m\u001b[1;32m    330\u001b[0m         \u001b[0mself\u001b[0m\u001b[0;34m.\u001b[0m\u001b[0mheaders\u001b[0m \u001b[0;34m=\u001b[0m \u001b[0;34m{\u001b[0m\u001b[0;34m}\u001b[0m\u001b[0;34m\u001b[0m\u001b[0m\n\u001b[1;32m    331\u001b[0m         \u001b[0mself\u001b[0m\u001b[0;34m.\u001b[0m\u001b[0munredirected_hdrs\u001b[0m \u001b[0;34m=\u001b[0m \u001b[0;34m{\u001b[0m\u001b[0;34m}\u001b[0m\u001b[0;34m\u001b[0m\u001b[0m\n",
      "\u001b[0;32m~/anaconda/envs/3point6/lib/python3.6/urllib/request.py\u001b[0m in \u001b[0;36mfull_url\u001b[0;34m(self, url)\u001b[0m\n\u001b[1;32m    353\u001b[0m         \u001b[0mself\u001b[0m\u001b[0;34m.\u001b[0m\u001b[0m_full_url\u001b[0m \u001b[0;34m=\u001b[0m \u001b[0munwrap\u001b[0m\u001b[0;34m(\u001b[0m\u001b[0murl\u001b[0m\u001b[0;34m)\u001b[0m\u001b[0;34m\u001b[0m\u001b[0m\n\u001b[1;32m    354\u001b[0m         \u001b[0mself\u001b[0m\u001b[0;34m.\u001b[0m\u001b[0m_full_url\u001b[0m\u001b[0;34m,\u001b[0m \u001b[0mself\u001b[0m\u001b[0;34m.\u001b[0m\u001b[0mfragment\u001b[0m \u001b[0;34m=\u001b[0m \u001b[0msplittag\u001b[0m\u001b[0;34m(\u001b[0m\u001b[0mself\u001b[0m\u001b[0;34m.\u001b[0m\u001b[0m_full_url\u001b[0m\u001b[0;34m)\u001b[0m\u001b[0;34m\u001b[0m\u001b[0m\n\u001b[0;32m--> 355\u001b[0;31m         \u001b[0mself\u001b[0m\u001b[0;34m.\u001b[0m\u001b[0m_parse\u001b[0m\u001b[0;34m(\u001b[0m\u001b[0;34m)\u001b[0m\u001b[0;34m\u001b[0m\u001b[0m\n\u001b[0m\u001b[1;32m    356\u001b[0m \u001b[0;34m\u001b[0m\u001b[0m\n\u001b[1;32m    357\u001b[0m     \u001b[0;34m@\u001b[0m\u001b[0mfull_url\u001b[0m\u001b[0;34m.\u001b[0m\u001b[0mdeleter\u001b[0m\u001b[0;34m\u001b[0m\u001b[0m\n",
      "\u001b[0;32m~/anaconda/envs/3point6/lib/python3.6/urllib/request.py\u001b[0m in \u001b[0;36m_parse\u001b[0;34m(self)\u001b[0m\n\u001b[1;32m    382\u001b[0m         \u001b[0mself\u001b[0m\u001b[0;34m.\u001b[0m\u001b[0mtype\u001b[0m\u001b[0;34m,\u001b[0m \u001b[0mrest\u001b[0m \u001b[0;34m=\u001b[0m \u001b[0msplittype\u001b[0m\u001b[0;34m(\u001b[0m\u001b[0mself\u001b[0m\u001b[0;34m.\u001b[0m\u001b[0m_full_url\u001b[0m\u001b[0;34m)\u001b[0m\u001b[0;34m\u001b[0m\u001b[0m\n\u001b[1;32m    383\u001b[0m         \u001b[0;32mif\u001b[0m \u001b[0mself\u001b[0m\u001b[0;34m.\u001b[0m\u001b[0mtype\u001b[0m \u001b[0;32mis\u001b[0m \u001b[0;32mNone\u001b[0m\u001b[0;34m:\u001b[0m\u001b[0;34m\u001b[0m\u001b[0m\n\u001b[0;32m--> 384\u001b[0;31m             \u001b[0;32mraise\u001b[0m \u001b[0mValueError\u001b[0m\u001b[0;34m(\u001b[0m\u001b[0;34m\"unknown url type: %r\"\u001b[0m \u001b[0;34m%\u001b[0m \u001b[0mself\u001b[0m\u001b[0;34m.\u001b[0m\u001b[0mfull_url\u001b[0m\u001b[0;34m)\u001b[0m\u001b[0;34m\u001b[0m\u001b[0m\n\u001b[0m\u001b[1;32m    385\u001b[0m         \u001b[0mself\u001b[0m\u001b[0;34m.\u001b[0m\u001b[0mhost\u001b[0m\u001b[0;34m,\u001b[0m \u001b[0mself\u001b[0m\u001b[0;34m.\u001b[0m\u001b[0mselector\u001b[0m \u001b[0;34m=\u001b[0m \u001b[0msplithost\u001b[0m\u001b[0;34m(\u001b[0m\u001b[0mrest\u001b[0m\u001b[0;34m)\u001b[0m\u001b[0;34m\u001b[0m\u001b[0m\n\u001b[1;32m    386\u001b[0m         \u001b[0;32mif\u001b[0m \u001b[0mself\u001b[0m\u001b[0;34m.\u001b[0m\u001b[0mhost\u001b[0m\u001b[0;34m:\u001b[0m\u001b[0;34m\u001b[0m\u001b[0m\n",
      "\u001b[0;31mValueError\u001b[0m: unknown url type: 'h'"
     ]
    }
   ],
   "source": [
    "def get_inspect_detail(url):\n",
    "    html = urlopen(url)\n",
    "    soup = bs4.BeautifulSoup(html.read(), 'lxml')\n",
    "    details = soup.find_all('font', {'face': 'verdana'})[10:]\n",
    "    result = []\n",
    "    for detail in details:\n",
    "        siteName = details[0].text\n",
    "        licNum = details[2].text\n",
    "        siteRank = details[4].text\n",
    "        expDate = details[6].text\n",
    "        primeStatus = details[8].text\n",
    "        secStatus = details[10].text\n",
    "        siteAddress = details[12].text\n",
    "        inspectResult = details[20].text\n",
    "        observed1 = details[34].get_text\n",
    "        observed2 = details[36].text\n",
    "        observed3 = details[38].text\n",
    "        observed4 = details[40].text\n",
    "        observed5 = details[42].text\n",
    "        observed6 = details[44].text\n",
    "        observed7 = details[46].text\n",
    "        observed8 = details[48].text\n",
    "        observed9 = details[50].text\n",
    "        observed10 = details[52].text\n",
    "\n",
    "        detailsLib = {\n",
    "            'Restaurant': siteName,\n",
    "            'License': licNum,\n",
    "            'Rank': siteRank,\n",
    "            'Expires': expDate,\n",
    "            'Primary': primeStatus,\n",
    "            'Secondary': secStatus,\n",
    "            'Address': siteAddress,\n",
    "            'Result': inspectResult,\n",
    "            'Observed1': observed1,\n",
    "            'Observed2': observed2,\n",
    "            'Observed3': observed3,\n",
    "            'Observed4': observed4,\n",
    "            'Observed5': observed5,\n",
    "            'Observed6': observed6,\n",
    "            'Observed7': observed7,\n",
    "            'Observed8': observed8,\n",
    "            'Observed9': observed9,\n",
    "            'Observed10': observed10\n",
    "        }\n",
    "        result.append(detailsLib)\n",
    "\n",
    "    return result\n",
    "\n",
    "\n",
    "for url in urls:\n",
    "    repr(get_inspect_detail(url))\n",
    "    \n",
    "\n",
    "#for key, value in detailsLib.items()\n",
    "#        print(value)"
   ]
  },
  {
   "cell_type": "code",
   "execution_count": null,
   "metadata": {},
   "outputs": [],
   "source": [
    "print(detailsLib['Restaurant'])\n",
    "street = address.split(' ')\n",
    "print(detailsLib['Address'])\n"
   ]
  },
  {
   "cell_type": "code",
   "execution_count": null,
   "metadata": {},
   "outputs": [],
   "source": [
    "html = urlopen(urls)\n",
    "soup = bs4.BeautifulSoup(html.read(), 'lxml')\n",
    "details = soup.findAll('font', {'face':'verdana'})[0:]\n",
    "print(details)\n",
    "\n",
    "#more of a regex job but less dependent on sit layout"
   ]
  },
  {
   "cell_type": "code",
   "execution_count": null,
   "metadata": {},
   "outputs": [],
   "source": [
    "def clean_up(text, strip_chars=[], replace_extras={}):\n",
    "    # Handle strip_chars\n",
    "    strip_items = '|'.join(re.escape(s) for s in strip_chars)\n",
    "    strip_re = r'^(?:{}|\\s)+|(?:{}|\\s)+$'.format(strip_items, strip_items)\n",
    "    text = re.sub(strip_re, '', text, re.MULTILINE)\n",
    "\n",
    "    # Normalize whitespace and handle replace_extras\n",
    "    replace_keys = list(replace_extras.keys())\n",
    "    replace_keys.sort(key=len, reverse=True)\n",
    "    replace_re = '|'.join([re.escape(s) for s in replace_keys] + [r'\\s+'])\n",
    "    return re.sub(\n",
    "        replace_re,\n",
    "        lambda match: replace_extras.get(match.group(), ' '),\n",
    "        text\n",
    "    ).strip()\n",
    "\n",
    "clean_up(str(details))\n",
    "print(details)"
   ]
  },
  {
   "cell_type": "code",
   "execution_count": null,
   "metadata": {},
   "outputs": [],
   "source": [
    "def getNgrams(content, n):\n",
    "    content = re.sub('\\n|[[\\d+\\]]', ' ', content)\n",
    "    content = bytes(content, 'UTF-8')\n",
    "    content = content.decode('ascii', 'ignore')\n",
    "    content = content.split(' ')\n",
    "    content = [word for word in content if word != '']\n",
    "    output = []\n",
    "    for i in range(len(content)-n+1):\n",
    "        output.append(content[i:i+n])\n",
    "    return ouput\n",
    "\n",
    "getNgrams(content, 2)\n"
   ]
  },
  {
   "cell_type": "code",
   "execution_count": null,
   "metadata": {},
   "outputs": [],
   "source": []
  },
  {
   "cell_type": "code",
   "execution_count": null,
   "metadata": {},
   "outputs": [],
   "source": []
  }
 ],
 "metadata": {
  "kernelspec": {
   "display_name": "Python 3",
   "language": "python",
   "name": "python3"
  },
  "language_info": {
   "codemirror_mode": {
    "name": "ipython",
    "version": 3
   },
   "file_extension": ".py",
   "mimetype": "text/x-python",
   "name": "python",
   "nbconvert_exporter": "python",
   "pygments_lexer": "ipython3",
   "version": "3.6.2"
  }
 },
 "nbformat": 4,
 "nbformat_minor": 2
}
