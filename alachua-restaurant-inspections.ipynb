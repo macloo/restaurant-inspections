{
 "cells": [
  {
   "cell_type": "markdown",
   "metadata": {},
   "source": [
    "# Alachua County restaurant inspection analysis\n",
    "This will take restaurant inspection data by the state of Florida and format it in a more reader-friendly way for publication in print and online. We'll filter for the most egregious current violations at restaurants in Alachua County."
   ]
  },
  {
   "cell_type": "code",
   "execution_count": 10,
   "metadata": {
    "collapsed": true
   },
   "outputs": [],
   "source": [
    "import pandas as pd\n",
    "import datetime"
   ]
  },
  {
   "cell_type": "markdown",
   "metadata": {},
   "source": [
    "This reads in the inspection data for District 5, which includes Alachua County, and adds a missing header row."
   ]
  },
  {
   "cell_type": "code",
   "execution_count": 11,
   "metadata": {
    "collapsed": false
   },
   "outputs": [],
   "source": [
    "insp = pd.read_csv(\"ftp://dbprftp.state.fl.us/pub/llweb/5fdinspi.csv\", header = None)\n",
    "insp.columns = [\"District\", \"CountyNumber\", \"CountyName\", \"LicTypeCode\", \"LicNumber\", \"BusinessName\", \"StreetAddress\", \"City\", \"ZIP\", \"InspectNo\", \"VisitNo\", \"InspectClass\", \"InspectType\", \"InspectDisp\", \"InspectDate\", \"#CriticalVio\", \"#NoncritVio\", \"#TotalVio\", \"#HighVio\", \"#InterVio\", \"#BasicVio\", \"PDA\", \"FoodVio1\", \"FoodVio2\", \"FoodVio3\", \"FoodVio4\", \"FoodVio5\", \"FoodVio6\", \"FoodVio7\", \"FoodVio8\", \"FoodVio9\", \"FoodVio10\", \"FoodVio11\", \"FoodVio12\", \"FoodVio13\", \"FoodVio14\", \"FoodVio15\", \"FoodVio16\", \"FoodVio17\", \"FoodVio18\", \"FoodVio19\", \"FoodVio20\", \"FoodVio21\", \"FoodVio22\", \"FoodVio23\", \"FoodVio24\", \"FoodVio25\", \"FoodVio26\", \"FoodVio27\", \"FoodVio28\", \"FoodVio29\", \"FoodVio30\", \"FoodVio31\", \"FoodVio32\", \"FoodVio33\", \"FoodVio34\", \"FoodVio35\", \"FoodVio36\", \"FoodVio37\", \"FoodVio38\", \"FoodVio39\", \"FoodVio40\", \"FoodVio41\", \"FoodVio42\", \"FoodVio43\", \"FoodVio44\", \"FoodVio45\", \"FoodVio46\", \"FoodVio47\", \"FoodVio48\", \"FoodVio49\", \"FoodVio50\", \"FoodVio51\", \"FoodVio52\", \"FoodVio53\", \"FoodVio54\", \"FoodVio55\", \"FoodVio56\", \"FoodVio57\", \"FoodVio58\", \"LicenceID\", \"VisitID\"]"
   ]
  },
  {
   "cell_type": "code",
   "execution_count": 12,
   "metadata": {
    "collapsed": false
   },
   "outputs": [
    {
     "data": {
      "text/html": [
       "<div>\n",
       "<table border=\"1\" class=\"dataframe\">\n",
       "  <thead>\n",
       "    <tr style=\"text-align: right;\">\n",
       "      <th></th>\n",
       "      <th>District</th>\n",
       "      <th>CountyNumber</th>\n",
       "      <th>CountyName</th>\n",
       "      <th>LicTypeCode</th>\n",
       "      <th>LicNumber</th>\n",
       "      <th>BusinessName</th>\n",
       "      <th>StreetAddress</th>\n",
       "      <th>City</th>\n",
       "      <th>ZIP</th>\n",
       "      <th>InspectNo</th>\n",
       "      <th>...</th>\n",
       "      <th>FoodVio51</th>\n",
       "      <th>FoodVio52</th>\n",
       "      <th>FoodVio53</th>\n",
       "      <th>FoodVio54</th>\n",
       "      <th>FoodVio55</th>\n",
       "      <th>FoodVio56</th>\n",
       "      <th>FoodVio57</th>\n",
       "      <th>FoodVio58</th>\n",
       "      <th>LicenceID</th>\n",
       "      <th>VisitID</th>\n",
       "    </tr>\n",
       "  </thead>\n",
       "  <tbody>\n",
       "    <tr>\n",
       "      <th>0</th>\n",
       "      <td>D5</td>\n",
       "      <td>11</td>\n",
       "      <td>Alachua</td>\n",
       "      <td>2015</td>\n",
       "      <td>1100012</td>\n",
       "      <td>DOUBLE ENVELOP 71099</td>\n",
       "      <td>2500 NE 39 AVE</td>\n",
       "      <td>GAINESVILLE</td>\n",
       "      <td>32609</td>\n",
       "      <td>1106616</td>\n",
       "      <td>...</td>\n",
       "      <td>0</td>\n",
       "      <td>0</td>\n",
       "      <td>0</td>\n",
       "      <td>0</td>\n",
       "      <td>0</td>\n",
       "      <td>0</td>\n",
       "      <td>0</td>\n",
       "      <td>0</td>\n",
       "      <td>3713828</td>\n",
       "      <td>6463832</td>\n",
       "    </tr>\n",
       "    <tr>\n",
       "      <th>1</th>\n",
       "      <td>D5</td>\n",
       "      <td>11</td>\n",
       "      <td>Alachua</td>\n",
       "      <td>2015</td>\n",
       "      <td>1100012</td>\n",
       "      <td>DOUBLE ENVELOP 71099</td>\n",
       "      <td>2500 NE 39 AVE</td>\n",
       "      <td>GAINESVILLE</td>\n",
       "      <td>32609</td>\n",
       "      <td>1106616</td>\n",
       "      <td>...</td>\n",
       "      <td>0</td>\n",
       "      <td>0</td>\n",
       "      <td>0</td>\n",
       "      <td>0</td>\n",
       "      <td>0</td>\n",
       "      <td>0</td>\n",
       "      <td>0</td>\n",
       "      <td>0</td>\n",
       "      <td>3713828</td>\n",
       "      <td>6267656</td>\n",
       "    </tr>\n",
       "    <tr>\n",
       "      <th>2</th>\n",
       "      <td>D5</td>\n",
       "      <td>11</td>\n",
       "      <td>Alachua</td>\n",
       "      <td>2015</td>\n",
       "      <td>1100012</td>\n",
       "      <td>DOUBLE ENVELOP 71099</td>\n",
       "      <td>2500 NE 39 AVE</td>\n",
       "      <td>GAINESVILLE</td>\n",
       "      <td>32609</td>\n",
       "      <td>1106616</td>\n",
       "      <td>...</td>\n",
       "      <td>0</td>\n",
       "      <td>0</td>\n",
       "      <td>0</td>\n",
       "      <td>0</td>\n",
       "      <td>0</td>\n",
       "      <td>0</td>\n",
       "      <td>0</td>\n",
       "      <td>0</td>\n",
       "      <td>3713828</td>\n",
       "      <td>6432746</td>\n",
       "    </tr>\n",
       "    <tr>\n",
       "      <th>3</th>\n",
       "      <td>D5</td>\n",
       "      <td>11</td>\n",
       "      <td>Alachua</td>\n",
       "      <td>2015</td>\n",
       "      <td>1100025</td>\n",
       "      <td>PFG</td>\n",
       "      <td>4041 NE 54 AVE</td>\n",
       "      <td>GAINESVILLE</td>\n",
       "      <td>32609</td>\n",
       "      <td>1106611</td>\n",
       "      <td>...</td>\n",
       "      <td>0</td>\n",
       "      <td>0</td>\n",
       "      <td>0</td>\n",
       "      <td>0</td>\n",
       "      <td>0</td>\n",
       "      <td>0</td>\n",
       "      <td>0</td>\n",
       "      <td>0</td>\n",
       "      <td>3713765</td>\n",
       "      <td>6267651</td>\n",
       "    </tr>\n",
       "    <tr>\n",
       "      <th>4</th>\n",
       "      <td>D5</td>\n",
       "      <td>11</td>\n",
       "      <td>Alachua</td>\n",
       "      <td>2015</td>\n",
       "      <td>1100037</td>\n",
       "      <td>BEAR ARCHERY 72353</td>\n",
       "      <td>4600 SW 41ST BLVD</td>\n",
       "      <td>GAINESVILLE</td>\n",
       "      <td>32608</td>\n",
       "      <td>1106615</td>\n",
       "      <td>...</td>\n",
       "      <td>0</td>\n",
       "      <td>0</td>\n",
       "      <td>0</td>\n",
       "      <td>0</td>\n",
       "      <td>0</td>\n",
       "      <td>0</td>\n",
       "      <td>0</td>\n",
       "      <td>0</td>\n",
       "      <td>3713820</td>\n",
       "      <td>6267655</td>\n",
       "    </tr>\n",
       "  </tbody>\n",
       "</table>\n",
       "<p>5 rows × 82 columns</p>\n",
       "</div>"
      ],
      "text/plain": [
       "  District  CountyNumber CountyName  LicTypeCode  LicNumber  \\\n",
       "0       D5            11    Alachua         2015    1100012   \n",
       "1       D5            11    Alachua         2015    1100012   \n",
       "2       D5            11    Alachua         2015    1100012   \n",
       "3       D5            11    Alachua         2015    1100025   \n",
       "4       D5            11    Alachua         2015    1100037   \n",
       "\n",
       "           BusinessName      StreetAddress         City    ZIP  InspectNo  \\\n",
       "0  DOUBLE ENVELOP 71099     2500 NE 39 AVE  GAINESVILLE  32609    1106616   \n",
       "1  DOUBLE ENVELOP 71099     2500 NE 39 AVE  GAINESVILLE  32609    1106616   \n",
       "2  DOUBLE ENVELOP 71099     2500 NE 39 AVE  GAINESVILLE  32609    1106616   \n",
       "3                   PFG     4041 NE 54 AVE  GAINESVILLE  32609    1106611   \n",
       "4    BEAR ARCHERY 72353  4600 SW 41ST BLVD  GAINESVILLE  32608    1106615   \n",
       "\n",
       "    ...     FoodVio51 FoodVio52 FoodVio53 FoodVio54 FoodVio55  FoodVio56  \\\n",
       "0   ...             0         0         0         0         0          0   \n",
       "1   ...             0         0         0         0         0          0   \n",
       "2   ...             0         0         0         0         0          0   \n",
       "3   ...             0         0         0         0         0          0   \n",
       "4   ...             0         0         0         0         0          0   \n",
       "\n",
       "   FoodVio57  FoodVio58  LicenceID  VisitID  \n",
       "0          0          0    3713828  6463832  \n",
       "1          0          0    3713828  6267656  \n",
       "2          0          0    3713828  6432746  \n",
       "3          0          0    3713765  6267651  \n",
       "4          0          0    3713820  6267655  \n",
       "\n",
       "[5 rows x 82 columns]"
      ]
     },
     "execution_count": 12,
     "metadata": {},
     "output_type": "execute_result"
    }
   ],
   "source": [
    "insp.head()"
   ]
  },
  {
   "cell_type": "markdown",
   "metadata": {},
   "source": [
    "This creates a DataFrame named 'alachua', filters out records for Alachua County."
   ]
  },
  {
   "cell_type": "code",
   "execution_count": 13,
   "metadata": {
    "collapsed": false
   },
   "outputs": [],
   "source": [
    "alachua = insp[insp.CountyName == 'Alachua']"
   ]
  },
  {
   "cell_type": "markdown",
   "metadata": {},
   "source": [
    "Looks like I need to switch data in InspectDate from string to data. How do I do that?"
   ]
  },
  {
   "cell_type": "code",
   "execution_count": 14,
   "metadata": {
    "collapsed": false
   },
   "outputs": [
    {
     "ename": "NameError",
     "evalue": "name 'date_date' is not defined",
     "output_type": "error",
     "traceback": [
      "\u001b[0;31m---------------------------------------------------------------------------\u001b[0m",
      "\u001b[0;31mNameError\u001b[0m                                 Traceback (most recent call last)",
      "\u001b[0;32m<ipython-input-14-0276b63a0e86>\u001b[0m in \u001b[0;36m<module>\u001b[0;34m()\u001b[0m\n\u001b[1;32m      1\u001b[0m \u001b[0;32mfrom\u001b[0m \u001b[0mdatetime\u001b[0m \u001b[0;32mimport\u001b[0m \u001b[0mdatetime\u001b[0m\u001b[0;34m\u001b[0m\u001b[0m\n\u001b[0;32m----> 2\u001b[0;31m \u001b[0mdate_date\u001b[0m \u001b[0;34m=\u001b[0m \u001b[0mdate_date\u001b[0m\u001b[0;34m(\u001b[0m\u001b[0;34m\"InspectDate\"\u001b[0m\u001b[0;34m)\u001b[0m\u001b[0;34m\u001b[0m\u001b[0m\n\u001b[0m\u001b[1;32m      3\u001b[0m \u001b[0mdatetime\u001b[0m\u001b[0;34m.\u001b[0m\u001b[0mstrptime\u001b[0m\u001b[0;34m(\u001b[0m\u001b[0mdate_date\u001b[0m\u001b[0;34m,\u001b[0m \u001b[0;34m\"%Y-%m-%d\"\u001b[0m\u001b[0;34m)\u001b[0m\u001b[0;34m\u001b[0m\u001b[0m\n",
      "\u001b[0;31mNameError\u001b[0m: name 'date_date' is not defined"
     ]
    }
   ],
   "source": [
    "date_date = date_date(\"InspectDate\")\n",
    "datetime.strptime(date_date, \"%Y-%m-%d\")"
   ]
  },
  {
   "cell_type": "code",
   "execution_count": null,
   "metadata": {
    "collapsed": true
   },
   "outputs": [],
   "source": [
    " insp.InspectDate > datetime.datetime.now() - pd.to_timedelta(\"30day\")"
   ]
  }
 ],
 "metadata": {
  "kernelspec": {
   "display_name": "Python 2",
   "language": "python",
   "name": "python2"
  },
  "language_info": {
   "codemirror_mode": {
    "name": "ipython",
    "version": 2
   },
   "file_extension": ".py",
   "mimetype": "text/x-python",
   "name": "python",
   "nbconvert_exporter": "python",
   "pygments_lexer": "ipython2",
   "version": "2.7.13"
  }
 },
 "nbformat": 4,
 "nbformat_minor": 2
}
