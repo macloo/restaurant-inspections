{
 "cells": [
  {
   "cell_type": "code",
   "execution_count": 10,
   "metadata": {},
   "outputs": [],
   "source": [
    "import sqlite3\n",
    "conn = sqlite3.connect(\"rinspect.sqlite\")\n",
    "cursor = conn.cursor()\n",
    "\n",
    "cursor.execute(\"\"\"CREATE TABLE IF NOT EXISTS fdinsp (\n",
    "librow INTEGER,\n",
    "county TEXT,\n",
    "licnum TEXT,\n",
    "sitename TEXT,\n",
    "streetaddy TEXT,\n",
    "cityaddy TEXT,\n",
    "zip TEXT,\n",
    "inspnum TEXT,\n",
    "insptype TEXT,\n",
    "inspdispos TEXT,\n",
    "inspdate DATE,\n",
    "totalvio INTEGER,\n",
    "highvio INTEGER,\n",
    "licid TEXT,\n",
    "visitid INTEGER UNIQUE,\n",
    "now DATETIME,\n",
    "timestamp DATETIME DEFAULT (STRFTIME('%Y-%m-%d %H:%M', 'NOW', 'localtime')))\n",
    "\"\"\") \n",
    "\n",
    "conn.commit()\n",
    "conn.close()"
   ]
  },
  {
   "cell_type": "code",
   "execution_count": null,
   "metadata": {},
   "outputs": [],
   "source": []
  },
  {
   "cell_type": "code",
   "execution_count": null,
   "metadata": {},
   "outputs": [],
   "source": []
  }
 ],
 "metadata": {
  "kernelspec": {
   "display_name": "Python 3",
   "language": "python",
   "name": "python3"
  },
  "language_info": {
   "codemirror_mode": {
    "name": "ipython",
    "version": 3
   },
   "file_extension": ".py",
   "mimetype": "text/x-python",
   "name": "python",
   "nbconvert_exporter": "python",
   "pygments_lexer": "ipython3",
   "version": "3.6.5"
  }
 },
 "nbformat": 4,
 "nbformat_minor": 2
}
