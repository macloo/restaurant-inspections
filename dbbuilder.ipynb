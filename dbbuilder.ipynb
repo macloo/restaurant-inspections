{
 "cells": [
  {
   "cell_type": "code",
   "execution_count": 2,
   "metadata": {},
   "outputs": [],
   "source": [
    "import sqlite3\n",
    "conn = sqlite3.connect(\"rinspect.sqlite\")\n",
    "cursor = conn.cursor()\n",
    "\n",
    "cursor.execute(\"\"\"CREATE TABLE IF NOT EXISTS fdinsp (\n",
    "librow INTEGER,\n",
    "county TEXT,\n",
    "licnum TEXT,\n",
    "sitename TEXT,\n",
    "streetaddy TEXT,\n",
    "cityaddy TEXT,\n",
    "zip TEXT,\n",
    "inspnum TEXT,\n",
    "insptype TEXT,\n",
    "inspdispos TEXT,\n",
    "inspdate DATETIME,\n",
    "totalvio INTEGER,\n",
    "highvio INTEGER,\n",
    "licid TEXT,\n",
    "visitid INTEGER UNIQUE,\n",
    "time_now DATETIME,\n",
    "time_posted DATETIME DEFAULT (STRFTIME('%Y-%m-%d %H:%M', 'NOW', 'localtime')))\n",
    "\"\"\") \n",
    "\n",
    "cursor.execute(\"\"\"CREATE TABLE IF NOT EXISTS observed (\n",
    "visitid INTEGER UNIQUE,\n",
    "restaurant TEXT,\n",
    "totalvio INTEGER\n",
    "observed1 TEXT,\n",
    "observed2 TEXT,\n",
    "observed3 TEXT,\n",
    "observed4 TEXT,\n",
    "observed5 TEXT,\n",
    "observed6 TEXT,\n",
    "observed7 TEXT,\n",
    "observed8 TEXT,\n",
    "observed9 TEXT,\n",
    "observed10 TEXT,\n",
    "observed11 TEXT,\n",
    "observed12 TEXT)\n",
    "\"\"\")\n",
    "\n",
    "conn.commit()\n",
    "conn.close()"
   ]
  },
  {
   "cell_type": "code",
   "execution_count": null,
   "metadata": {},
   "outputs": [],
   "source": []
  }
 ],
 "metadata": {
  "kernelspec": {
   "display_name": "Python 3",
   "language": "python",
   "name": "python3"
  },
  "language_info": {
   "codemirror_mode": {
    "name": "ipython",
    "version": 3
   },
   "file_extension": ".py",
   "mimetype": "text/x-python",
   "name": "python",
   "nbconvert_exporter": "python",
   "pygments_lexer": "ipython3",
   "version": "3.7.0"
  }
 },
 "nbformat": 4,
 "nbformat_minor": 2
}
