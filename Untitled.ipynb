{
 "cells": [
  {
   "cell_type": "code",
   "execution_count": 1,
   "metadata": {},
   "outputs": [
    {
     "ename": "SyntaxError",
     "evalue": "invalid syntax (<ipython-input-1-9017ad85a4c7>, line 11)",
     "output_type": "error",
     "traceback": [
      "\u001b[0;36m  File \u001b[0;32m\"<ipython-input-1-9017ad85a4c7>\"\u001b[0;36m, line \u001b[0;32m11\u001b[0m\n\u001b[0;31m    urls = [https://www.myfloridalicense.com/inspectionDetail.asp?InspVisitID=6533891&licid=7003533,\u001b[0m\n\u001b[0m                 ^\u001b[0m\n\u001b[0;31mSyntaxError\u001b[0m\u001b[0;31m:\u001b[0m invalid syntax\n"
     ]
    }
   ],
   "source": [
    "import pandas as pd\n",
    "import bs4\n",
    "import datetime\n",
    "import numpy as np\n",
    "import re\n",
    "import lxml\n",
    "from urllib.request import urlopen\n",
    "from urllib.error import HTTPError\n",
    "from urllib.request import urlopen\n",
    "\n",
    "urls = [https://www.myfloridalicense.com/inspectionDetail.asp?InspVisitID=6533891&licid=7003533,\n",
    "        https://www.myfloridalicense.com/inspectionDetail.asp?InspVisitID=6362752&licid=6772721,\n",
    "        https://www.myfloridalicense.com/inspectionDetail.asp?InspVisitID=6538630&licid=7009925,\n",
    "        https://www.myfloridalicense.com/inspectionDetail.asp?InspVisitID=6517783&licid=6982298,\n",
    "        https://www.myfloridalicense.com/inspectionDetail.asp?InspVisitID=6539001&licid=6312191,\n",
    "        https://www.myfloridalicense.com/inspectionDetail.asp?InspVisitID=6444510&licid=6475603,\n",
    "        https://www.myfloridalicense.com/inspectionDetail.asp?InspVisitID=6292423&licid=6040839,\n",
    "        https://www.myfloridalicense.com/inspectionDetail.asp?InspVisitID=6463635&licid=6370423,\n",
    "        https://www.myfloridalicense.com/inspectionDetail.asp?InspVisitID=6451801&licid=5858850]"
   ]
  },
  {
   "cell_type": "code",
   "execution_count": null,
   "metadata": {},
   "outputs": [],
   "source": [
    "html = urlopen(urls)\n",
    "soup = bs4.BeautifulSoup(html.read(), 'lxml')\n",
    "details = soup.find_all('font', {'face':'verdana'})[10:]\n",
    "    \n",
    "for detail in details:\n",
    "    siteName = details[0].text\n",
    "    licNum = details[2].text\n",
    "    siteRank = details[4].text\n",
    "    expDate = details[6].text\n",
    "    primeStatus = details[8].text\n",
    "    secStatus = details[10].text\n",
    "    siteAddress = details[12].text\n",
    "    inspectResult = details[20].text\n",
    "    observed1 = details[34].get_text\n",
    "    observed2 = details[36].text\n",
    "    observed3 = details[38].text\n",
    "    observed4 = details[40].text\n",
    "    observed5 = details[42].text\n",
    "    observed6 = details[44].text\n",
    "    observed7 = details[46].text\n",
    "    observed8 = details[48].text\n",
    "    observed9 = details[50].text\n",
    "    observed10 = details[52].text\n",
    "  \n",
    "\n",
    "    detailsLib = {\n",
    "        'Restaurant': siteName,\n",
    "        'License': licNum,\n",
    "        'Rank': siteRank,\n",
    "        'Expires': expDate,\n",
    "        'Primary': primeStatus,\n",
    "        'Secondary': secStatus,\n",
    "        'Address': siteAddress,\n",
    "        'Result': inspectResult,\n",
    "        'Observed1': observed1,\n",
    "        'Observed2': observed2,\n",
    "        'Observed3': observed3,\n",
    "        'Observed4': observed4,\n",
    "        'Observed5': observed5,\n",
    "        'Observed6': observed6,\n",
    "        'Observed7': observed7,\n",
    "        'Observed8': observed8,\n",
    "        'Observed9': observed9,\n",
    "        'Observed10': observed10,    \n",
    "        }\n",
    "\n",
    "repr(detailsLib)"
   ]
  },
  {
   "cell_type": "code",
   "execution_count": null,
   "metadata": {},
   "outputs": [],
   "source": [
    "print(detailsLib['Restaurant'])\n",
    "street = address.split(' ')\n",
    "print(detailsLib['Address'])"
   ]
  }
 ],
 "metadata": {
  "kernelspec": {
   "display_name": "Python 3",
   "language": "python",
   "name": "python3"
  },
  "language_info": {
   "codemirror_mode": {
    "name": "ipython",
    "version": 3
   },
   "file_extension": ".py",
   "mimetype": "text/x-python",
   "name": "python",
   "nbconvert_exporter": "python",
   "pygments_lexer": "ipython3",
   "version": "3.6.2"
  }
 },
 "nbformat": 4,
 "nbformat_minor": 2
}
