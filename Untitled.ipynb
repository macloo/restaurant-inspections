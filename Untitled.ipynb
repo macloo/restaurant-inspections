{
 "cells": [
  {
   "cell_type": "code",
   "execution_count": 1,
   "metadata": {
    "collapsed": true
   },
   "outputs": [],
   "source": [
    "import pandas"
   ]
  },
  {
   "cell_type": "code",
   "execution_count": 2,
   "metadata": {
    "collapsed": true
   },
   "outputs": [],
   "source": [
    "import pandas as pd"
   ]
  },
  {
   "cell_type": "code",
   "execution_count": 40,
   "metadata": {
    "collapsed": false
   },
   "outputs": [
    {
     "ename": "SyntaxError",
     "evalue": "invalid syntax (<ipython-input-40-b6281159d31f>, line 2)",
     "output_type": "error",
     "traceback": [
      "\u001b[0;36m  File \u001b[0;32m\"<ipython-input-40-b6281159d31f>\"\u001b[0;36m, line \u001b[0;32m2\u001b[0m\n\u001b[0;31m    insp.columns = [“District”, “CountyNumber”, “CountyName”, “LicTypeCode”, “LicNumber”, “BusinessName”, “StreetAddress”, “City”, “ZIP”, “InspectNo”, “VisitNo”, “InspectClass”, “InspectType”, “InspectDisp”, “InspectDate”, “NoCriticalVio”, “NoNoncritVio”, “NoTotalVio”, “NoHighVio”, “NoInterVio”, “NoBasicVio”, “PDA”, “FoodVio1”, “FoodVio2”, “FoodVio3”, “FoodVio4”, “FoodVio5”, “FoodVio6”, “FoodVio7”, “FoodVio8”, “FoodVio9”, “FoodVio10”, “FoodVio11”, “FoodVio12”, “FoodVio13”, “FoodVio14”, “FoodVio15”, “FoodVio16”, “FoodVio17”, “FoodVio18”, “FoodVio19”, “FoodVio20”, “FoodVio21”, “FoodVio22”, “FoodVio23”, “FoodVio24”, “FoodVio25”, “FoodVio26”, “FoodVio27”, “FoodVio28”, “FoodVio29”, “FoodVio30”, “FoodVio31”, “FoodVio32”, “FoodVio33”, “FoodVio34”, “FoodVio35”, “FoodVio36”, “FoodVio37”, “FoodVio38”, “FoodVio39”, “FoodVio40”, “FoodVio41”, “FoodVio42”, “FoodVio43”, “FoodVio44”, “FoodVio45”, “FoodVio46”, “FoodVio47”, “FoodVio48”, “FoodVio49”, “FoodVio50”, “FoodVio51”, “FoodVio52”, “FoodVio53”, “FoodVio54”, “FoodVio55”, “FoodVio56”, “FoodVio57”, “FoodVio58”, “LicenceID”, “VisitID”]\u001b[0m\n\u001b[0m                    ^\u001b[0m\n\u001b[0;31mSyntaxError\u001b[0m\u001b[0;31m:\u001b[0m invalid syntax\n"
     ]
    }
   ],
   "source": [
    "insp = pd.read_csv(\"ftp://dbprftp.state.fl.us/pub/llweb/5fdinspi.csv\", header = None)\n",
    "insp.columns = [“District”, “CountyNumber”, “CountyName”, “LicTypeCode”, “LicNumber”, “BusinessName”, “StreetAddress”, “City”, “ZIP”, “InspectNo”, “VisitNo”, “InspectClass”, “InspectType”, “InspectDisp”, “InspectDate”, “NoCriticalVio”, “NoNoncritVio”, “NoTotalVio”, “NoHighVio”, “NoInterVio”, “NoBasicVio”, “PDA”, “FoodVio1”, “FoodVio2”, “FoodVio3”, “FoodVio4”, “FoodVio5”, “FoodVio6”, “FoodVio7”, “FoodVio8”, “FoodVio9”, “FoodVio10”, “FoodVio11”, “FoodVio12”, “FoodVio13”, “FoodVio14”, “FoodVio15”, “FoodVio16”, “FoodVio17”, “FoodVio18”, “FoodVio19”, “FoodVio20”, “FoodVio21”, “FoodVio22”, “FoodVio23”, “FoodVio24”, “FoodVio25”, “FoodVio26”, “FoodVio27”, “FoodVio28”, “FoodVio29”, “FoodVio30”, “FoodVio31”, “FoodVio32”, “FoodVio33”, “FoodVio34”, “FoodVio35”, “FoodVio36”, “FoodVio37”, “FoodVio38”, “FoodVio39”, “FoodVio40”, “FoodVio41”, “FoodVio42”, “FoodVio43”, “FoodVio44”, “FoodVio45”, “FoodVio46”, “FoodVio47”, “FoodVio48”, “FoodVio49”, “FoodVio50”, “FoodVio51”, “FoodVio52”, “FoodVio53”, “FoodVio54”, “FoodVio55”, “FoodVio56”, “FoodVio57”, “FoodVio58”, “LicenceID”, “VisitID”]"
   ]
  },
  {
   "cell_type": "code",
   "execution_count": 34,
   "metadata": {
    "collapsed": false
   },
   "outputs": [
    {
     "data": {
      "text/html": [
       "<div>\n",
       "<table border=\"1\" class=\"dataframe\">\n",
       "  <thead>\n",
       "    <tr style=\"text-align: right;\">\n",
       "      <th></th>\n",
       "      <th>0</th>\n",
       "      <th>1</th>\n",
       "      <th>2</th>\n",
       "      <th>3</th>\n",
       "      <th>4</th>\n",
       "      <th>5</th>\n",
       "      <th>6</th>\n",
       "      <th>7</th>\n",
       "      <th>8</th>\n",
       "      <th>9</th>\n",
       "      <th>...</th>\n",
       "      <th>72</th>\n",
       "      <th>73</th>\n",
       "      <th>74</th>\n",
       "      <th>75</th>\n",
       "      <th>76</th>\n",
       "      <th>77</th>\n",
       "      <th>78</th>\n",
       "      <th>79</th>\n",
       "      <th>80</th>\n",
       "      <th>81</th>\n",
       "    </tr>\n",
       "  </thead>\n",
       "  <tbody>\n",
       "    <tr>\n",
       "      <th>0</th>\n",
       "      <td>D5</td>\n",
       "      <td>11</td>\n",
       "      <td>Alachua</td>\n",
       "      <td>2015</td>\n",
       "      <td>1100012</td>\n",
       "      <td>DOUBLE ENVELOP 71099</td>\n",
       "      <td>2500 NE 39 AVE</td>\n",
       "      <td>GAINESVILLE</td>\n",
       "      <td>32609</td>\n",
       "      <td>1106616</td>\n",
       "      <td>...</td>\n",
       "      <td>0</td>\n",
       "      <td>0</td>\n",
       "      <td>0</td>\n",
       "      <td>0</td>\n",
       "      <td>0</td>\n",
       "      <td>0</td>\n",
       "      <td>0</td>\n",
       "      <td>0</td>\n",
       "      <td>3713828</td>\n",
       "      <td>6463832</td>\n",
       "    </tr>\n",
       "    <tr>\n",
       "      <th>1</th>\n",
       "      <td>D5</td>\n",
       "      <td>11</td>\n",
       "      <td>Alachua</td>\n",
       "      <td>2015</td>\n",
       "      <td>1100012</td>\n",
       "      <td>DOUBLE ENVELOP 71099</td>\n",
       "      <td>2500 NE 39 AVE</td>\n",
       "      <td>GAINESVILLE</td>\n",
       "      <td>32609</td>\n",
       "      <td>1106616</td>\n",
       "      <td>...</td>\n",
       "      <td>0</td>\n",
       "      <td>0</td>\n",
       "      <td>0</td>\n",
       "      <td>0</td>\n",
       "      <td>0</td>\n",
       "      <td>0</td>\n",
       "      <td>0</td>\n",
       "      <td>0</td>\n",
       "      <td>3713828</td>\n",
       "      <td>6267656</td>\n",
       "    </tr>\n",
       "    <tr>\n",
       "      <th>2</th>\n",
       "      <td>D5</td>\n",
       "      <td>11</td>\n",
       "      <td>Alachua</td>\n",
       "      <td>2015</td>\n",
       "      <td>1100012</td>\n",
       "      <td>DOUBLE ENVELOP 71099</td>\n",
       "      <td>2500 NE 39 AVE</td>\n",
       "      <td>GAINESVILLE</td>\n",
       "      <td>32609</td>\n",
       "      <td>1106616</td>\n",
       "      <td>...</td>\n",
       "      <td>0</td>\n",
       "      <td>0</td>\n",
       "      <td>0</td>\n",
       "      <td>0</td>\n",
       "      <td>0</td>\n",
       "      <td>0</td>\n",
       "      <td>0</td>\n",
       "      <td>0</td>\n",
       "      <td>3713828</td>\n",
       "      <td>6432746</td>\n",
       "    </tr>\n",
       "    <tr>\n",
       "      <th>3</th>\n",
       "      <td>D5</td>\n",
       "      <td>11</td>\n",
       "      <td>Alachua</td>\n",
       "      <td>2015</td>\n",
       "      <td>1100025</td>\n",
       "      <td>PFG</td>\n",
       "      <td>4041 NE 54 AVE</td>\n",
       "      <td>GAINESVILLE</td>\n",
       "      <td>32609</td>\n",
       "      <td>1106611</td>\n",
       "      <td>...</td>\n",
       "      <td>0</td>\n",
       "      <td>0</td>\n",
       "      <td>0</td>\n",
       "      <td>0</td>\n",
       "      <td>0</td>\n",
       "      <td>0</td>\n",
       "      <td>0</td>\n",
       "      <td>0</td>\n",
       "      <td>3713765</td>\n",
       "      <td>6267651</td>\n",
       "    </tr>\n",
       "    <tr>\n",
       "      <th>4</th>\n",
       "      <td>D5</td>\n",
       "      <td>11</td>\n",
       "      <td>Alachua</td>\n",
       "      <td>2015</td>\n",
       "      <td>1100037</td>\n",
       "      <td>BEAR ARCHERY 72353</td>\n",
       "      <td>4600 SW 41ST BLVD</td>\n",
       "      <td>GAINESVILLE</td>\n",
       "      <td>32608</td>\n",
       "      <td>1106615</td>\n",
       "      <td>...</td>\n",
       "      <td>0</td>\n",
       "      <td>0</td>\n",
       "      <td>0</td>\n",
       "      <td>0</td>\n",
       "      <td>0</td>\n",
       "      <td>0</td>\n",
       "      <td>0</td>\n",
       "      <td>0</td>\n",
       "      <td>3713820</td>\n",
       "      <td>6267655</td>\n",
       "    </tr>\n",
       "  </tbody>\n",
       "</table>\n",
       "<p>5 rows × 82 columns</p>\n",
       "</div>"
      ],
      "text/plain": [
       "   0   1        2     3        4                     5                  6   \\\n",
       "0  D5  11  Alachua  2015  1100012  DOUBLE ENVELOP 71099     2500 NE 39 AVE   \n",
       "1  D5  11  Alachua  2015  1100012  DOUBLE ENVELOP 71099     2500 NE 39 AVE   \n",
       "2  D5  11  Alachua  2015  1100012  DOUBLE ENVELOP 71099     2500 NE 39 AVE   \n",
       "3  D5  11  Alachua  2015  1100025                   PFG     4041 NE 54 AVE   \n",
       "4  D5  11  Alachua  2015  1100037    BEAR ARCHERY 72353  4600 SW 41ST BLVD   \n",
       "\n",
       "            7      8        9    ...     72 73 74 75 76  77  78  79       80  \\\n",
       "0  GAINESVILLE  32609  1106616   ...      0  0  0  0  0   0   0   0  3713828   \n",
       "1  GAINESVILLE  32609  1106616   ...      0  0  0  0  0   0   0   0  3713828   \n",
       "2  GAINESVILLE  32609  1106616   ...      0  0  0  0  0   0   0   0  3713828   \n",
       "3  GAINESVILLE  32609  1106611   ...      0  0  0  0  0   0   0   0  3713765   \n",
       "4  GAINESVILLE  32608  1106615   ...      0  0  0  0  0   0   0   0  3713820   \n",
       "\n",
       "        81  \n",
       "0  6463832  \n",
       "1  6267656  \n",
       "2  6432746  \n",
       "3  6267651  \n",
       "4  6267655  \n",
       "\n",
       "[5 rows x 82 columns]"
      ]
     },
     "execution_count": 34,
     "metadata": {},
     "output_type": "execute_result"
    }
   ],
   "source": [
    "insp.head()"
   ]
  },
  {
   "cell_type": "code",
   "execution_count": 5,
   "metadata": {
    "collapsed": false
   },
   "outputs": [
    {
     "data": {
      "text/plain": [
       "count    4.000000\n",
       "mean     5.000000\n",
       "std      2.581989\n",
       "min      2.000000\n",
       "25%      3.500000\n",
       "50%      5.000000\n",
       "75%      6.500000\n",
       "max      8.000000\n",
       "dtype: float64"
      ]
     },
     "execution_count": 5,
     "metadata": {},
     "output_type": "execute_result"
    }
   ],
   "source": []
  },
  {
   "cell_type": "code",
   "execution_count": 7,
   "metadata": {
    "collapsed": false
   },
   "outputs": [],
   "source": []
  },
  {
   "cell_type": "code",
   "execution_count": 29,
   "metadata": {
    "collapsed": false
   },
   "outputs": [],
   "source": [
    "insp = pd.read_csv(\"~/downloads/5fdinspi.csv\")\n"
   ]
  },
  {
   "cell_type": "code",
   "execution_count": null,
   "metadata": {
    "collapsed": false
   },
   "outputs": [],
   "source": []
  },
  {
   "cell_type": "code",
   "execution_count": 22,
   "metadata": {
    "collapsed": false
   },
   "outputs": [
    {
     "data": {
      "text/plain": [
       "0        Alachua\n",
       "1        Alachua\n",
       "2        Alachua\n",
       "3        Alachua\n",
       "4        Alachua\n",
       "5        Alachua\n",
       "6        Alachua\n",
       "7        Alachua\n",
       "8        Alachua\n",
       "9        Alachua\n",
       "10       Alachua\n",
       "11       Alachua\n",
       "12       Alachua\n",
       "13       Alachua\n",
       "14       Alachua\n",
       "15       Alachua\n",
       "16       Alachua\n",
       "17       Alachua\n",
       "18       Alachua\n",
       "19       Alachua\n",
       "20       Alachua\n",
       "21       Alachua\n",
       "22       Alachua\n",
       "23       Alachua\n",
       "24       Alachua\n",
       "25       Alachua\n",
       "26       Alachua\n",
       "27       Alachua\n",
       "28       Alachua\n",
       "29       Alachua\n",
       "          ...   \n",
       "9711    Suwannee\n",
       "9712    Suwannee\n",
       "9713    Suwannee\n",
       "9714    Suwannee\n",
       "9715    Suwannee\n",
       "9716    Suwannee\n",
       "9717    Suwannee\n",
       "9718    Suwannee\n",
       "9719    Suwannee\n",
       "9720    Suwannee\n",
       "9721    Suwannee\n",
       "9722       Union\n",
       "9723       Union\n",
       "9724       Union\n",
       "9725       Union\n",
       "9726       Union\n",
       "9727       Union\n",
       "9728       Union\n",
       "9729       Union\n",
       "9730       Union\n",
       "9731       Union\n",
       "9732       Union\n",
       "9733       Union\n",
       "9734       Union\n",
       "9735       Union\n",
       "9736       Union\n",
       "9737       Union\n",
       "9738       Union\n",
       "9739       Union\n",
       "9740       Union\n",
       "Name: CountyName, dtype: object"
      ]
     },
     "execution_count": 22,
     "metadata": {},
     "output_type": "execute_result"
    }
   ],
   "source": [
    "inspections.CountyName"
   ]
  },
  {
   "cell_type": "code",
   "execution_count": null,
   "metadata": {
    "collapsed": true
   },
   "outputs": [],
   "source": []
  }
 ],
 "metadata": {
  "kernelspec": {
   "display_name": "Python 2",
   "language": "python",
   "name": "python2"
  },
  "language_info": {
   "codemirror_mode": {
    "name": "ipython",
    "version": 2
   },
   "file_extension": ".py",
   "mimetype": "text/x-python",
   "name": "python",
   "nbconvert_exporter": "python",
   "pygments_lexer": "ipython2",
   "version": "2.7.13"
  }
 },
 "nbformat": 4,
 "nbformat_minor": 2
}
