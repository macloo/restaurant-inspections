{
 "cells": [
  {
   "cell_type": "code",
   "execution_count": 14,
   "metadata": {
    "collapsed": true
   },
   "outputs": [],
   "source": [
    "import pandas as pd"
   ]
  },
  {
   "cell_type": "markdown",
   "metadata": {
    "collapsed": true
   },
   "source": [
    "### read in the file and create variable 'df' for the DataFrame"
   ]
  },
  {
   "cell_type": "code",
   "execution_count": 15,
   "metadata": {
    "collapsed": false
   },
   "outputs": [],
   "source": [
    "df = pd.read_csv(\"~/downloads/bailbonds.csv\")"
   ]
  },
  {
   "cell_type": "markdown",
   "metadata": {},
   "source": [
    "### Info and header on the DataFrame"
   ]
  },
  {
   "cell_type": "code",
   "execution_count": 16,
   "metadata": {
    "collapsed": false
   },
   "outputs": [
    {
     "name": "stdout",
     "output_type": "stream",
     "text": [
      "<class 'pandas.core.frame.DataFrame'>\n",
      "RangeIndex: 20507 entries, 0 to 20506\n",
      "Data columns (total 17 columns):\n",
      "UID            20507 non-null int64\n",
      "BOOK_NUMBER    20507 non-null object\n",
      "RACE           20507 non-null object\n",
      "Gender         20507 non-null object\n",
      "AGE            20507 non-null int64\n",
      "COURT_CASE     20507 non-null object\n",
      "LEVEL          20507 non-null object\n",
      "SEVERITY       20507 non-null object\n",
      "BOND AMT       20507 non-null object\n",
      "BOND OUT       20507 non-null bool\n",
      "DAYS           20507 non-null int64\n",
      "PUBLIC DEF.    20507 non-null bool\n",
      "DESCRIPTION    19676 non-null object\n",
      "FSN            20507 non-null object\n",
      "STATUS         20507 non-null object\n",
      "JUDGE          20507 non-null object\n",
      "IS_FIRST       20507 non-null bool\n",
      "dtypes: bool(3), int64(3), object(11)\n",
      "memory usage: 2.2+ MB\n"
     ]
    }
   ],
   "source": [
    "df.info()"
   ]
  },
  {
   "cell_type": "code",
   "execution_count": 17,
   "metadata": {
    "collapsed": false
   },
   "outputs": [
    {
     "data": {
      "text/html": [
       "<div>\n",
       "<table border=\"1\" class=\"dataframe\">\n",
       "  <thead>\n",
       "    <tr style=\"text-align: right;\">\n",
       "      <th></th>\n",
       "      <th>UID</th>\n",
       "      <th>BOOK_NUMBER</th>\n",
       "      <th>RACE</th>\n",
       "      <th>Gender</th>\n",
       "      <th>AGE</th>\n",
       "      <th>COURT_CASE</th>\n",
       "      <th>LEVEL</th>\n",
       "      <th>SEVERITY</th>\n",
       "      <th>BOND AMT</th>\n",
       "      <th>BOND OUT</th>\n",
       "      <th>DAYS</th>\n",
       "      <th>PUBLIC DEF.</th>\n",
       "      <th>DESCRIPTION</th>\n",
       "      <th>FSN</th>\n",
       "      <th>STATUS</th>\n",
       "      <th>JUDGE</th>\n",
       "      <th>IS_FIRST</th>\n",
       "    </tr>\n",
       "  </thead>\n",
       "  <tbody>\n",
       "    <tr>\n",
       "      <th>0</th>\n",
       "      <td>1</td>\n",
       "      <td>ASO16JBN005576</td>\n",
       "      <td>B</td>\n",
       "      <td>M</td>\n",
       "      <td>68</td>\n",
       "      <td>012016CF002701A</td>\n",
       "      <td>F</td>\n",
       "      <td>T</td>\n",
       "      <td>$3,500,000</td>\n",
       "      <td>False</td>\n",
       "      <td>221</td>\n",
       "      <td>True</td>\n",
       "      <td>ADULT</td>\n",
       "      <td>787.02.1a</td>\n",
       "      <td>FELON - AWAIT TRIAL</td>\n",
       "      <td>DENISE R. FERRERO</td>\n",
       "      <td>True</td>\n",
       "    </tr>\n",
       "    <tr>\n",
       "      <th>1</th>\n",
       "      <td>2</td>\n",
       "      <td>ASO16JBN005576</td>\n",
       "      <td>B</td>\n",
       "      <td>M</td>\n",
       "      <td>68</td>\n",
       "      <td>012016CF002701A</td>\n",
       "      <td>F</td>\n",
       "      <td>T</td>\n",
       "      <td>$3,500,000</td>\n",
       "      <td>False</td>\n",
       "      <td>221</td>\n",
       "      <td>True</td>\n",
       "      <td>SEX BAT 18 YR OR OLDER BY PRSN 18 YR OR OLD</td>\n",
       "      <td>794.011.4b</td>\n",
       "      <td>FELON - AWAIT TRIAL</td>\n",
       "      <td>DENISE R. FERRERO</td>\n",
       "      <td>True</td>\n",
       "    </tr>\n",
       "    <tr>\n",
       "      <th>2</th>\n",
       "      <td>3</td>\n",
       "      <td>ASO16JBN000360</td>\n",
       "      <td>W</td>\n",
       "      <td>M</td>\n",
       "      <td>124</td>\n",
       "      <td>012016CF000120A</td>\n",
       "      <td>F</td>\n",
       "      <td>S</td>\n",
       "      <td>$3,000,000</td>\n",
       "      <td>False</td>\n",
       "      <td>40</td>\n",
       "      <td>True</td>\n",
       "      <td>BY 18Y OLDR VIC 18Y OLDR NO PHY FORC VIOL</td>\n",
       "      <td>794.011.5b</td>\n",
       "      <td>FELON - AWAIT TRIAL</td>\n",
       "      <td>JAMES M. COLAW</td>\n",
       "      <td>True</td>\n",
       "    </tr>\n",
       "    <tr>\n",
       "      <th>3</th>\n",
       "      <td>4</td>\n",
       "      <td>ASO16JBN000360</td>\n",
       "      <td>W</td>\n",
       "      <td>M</td>\n",
       "      <td>124</td>\n",
       "      <td>012016CF000120A</td>\n",
       "      <td>F</td>\n",
       "      <td>S</td>\n",
       "      <td>$3,000,000</td>\n",
       "      <td>False</td>\n",
       "      <td>40</td>\n",
       "      <td>True</td>\n",
       "      <td>OR REWARD OR SHIELD OR HOSTAGE</td>\n",
       "      <td>787.01.1a1</td>\n",
       "      <td>FELON - AWAIT TRIAL</td>\n",
       "      <td>JAMES M. COLAW</td>\n",
       "      <td>True</td>\n",
       "    </tr>\n",
       "    <tr>\n",
       "      <th>4</th>\n",
       "      <td>5</td>\n",
       "      <td>ASO16JBN000360</td>\n",
       "      <td>W</td>\n",
       "      <td>M</td>\n",
       "      <td>124</td>\n",
       "      <td>012016CF000120A</td>\n",
       "      <td>F</td>\n",
       "      <td>S</td>\n",
       "      <td>$3,000,000</td>\n",
       "      <td>False</td>\n",
       "      <td>40</td>\n",
       "      <td>True</td>\n",
       "      <td>PERSON USES A DEADLY WEAPON</td>\n",
       "      <td>784.045.1a2</td>\n",
       "      <td>FELON - AWAIT TRIAL</td>\n",
       "      <td>JAMES M. COLAW</td>\n",
       "      <td>True</td>\n",
       "    </tr>\n",
       "  </tbody>\n",
       "</table>\n",
       "</div>"
      ],
      "text/plain": [
       "   UID     BOOK_NUMBER RACE Gender  AGE       COURT_CASE LEVEL SEVERITY  \\\n",
       "0    1  ASO16JBN005576    B      M   68  012016CF002701A     F        T   \n",
       "1    2  ASO16JBN005576    B      M   68  012016CF002701A     F        T   \n",
       "2    3  ASO16JBN000360    W      M  124  012016CF000120A     F        S   \n",
       "3    4  ASO16JBN000360    W      M  124  012016CF000120A     F        S   \n",
       "4    5  ASO16JBN000360    W      M  124  012016CF000120A     F        S   \n",
       "\n",
       "      BOND AMT BOND OUT  DAYS PUBLIC DEF.  \\\n",
       "0  $3,500,000     False   221        True   \n",
       "1  $3,500,000     False   221        True   \n",
       "2  $3,000,000     False    40        True   \n",
       "3  $3,000,000     False    40        True   \n",
       "4  $3,000,000     False    40        True   \n",
       "\n",
       "                                   DESCRIPTION          FSN  \\\n",
       "0                                        ADULT    787.02.1a   \n",
       "1  SEX BAT 18 YR OR OLDER BY PRSN 18 YR OR OLD   794.011.4b   \n",
       "2    BY 18Y OLDR VIC 18Y OLDR NO PHY FORC VIOL   794.011.5b   \n",
       "3               OR REWARD OR SHIELD OR HOSTAGE   787.01.1a1   \n",
       "4                  PERSON USES A DEADLY WEAPON  784.045.1a2   \n",
       "\n",
       "                STATUS              JUDGE IS_FIRST  \n",
       "0  FELON - AWAIT TRIAL  DENISE R. FERRERO     True  \n",
       "1  FELON - AWAIT TRIAL  DENISE R. FERRERO     True  \n",
       "2  FELON - AWAIT TRIAL     JAMES M. COLAW     True  \n",
       "3  FELON - AWAIT TRIAL     JAMES M. COLAW     True  \n",
       "4  FELON - AWAIT TRIAL     JAMES M. COLAW     True  "
      ]
     },
     "execution_count": 17,
     "metadata": {},
     "output_type": "execute_result"
    }
   ],
   "source": [
    "df.head()"
   ]
  },
  {
   "cell_type": "markdown",
   "metadata": {},
   "source": [
    "### a count of different judges' names. This needs to get cleaned up."
   ]
  },
  {
   "cell_type": "code",
   "execution_count": 18,
   "metadata": {
    "collapsed": false
   },
   "outputs": [
    {
     "data": {
      "text/plain": [
       "WALTER M. GREEN                 2772\n",
       "THOMAS M. JAWORSKI              1939\n",
       "Susanne Wilson-Bulla            1430\n",
       "DENISE R. FERRERO               1210\n",
       "Susan Miller-Jones              1140\n",
       "Denise R. Ferrero               1135\n",
       "SUSAN MILLER-JONES              1040\n",
       "MARK W. MOSELEY                  886\n",
       "WILLIAM E. DAVIS                 819\n",
       "JAMES M. COLAW                   703\n",
       "PHILIP A. PENA                   599\n",
       "DAVID P. KREIDER                 568\n",
       "ROBERT K. GROEB                  543\n",
       "Donna M. Keim                    410\n",
       "DONNA M. KEIM                    348\n",
       "JAMES P. NILON                   248\n",
       "TOBY S. MONACO                   234\n",
       "MOSELEY, M                       227\n",
       "GREEN, WAL                       222\n",
       "VICTOR L. HULSLANDER             221\n",
       "COLAW, JAM                       216\n",
       "STAN GRIFFIS                     214\n",
       "JAMES T. BROWNING                211\n",
       "DAVIS, WIL                       200\n",
       "AYMER L. CURTIN                  193\n",
       "PENA, PHIL                       175\n",
       "BO BAYER                         148\n",
       "FERRERO, D                       133\n",
       "SAMUEL STAFFORD                  128\n",
       "MONICA BRASINGTON                125\n",
       "                                ... \n",
       "JUDGE BENNETT                      1\n",
       "RITTERHOFF-WILLIAMS                1\n",
       "KRAUSE                             1\n",
       "JUDGE TOM COLEMAN                  1\n",
       "KREIDER,D                          1\n",
       "JUDGE MITCHELL- DUVAL COUNTY       1\n",
       "MONICA J. BRASINGTON               1\n",
       "SMITH, JOS                         1\n",
       "BULLARD, SUSANNE                   1\n",
       "ROBERT HILLIARD                    1\n",
       "GILCHRIST COUNTY JUDGE             1\n",
       "MARION COUNTY-HODGES               1\n",
       "DOUGLAS-COLUMBIA CO.               1\n",
       "JUDGE BULLARD                      1\n",
       "DON BARBEE JR                      1\n",
       "JUDGE GREG PARKER                  1\n",
       "STATE ATTORNEY OFFICE              1\n",
       "WILLIAMS,J.M.                      1\n",
       "JUDGE BLACKBURN                    1\n",
       "JENNIFER, ELLISON                  1\n",
       "COLUMBIA CO.- COLEMAN              1\n",
       "MANATEE CO.                        1\n",
       "BRADFORD COUNTY----DAVIS           1\n",
       "PASCO CO                           1\n",
       "BRASINGRON                         1\n",
       "JUDGE PEGG                         1\n",
       "STAFFORD JAMES                     1\n",
       "JUDGE SHAIRIT                      1\n",
       "JUDGE HEALY                        1\n",
       "BJUDGE BOATWRIGHT                  1\n",
       "Name: JUDGE, dtype: int64"
      ]
     },
     "execution_count": 18,
     "metadata": {},
     "output_type": "execute_result"
    }
   ],
   "source": [
    "df.JUDGE.value_counts()"
   ]
  },
  {
   "cell_type": "markdown",
   "metadata": {},
   "source": [
    "### create variable for column \"JUDGE\""
   ]
  },
  {
   "cell_type": "code",
   "execution_count": 19,
   "metadata": {
    "collapsed": false
   },
   "outputs": [],
   "source": [
    "judges = 'JUDGE'"
   ]
  },
  {
   "cell_type": "markdown",
   "metadata": {},
   "source": [
    "### function to inspect 'JUDGE' column for any containing 'miller-jones' and return 'Susan Miller-Jones'"
   ]
  },
  {
   "cell_type": "code",
   "execution_count": 20,
   "metadata": {
    "collapsed": false
   },
   "outputs": [],
   "source": [
    "def judges(row):\n",
    "    if row.judges.contains(\"miller-jones\", case=False):\n",
    "        return 'Susan Miller-Jones'\n",
    "    return row.judges"
   ]
  },
  {
   "cell_type": "markdown",
   "metadata": {},
   "source": [
    "### run the function across the DataFrame and store results in a new column. Oops, trouble here."
   ]
  },
  {
   "cell_type": "code",
   "execution_count": 10,
   "metadata": {
    "collapsed": false,
    "scrolled": true
   },
   "outputs": [
    {
     "ename": "AttributeError",
     "evalue": "'function' object has no attribute 'apply'",
     "output_type": "error",
     "traceback": [
      "\u001b[0;31m---------------------------------------------------------------------------\u001b[0m",
      "\u001b[0;31mAttributeError\u001b[0m                            Traceback (most recent call last)",
      "\u001b[0;32m<ipython-input-10-185f18da3182>\u001b[0m in \u001b[0;36m<module>\u001b[0;34m()\u001b[0m\n\u001b[0;32m----> 1\u001b[0;31m \u001b[0mjudges\u001b[0m\u001b[0;34m.\u001b[0m\u001b[0mapply\u001b[0m\u001b[0;34m(\u001b[0m\u001b[0mjudges\u001b[0m\u001b[0;34m,\u001b[0m \u001b[0maxis\u001b[0m\u001b[0;34m=\u001b[0m\u001b[0;36m1\u001b[0m\u001b[0;34m)\u001b[0m\u001b[0;34m\u001b[0m\u001b[0m\n\u001b[0m",
      "\u001b[0;31mAttributeError\u001b[0m: 'function' object has no attribute 'apply'"
     ]
    }
   ],
   "source": [
    "judges.apply(judges, axis=1)"
   ]
  },
  {
   "cell_type": "markdown",
   "metadata": {},
   "source": [
    "### save that series in a new column called 'judges_clean_names.' More trouble."
   ]
  },
  {
   "cell_type": "code",
   "execution_count": 11,
   "metadata": {
    "collapsed": false
   },
   "outputs": [
    {
     "ename": "AttributeError",
     "evalue": "'function' object has no attribute 'apply'",
     "output_type": "error",
     "traceback": [
      "\u001b[0;31m---------------------------------------------------------------------------\u001b[0m",
      "\u001b[0;31mAttributeError\u001b[0m                            Traceback (most recent call last)",
      "\u001b[0;32m<ipython-input-11-54dc69702186>\u001b[0m in \u001b[0;36m<module>\u001b[0;34m()\u001b[0m\n\u001b[0;32m----> 1\u001b[0;31m \u001b[0mjudges\u001b[0m\u001b[0;34m[\u001b[0m\u001b[0;34m'judges_clean_name'\u001b[0m\u001b[0;34m]\u001b[0m \u001b[0;34m=\u001b[0m \u001b[0mjudges\u001b[0m\u001b[0;34m.\u001b[0m\u001b[0mapply\u001b[0m\u001b[0;34m(\u001b[0m\u001b[0mjudges\u001b[0m\u001b[0;34m,\u001b[0m \u001b[0maxis\u001b[0m\u001b[0;34m=\u001b[0m\u001b[0;36m1\u001b[0m\u001b[0;34m)\u001b[0m\u001b[0;34m\u001b[0m\u001b[0m\n\u001b[0m",
      "\u001b[0;31mAttributeError\u001b[0m: 'function' object has no attribute 'apply'"
     ]
    }
   ],
   "source": [
    "judges['judges_clean_names'] = judges.apply(judges, axis=1)"
   ]
  }
 ],
 "metadata": {
  "kernelspec": {
   "display_name": "Python 2",
   "language": "python",
   "name": "python2"
  },
  "language_info": {
   "codemirror_mode": {
    "name": "ipython",
    "version": 2
   },
   "file_extension": ".py",
   "mimetype": "text/x-python",
   "name": "python",
   "nbconvert_exporter": "python",
   "pygments_lexer": "ipython2",
   "version": "2.7.13"
  }
 },
 "nbformat": 4,
 "nbformat_minor": 2
}
